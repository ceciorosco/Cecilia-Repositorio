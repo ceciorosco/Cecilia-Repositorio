{
 "cells": [
  {
   "cell_type": "code",
   "execution_count": 5,
   "metadata": {},
   "outputs": [],
   "source": [
    "import numpy as np\n",
    "import matplotlib\n",
    "import matplotlib.pyplot as plt\n",
    "import random\n",
    "import scipy \n",
    "from scipy import stats\n",
    "from collections import Counter\n",
    "import pickle as pkl\n",
    "import random\n",
    "import seaborn as sns"
   ]
  },
  {
   "cell_type": "code",
   "execution_count": null,
   "metadata": {},
   "outputs": [],
   "source": [
    "x = 0\n",
    "y = 1\n",
    "plt.plot(x, y, marker = \"*\")\n",
    "\n",
    "plt.grid()\n",
    "plt.show()"
   ]
  },
  {
   "cell_type": "code",
   "execution_count": null,
   "metadata": {},
   "outputs": [],
   "source": [
    "x = [1, 10]\n",
    "y = [-1, 8]\n",
    "\n",
    "plt.plot(x, y, marker = \"o\")\n",
    "\n",
    "\n",
    "# Esta función la podemos usar para marcar el eje X\n",
    "plt.axhline(0, color = \"red\")\n",
    "\n",
    "# Esta función la podemos usar para marcar el eje Y\n",
    "plt.axvline(0, color = \"green\") \n",
    "\n",
    "plt.grid()\n",
    "plt.show()"
   ]
  },
  {
   "cell_type": "code",
   "execution_count": null,
   "metadata": {},
   "outputs": [],
   "source": [
    "x = np.linspace(1, 10, 10)\n",
    "y = [-3, 7, 10, 6, 3, 9, 0, -6, 2, 9]\n",
    "\n",
    "plt.plot(x, y, marker = \"o\", color = \"red\")\n",
    "\n",
    "# Eje X\n",
    "plt.axhline(0, color = \"green\")\n",
    "\n",
    "# Eje Y\n",
    "plt.axvline(0, color = \"black\") \n",
    "\n",
    "plt.grid()\n",
    "plt.show()"
   ]
  },
  {
   "cell_type": "code",
   "execution_count": null,
   "metadata": {},
   "outputs": [],
   "source": [
    "X = [random.randint(-20, 20) for x in range(20)]\n",
    "Y = [random.randint(-20, 20) for x in range(20)]\n",
    "\n",
    "plt.scatter(X, Y)\n",
    "\n",
    "# Eje X\n",
    "plt.axhline(0, color = \"black\")\n",
    "\n",
    "# Eje Y\n",
    "plt.axvline(0, color = \"black\") \n",
    "\n",
    "plt.grid()\n",
    "plt.show()\n"
   ]
  },
  {
   "cell_type": "code",
   "execution_count": 10,
   "metadata": {},
   "outputs": [],
   "source": [
    "#cargar un dataset en numpy\n",
    "\n"
   ]
  },
  {
   "cell_type": "code",
   "execution_count": null,
   "metadata": {},
   "outputs": [],
   "source": [
    "with open(\"FUELCONSUMPTION_CITY.pkl\", \"br\") as f:\n",
    "          city_consumption = pkl.load(f)\n",
    "       \n",
    "          \n",
    "city_consumption"
   ]
  },
  {
   "cell_type": "code",
   "execution_count": null,
   "metadata": {},
   "outputs": [],
   "source": [
    "city_consumption = np.genfromtxt(\"FuelConsumptionCo2.csv\", usecols=(8), delimiter=\",\", skip_header=1, dtype=np.float32)\n",
    "road_consumption = np.genfromtxt(\"FuelConsumptionCo2.csv\", usecols=(9), delimiter=\",\", skip_header=1, dtype=np.float32)\n",
    "manufacturers = np.genfromtxt(\"FuelConsumptionCo2.csv\", usecols=(1), delimiter=\",\", skip_header=1, dtype=str)\n",
    "city_consumption\n",
    "road_consumption\n",
    "manufacturers"
   ]
  },
  {
   "cell_type": "markdown",
   "metadata": {},
   "source": []
  },
  {
   "cell_type": "code",
   "execution_count": null,
   "metadata": {},
   "outputs": [],
   "source": [
    "print(manufacturers.dtype)\n",
    "print(manufacturers.shape)\n"
   ]
  },
  {
   "cell_type": "code",
   "execution_count": null,
   "metadata": {},
   "outputs": [],
   "source": [
    "print(f\"Consumo medio en ciudad: {np.round(np.mean(city_consumption),2):.2f}\")\n",
    "print(f\"Coche que mas consume en ciudad: {np.round(np.max(city_consumption),2):.2f}\")\n",
    "print(f\"Coche que menos consume en ciudad: {np.round(np.min(city_consumption),2):.2f}\")\n",
    "print(f\"Consumo mediana en ciudad: {np.round(np.median(city_consumption),2):.2f}\")\n",
    "print(f\"Consumo medio en carretera: {np.round(np.mean(road_consumption),2):.2f}\")\n",
    "print(f\"Coche que mas consume en carretera: {np.round(np.max(road_consumption),2):.2f}\")\n",
    "print(f\"Coche que menos consume en carretera: {np.round(np.min(road_consumption),2):.2f}\")\n",
    "print(f\"Consumo mediana en carretera: {np.round(np.median(road_consumption),2):.2f}\")"
   ]
  },
  {
   "cell_type": "code",
   "execution_count": null,
   "metadata": {},
   "outputs": [],
   "source": [
    "plt.hist(city_consumption, bins=30); # el punto y como final evita que aparezca el array\n",
    "plt.grid()#bins es la cantidad de barras del histograma"
   ]
  },
  {
   "cell_type": "code",
   "execution_count": null,
   "metadata": {},
   "outputs": [],
   "source": [
    "plt.hist(road_consumption, bins=30);\n",
    "plt.grid()"
   ]
  },
  {
   "cell_type": "code",
   "execution_count": null,
   "metadata": {},
   "outputs": [],
   "source": [
    "#superponer los graficos\n",
    "plt.hist(city_consumption, bins=30);\n",
    "plt.hist(road_consumption, bins=30);\n",
    "plt.xlabel(\"Consumo en litros\")\n",
    "plt.ylabel(\"Cantidad coches\")\n",
    "plt.grid()"
   ]
  },
  {
   "cell_type": "code",
   "execution_count": null,
   "metadata": {},
   "outputs": [],
   "source": [
    "np.quantile(a = city_consumption, q= 0.25, interpolation = \"lower\") #primer quartil\n",
    "np.quantile(a = city_consumption, q= 0.5, interpolation = \"lower\")  #segundo quartil \n",
    "np.quantile(a = city_consumption, q= 0.75, interpolation = \"lower\") #te4rmer quartil\n",
    "np.quantile(a = city_consumption, q = [0.25, 0.50, 0.75], interpolation = \"lower\")"
   ]
  },
  {
   "cell_type": "code",
   "execution_count": null,
   "metadata": {},
   "outputs": [],
   "source": [
    "# Filtros: mascara booleana\n",
    "city_consumption[city_consumption >= 26]\n",
    "#np.where"
   ]
  },
  {
   "cell_type": "code",
   "execution_count": null,
   "metadata": {},
   "outputs": [],
   "source": [
    "#Rango\n",
    "print(f\"Rango consumo ciudad: {round(np.max(city_consumption) - np.min(city_consumption),2):.2f}\") #con redondeo y dos decimales\n",
    "print(f\"Rango consumo carretera: {np.max(road_consumption) - np.min(road_consumption)}\")\n"
   ]
  },
  {
   "cell_type": "code",
   "execution_count": null,
   "metadata": {},
   "outputs": [],
   "source": [
    "#rango quartiles rango intercuartilico IQR\n",
    "# 1,5 veces mas alla del iqr se consideran valores anomalos o outliers\n",
    "q1 = np.quantile (a= city_consumption, q= 0.25, interpolation = \"lower\")\n",
    "q3 = np.quantile (a= city_consumption, q= 0.75, interpolation = \"lower\")\n",
    "iqr = q3-q1\n",
    "print(f\"Rango intercuartilico IQR: {iqr}\")"
   ]
  },
  {
   "cell_type": "code",
   "execution_count": null,
   "metadata": {},
   "outputs": [],
   "source": [
    "#pintar media, mediana, q1, q3, min, max en un histograma\n",
    "c_mini = np.min(road_consumption)\n",
    "c_maxi = np.max(road_consumption)\n",
    "c_media = np.mean(city_consumption)\n",
    "c_mediana = np.median(city_consumption)\n",
    "\n",
    "plt.figure(figsize=(10, 6))\n",
    "plt.hist(city_consumption, bins=30, color='skyblue', alpha=0.5)\n",
    "plt.axvline(q1, color='red', linestyle= 'dashed', linewidth=2, label=(f\"Q1: {q1:.1f}\"))\n",
    "plt.axvline(q3, color='green', linestyle= 'dashed', linewidth=2, label=(f\"Q3: {q3:.1f}\"))\n",
    "plt.axvline(c_mini, color='orange', linestyle= 'dashed', linewidth=2, label=(f\"Min: {c_mini:.1f}\"))\n",
    "plt.axvline(c_maxi, color='black', linestyle= 'dashed', linewidth=2, label=(f\"Max: {c_maxi:.1f}\"))\n",
    "plt.axvline(c_media, color= 'grey', linestyle= 'dashed', linewidth=2, label=(f\"mean: {c_media:.1f}\"))\n",
    "plt.axvline(c_mediana, color= 'blue', linestyle= 'dashed', linewidth=2, label=(f\"median: {c_mediana:.1f}\"))\n",
    "plt.legend() \n",
    "plt.show()\n",
    "\n",
    "#plt.grid()\n",
    "\n"
   ]
  },
  {
   "cell_type": "code",
   "execution_count": null,
   "metadata": {},
   "outputs": [],
   "source": [
    "#boxplot calcula y muestra los valores IQR, max, min,,mediana\n",
    "#plt.boxplot(city_consumption); #showmeans= True me mostraría tambien la media\n",
    "plt.boxplot(city_consumption, showmeans=True, orientation=\"horizontal\")\n",
    "plt.grid()"
   ]
  },
  {
   "cell_type": "code",
   "execution_count": null,
   "metadata": {},
   "outputs": [],
   "source": [
    "#Filtrar usando percentiles\n",
    "print(np.percentile(city_consumption, 10)) #es lo mismo uno que otro\n",
    "print(np.quantile(city_consumption, 0.1))\n",
    "\n",
    "percentil_10 = np.percentile(city_consumption, 10)\n",
    "percentil_90 = np.percentile(city_consumption, 90)\n",
    "print(f\"percentil 10: {round(percentil_10 ,2):.2f}\") #aca se ve mejor el redondeo y como se muestra\n",
    "print(f\"percentil 90: {percentil_90}\")\n",
    "\n",
    "\n",
    "#coches que menos consumen\n",
    "coches_menor_consumo = city_consumption[city_consumption <= percentil_10]\n",
    "#coches que mas consumen\n",
    "coches_mayor_consumo = city_consumption[city_consumption >= percentil_90]\n",
    "\n",
    "print(\"10 % coches menor consumo\")\n",
    "# print(coches_menor_consumo.shape)\n",
    "print(f\"media: {round(np.mean(coches_menor_consumo),2):.2f}\")\n",
    "print(\"10 % coches mayor consumo\")\n",
    "# print(coches_mayor_consumo.shape)\n",
    "print(f\"media: {round(np.mean(coches_mayor_consumo),2):.2f}\")"
   ]
  },
  {
   "cell_type": "code",
   "execution_count": null,
   "metadata": {},
   "outputs": [],
   "source": [
    "#Varianza: Que dispersion tienen los datos con respecto a la media\n",
    "varianza = np.var(city_consumption)\n",
    "print(f\"Varianza: {varianza}\")\n",
    "\n",
    "#Desviación estandar: raiz cuadrada de la varianza\n",
    "desviacion = np.std(city_consumption)\n",
    "print(f\"Desviacion estandar: {desviacion:.2f}\")"
   ]
  },
  {
   "cell_type": "code",
   "execution_count": null,
   "metadata": {},
   "outputs": [],
   "source": [
    "#contar cuantos coches hay de cada marca\n",
    "conteo = Counter(manufacturers)\n",
    "\n",
    "#guardar los 10 fabricantes que mas se repiten en este dataset\n",
    "top_10 = conteo.most_common(10)\n",
    "\n",
    "#mostrarlo con mejor formato\n",
    "for fabri, count in top_10:\n",
    "    print(f\"Fabricante  {fabri} tiene {count} coches\")\n",
    "\n",
    "#desempaquetar en dos array\n",
    "fabricantes, conteos = zip(*top_10)\n",
    "\n",
    "top_10\n",
    "print(fabricantes)\n",
    "print(conteos)\n",
    "\n",
    "\n",
    "#moda de manufacturers\n"
   ]
  },
  {
   "cell_type": "code",
   "execution_count": null,
   "metadata": {},
   "outputs": [],
   "source": [
    "#grafico de barras\n",
    "plt.figure(figsize=(12, 8))\n",
    "plt.bar(fabricantes, conteos)\n",
    "plt.xticks(rotation=45); #o bien utilizar plt.barh\n",
    "plt.grid()"
   ]
  },
  {
   "cell_type": "code",
   "execution_count": null,
   "metadata": {},
   "outputs": [],
   "source": [
    "plt.barh(fabricantes, conteos)\n",
    "plt.grid()"
   ]
  },
  {
   "cell_type": "code",
   "execution_count": 29,
   "metadata": {},
   "outputs": [],
   "source": [
    "#metodo para ver outliers\n",
    "def filtrar_outliers(array, k):\n",
    "    Q1 = np.percentile(array, 25)\n",
    "    Q3 = np.percentile(array, 75)\n",
    "    IQR = Q3 - Q1\n",
    "    limite_inf = Q1 - IQR * k\n",
    "    limite_sup = Q3 + IQR * k\n",
    "    array_sin_outliers = array[(array >= limite_inf) & (array <= limite_sup)]\n",
    "    return array_sin_outliers"
   ]
  },
  {
   "cell_type": "code",
   "execution_count": null,
   "metadata": {},
   "outputs": [],
   "source": [
    "city_consumption.shape #1067 vehiculos\n",
    "array_sin_outliners = filtrar_outliers(city_consumption, k=1.3)\n",
    "print(city_consumption.shape)\n",
    "print(array_sin_outliners.shape)"
   ]
  },
  {
   "cell_type": "code",
   "execution_count": null,
   "metadata": {},
   "outputs": [],
   "source": [
    "with open(file = \"../Data/ENGINESIZE.pkl\", mode = \"br\") as file:\n",
    "    engine_size = pickle.load(file)\n",
    "    \n",
    "with open(file = \"../Data/FUELCONSUMPTION_CITY.pkl\", mode = \"br\") as file:\n",
    "    fuelconsumption_city = pickle.load(file)\n",
    "    \n",
    "with open(file = \"../Data/CYLINDERS.pkl\", mode = \"br\") as file:\n",
    "    cylinders = pickle.load(file)\n",
    "    \n",
    "with open(file = \"../Data/CO2EMISSIONS.pkl\", mode = \"br\") as file:\n",
    "    co2_emissions = pickle.load(file)"
   ]
  },
  {
   "cell_type": "markdown",
   "metadata": {},
   "source": [
    "Correlacion\n",
    "- 0: asociación nula. No hay correlacion\n",
    "- 土 0.1: asociación pequeña.\n",
    "- 土 0.3: asociación mediana.\n",
    "- 土 0.5: asociación moderada.\n",
    "- 土 0.7: asociación alta.\n",
    "- 土 0.9: asociación muy alta.\n",
    "\n",
    "* -1 correlación negativa\n"
   ]
  },
  {
   "cell_type": "code",
   "execution_count": null,
   "metadata": {},
   "outputs": [],
   "source": [
    "#Correlacion  entre dos variables 09.estadistica.03\n",
    "city_consumption = np.genfromtxt(\"FuelConsumptionCo2.csv\", usecols=(8), delimiter=\",\", skip_header=1, dtype=np.float32)\n",
    "road_consumption = np.genfromtxt(\"FuelConsumptionCo2.csv\", usecols=(9), delimiter=\",\", skip_header=1, dtype=np.float32)\n",
    "engine_cc = np.genfromtxt(\"FuelConsumptionCo2.csv\", usecols=(4), delimiter=\",\", skip_header=1, dtype=np.float32)\n",
    "co2_emissions = np.genfromtxt(\"FuelConsumptionCo2.csv\", usecols=(12), delimiter=\",\", skip_header=1, dtype=np.float32)\n",
    "cylinders = np.genfromtxt(\"FuelConsumptionCo2.csv\", usecols=(5), delimiter=\",\", skip_header=1, dtype=np.int8)\n",
    "\n",
    "print(co2_emissions)\n",
    "print(engine_cc)\n",
    "print(cylinders)\n"
   ]
  },
  {
   "cell_type": "code",
   "execution_count": null,
   "metadata": {},
   "outputs": [],
   "source": [
    "print(f\"cylinders / citi_consumption: {stats.pearsonr(cylinders, city_consumption)[0]}\") \n",
    "print(f\"cylinders / cylinders: {stats.pearsonr(cylinders, cylinders)[0]}\")\n",
    "print(f\"cylinders / road_consumption: {stats.pearsonr(cylinders, road_consumption)[0]}\")\n",
    "print(f\"cylinders / engyne_cc: {stats.pearsonr(cylinders, engine_cc)[0]}\")\n",
    "print(f\"cylinders / co2_emissions: {stats.pearsonr(cylinders, co2_emissions)[0]}\")\n",
    "#correlacion ALTA entre cilindros y consumo en ciudad"
   ]
  },
  {
   "cell_type": "code",
   "execution_count": null,
   "metadata": {},
   "outputs": [],
   "source": [
    "print(f\"co2_emissions / citi_consumption: {stats.pearsonr(co2_emissions, city_consumption)[0]}\") \n",
    "print(f\"co2_emissions / cylinders: {stats.pearsonr(co2_emissions, cylinders)[0]}\")\n",
    "print(f\"co2_emissions / road_consumption: {stats.pearsonr(co2_emissions, road_consumption)[0]}\")\n",
    "print(f\"co2_emissionss / engyne_cc: {stats.pearsonr(co2_emissions, engine_cc)[0]}\")\n",
    "print(f\"co2_emissions / co2_emissions: {stats.pearsonr(co2_emissions, co2_emissions)[0]}\")\n",
    "#"
   ]
  },
  {
   "cell_type": "code",
   "execution_count": null,
   "metadata": {},
   "outputs": [],
   "source": [
    "#matriz correlacion con dos bucles for\n",
    "columnas = [engine_cc, city_consumption, road_consumption, cylinders, co2_emissions]\n",
    "\n",
    "matriz_lista = list()\n",
    "\n",
    "for columna1 in columnas:\n",
    "    fila = list()\n",
    "    for columna2 in columnas:\n",
    "        fila.append(stats.pearsonr(columna1, columna2)[0])\n",
    "        \n",
    "    matriz_lista.append(fila)\n",
    "    \n",
    "matriz = np.array(matriz_lista)\n",
    "print(matriz)\n"
   ]
  },
  {
   "cell_type": "code",
   "execution_count": null,
   "metadata": {},
   "outputs": [],
   "source": [
    "column_names = ['engine_cc', 'city_consumption', 'road_consumption', 'cylinders', 'co2_emissions']\n",
    "#plt.imshow(matriz, cmap=\"inferno\", vmax=1, vmin=-1)\n",
    "plt.imshow(matriz, cmap=\"viridis\")\n",
    "#plt.imshow(np.tril(matriz, cmap=\"viridis\"))\n",
    "plt.colorbar(label=\"correlacion\")\n",
    "plt.xticks(range(len(column_names)), column_names, rotation=45)\n",
    "plt.yticks(range(len(column_names)), column_names)\n",
    "plt.gca().xaxis.set_ticks_position(\"top\")"
   ]
  },
  {
   "cell_type": "code",
   "execution_count": null,
   "metadata": {},
   "outputs": [],
   "source": [
    "# !pip install seaborn\n",
    "# import seaborn as sns\n",
    "\n",
    "sns.heatmap(matriz, annot=True, cmap='autumn', xticklabels=column_names, yticklabels=column_names)"
   ]
  },
  {
   "cell_type": "code",
   "execution_count": null,
   "metadata": {},
   "outputs": [],
   "source": [
    "#opcional ejercicio modulo 1\n",
    "def read_int(message):\n",
    "    while True:\n",
    "        try:\n",
    "            number = int(input(message))\n",
    "            return number\n",
    "        except ValueError:\n",
    "            print(\"Numero incorrecto, prueba de nuevo\")\n",
    "            \n",
    "def read_float(message):\n",
    "    while True:\n",
    "        try:\n",
    "            number = float(input(message))\n",
    "            return number\n",
    "        except ValueError:\n",
    "            print(\"Numero incorrecto, prueba de nuevo\")\n",
    "            \n",
    "def read_date(message):\n",
    "    cont = 0\n",
    "    while True:\n",
    "        if cont ==4:\n",
    "            return datetime.daterime()     \n",
    "        try:\n",
    "            #cambiar aqui y pasar fecha usar datetime\n",
    "            number = int(input(message))\n",
    "            return number\n",
    "        except ValueError:\n",
    "            print(\"Fecha incorrecta, prueba de nuevo\")    \n",
    "            cont += 1\n",
    "            \n",
    "def read_boolean(message):\n",
    "    while True:\n",
    "        try:\n",
    "            number = bool(input(message))\n",
    "            return number\n",
    "        except ValueError:\n",
    "            print(\"Valor incorrecto, prueba de nuevo\")        \n",
    "        \n",
    "    \n",
    "if option == 2\n",
    "    edad = read_int(\"Introduce tu edad\")   \n",
    "    salary = read_float(\"Introduce tu salario\")\n",
    "    birthdate = read_date(\"Introduce tu fecha de nacimiento ISO: dd\")\n",
    "    estudiante = read_boolean(\"Introduce si estudia (S/N)\")"
   ]
  }
 ],
 "metadata": {
  "kernelspec": {
   "display_name": "Python 3",
   "language": "python",
   "name": "python3"
  },
  "language_info": {
   "codemirror_mode": {
    "name": "ipython",
    "version": 3
   },
   "file_extension": ".py",
   "mimetype": "text/x-python",
   "name": "python",
   "nbconvert_exporter": "python",
   "pygments_lexer": "ipython3",
   "version": "3.13.1"
  }
 },
 "nbformat": 4,
 "nbformat_minor": 2
}
