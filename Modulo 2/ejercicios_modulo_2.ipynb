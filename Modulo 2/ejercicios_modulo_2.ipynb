{
 "cells": [
  {
   "cell_type": "code",
   "execution_count": 132,
   "metadata": {},
   "outputs": [],
   "source": [
    "import numpy as np\n",
    "import matplotlib\n",
    "import matplotlib.pyplot as plt\n",
    "import random\n",
    "import scipy \n",
    "from scipy import stats\n",
    "from collections import Counter\n",
    "import pickle as pkl\n",
    "import random"
   ]
  },
  {
   "cell_type": "code",
   "execution_count": null,
   "metadata": {},
   "outputs": [],
   "source": [
    "x = 0\n",
    "y = 1\n",
    "plt.plot(x, y, marker = \"*\")\n",
    "\n",
    "plt.grid()\n",
    "plt.show()"
   ]
  },
  {
   "cell_type": "code",
   "execution_count": null,
   "metadata": {},
   "outputs": [],
   "source": [
    "x = [1, 10]\n",
    "y = [-1, 8]\n",
    "\n",
    "plt.plot(x, y, marker = \"o\")\n",
    "\n",
    "\n",
    "# Esta función la podemos usar para marcar el eje X\n",
    "plt.axhline(0, color = \"red\")\n",
    "\n",
    "# Esta función la podemos usar para marcar el eje Y\n",
    "plt.axvline(0, color = \"green\") \n",
    "\n",
    "plt.grid()\n",
    "plt.show()"
   ]
  },
  {
   "cell_type": "code",
   "execution_count": null,
   "metadata": {},
   "outputs": [],
   "source": [
    "x = np.linspace(1, 10, 10)\n",
    "y = [-3, 7, 10, 6, 3, 9, 0, -6, 2, 9]\n",
    "\n",
    "plt.plot(x, y, marker = \"o\", color = \"red\")\n",
    "\n",
    "# Eje X\n",
    "plt.axhline(0, color = \"green\")\n",
    "\n",
    "# Eje Y\n",
    "plt.axvline(0, color = \"black\") \n",
    "\n",
    "plt.grid()\n",
    "plt.show()"
   ]
  },
  {
   "cell_type": "code",
   "execution_count": null,
   "metadata": {},
   "outputs": [],
   "source": [
    "X = [random.randint(-20, 20) for x in range(20)]\n",
    "Y = [random.randint(-20, 20) for x in range(20)]\n",
    "\n",
    "plt.scatter(X, Y)\n",
    "\n",
    "# Eje X\n",
    "plt.axhline(0, color = \"black\")\n",
    "\n",
    "# Eje Y\n",
    "plt.axvline(0, color = \"black\") \n",
    "\n",
    "plt.grid()\n",
    "plt.show()\n"
   ]
  },
  {
   "cell_type": "code",
   "execution_count": 113,
   "metadata": {},
   "outputs": [],
   "source": [
    "#cargar un dataset en numpy\n",
    "\n"
   ]
  },
  {
   "cell_type": "code",
   "execution_count": null,
   "metadata": {},
   "outputs": [],
   "source": [
    "with open(\"FUELCONSUMPTION_CITY.pkl\", \"br\") as f:\n",
    "          city_consumption = pkl.load(f)\n",
    "       \n",
    "          \n",
    "city_consumption"
   ]
  },
  {
   "cell_type": "code",
   "execution_count": null,
   "metadata": {},
   "outputs": [],
   "source": [
    "city_consumption = np.genfromtxt(\"FuelConsumptionCo2.csv\", usecols=(8), delimiter=\",\", skip_header=1, dtype=np.float32)\n",
    "road_consumption = np.genfromtxt(\"FuelConsumptionCo2.csv\", usecols=(9), delimiter=\",\", skip_header=1, dtype=np.float32)\n",
    "manufacturers = np.genfromtxt(\"FuelConsumptionCo2.csv\", usecols=(1), delimiter=\",\", skip_header=1, dtype=str)\n",
    "city_consumption\n",
    "road_consumption\n",
    "manufacturers"
   ]
  },
  {
   "cell_type": "markdown",
   "metadata": {},
   "source": []
  },
  {
   "cell_type": "code",
   "execution_count": null,
   "metadata": {},
   "outputs": [],
   "source": [
    "print(manufacturers.dtype)\n",
    "print(manufacturers.shape)\n"
   ]
  },
  {
   "cell_type": "code",
   "execution_count": null,
   "metadata": {},
   "outputs": [],
   "source": [
    "print(f\"Consumo medio en ciudad: {np.round(np.mean(city_consumption),2):.2f}\")\n",
    "print(f\"Coche que mas consume en ciudad: {np.round(np.max(city_consumption),2):.2f}\")\n",
    "print(f\"Coche que menos consume en ciudad: {np.round(np.min(city_consumption),2):.2f}\")\n",
    "print(f\"Consumo mediana en ciudad: {np.round(np.median(city_consumption),2):.2f}\")\n",
    "print(f\"Consumo medio en carretera: {np.round(np.mean(road_consumption),2):.2f}\")\n",
    "print(f\"Coche que mas consume en carretera: {np.round(np.max(road_consumption),2):.2f}\")\n",
    "print(f\"Coche que menos consume en carretera: {np.round(np.min(road_consumption),2):.2f}\")\n",
    "print(f\"Consumo mediana en carretera: {np.round(np.median(road_consumption),2):.2f}\")"
   ]
  },
  {
   "cell_type": "code",
   "execution_count": null,
   "metadata": {},
   "outputs": [],
   "source": [
    "plt.hist(city_consumption, bins=30); # el punto y como final evita que aparezca el array\n",
    "plt.grid()#bins es la cantidad de barras del histograma"
   ]
  },
  {
   "cell_type": "code",
   "execution_count": null,
   "metadata": {},
   "outputs": [],
   "source": [
    "plt.hist(road_consumption, bins=30);\n",
    "plt.grid()"
   ]
  },
  {
   "cell_type": "code",
   "execution_count": null,
   "metadata": {},
   "outputs": [],
   "source": [
    "#superponer los graficos\n",
    "plt.hist(city_consumption, bins=30);\n",
    "plt.hist(road_consumption, bins=30);\n",
    "plt.xlabel(\"Consumo en litros\")\n",
    "plt.ylabel(\"Cantidad coches\")\n",
    "plt.grid()"
   ]
  },
  {
   "cell_type": "code",
   "execution_count": null,
   "metadata": {},
   "outputs": [],
   "source": [
    "np.quantile(a = city_consumption, q= 0.25, interpolation = \"lower\") #primer quartil\n",
    "np.quantile(a = city_consumption, q= 0.5, interpolation = \"lower\")  #segundo quartil \n",
    "np.quantile(a = city_consumption, q= 0.75, interpolation = \"lower\") #te4rmer quartil\n",
    "np.quantile(a = city_consumption, q = [0.25, 0.50, 0.75], interpolation = \"lower\")"
   ]
  },
  {
   "cell_type": "code",
   "execution_count": null,
   "metadata": {},
   "outputs": [],
   "source": [
    "# Filtros: mascara booleana\n",
    "city_consumption[city_consumption >= 26]\n",
    "#np.where"
   ]
  },
  {
   "cell_type": "code",
   "execution_count": null,
   "metadata": {},
   "outputs": [],
   "source": [
    "#Rango\n",
    "print(f\"Rango consumo ciudad: {round(np.max(city_consumption) - np.min(city_consumption),2):.2f}\") #con redondeo y dos decimales\n",
    "print(f\"Rango consumo carretera: {np.max(road_consumption) - np.min(road_consumption)}\")\n"
   ]
  },
  {
   "cell_type": "code",
   "execution_count": null,
   "metadata": {},
   "outputs": [],
   "source": [
    "#rango quartiles rango intercuartilico IQR\n",
    "# 1,5 veces mas alla del iqr se consideran valores anomalos o outliers\n",
    "q1 = np.quantile (a= city_consumption, q= 0.25, interpolation = \"lower\")\n",
    "q3 = np.quantile (a= city_consumption, q= 0.75, interpolation = \"lower\")\n",
    "iqr = q3-q1\n",
    "print(f\"Rango intercuartilico IQR: {iqr}\")"
   ]
  },
  {
   "cell_type": "code",
   "execution_count": null,
   "metadata": {},
   "outputs": [],
   "source": [
    "#pintar media, mediana, q1, q3, min, max en un histograma\n",
    "c_mini = np.min(road_consumption)\n",
    "c_maxi = np.max(road_consumption)\n",
    "c_media = np.mean(city_consumption)\n",
    "c_mediana = np.median(city_consumption)\n",
    "\n",
    "plt.figure(figsize=(10, 6))\n",
    "plt.hist(city_consumption, bins=30, color='skyblue', alpha=0.5)\n",
    "plt.axvline(q1, color='red', linestyle= 'dashed', linewidth=2, label=(f\"Q1: {q1:.1f}\"))\n",
    "plt.axvline(q3, color='green', linestyle= 'dashed', linewidth=2, label=(f\"Q3: {q3:.1f}\"))\n",
    "plt.axvline(mini, color='orange', linestyle= 'dashed', linewidth=2, label=(f\"Min: {c_mini:.1f}\"))\n",
    "plt.axvline(maxi, color='black', linestyle= 'dashed', linewidth=2, label=(f\"Max: {c_maxi:.1f}\"))\n",
    "plt.axvline(c_media, color= 'grey', linestyle= 'dashed', linewidth=2, label=(f\"mean: {c_media:.1f}\"))\n",
    "plt.axvline(c_mediana, color= 'blue', linestyle= 'dashed', linewidth=2, label=(f\"median: {c_mediana:.1f}\"))\n",
    "plt.legend() \n",
    "plt.show()\n",
    "\n",
    "#plt.grid()\n",
    "\n"
   ]
  },
  {
   "cell_type": "code",
   "execution_count": null,
   "metadata": {},
   "outputs": [],
   "source": [
    "#boxplot calcula y muestra los valores IQR, max, min,,mediana\n",
    "#plt.boxplot(city_consumption); #showmeans= True me mostraría tambien la media\n",
    "plt.boxplot(city_consumption, showmeans=True)\n",
    "plt.grid()"
   ]
  },
  {
   "cell_type": "code",
   "execution_count": null,
   "metadata": {},
   "outputs": [],
   "source": [
    "#Filtrar usando percentiles\n",
    "print(np.percentile(city_consumption, 10)) #es lo mismo uno que otro\n",
    "print(np.quantile(city_consumption, 0.1))\n",
    "\n",
    "percentil_10 = np.percentile(city_consumption, 10)\n",
    "percentil_90 = np.percentile(city_consumption, 90)\n",
    "print(f\"percentil 10: {round(percentil_10 ,2):.2f}\") #aca se ve mejor el redondeo y como se muestra\n",
    "print(f\"percentil 90: {percentil_90}\")\n",
    "\n",
    "\n",
    "#coches que menos consumen\n",
    "coches_menor_consumo = city_consumption[city_consumption <= percentil_10]\n",
    "#coches que mas consumen\n",
    "coches_mayor_consumo = city_consumption[city_consumption >= percentil_90]\n",
    "\n",
    "print(\"10 % coches menor consumo\")\n",
    "# print(coches_menor_consumo.shape)\n",
    "print(f\"media: {round(np.mean(coches_menor_consumo),2):.2f}\")\n",
    "print(\"10 % coches mayor consumo\")\n",
    "# print(coches_mayor_consumo.shape)\n",
    "print(f\"media: {round(np.mean(coches_mayor_consumo),2):.2f}\")"
   ]
  },
  {
   "cell_type": "code",
   "execution_count": null,
   "metadata": {},
   "outputs": [],
   "source": [
    "#Varianza: Que dispersion tienen los datos con respecto a la media\n",
    "varianza = np.var(city_consumption)\n",
    "print(f\"Varianza: {varianza}\")\n",
    "\n",
    "#Desviación estandar: raiz cuadrada de la varianza\n",
    "desviacion = np.std(city_consumption)\n",
    "print(f\"Desviacion estandar: {desviacion:.2f}\")"
   ]
  },
  {
   "cell_type": "code",
   "execution_count": 155,
   "metadata": {},
   "outputs": [
    {
     "name": "stdout",
     "output_type": "stream",
     "text": [
      "Fabricante  FORD tiene 90 coches\n",
      "Fabricante  CHEVROLET tiene 86 coches\n",
      "Fabricante  BMW tiene 64 coches\n",
      "Fabricante  MERCEDES-BENZ tiene 59 coches\n",
      "Fabricante  AUDI tiene 49 coches\n",
      "Fabricante  GMC tiene 49 coches\n",
      "Fabricante  TOYOTA tiene 49 coches\n",
      "Fabricante  PORSCHE tiene 44 coches\n",
      "Fabricante  VOLKSWAGEN tiene 42 coches\n",
      "Fabricante  DODGE tiene 39 coches\n",
      "(np.str_('FORD'), np.str_('CHEVROLET'), np.str_('BMW'), np.str_('MERCEDES-BENZ'), np.str_('AUDI'), np.str_('GMC'), np.str_('TOYOTA'), np.str_('PORSCHE'), np.str_('VOLKSWAGEN'), np.str_('DODGE'))\n",
      "(90, 86, 64, 59, 49, 49, 49, 44, 42, 39)\n"
     ]
    },
    {
     "data": {
      "text/plain": [
       "ModeResult(mode=np.int64(49), count=np.int64(3))"
      ]
     },
     "execution_count": 155,
     "metadata": {},
     "output_type": "execute_result"
    }
   ],
   "source": [
    "#contar cuantos coches hay de cada marca\n",
    "conteo = Counter(manufacturers)\n",
    "\n",
    "#guardar los 10 fabricantes que mas se repiten en este dataset\n",
    "top_10 = conteo.most_common(10)\n",
    "\n",
    "#mostrarlo con mejor formato\n",
    "for fabri, count in top_10:\n",
    "    print(f\"Fabricante  {fabri} tiene {count} coches\")\n",
    "\n",
    "#desempaquetar en dos array\n",
    "fabricantes, conteos = zip(*top_10)\n",
    "\n",
    "top_10\n",
    "print(fabricantes)\n",
    "print(conteos)\n",
    "\n",
    "\n",
    "#moda de manufacturers\n"
   ]
  },
  {
   "cell_type": "code",
   "execution_count": 154,
   "metadata": {},
   "outputs": [
    {
     "data": {
      "image/png": "[encoded data removed]",
      "text/plain": [
       "<Figure size 1200x800 with 1 Axes>"
      ]
     },
     "metadata": {},
     "output_type": "display_data"
    }
   ],
   "source": [
    "#grafico de barras\n",
    "plt.figure(figsize=(12, 8))\n",
    "plt.bar(fabricantes, conteos)\n",
    "plt.xticks(rotation=45); #o bien utilizar plt.barh\n",
    "plt.grid()"
   ]
  },
  {
   "cell_type": "code",
   "execution_count": 153,
   "metadata": {},
   "outputs": [
    {
     "data": {
      "image/png": "[encoded data removed]",
      "text/plain": [
       "<Figure size 640x480 with 1 Axes>"
      ]
     },
     "metadata": {},
     "output_type": "display_data"
    }
   ],
   "source": [
    "plt.barh(fabricantes, conteos)\n",
    "plt.grid()"
   ]
  },
  {
   "cell_type": "code",
   "execution_count": 157,
   "metadata": {},
   "outputs": [],
   "source": [
    "#metodo para ver outliers\n",
    "def filtrar_outliers(array):\n",
    "    pass"
   ]
  },
  {
   "cell_type": "code",
   "execution_count": 158,
   "metadata": {},
   "outputs": [
    {
     "data": {
      "text/plain": [
       "(1067,)"
      ]
     },
     "execution_count": 158,
     "metadata": {},
     "output_type": "execute_result"
    }
   ],
   "source": [
    "city_consumption.shape #1067 vehiculos\n"
   ]
  }
 ],
 "metadata": {
  "kernelspec": {
   "display_name": "Python 3",
   "language": "python",
   "name": "python3"
  },
  "language_info": {
   "codemirror_mode": {
    "name": "ipython",
    "version": 3
   },
   "file_extension": ".py",
   "mimetype": "text/x-python",
   "name": "python",
   "nbconvert_exporter": "python",
   "pygments_lexer": "ipython3",
   "version": "3.13.1"
  }
 },
 "nbformat": 4,
 "nbformat_minor": 2
}
