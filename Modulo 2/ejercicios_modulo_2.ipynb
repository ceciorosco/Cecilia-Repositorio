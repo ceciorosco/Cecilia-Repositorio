{
 "cells": [
  {
   "cell_type": "markdown",
   "metadata": {},
   "source": [
    "## CARGA DE DATOS\n",
    "\n",
    "* pickle.load\n",
    "* numpy.genfromtxt"
   ]
  },
  {
   "cell_type": "code",
   "execution_count": 1,
   "metadata": {},
   "outputs": [],
   "source": [
    "import numpy as np\n",
    "import matplotlib\n",
    "import matplotlib.pyplot as plt\n",
    "import random\n",
    "import scipy \n",
    "from scipy import stats\n",
    "from collections import Counter\n",
    "import pickle as pkl\n",
    "import random\n",
    "import seaborn as sns"
   ]
  },
  {
   "cell_type": "code",
   "execution_count": null,
   "metadata": {},
   "outputs": [],
   "source": [
    "x = 0\n",
    "y = 1\n",
    "plt.plot(x, y, marker = \"*\")\n",
    "\n",
    "plt.grid()\n",
    "plt.show()"
   ]
  },
  {
   "cell_type": "code",
   "execution_count": null,
   "metadata": {},
   "outputs": [],
   "source": [
    "x = [1, 10]\n",
    "y = [-1, 8]\n",
    "\n",
    "plt.plot(x, y, marker = \"o\")\n",
    "\n",
    "\n",
    "# Esta función la podemos usar para marcar el eje X\n",
    "plt.axhline(0, color = \"red\")\n",
    "\n",
    "# Esta función la podemos usar para marcar el eje Y\n",
    "plt.axvline(0, color = \"green\") \n",
    "\n",
    "plt.grid()\n",
    "plt.show()"
   ]
  },
  {
   "cell_type": "code",
   "execution_count": null,
   "metadata": {},
   "outputs": [],
   "source": [
    "x = np.linspace(1, 10, 10)\n",
    "y = [-3, 7, 10, 6, 3, 9, 0, -6, 2, 9]\n",
    "\n",
    "plt.plot(x, y, marker = \"o\", color = \"red\")\n",
    "\n",
    "# Eje X\n",
    "plt.axhline(0, color = \"green\")\n",
    "\n",
    "# Eje Y\n",
    "plt.axvline(0, color = \"black\") \n",
    "\n",
    "plt.grid()\n",
    "plt.show()"
   ]
  },
  {
   "cell_type": "code",
   "execution_count": null,
   "metadata": {},
   "outputs": [],
   "source": [
    "X = [random.randint(-20, 20) for x in range(20)]\n",
    "Y = [random.randint(-20, 20) for x in range(20)]\n",
    "\n",
    "plt.scatter(X, Y)\n",
    "\n",
    "# Eje X\n",
    "plt.axhline(0, color = \"black\")\n",
    "\n",
    "# Eje Y\n",
    "plt.axvline(0, color = \"black\") \n",
    "\n",
    "plt.grid()\n",
    "plt.show()\n"
   ]
  },
  {
   "cell_type": "code",
   "execution_count": 6,
   "metadata": {},
   "outputs": [],
   "source": [
    "#cargar un dataset en numpy\n",
    "\n"
   ]
  },
  {
   "cell_type": "code",
   "execution_count": null,
   "metadata": {},
   "outputs": [],
   "source": [
    "with open(\"FUELCONSUMPTION_CITY.pkl\", \"br\") as f:\n",
    "          city_consumption = pkl.load(f)\n",
    "       \n",
    "          \n",
    "city_consumption"
   ]
  },
  {
   "cell_type": "code",
   "execution_count": null,
   "metadata": {},
   "outputs": [],
   "source": [
    "city_consumption = np.genfromtxt(\"FuelConsumptionCo2.csv\", usecols=(8), delimiter=\",\", skip_header=1, dtype=np.float32)\n",
    "road_consumption = np.genfromtxt(\"FuelConsumptionCo2.csv\", usecols=(9), delimiter=\",\", skip_header=1, dtype=np.float32)\n",
    "manufacturers = np.genfromtxt(\"FuelConsumptionCo2.csv\", usecols=(1), delimiter=\",\", skip_header=1, dtype=str)\n",
    "city_consumption\n",
    "road_consumption\n",
    "manufacturers"
   ]
  },
  {
   "cell_type": "markdown",
   "metadata": {},
   "source": [
    "## MAX MIN MEAN MEDIAN ROUND"
   ]
  },
  {
   "cell_type": "code",
   "execution_count": null,
   "metadata": {},
   "outputs": [],
   "source": [
    "print(manufacturers.dtype)\n",
    "print(manufacturers.shape)\n"
   ]
  },
  {
   "cell_type": "code",
   "execution_count": null,
   "metadata": {},
   "outputs": [],
   "source": [
    "print(f\"Consumo medio en ciudad: {np.round(np.mean(city_consumption),2):.2f}\")\n",
    "print(f\"Coche que mas consume en ciudad: {np.round(np.max(city_consumption),2):.2f}\")\n",
    "print(f\"Coche que menos consume en ciudad: {np.round(np.min(city_consumption),2):.2f}\")\n",
    "print(f\"Consumo mediana en ciudad: {np.round(np.median(city_consumption),2):.2f}\")\n",
    "print(f\"Consumo medio en carretera: {np.round(np.mean(road_consumption),2):.2f}\")\n",
    "print(f\"Coche que mas consume en carretera: {np.round(np.max(road_consumption),2):.2f}\")\n",
    "print(f\"Coche que menos consume en carretera: {np.round(np.min(road_consumption),2):.2f}\")\n",
    "print(f\"Consumo mediana en carretera: {np.round(np.median(road_consumption),2):.2f}\")"
   ]
  },
  {
   "cell_type": "markdown",
   "metadata": {},
   "source": [
    "## HISTOGRAMA"
   ]
  },
  {
   "cell_type": "code",
   "execution_count": null,
   "metadata": {},
   "outputs": [],
   "source": [
    "plt.hist(city_consumption, bins=30); # el punto y como final evita que aparezca el array\n",
    "plt.grid()#bins es la cantidad de barras del histograma"
   ]
  },
  {
   "cell_type": "code",
   "execution_count": null,
   "metadata": {},
   "outputs": [],
   "source": [
    "plt.hist(road_consumption, bins=30);\n",
    "plt.grid()"
   ]
  },
  {
   "cell_type": "code",
   "execution_count": null,
   "metadata": {},
   "outputs": [],
   "source": [
    "#superponer los graficos\n",
    "plt.hist(city_consumption, bins=30);\n",
    "plt.hist(road_consumption, bins=30);\n",
    "plt.xlabel(\"Consumo en litros\")\n",
    "plt.ylabel(\"Cantidad coches\")\n",
    "plt.grid()"
   ]
  },
  {
   "cell_type": "markdown",
   "metadata": {},
   "source": [
    "## QUANTILES Y PERCENTILES"
   ]
  },
  {
   "cell_type": "code",
   "execution_count": null,
   "metadata": {},
   "outputs": [],
   "source": [
    "np.quantile(a = city_consumption, q= 0.25, interpolation = \"lower\") #primer quartil\n",
    "np.quantile(a = city_consumption, q= 0.5, interpolation = \"lower\")  #segundo quartil \n",
    "np.quantile(a = city_consumption, q= 0.75, interpolation = \"lower\") #te4rmer quartil\n",
    "np.quantile(a = city_consumption, q = [0.25, 0.50, 0.75], interpolation = \"lower\")"
   ]
  },
  {
   "cell_type": "code",
   "execution_count": null,
   "metadata": {},
   "outputs": [],
   "source": [
    "# Filtros: mascara booleana\n",
    "city_consumption[city_consumption >= 26]\n",
    "#np.where"
   ]
  },
  {
   "cell_type": "markdown",
   "metadata": {},
   "source": [
    "## RANGO"
   ]
  },
  {
   "cell_type": "code",
   "execution_count": null,
   "metadata": {},
   "outputs": [],
   "source": [
    "#Rango\n",
    "print(f\"Rango consumo ciudad: {round(np.max(city_consumption) - np.min(city_consumption),2):.2f}\") #con redondeo y dos decimales\n",
    "print(f\"Rango consumo carretera: {np.max(road_consumption) - np.min(road_consumption)}\")\n"
   ]
  },
  {
   "cell_type": "code",
   "execution_count": null,
   "metadata": {},
   "outputs": [],
   "source": [
    "#rango quartiles rango intercuartilico IQR\n",
    "# 1,5 veces mas alla del iqr se consideran valores anomalos o outliers\n",
    "q1 = np.quantile (a= city_consumption, q= 0.25, interpolation = \"lower\")\n",
    "q3 = np.quantile (a= city_consumption, q= 0.75, interpolation = \"lower\")\n",
    "iqr = q3-q1\n",
    "print(f\"Rango intercuartilico IQR: {iqr}\")"
   ]
  },
  {
   "cell_type": "markdown",
   "metadata": {},
   "source": [
    "## PINTAR LINEAS EN UN GRAFICO"
   ]
  },
  {
   "cell_type": "code",
   "execution_count": null,
   "metadata": {},
   "outputs": [],
   "source": [
    "#pintar media, mediana, q1, q3, min, max en un histograma\n",
    "c_mini = np.min(road_consumption)\n",
    "c_maxi = np.max(road_consumption)\n",
    "c_media = np.mean(city_consumption)\n",
    "c_mediana = np.median(city_consumption)\n",
    "\n",
    "plt.figure(figsize=(10, 6))\n",
    "plt.hist(city_consumption, bins=30, color='skyblue', alpha=0.5)\n",
    "plt.axvline(q1, color='red', linestyle= 'dashed', linewidth=2, label=(f\"Q1: {q1:.1f}\"))\n",
    "plt.axvline(q3, color='green', linestyle= 'dashed', linewidth=2, label=(f\"Q3: {q3:.1f}\"))\n",
    "plt.axvline(c_mini, color='orange', linestyle= 'dashed', linewidth=2, label=(f\"Min: {c_mini:.1f}\"))\n",
    "plt.axvline(c_maxi, color='black', linestyle= 'dashed', linewidth=2, label=(f\"Max: {c_maxi:.1f}\"))\n",
    "plt.axvline(c_media, color= 'grey', linestyle= 'dashed', linewidth=2, label=(f\"mean: {c_media:.1f}\"))\n",
    "plt.axvline(c_mediana, color= 'blue', linestyle= 'dashed', linewidth=2, label=(f\"median: {c_mediana:.1f}\"))\n",
    "plt.legend() \n",
    "plt.show()\n",
    "\n",
    "#plt.grid()\n",
    "\n"
   ]
  },
  {
   "cell_type": "markdown",
   "metadata": {},
   "source": [
    "## BOXPLOT"
   ]
  },
  {
   "cell_type": "code",
   "execution_count": null,
   "metadata": {},
   "outputs": [],
   "source": [
    "#boxplot calcula y muestra los valores IQR, max, min,,mediana\n",
    "#plt.boxplot(city_consumption); #showmeans= True me mostraría tambien la media\n",
    "plt.boxplot(city_consumption, showmeans=True, orientation=\"horizontal\")\n",
    "plt.grid()"
   ]
  },
  {
   "cell_type": "markdown",
   "metadata": {},
   "source": [
    "## FILTRAR"
   ]
  },
  {
   "cell_type": "code",
   "execution_count": null,
   "metadata": {},
   "outputs": [],
   "source": [
    "#Filtrar usando percentiles\n",
    "print(np.percentile(city_consumption, 10)) #es lo mismo uno que otro\n",
    "print(np.quantile(city_consumption, 0.1))\n",
    "\n",
    "percentil_10 = np.percentile(city_consumption, 10)\n",
    "percentil_90 = np.percentile(city_consumption, 90)\n",
    "print(f\"percentil 10: {round(percentil_10 ,2):.2f}\") #aca se ve mejor el redondeo y como se muestra\n",
    "print(f\"percentil 90: {percentil_90}\")\n",
    "\n",
    "\n",
    "#coches que menos consumen\n",
    "coches_menor_consumo = city_consumption[city_consumption <= percentil_10]\n",
    "#coches que mas consumen\n",
    "coches_mayor_consumo = city_consumption[city_consumption >= percentil_90]\n",
    "\n",
    "print(\"10 % coches menor consumo\")\n",
    "# print(coches_menor_consumo.shape)\n",
    "print(f\"media: {round(np.mean(coches_menor_consumo),2):.2f}\")\n",
    "print(\"10 % coches mayor consumo\")\n",
    "# print(coches_mayor_consumo.shape)\n",
    "print(f\"media: {round(np.mean(coches_mayor_consumo),2):.2f}\")"
   ]
  },
  {
   "cell_type": "markdown",
   "metadata": {},
   "source": [
    "## VARIANZA Y DESVIO ESTANDAR"
   ]
  },
  {
   "cell_type": "code",
   "execution_count": null,
   "metadata": {},
   "outputs": [],
   "source": [
    "#Varianza: Que dispersion tienen los datos con respecto a la media\n",
    "varianza = np.var(city_consumption)\n",
    "print(f\"Varianza: {varianza}\")\n",
    "\n",
    "#Desviación estandar: raiz cuadrada de la varianza\n",
    "desviacion = np.std(city_consumption)\n",
    "print(f\"Desviacion estandar: {desviacion:.2f}\")"
   ]
  },
  {
   "cell_type": "markdown",
   "metadata": {},
   "source": [
    "## COUNTER"
   ]
  },
  {
   "cell_type": "code",
   "execution_count": null,
   "metadata": {},
   "outputs": [],
   "source": [
    "#contar cuantos coches hay de cada marca\n",
    "conteo = Counter(manufacturers)\n",
    "\n",
    "#guardar los 10 fabricantes que mas se repiten en este dataset\n",
    "top_10 = conteo.most_common(10)\n",
    "\n",
    "#mostrarlo con mejor formato\n",
    "for fabri, count in top_10:\n",
    "    print(f\"Fabricante  {fabri} tiene {count} coches\")\n",
    "\n",
    "#desempaquetar en dos array\n",
    "fabricantes, conteos = zip(*top_10)\n",
    "\n",
    "top_10\n",
    "print(fabricantes)\n",
    "print(conteos)\n",
    "\n",
    "\n",
    "#moda de manufacturers\n"
   ]
  },
  {
   "cell_type": "code",
   "execution_count": null,
   "metadata": {},
   "outputs": [],
   "source": [
    "#grafico de barras\n",
    "plt.figure(figsize=(12, 8))\n",
    "plt.bar(fabricantes, conteos)\n",
    "plt.xticks(rotation=45); #o bien utilizar plt.barh\n",
    "plt.grid()"
   ]
  },
  {
   "cell_type": "code",
   "execution_count": null,
   "metadata": {},
   "outputs": [],
   "source": [
    "plt.barh(fabricantes, conteos)\n",
    "plt.grid()"
   ]
  },
  {
   "cell_type": "markdown",
   "metadata": {},
   "source": [
    "## FUNCION OUTLINERS"
   ]
  },
  {
   "cell_type": "code",
   "execution_count": 25,
   "metadata": {},
   "outputs": [],
   "source": [
    "#metodo para ver outliers\n",
    "def filtrar_outliers(array, k):\n",
    "    Q1 = np.percentile(array, 25)\n",
    "    Q3 = np.percentile(array, 75)\n",
    "    IQR = Q3 - Q1\n",
    "    limite_inf = Q1 - IQR * k\n",
    "    limite_sup = Q3 + IQR * k\n",
    "    array_sin_outliers = array[(array >= limite_inf) & (array <= limite_sup)]\n",
    "    return array_sin_outliers"
   ]
  },
  {
   "cell_type": "code",
   "execution_count": null,
   "metadata": {},
   "outputs": [],
   "source": [
    "city_consumption.shape #1067 vehiculos\n",
    "array_sin_outliners = filtrar_outliers(city_consumption, k=1.3)\n",
    "print(city_consumption.shape)\n",
    "print(array_sin_outliners.shape)"
   ]
  },
  {
   "cell_type": "markdown",
   "metadata": {},
   "source": [
    "## Correlacion\n",
    "- 0: asociación nula. No hay correlacion\n",
    "- 土 0.1: asociación pequeña.\n",
    "- 土 0.3: asociación mediana.\n",
    "- 土 0.5: asociación moderada.\n",
    "- 土 0.7: asociación alta.\n",
    "- 土 0.9: asociación muy alta.\n",
    "\n",
    "* -1 correlación negativa\n"
   ]
  },
  {
   "cell_type": "code",
   "execution_count": null,
   "metadata": {},
   "outputs": [],
   "source": [
    "#Correlacion  entre dos variables 09.estadistica.03\n",
    "city_consumption = np.genfromtxt(\"FuelConsumptionCo2.csv\", usecols=(8), delimiter=\",\", skip_header=1, dtype=np.float32)\n",
    "road_consumption = np.genfromtxt(\"FuelConsumptionCo2.csv\", usecols=(9), delimiter=\",\", skip_header=1, dtype=np.float32)\n",
    "engine_cc = np.genfromtxt(\"FuelConsumptionCo2.csv\", usecols=(4), delimiter=\",\", skip_header=1, dtype=np.float32)\n",
    "co2_emissions = np.genfromtxt(\"FuelConsumptionCo2.csv\", usecols=(12), delimiter=\",\", skip_header=1, dtype=np.float32)\n",
    "cylinders = np.genfromtxt(\"FuelConsumptionCo2.csv\", usecols=(5), delimiter=\",\", skip_header=1, dtype=np.int8)\n",
    "\n",
    "print(co2_emissions)\n",
    "print(engine_cc)\n",
    "print(cylinders)\n"
   ]
  },
  {
   "cell_type": "code",
   "execution_count": null,
   "metadata": {},
   "outputs": [],
   "source": [
    "print(f\"cylinders / citi_consumption: {stats.pearsonr(cylinders, city_consumption)[0]}\") \n",
    "print(f\"cylinders / cylinders: {stats.pearsonr(cylinders, cylinders)[0]}\")\n",
    "print(f\"cylinders / road_consumption: {stats.pearsonr(cylinders, road_consumption)[0]}\")\n",
    "print(f\"cylinders / engyne_cc: {stats.pearsonr(cylinders, engine_cc)[0]}\")\n",
    "print(f\"cylinders / co2_emissions: {stats.pearsonr(cylinders, co2_emissions)[0]}\")\n",
    "#correlacion ALTA entre cilindros y consumo en ciudad"
   ]
  },
  {
   "cell_type": "code",
   "execution_count": null,
   "metadata": {},
   "outputs": [],
   "source": [
    "print(f\"co2_emissions / citi_consumption: {stats.pearsonr(co2_emissions, city_consumption)[0]}\") \n",
    "print(f\"co2_emissions / cylinders: {stats.pearsonr(co2_emissions, cylinders)[0]}\")\n",
    "print(f\"co2_emissions / road_consumption: {stats.pearsonr(co2_emissions, road_consumption)[0]}\")\n",
    "print(f\"co2_emissionss / engyne_cc: {stats.pearsonr(co2_emissions, engine_cc)[0]}\")\n",
    "print(f\"co2_emissions / co2_emissions: {stats.pearsonr(co2_emissions, co2_emissions)[0]}\")\n",
    "#"
   ]
  },
  {
   "cell_type": "markdown",
   "metadata": {},
   "source": [
    "## MATRIZ CORRELACION CON DOS BUCLES FOR"
   ]
  },
  {
   "cell_type": "code",
   "execution_count": null,
   "metadata": {},
   "outputs": [],
   "source": [
    "#matriz correlacion con dos bucles for\n",
    "columnas = [engine_cc, city_consumption, road_consumption, cylinders, co2_emissions]\n",
    "\n",
    "matriz_lista = list()\n",
    "\n",
    "for columna1 in columnas:\n",
    "    fila = list()\n",
    "    for columna2 in columnas:\n",
    "        fila.append(stats.pearsonr(columna1, columna2)[0])\n",
    "        \n",
    "    matriz_lista.append(fila)\n",
    "    \n",
    "matriz = np.array(matriz_lista)\n",
    "print(matriz)\n"
   ]
  },
  {
   "cell_type": "code",
   "execution_count": null,
   "metadata": {},
   "outputs": [],
   "source": [
    "column_names = ['engine_cc', 'city_consumption', 'road_consumption', 'cylinders', 'co2_emissions']\n",
    "#plt.imshow(matriz, cmap=\"inferno\", vmax=1, vmin=-1)\n",
    "plt.imshow(matriz, cmap=\"viridis\")\n",
    "#plt.imshow(np.tril(matriz, cmap=\"viridis\"))\n",
    "plt.colorbar(label=\"correlacion\")\n",
    "plt.xticks(range(len(column_names)), column_names, rotation=45)\n",
    "plt.yticks(range(len(column_names)), column_names)\n",
    "plt.gca().xaxis.set_ticks_position(\"top\")"
   ]
  },
  {
   "cell_type": "markdown",
   "metadata": {},
   "source": [
    "## SEABORN"
   ]
  },
  {
   "cell_type": "code",
   "execution_count": null,
   "metadata": {},
   "outputs": [],
   "source": [
    "# !pip install seaborn\n",
    "# import seaborn as sns\n",
    "\n",
    "sns.heatmap(matriz, annot=True, cmap='autumn', xticklabels=column_names, yticklabels=column_names)"
   ]
  },
  {
   "cell_type": "markdown",
   "metadata": {},
   "source": [
    "## OPCIONALES EJERCICIO MODULO 1"
   ]
  },
  {
   "cell_type": "code",
   "execution_count": null,
   "metadata": {},
   "outputs": [],
   "source": [
    "#opcional ejercicio modulo 1\n",
    "def read_int(message):\n",
    "    while True:\n",
    "        try:\n",
    "            number = int(input(message))\n",
    "            return number\n",
    "        except ValueError:\n",
    "            print(\"Numero incorrecto, prueba de nuevo\")\n",
    "            \n",
    "def read_float(message):\n",
    "    while True:\n",
    "        try:\n",
    "            number = float(input(message))\n",
    "            return number\n",
    "        except ValueError:\n",
    "            print(\"Numero incorrecto, prueba de nuevo\")\n",
    "            \n",
    "def read_date(message):\n",
    "    cont = 0\n",
    "    while True:\n",
    "        if cont ==4:\n",
    "            return datetime.daterime()     \n",
    "        try:\n",
    "            #cambiar aqui y pasar fecha usar datetime\n",
    "            number = int(input(message))\n",
    "            return number\n",
    "        except ValueError:\n",
    "            print(\"Fecha incorrecta, prueba de nuevo\")    \n",
    "            cont += 1\n",
    "            \n",
    "def read_boolean(message):\n",
    "    while True:\n",
    "        try:\n",
    "            number = bool(input(message))\n",
    "            return number\n",
    "        except ValueError:\n",
    "            print(\"Valor incorrecto, prueba de nuevo\")        \n",
    "        \n",
    "    \n",
    "\"\"\"if option == 2\n",
    "    edad = read_int(\"Introduce tu edad\")   \n",
    "    salary = read_float(\"Introduce tu salario\")\n",
    "    birthdate = read_date(\"Introduce tu fecha de nacimiento ISO: dd\")\n",
    "    estudiante = read_boolean(\"Introduce si estudia (S/N)\")\"\"\""
   ]
  },
  {
   "cell_type": "code",
   "execution_count": null,
   "metadata": {},
   "outputs": [],
   "source": [
    "matriz44 = list()\n",
    "#matriz44 =[]\n",
    "for i in range(4):\n",
    "    fila = list()\n",
    "    \n",
    "    for j in range(4):\n",
    "        fila.append(random.randint(1, 100))\n",
    "        \n",
    "    matriz44.append(fila)\n",
    "\n",
    "#print(matriz44)\n",
    "\n",
    "np.array(matriz44)\n",
    "\n",
    "matriz44"
   ]
  },
  {
   "cell_type": "code",
   "execution_count": null,
   "metadata": {},
   "outputs": [],
   "source": [
    "matriz44 = np.array([[random.randint(1, 100) for j in range(4)] for i in range(4)])\n",
    "matriz44"
   ]
  },
  {
   "cell_type": "code",
   "execution_count": null,
   "metadata": {},
   "outputs": [],
   "source": [
    "def generar_matriz(m=4, n=4):\n",
    "    matriz44 = list()\n",
    "    if m <= 0  or n <=0:\n",
    "        raise ValueError(\"Dimensiones incorrectas\")\n",
    "    for i in range(m):\n",
    "        fila = list()\n",
    "    \n",
    "        for j in range(n):\n",
    "            fila.append(random.randint(1, 100))\n",
    "        \n",
    "        matriz44.append(fila) \n",
    "    return np.array(matriz44) \n",
    "    \n",
    "    \n",
    "    \n",
    "    \n",
    "    \n",
    "x = generar_matriz(2, 10)\n",
    "y = generar_matriz()\n",
    "print(x)\n",
    "print(y)"
   ]
  },
  {
   "cell_type": "markdown",
   "metadata": {},
   "source": [
    "## Estandarización de datos:  \n",
    "Media = a 0 y desviación = 1"
   ]
  },
  {
   "cell_type": "code",
   "execution_count": null,
   "metadata": {},
   "outputs": [],
   "source": [
    "plt.hist(city_consumption, bins=30, color=\"blue\", alpha=0.7, label=\"Consumo combustible ciudad (original)\")\n",
    "plt.hist(co2_emissions, bins=30, color=\"red\",  alpha=0.7, label=\"Emisiones CO2 (original)\")\n",
    "plt.legend();\n"
   ]
  },
  {
   "cell_type": "code",
   "execution_count": null,
   "metadata": {},
   "outputs": [],
   "source": [
    "#estandarizamos y volvemos a pintar el histograma\n",
    "media_con = np.mean(city_consumption)\n",
    "desv_con = np.std(city_consumption)\n",
    "media_co2 = np.mean(co2_emissions)\n",
    "desv_co2 =  np.std(co2_emissions)\n",
    "\n",
    "#resultado1 = [(x - media_con) / desv_con for x in city_consumption]\n",
    "resultado1 = (city_consumption - media_con) / desv_con\n",
    "#resultado2 = [(x - media_co2) / desv_co2 for x in co2_emissions]\n",
    "resultado2 = (co2_emissions - media_co2) / desv_co2\n",
    "\n",
    "print(f\"Media consumo original: {media_con}\")\n",
    "print(f\"Media consumo estandarizada: {resultado1}\")\n",
    "print(f\"Emisiones Co2 original: {media_co2}\")\n",
    "print(f\"Emisiones Co2 original: {resultado2}\")\n",
    "\n",
    "plt.hist(resultado1, bins=30, color=\"red\", alpha=0.7, label=\"Consumo combustible ciudad (Estandarizado)\")\n",
    "#plt.hist(city_consumption, bins=30, color=\"blue\", alpha=0.7, label=\"Consumo combustible ciudad (original)\")\n",
    "#plt.hist(co2_emissions, bins=30, color=\"red\",  alpha=0.7, label=\"Emisiones CO2 (original)\")\n",
    "plt.hist(resultado2, bins=30, color=\"orange\", alpha=0.7, label=\"Emisiones CO2 (Estandarizado)\")\n",
    "plt.legend();"
   ]
  },
  {
   "cell_type": "markdown",
   "metadata": {},
   "source": [
    "## SUBPLOTS"
   ]
  },
  {
   "cell_type": "code",
   "execution_count": null,
   "metadata": {},
   "outputs": [],
   "source": [
    "plt.figure(figsize=(10, 4))\n",
    "plt.subplot(1, 2, 1)\n",
    "plt.hist(city_consumption, bins=30, color=\"blue\", alpha=0.7, label=\"Consumo combustible ciudad (orig)\")\n",
    "plt.hist(co2_emissions, bins=30, color=\"red\",  alpha=0.7, label=\"Emisiones CO2 (orig)\")\n",
    "plt.title(\"Distribuciones originales\")\n",
    "plt.xlabel(\"Unidades originales\")\n",
    "plt.ylabel(\"Frecuencia\")\n",
    "plt.legend()\n",
    "\n",
    "plt.subplot(1, 2, 2)\n",
    "plt.hist(resultado1, bins=30, color=\"blue\", alpha=0.7, label=\"Consumo combustible ciudad (std)\")\n",
    "plt.hist(resultado2, bins=30, color=\"red\",  alpha=0.7, label=\"Emisiones CO2 (std)\")\n",
    "plt.title(\"Distribuciones estandarizados\")\n",
    "plt.xlabel(\"Unidades estandarizadas\")\n",
    "plt.ylabel(\"Frecuencia\")\n",
    "plt.legend()\n"
   ]
  },
  {
   "cell_type": "markdown",
   "metadata": {},
   "source": [
    "## COEFICIENTE DE ASIMETRIA\n",
    "* Nro cercano a cero no hay asimetria\n",
    "* Si es positivo (cola hacia la derecha) o negativo (cola hacia la izquierda) hay asimetria\n",
    "### Metodo stats.skew()"
   ]
  },
  {
   "cell_type": "code",
   "execution_count": null,
   "metadata": {},
   "outputs": [],
   "source": [
    "print(f\"Coeficiente de asimetria: {stats.skew(city_consumption)}\")\n",
    "print(f\"Coeficiente de asimetria: {stats.skew(co2_emissions)}\")"
   ]
  },
  {
   "cell_type": "markdown",
   "metadata": {},
   "source": [
    "# Curtosis \n",
    "para verlo bien hay que pintarlo \n",
    "*mayor que cero : Leptocurtica , cola ligera\n",
    "*cero: curva normal\n",
    "*Menor que cero: Paticurtica, decaimiento lento\n",
    "### Metodo stats.kurtosis()\n"
   ]
  },
  {
   "cell_type": "code",
   "execution_count": null,
   "metadata": {},
   "outputs": [],
   "source": [
    "print(f\"Coeficiente de curtosis consumo: {stats.kurtosis(city_consumption)}\")\n",
    "print(f\"Coeficiente de curtosis co2: {stats.kurtosis(co2_emissions)}\")"
   ]
  },
  {
   "cell_type": "code",
   "execution_count": null,
   "metadata": {},
   "outputs": [],
   "source": [
    "plt.figure(figsize=(10, 4))\n",
    "plt.subplot(1, 2, 1)\n",
    "sns.kdeplot(city_consumption, label=\"citi_consuption\")\n",
    "plt.legend()\n",
    "\n",
    "plt.subplot(1, 2, 2)\n",
    "sns.kdeplot(co2_emissions, label=\"co2_emissions\", color=\"orange\")\n",
    "plt.legend()"
   ]
  },
  {
   "cell_type": "markdown",
   "metadata": {},
   "source": []
  },
  {
   "cell_type": "code",
   "execution_count": null,
   "metadata": {},
   "outputs": [],
   "source": [
    "sns.kdeplot(resultado1, label=\"citi_consuption\")\n",
    "sns.kdeplot(resultado2, label=\"co2_emissions\")\n",
    "plt.legend()"
   ]
  },
  {
   "cell_type": "markdown",
   "metadata": {},
   "source": [
    "## Generar datos ficticios para ver mejor las graficas"
   ]
  },
  {
   "cell_type": "code",
   "execution_count": 54,
   "metadata": {},
   "outputs": [],
   "source": [
    "from scipy.stats import skewnorm"
   ]
  },
  {
   "cell_type": "code",
   "execution_count": null,
   "metadata": {},
   "outputs": [],
   "source": [
    "x = np.linspace(-5, 5, 100)\n",
    "\n",
    "negative_skew = skewnorm.pdf(x, a=-10)\n",
    "zero_skew = skewnorm.pdf(x, a=0)\n",
    "positive_skew = skewnorm.pdf(x, a =10)\n",
    "\n",
    "plt.figure(figsize=(15, 6))\n",
    "plt.subplot(1, 3, 1)\n",
    "plt.plot(x, negative_skew, label=\"Asimetria negativa\")\n",
    "plt.legend()\n",
    "plt.subplot(1, 3, 2)\n",
    "plt.plot(x, zero_skew, label=\"Asimetria cero\") # campana de gauss\n",
    "plt.legend()\n",
    "plt.subplot(1, 3, 3)\n",
    "plt.plot(x, positive_skew, label=\"Asimetria positiva\")\n",
    "plt.legend()\n",
    "plt.title(\"Comparacion de asimetrias\");"
   ]
  },
  {
   "cell_type": "code",
   "execution_count": null,
   "metadata": {},
   "outputs": [],
   "source": [
    "x = np.linspace(-5, 5, 1000)\n",
    "\n",
    "platicurtic = np.exp(-0.2 * x**2) # aplanada\n",
    "mesocurtic = np.exp(-0.5 * x**2) # estardar\n",
    "leptocurtic = np.exp(-0.9 * x**2) # mas alta\n",
    "\n",
    "plt.figure(figsize=(15, 6))\n",
    "#plt.subplot(1, 3, 1)\n",
    "plt.plot(x, platicurtic, label=\"Platicurtica\")\n",
    "plt.legend()\n",
    "#plt.subplot(1, 3, 2)\n",
    "plt.plot(x, mesocurtic, label=\"mesocurtica\") # campana de gauss\n",
    "plt.legend()\n",
    "#plt.subplot(1, 3, 3)\n",
    "plt.plot(x, leptocurtic, label=\"Leptocurtica\")\n",
    "plt.legend()\n",
    "plt.title(\"Comparacion de curtosis\");"
   ]
  },
  {
   "cell_type": "markdown",
   "metadata": {},
   "source": [
    "# Calculo diferencial"
   ]
  },
  {
   "cell_type": "code",
   "execution_count": null,
   "metadata": {},
   "outputs": [],
   "source": [
    "x= np.linspace(-2, 2, 1000)\n",
    "y= x\n",
    "plt.figure(figsize=(12, 4))\n",
    "plt.axhline(0, color=\"black\")\n",
    "plt.axvline(0, color=\"black\")\n",
    "plt.plot(x, y)\n",
    "plt.axis(-0.5, 1.5, -1, -2) #acotar los limites de la grafica\n",
    "plt.grid()"
   ]
  },
  {
   "cell_type": "markdown",
   "metadata": {},
   "source": [
    "## Modificar valores (para eliminar la simetria)"
   ]
  },
  {
   "cell_type": "code",
   "execution_count": 94,
   "metadata": {},
   "outputs": [],
   "source": [
    "# Funcion Raiz:  mas suave que la logaritmica ayuda a reducir la asimetria\n",
    "city_consumption_sqrt = np.sqrt(city_consumption)\n",
    "co2_emissions_sqrt = np.sqrt(co2_emissions)\n",
    "\n"
   ]
  },
  {
   "cell_type": "code",
   "execution_count": 95,
   "metadata": {},
   "outputs": [],
   "source": [
    "# Funcion logaritmo: comprime las diferencias entre valores grandes y valores pequeños, habitual cuando\n",
    "# hay un sesgo hacia valores grandes\n",
    "city_consumption_log = np.log(city_consumption)\n",
    "co2_emissions_log = np.log(co2_emissions)"
   ]
  },
  {
   "cell_type": "code",
   "execution_count": null,
   "metadata": {},
   "outputs": [],
   "source": [
    "sns.kdeplot(resultado1, label=\"citi_consuption_std\")\n",
    "sns.kdeplot(city_consumption_sqrt, label=\"citi_consuption_sqrt\")\n",
    "sns.kdeplot(city_consumption_log, label=\"citi_consuption_log\")\n",
    "plt.legend()\n",
    "plt.grid()"
   ]
  },
  {
   "cell_type": "code",
   "execution_count": null,
   "metadata": {},
   "outputs": [],
   "source": [
    "sns.kdeplot(resultado2, label=\"co2_emmisions_std\")\n",
    "sns.kdeplot(co2_emissions_sqrt, label=\"co2_emissions_sqrt\")\n",
    "sns.kdeplot(co2_emissions_log, label=\"co2_emissions_log\")\n",
    "plt.legend()"
   ]
  },
  {
   "cell_type": "markdown",
   "metadata": {},
   "source": [
    "# Contraste hipotesis"
   ]
  },
  {
   "cell_type": "markdown",
   "metadata": {},
   "source": [
    "- Realiza un contraste de hipótesis y comprueba si se gasta más combustible en la ciudad que en la autovía.\n",
    "    - **fuel_city**: gasto en ciudad\n",
    "    - **fuel_hwy**: gasto en autovía\n",
    "    - $H_0$: el gasto de combustible en la ciudad es igual o menor al gasto en la autovía.\n",
    "    - $H_1$: el gasto de combustible en la ciudad es mayor al gasto en la autovía.\n",
    "    \n",
    "_**Pista**: hay que aplicar una prueba **t de Student** para **muestras pareadas** `stats.ttest_rel()`, o una prueba **Wilcoxon** para **muestras pareadas** `stats.wilcoxon()`, dependiendo de si se cumplen los supuestos de normalidad y homogeneidad de varianzas. Pueden especificar el parámetro `alternative` con el argumento `\"greater\"` para un contraste de tipo `a>b`._"
   ]
  },
  {
   "cell_type": "code",
   "execution_count": 97,
   "metadata": {},
   "outputs": [
    {
     "name": "stdout",
     "output_type": "stream",
     "text": [
      "[ 9.9 11.2  6.  12.7 12.1]\n",
      "[6.7 7.7 5.8 9.1 8.7]\n"
     ]
    }
   ],
   "source": [
    "print(city_consumption[:5])\n",
    "print(road_consumption[:5])"
   ]
  },
  {
   "cell_type": "code",
   "execution_count": null,
   "metadata": {},
   "outputs": [],
   "source": [
    "alpha = 0.05 #valor de significancia"
   ]
  },
  {
   "cell_type": "code",
   "execution_count": null,
   "metadata": {},
   "outputs": [],
   "source": [
    "# normalidad\n"
   ]
  }
 ],
 "metadata": {
  "kernelspec": {
   "display_name": "Python 3",
   "language": "python",
   "name": "python3"
  },
  "language_info": {
   "codemirror_mode": {
    "name": "ipython",
    "version": 3
   },
   "file_extension": ".py",
   "mimetype": "text/x-python",
   "name": "python",
   "nbconvert_exporter": "python",
   "pygments_lexer": "ipython3",
   "version": "3.13.1"
  }
 },
 "nbformat": 4,
 "nbformat_minor": 2
}
