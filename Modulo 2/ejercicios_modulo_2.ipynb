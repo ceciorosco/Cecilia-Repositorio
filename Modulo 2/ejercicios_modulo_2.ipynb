{
 "cells": [
  {
   "cell_type": "code",
   "execution_count": 7,
   "metadata": {},
   "outputs": [],
   "source": [
    "import numpy as np\n",
    "import matplotlib\n",
    "import matplotlib.pyplot as plt\n",
    "import random\n",
    "import scipy \n",
    "from scipy import stats\n",
    "from collections import Counter\n",
    "import pickle as pkl\n",
    "import random"
   ]
  },
  {
   "cell_type": "code",
   "execution_count": null,
   "metadata": {},
   "outputs": [],
   "source": [
    "x = 0\n",
    "y = 1\n",
    "plt.plot(x, y, marker = \"*\")\n",
    "\n",
    "plt.grid()\n",
    "plt.show()"
   ]
  },
  {
   "cell_type": "code",
   "execution_count": null,
   "metadata": {},
   "outputs": [],
   "source": [
    "x = [1, 10]\n",
    "y = [-1, 8]\n",
    "\n",
    "plt.plot(x, y, marker = \"o\")\n",
    "\n",
    "\n",
    "# Esta función la podemos usar para marcar el eje X\n",
    "plt.axhline(0, color = \"red\")\n",
    "\n",
    "# Esta función la podemos usar para marcar el eje Y\n",
    "plt.axvline(0, color = \"green\") \n",
    "\n",
    "plt.grid()\n",
    "plt.show()"
   ]
  },
  {
   "cell_type": "code",
   "execution_count": null,
   "metadata": {},
   "outputs": [],
   "source": [
    "x = np.linspace(1, 10, 10)\n",
    "y = [-3, 7, 10, 6, 3, 9, 0, -6, 2, 9]\n",
    "\n",
    "plt.plot(x, y, marker = \"o\", color = \"red\")\n",
    "\n",
    "# Eje X\n",
    "plt.axhline(0, color = \"green\")\n",
    "\n",
    "# Eje Y\n",
    "plt.axvline(0, color = \"black\") \n",
    "\n",
    "plt.grid()\n",
    "plt.show()"
   ]
  },
  {
   "cell_type": "code",
   "execution_count": null,
   "metadata": {},
   "outputs": [],
   "source": [
    "X = [random.randint(-20, 20) for x in range(20)]\n",
    "Y = [random.randint(-20, 20) for x in range(20)]\n",
    "\n",
    "plt.scatter(X, Y)\n",
    "\n",
    "# Eje X\n",
    "plt.axhline(0, color = \"black\")\n",
    "\n",
    "# Eje Y\n",
    "plt.axvline(0, color = \"black\") \n",
    "\n",
    "plt.grid()\n",
    "plt.show()\n"
   ]
  },
  {
   "cell_type": "code",
   "execution_count": null,
   "metadata": {},
   "outputs": [],
   "source": [
    "#cargar un sataset en numpy\n",
    "\n"
   ]
  },
  {
   "cell_type": "code",
   "execution_count": null,
   "metadata": {},
   "outputs": [],
   "source": [
    "with open(\"FUELCONSUMPTION_CITY.pkl\", \"br\") as f:\n",
    "          city_consumption = pkl.load(f)\n",
    "       \n",
    "          \n",
    "city_consumption"
   ]
  },
  {
   "cell_type": "code",
   "execution_count": null,
   "metadata": {},
   "outputs": [],
   "source": [
    "city_consumption = np.genfromtxt(\"FuelConsumptionCo2.csv\", usecols=(8), delimiter=\",\", skip_header=1, dtype=np.float32)\n",
    "road_consumption = np.genfromtxt(\"FuelConsumptionCo2.csv\", usecols=(9), delimiter=\",\", skip_header=1, dtype=np.float32)\n",
    "manufacturers = np.genfromtxt(\"FuelConsumptionCo2.csv\", usecols=(1), delimiter=\",\", skip_header=1, dtype=str)\n",
    "city_consumption\n",
    "road_consumption\n",
    "manufacturers"
   ]
  },
  {
   "cell_type": "code",
   "execution_count": null,
   "metadata": {},
   "outputs": [],
   "source": [
    "print(manufacturers.dtype)\n",
    "print(manufacturers.shape)\n"
   ]
  },
  {
   "cell_type": "code",
   "execution_count": 61,
   "metadata": {},
   "outputs": [
    {
     "name": "stdout",
     "output_type": "stream",
     "text": [
      "Consumo medio en ciudad: 13.30\n",
      "Coche que mas consume en ciudad: 30.20\n",
      "Coche que menos consume en ciudad: 4.60\n",
      "Consumo mediana en ciudad: 12.60\n",
      "Consumo medio en carretera: 9.47\n",
      "Coche que mas consume en carretera: 20.50\n",
      "Coche que menos consume en carretera: 4.90\n",
      "Consumo mediana en carretera: 8.80\n"
     ]
    }
   ],
   "source": [
    "print(f\"Consumo medio en ciudad: {np.round(np.mean(city_consumption),2):.2f}\")\n",
    "print(f\"Coche que mas consume en ciudad: {np.round(np.max(city_consumption),2):.2f}\")\n",
    "print(f\"Coche que menos consume en ciudad: {np.round(np.min(city_consumption),2):.2f}\")\n",
    "print(f\"Consumo mediana en ciudad: {np.round(np.median(city_consumption),2):.2f}\")\n",
    "print(f\"Consumo medio en carretera: {np.round(np.mean(road_consumption),2):.2f}\")\n",
    "print(f\"Coche que mas consume en carretera: {np.round(np.max(road_consumption),2):.2f}\")\n",
    "print(f\"Coche que menos consume en carretera: {np.round(np.min(road_consumption),2):.2f}\")\n",
    "print(f\"Consumo mediana en carretera: {np.round(np.median(road_consumption),2):.2f}\")"
   ]
  },
  {
   "cell_type": "code",
   "execution_count": 60,
   "metadata": {},
   "outputs": [
    {
     "data": {
      "image/png": "[encoded data removed]",
      "text/plain": [
       "<Figure size 640x480 with 1 Axes>"
      ]
     },
     "metadata": {},
     "output_type": "display_data"
    }
   ],
   "source": [
    "plt.hist(city_consumption, bins=30); # el punto y como final evita que aparezca el array\n",
    "plt.grid()#bins es la cantidad de barras del histograma"
   ]
  },
  {
   "cell_type": "code",
   "execution_count": null,
   "metadata": {},
   "outputs": [],
   "source": [
    "plt.hist(road_consumption, bins=30);\n",
    "plt.grid()"
   ]
  },
  {
   "cell_type": "code",
   "execution_count": null,
   "metadata": {},
   "outputs": [],
   "source": [
    "#superponer los graficos\n",
    "plt.hist(city_consumption, bins=30);\n",
    "plt.hist(road_consumption, bins=30);\n",
    "plt.xlabel(\"Consumo en litros\")\n",
    "plt.ylabel(\"Cantidad coches\")\n",
    "plt.grid()"
   ]
  },
  {
   "cell_type": "code",
   "execution_count": 48,
   "metadata": {},
   "outputs": [
    {
     "data": {
      "text/plain": [
       "array([10.2, 12.6, 15.5], dtype=float32)"
      ]
     },
     "execution_count": 48,
     "metadata": {},
     "output_type": "execute_result"
    }
   ],
   "source": [
    "np.quantile(a = city_consumption, q= 0.25, interpolation = \"lower\") #primer quartil\n",
    "np.quantile(a = city_consumption, q= 0.5, interpolation = \"lower\")  #segundo quartil \n",
    "np.quantile(a = city_consumption, q= 0.75, interpolation = \"lower\") #te4rmer quartil\n",
    "np.quantile(a = city_consumption, q = [0.25, 0.50, 0.75], interpolation = \"lower\")"
   ]
  },
  {
   "cell_type": "code",
   "execution_count": 50,
   "metadata": {},
   "outputs": [
    {
     "data": {
      "text/plain": [
       "array([30. , 30.2, 26.7, 30. , 30.2], dtype=float32)"
      ]
     },
     "execution_count": 50,
     "metadata": {},
     "output_type": "execute_result"
    }
   ],
   "source": [
    "# Filtros: mascara booleana\n",
    "city_consumption[city_consumption >= 26]\n",
    "#np.where"
   ]
  },
  {
   "cell_type": "code",
   "execution_count": 57,
   "metadata": {},
   "outputs": [
    {
     "name": "stdout",
     "output_type": "stream",
     "text": [
      "Rango consumo ciudad: 25.60\n",
      "Rango consumo carretera: 15.600000381469727\n"
     ]
    }
   ],
   "source": [
    "#Rango\n",
    "print(f\"Rango consumo ciudad: {round(np.max(city_consumption) - np.min(city_consumption),2):.2f}\") #con redondeo y dos decimales\n",
    "print(f\"Rango consumo carretera: {np.max(road_consumption) - np.min(road_consumption)}\")\n"
   ]
  },
  {
   "cell_type": "code",
   "execution_count": 59,
   "metadata": {},
   "outputs": [
    {
     "name": "stdout",
     "output_type": "stream",
     "text": [
      "Rango intercuartilico IQR: 5.300000190734863\n"
     ]
    }
   ],
   "source": [
    "#rango quartiles rango intercuartilico IQR\n",
    "# 1,5 veces mas alla del iqr se consideran valores anomalos o outliers\n",
    "q1 = np.quantile (a= city_consumption, q= 0.25, interpolation = \"lower\")\n",
    "q3 = np.quantile (a= city_consumption, q= 0.75, interpolation = \"lower\")\n",
    "iqr = q3-q1\n",
    "print(f\"Rango intercuartilico IQR: {iqr}\")"
   ]
  },
  {
   "cell_type": "code",
   "execution_count": null,
   "metadata": {},
   "outputs": [],
   "source": [
    "#pintar media, mediana, q1, q3, min, max en un histograma\n"
   ]
  },
  {
   "cell_type": "code",
   "execution_count": null,
   "metadata": {},
   "outputs": [],
   "source": [
    "#boxplot\n"
   ]
  }
 ],
 "metadata": {
  "kernelspec": {
   "display_name": "Python 3",
   "language": "python",
   "name": "python3"
  },
  "language_info": {
   "codemirror_mode": {
    "name": "ipython",
    "version": 3
   },
   "file_extension": ".py",
   "mimetype": "text/x-python",
   "name": "python",
   "nbconvert_exporter": "python",
   "pygments_lexer": "ipython3",
   "version": "3.13.1"
  }
 },
 "nbformat": 4,
 "nbformat_minor": 2
}
