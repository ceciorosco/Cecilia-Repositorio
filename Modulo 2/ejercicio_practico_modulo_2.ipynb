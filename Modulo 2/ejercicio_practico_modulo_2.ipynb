{
 "cells": [
  {
   "cell_type": "markdown",
   "metadata": {},
   "source": [
    "4 columnas numéricas\n",
    "\n",
    "* price\n",
    "* bedrooms\n",
    "* bathrooms\n",
    "* m2\n",
    "* address (quitarle lo de \", Madrid\" con numpy)\n",
    "\n",
    "En cada apartado hacer visualizaciones con matplotlib o seaborn.\n",
    "\n",
    "* 25 %:\n",
    "\n",
    "* Carga de datos: cargarlo con np.genfromtext\n",
    "* Media, mediana\n",
    "* Máximo y mínimo\n",
    "* histograma y curva de densidad\n",
    "\n",
    "* 25 %\n",
    "\n",
    "* Cuartiles: Q1 (25), Q2 (50), Q3 (75)\n",
    "* IQR\n",
    "* Filtrar 20 % más caro, y el 20 % más barato\n",
    "* Opcional: filtrar los barrios 20 % más baratos\n",
    "* Moda: calcular moda también de address\n",
    "* Opcional: Moda de los barrios más baratos y más caros\n",
    "* Dispersión: varianza y desviación estándar\n",
    "\n",
    "25 % \n",
    "\n",
    "* Filtro de outliers: tukey, z-score, marcar en un gráfico los límites de outliers: rojo y azul.\n",
    "* Correlación: calcular la matriz y pintarla con matplotlib/seaborn\n",
    "* Estandarización\n",
    "\n",
    "25 % \n",
    "\n",
    "* Asimetría y curtosis\n",
    "* Transformar distribuciones e interpretar resultados\n",
    "* Contraste de hipótesis:\n",
    "    * Que las casas de X barrio son más baratas de las de Y barrio\n",
    "    * Que las casas de >= 3 baños son más caras que las casas de 1-2 baños"
   ]
  },
  {
   "cell_type": "code",
   "execution_count": 1,
   "metadata": {},
   "outputs": [],
   "source": [
    "import numpy as np\n",
    "import matplotlib\n",
    "import matplotlib.pyplot as plt\n",
    "import random\n",
    "import scipy \n",
    "from scipy import stats\n",
    "from collections import Counter\n",
    "import pickle as pkl\n",
    "import random\n",
    "import seaborn as sns"
   ]
  },
  {
   "cell_type": "markdown",
   "metadata": {},
   "source": [
    "### Carga de datos:\n",
    "* price\n",
    "* bedrooms\n",
    "* bathrooms\n",
    "* m2\n",
    "* address"
   ]
  },
  {
   "cell_type": "markdown",
   "metadata": {},
   "source": []
  },
  {
   "cell_type": "code",
   "execution_count": 2,
   "metadata": {},
   "outputs": [],
   "source": [
    "price = np.genfromtxt(\"idealista_madrid.csv\", usecols=(0), delimiter=\",\", skip_header=1, encoding=\"utf-8\", dtype=np.int64)\n",
    "bedrooms = np.genfromtxt(\"idealista_madrid.csv\", usecols=(2), delimiter=\",\", skip_header=1, encoding=\"utf-8\", dtype=np.int64)\n",
    "bathrooms = np.genfromtxt(\"idealista_madrid.csv\", usecols=(1), delimiter=\",\", skip_header=1, encoding=\"utf-8\", dtype=np.int64)\n",
    "m2 = np.genfromtxt(\"idealista_madrid.csv\", usecols=(3), delimiter=\",\", skip_header=1, encoding=\"utf-8\", dtype=np.int64)\n",
    "address = np.genfromtxt(\"idealista_madrid.csv\", usecols=(4), delimiter=\",\", skip_header=1, encoding=\"utf-8\", dtype=str)\n"
   ]
  },
  {
   "cell_type": "markdown",
   "metadata": {},
   "source": [
    "### Media, mediana, máximo y mínimo"
   ]
  },
  {
   "cell_type": "code",
   "execution_count": 3,
   "metadata": {},
   "outputs": [],
   "source": [
    "# Medias\n",
    "mean_price = np.mean(price)\n",
    "mean_bedr = np.mean(bedrooms)\n",
    "mean_bath = np.mean(bathrooms)\n",
    "mean_m2 = np.mean(m2)\n",
    "\n",
    "\n",
    "# Medianas\n",
    "medi_price = np.median(price)\n",
    "medi_bedr = np.median(bedrooms)\n",
    "medi_bath = np.median(bathrooms)\n",
    "medi_m2 = np.median(m2)\n",
    "\n",
    "\n",
    "# Maximos\n",
    "max_price = np.max(price)\n",
    "max_bedr = np.max(bedrooms)\n",
    "max_bath = np.max(bathrooms)\n",
    "max_m2 = np.max(m2)\n",
    "\n",
    "\n",
    "# Minimos\n",
    "min_price = np.min(price)\n",
    "min_bedr = np.min(bedrooms)\n",
    "min_bath = np.min(bathrooms)\n",
    "min_m2 = np.min(m2)\n",
    "\n"
   ]
  },
  {
   "cell_type": "markdown",
   "metadata": {},
   "source": [
    "### Histograma"
   ]
  },
  {
   "cell_type": "code",
   "execution_count": 4,
   "metadata": {},
   "outputs": [],
   "source": [
    "def histograma(sub, var, xla, mean, medi, maxi, mini, r, tit):\n",
    "    plt.subplot(1, 2, sub)\n",
    "    plt.hist(var, bins=50, color='skyblue', alpha=0.5)\n",
    "    plt.xlabel(\"xla\")\n",
    "    plt.ylabel(\"Cantidad viviendas\")\n",
    "    plt.axvline(mean, color='red', linestyle= 'dashed', linewidth=1, label=(f\"Media: {mean:.2f} {r}\"))\n",
    "    plt.axvline(medi, color='green', linestyle= 'dashed', linewidth=1, label=(f\"Mediana: {medi:.2f} {r}\"))\n",
    "    plt.axvline(maxi, color='grey', linestyle= 'dashed', linewidth=1, label=(f\"Maximo: {maxi:.2f} {r}\"))\n",
    "    plt.axvline(mini, color='grey', linestyle= 'dashed', linewidth=1, label=(f\"Minimo: {mini:.2f} {r}\"))\n",
    "    plt.title(f\"Histograma {tit}\")\n",
    "    plt.legend()\n",
    "    plt.show\n"
   ]
  },
  {
   "cell_type": "code",
   "execution_count": null,
   "metadata": {},
   "outputs": [],
   "source": [
    "plt.figure(figsize=(16, 4))\n",
    "histograma(1, price, \"Precio\", mean_price, medi_price, max_price, min_price, \"€\", \"Precios\")\n",
    "histograma(2, m2, \"m2\", mean_m2, medi_m2, max_m2, min_m2, \"m2\", \"m2\")\n",
    "plt.figure(figsize=(16, 4))\n",
    "histograma(1, bedrooms, \"Habitaciones\", mean_bedr, medi_bedr, max_bedr, min_bath, \"\", \"Habitaciones\")\n",
    "histograma(2, bathrooms, \"Cuartos de Baño\", mean_bath, medi_bath, max_bath, min_bath, \"\", \"Cuartos de baño\")"
   ]
  },
  {
   "cell_type": "markdown",
   "metadata": {},
   "source": [
    "### Curva de densidad"
   ]
  },
  {
   "cell_type": "code",
   "execution_count": 6,
   "metadata": {},
   "outputs": [],
   "source": [
    "def curva_densidad(sub, var, xla, mean, medi, maxi, mini, r, tit):\n",
    "    plt.subplot(1, 2, sub)\n",
    "    sns.kdeplot(var, label=xla)\n",
    "    plt.axvline(mean, color='red', linestyle= 'dashed', linewidth=1, label=(f\"Media: {mean:.2f} {r}\"))\n",
    "    plt.axvline(medi, color='green', linestyle= 'dashed', linewidth=1, label=(f\"Mediana: {medi:.2f} {r}\"))\n",
    "    plt.axvline(maxi, color='grey', linestyle= 'dashed', linewidth=1, label=(f\"Maximo: {maxi:.2f} {r}\"))\n",
    "    plt.axvline(mini, color='grey', linestyle= 'dashed', linewidth=1, label=(f\"Minimo: {mini:.2f} {r}\"))\n",
    "    plt.title(f\"Curva densidad {tit}\")\n",
    "    plt.legend()\n",
    "    "
   ]
  },
  {
   "cell_type": "code",
   "execution_count": null,
   "metadata": {},
   "outputs": [],
   "source": [
    "plt.figure(figsize=(16, 4))\n",
    "curva_densidad(1, price, \"Precio\", mean_price, medi_price, max_price, min_price, \"€\", \"Precios\")\n",
    "curva_densidad(2, m2, \"m2\", mean_m2, medi_m2, max_m2, min_m2, \"m2\", \"m2\")\n",
    "plt.show()\n",
    "\n",
    "plt.figure(figsize=(16, 4))\n",
    "curva_densidad(1, bedrooms, \"Habitaciones\", mean_bedr, medi_bedr, max_bedr, min_bath, \"\", \"Habitaciones\")\n",
    "curva_densidad(2, bathrooms, \"Cuartos de Baño\", mean_bath, medi_bath, max_bath, min_bath, \"\", \"Cuartos de baño\")\n",
    "plt.show()"
   ]
  },
  {
   "cell_type": "code",
   "execution_count": null,
   "metadata": {},
   "outputs": [],
   "source": []
  },
  {
   "cell_type": "code",
   "execution_count": null,
   "metadata": {},
   "outputs": [],
   "source": []
  },
  {
   "cell_type": "code",
   "execution_count": null,
   "metadata": {},
   "outputs": [],
   "source": []
  },
  {
   "cell_type": "code",
   "execution_count": null,
   "metadata": {},
   "outputs": [],
   "source": []
  },
  {
   "cell_type": "code",
   "execution_count": null,
   "metadata": {},
   "outputs": [],
   "source": []
  },
  {
   "cell_type": "code",
   "execution_count": null,
   "metadata": {},
   "outputs": [],
   "source": []
  },
  {
   "cell_type": "code",
   "execution_count": null,
   "metadata": {},
   "outputs": [],
   "source": []
  },
  {
   "cell_type": "code",
   "execution_count": null,
   "metadata": {},
   "outputs": [],
   "source": []
  }
 ],
 "metadata": {
  "kernelspec": {
   "display_name": "Python 3",
   "language": "python",
   "name": "python3"
  },
  "language_info": {
   "codemirror_mode": {
    "name": "ipython",
    "version": 3
   },
   "file_extension": ".py",
   "mimetype": "text/x-python",
   "name": "python",
   "nbconvert_exporter": "python",
   "pygments_lexer": "ipython3",
   "version": "3.13.1"
  }
 },
 "nbformat": 4,
 "nbformat_minor": 2
}
