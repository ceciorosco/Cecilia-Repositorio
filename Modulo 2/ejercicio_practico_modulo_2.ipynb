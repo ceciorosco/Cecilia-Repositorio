{
 "cells": [
  {
   "cell_type": "markdown",
   "metadata": {},
   "source": [
    "4 columnas numéricas\n",
    "\n",
    "* price\n",
    "* bedrooms\n",
    "* bathrooms\n",
    "* m2\n",
    "* address (quitarle lo de \", Madrid\" con numpy)\n",
    "\n",
    "En cada apartado hacer visualizaciones con matplotlib o seaborn.\n",
    "\n",
    "* 25 %:\n",
    "\n",
    "* Carga de datos: cargarlo con np.genfromtext\n",
    "* Media, mediana\n",
    "* Máximo y mínimo\n",
    "* histograma y curva de densidad\n",
    "\n",
    "* 25 %\n",
    "\n",
    "* Cuartiles: Q1 (25), Q2 (50), Q3 (75)\n",
    "* IQR\n",
    "* Filtrar 20 % más caro, y el 20 % más barato\n",
    "* Opcional: filtrar los barrios 20 % más baratos\n",
    "* Moda: calcular moda también de address\n",
    "* Opcional: Moda de los barrios más baratos y más caros\n",
    "* Dispersión: varianza y desviación estándar\n",
    "\n",
    "25 % \n",
    "\n",
    "* Filtro de outliers: tukey, z-score, marcar en un gráfico los límites de outliers: rojo y azul.\n",
    "* Correlación: calcular la matriz y pintarla con matplotlib/seaborn\n",
    "* Estandarización\n",
    "\n",
    "25 % \n",
    "\n",
    "* Asimetría y curtosis\n",
    "* Transformar distribuciones e interpretar resultados\n",
    "* Contraste de hipótesis:\n",
    "    * Que las casas de X barrio son más baratas de las de Y barrio\n",
    "    * Que las casas de >= 3 baños son más caras que las casas de 1-2 baños"
   ]
  },
  {
   "cell_type": "code",
   "execution_count": 24,
   "metadata": {},
   "outputs": [],
   "source": [
    "import numpy as np\n",
    "import matplotlib\n",
    "import matplotlib.pyplot as plt\n",
    "import random\n",
    "import scipy \n",
    "from scipy import stats\n",
    "from collections import Counter\n",
    "import pickle as pkl\n",
    "import random\n",
    "import seaborn as sns"
   ]
  },
  {
   "cell_type": "markdown",
   "metadata": {},
   "source": [
    "### Carga de datos:\n",
    "* price\n",
    "* bedrooms\n",
    "* bathrooms\n",
    "* m2\n",
    "* address"
   ]
  },
  {
   "cell_type": "markdown",
   "metadata": {},
   "source": []
  },
  {
   "cell_type": "code",
   "execution_count": 25,
   "metadata": {},
   "outputs": [],
   "source": [
    "price = np.genfromtxt(\"idealista_madrid.csv\", usecols=(0), delimiter=\",\", skip_header=1, encoding=\"utf-8\", dtype=np.int64)\n",
    "bedrooms = np.genfromtxt(\"idealista_madrid.csv\", usecols=(2), delimiter=\",\", skip_header=1, encoding=\"utf-8\", dtype=np.int64)\n",
    "bathrooms = np.genfromtxt(\"idealista_madrid.csv\", usecols=(1), delimiter=\",\", skip_header=1, encoding=\"utf-8\", dtype=np.int64)\n",
    "m2 = np.genfromtxt(\"idealista_madrid.csv\", usecols=(3), delimiter=\",\", skip_header=1, encoding=\"utf-8\", dtype=np.int64)\n",
    "address = np.genfromtxt(\"idealista_madrid.csv\", usecols=(4), delimiter=\",\", skip_header=1, encoding=\"utf-8\", dtype=str)\n"
   ]
  },
  {
   "cell_type": "markdown",
   "metadata": {},
   "source": [
    "### Media, mediana, máximo y mínimo"
   ]
  },
  {
   "cell_type": "code",
   "execution_count": 26,
   "metadata": {},
   "outputs": [],
   "source": [
    "# Medias\n",
    "mean_price = np.mean(price)\n",
    "mean_bedr = np.mean(bedrooms)\n",
    "mean_bath = np.mean(bathrooms)\n",
    "mean_m2 = np.mean(m2)\n",
    "\n",
    "\n",
    "# Medianas\n",
    "medi_price = np.median(price)\n",
    "medi_bedr = np.median(bedrooms)\n",
    "medi_bath = np.median(bathrooms)\n",
    "medi_m2 = np.median(m2)\n",
    "\n",
    "\n",
    "# Maximos\n",
    "max_price = np.max(price)\n",
    "max_bedr = np.max(bedrooms)\n",
    "max_bath = np.max(bathrooms)\n",
    "max_m2 = np.max(m2)\n",
    "\n",
    "\n",
    "# Minimos\n",
    "min_price = np.min(price)\n",
    "min_bedr = np.min(bedrooms)\n",
    "min_bath = np.min(bathrooms)\n",
    "min_m2 = np.min(m2)\n",
    "\n"
   ]
  },
  {
   "cell_type": "markdown",
   "metadata": {},
   "source": [
    "### Histograma"
   ]
  },
  {
   "cell_type": "code",
   "execution_count": 27,
   "metadata": {},
   "outputs": [],
   "source": [
    "def histograma(sub, var, xla, mean, medi, maxi, mini, r, tit):\n",
    "    plt.subplot(1, 2, sub)\n",
    "    plt.hist(var, bins=50, color='skyblue', alpha=0.5)\n",
    "    plt.xlabel(\"xla\")\n",
    "    plt.ylabel(\"Cantidad viviendas\")\n",
    "    plt.axvline(mean, color='red', linestyle= 'dashed', linewidth=1, label=(f\"Media: {mean:.2f} {r}\"))\n",
    "    plt.axvline(medi, color='green', linestyle= 'dashed', linewidth=1, label=(f\"Mediana: {medi:.2f} {r}\"))\n",
    "    plt.axvline(maxi, color='grey', linestyle= 'dashed', linewidth=1, label=(f\"Maximo: {maxi:.2f} {r}\"))\n",
    "    plt.axvline(mini, color='grey', linestyle= 'dashed', linewidth=1, label=(f\"Minimo: {mini:.2f} {r}\"))\n",
    "    plt.title(f\"Histograma {tit}\")\n",
    "    plt.legend()\n",
    "    plt.show\n"
   ]
  },
  {
   "cell_type": "code",
   "execution_count": null,
   "metadata": {},
   "outputs": [],
   "source": [
    "plt.figure(figsize=(16, 4))\n",
    "histograma(1, price, \"Precio\", mean_price, medi_price, max_price, min_price, \"€\", \"Precios\")\n",
    "histograma(2, m2, \"m2\", mean_m2, medi_m2, max_m2, min_m2, \"m2\", \"m2\")\n",
    "plt.figure(figsize=(16, 4))\n",
    "histograma(1, bedrooms, \"Habitaciones\", mean_bedr, medi_bedr, max_bedr, min_bath, \"\", \"Habitaciones\")\n",
    "histograma(2, bathrooms, \"Cuartos de Baño\", mean_bath, medi_bath, max_bath, min_bath, \"\", \"Cuartos de baño\")"
   ]
  },
  {
   "cell_type": "markdown",
   "metadata": {},
   "source": [
    "### Curva de densidad"
   ]
  },
  {
   "cell_type": "code",
   "execution_count": 29,
   "metadata": {},
   "outputs": [],
   "source": [
    "def curva_densidad(sub, var, xla, mean, medi, maxi, mini, r, tit):\n",
    "    plt.subplot(1, 2, sub)\n",
    "    sns.kdeplot(var, label=xla)\n",
    "    plt.axvline(mean, color='red', linestyle= 'dashed', linewidth=1, label=(f\"Media: {mean:.2f} {r}\"))\n",
    "    plt.axvline(medi, color='green', linestyle= 'dashed', linewidth=1, label=(f\"Mediana: {medi:.2f} {r}\"))\n",
    "    plt.axvline(maxi, color='grey', linestyle= 'dashed', linewidth=1, label=(f\"Maximo: {maxi:.2f} {r}\"))\n",
    "    plt.axvline(mini, color='grey', linestyle= 'dashed', linewidth=1, label=(f\"Minimo: {mini:.2f} {r}\"))\n",
    "    plt.title(f\"Curva densidad {tit}\")\n",
    "    plt.legend()\n",
    "    "
   ]
  },
  {
   "cell_type": "code",
   "execution_count": null,
   "metadata": {},
   "outputs": [],
   "source": [
    "plt.figure(figsize=(16, 4))\n",
    "curva_densidad(1, price, \"Precio\", mean_price, medi_price, max_price, min_price, \"€\", \"Precios\")\n",
    "curva_densidad(2, m2, \"m2\", mean_m2, medi_m2, max_m2, min_m2, \"m2\", \"m2\")\n",
    "plt.show()\n",
    "\n",
    "plt.figure(figsize=(16, 4))\n",
    "curva_densidad(1, bedrooms, \"Habitaciones\", mean_bedr, medi_bedr, max_bedr, min_bath, \"\", \"Habitaciones\")\n",
    "curva_densidad(2, bathrooms, \"Cuartos de Baño\", mean_bath, medi_bath, max_bath, min_bath, \"\", \"Cuartos de baño\")\n",
    "plt.show()"
   ]
  },
  {
   "cell_type": "markdown",
   "metadata": {},
   "source": [
    "### Cuartiles"
   ]
  },
  {
   "cell_type": "code",
   "execution_count": 31,
   "metadata": {},
   "outputs": [],
   "source": [
    "Q1_price = np.quantile (a= price, q= 0.25, interpolation = \"lower\")\n",
    "Q1_betr = np.quantile (a= bedrooms, q= 0.25, interpolation = \"lower\")\n",
    "Q1_bath = np.quantile (a= bathrooms, q= 0.25, interpolation = \"lower\")\n",
    "Q1_m2 = np.quantile (a= m2, q= 0.25, interpolation = \"lower\")\n",
    "\n",
    "Q2_price = np.quantile (a= price, q= 0.50, interpolation = \"lower\")\n",
    "Q2_betr = np.quantile (a= bedrooms, q= 0.50, interpolation = \"lower\")\n",
    "Q2_bath = np.quantile (a= bathrooms, q= 0.50, interpolation = \"lower\")\n",
    "Q2_m2 = np.quantile (a= m2, q= 0.50, interpolation = \"lower\")\n",
    "\n",
    "Q3_price = np.quantile (a= price, q= 0.75, interpolation = \"lower\")\n",
    "Q3_betr = np.quantile (a= bedrooms, q= 0.75, interpolation = \"lower\")\n",
    "Q3_bath = np.quantile (a= bathrooms, q= 0.75, interpolation = \"lower\")\n",
    "Q3_m2 = np.quantile (a= m2, q= 0.75, interpolation = \"lower\")"
   ]
  },
  {
   "cell_type": "markdown",
   "metadata": {},
   "source": [
    "* Histograma"
   ]
  },
  {
   "cell_type": "code",
   "execution_count": 32,
   "metadata": {},
   "outputs": [],
   "source": [
    "def histograma2(sub, var, xla, mean, medi, maxi, mini, Q1, Q2, Q3, r, tit):\n",
    "    plt.subplot(1, 2, sub)\n",
    "    plt.hist(var, bins=50, color='skyblue', alpha=0.5)\n",
    "    plt.xlabel(\"xla\")\n",
    "    plt.ylabel(\"Cantidad viviendas\")\n",
    "    plt.axvline(mean, color='red', linestyle= 'dashed', linewidth=1, label=(f\"Media: {mean:.2f} {r}\"))\n",
    "    plt.axvline(medi, color='green', linestyle= 'dashed', linewidth=1, label=(f\"Mediana: {medi:.2f} {r}\"))\n",
    "    plt.axvline(maxi, color='grey', linestyle= 'dashed', linewidth=1, label=(f\"Maximo: {maxi:.2f} {r}\"))\n",
    "    plt.axvline(mini, color='grey', linestyle= 'dashed', linewidth=1, label=(f\"Minimo: {mini:.2f} {r}\"))\n",
    "    plt.axvline(Q1, color='blue', linestyle= 'dashed', linewidth=1, label=(f\"Q1 (25%): {Q1:.2f} {r}\"))\n",
    "    plt.axvline(Q2, color='yellow', linestyle= 'dashed', linewidth=1, label=(f\"Q2 (50%): {Q2:.2f} {r}\"))\n",
    "    plt.axvline(Q3, color='orange', linestyle= 'dashed', linewidth=1, label=(f\"Q3 (75%): {Q3:.2f} {r}\"))\n",
    "    plt.title(f\"Histograma {tit}\")\n",
    "    plt.legend()\n",
    "    plt.show"
   ]
  },
  {
   "cell_type": "code",
   "execution_count": null,
   "metadata": {},
   "outputs": [],
   "source": [
    "plt.figure(figsize=(16, 4))\n",
    "histograma2(1, price, \"Precio\", mean_price, medi_price, max_price, min_price, Q1_price, Q2_price, Q3_price, \"€\", \"Precios\")\n",
    "histograma2(2, m2, \"m2\", mean_m2, medi_m2, max_m2, min_m2, Q1_m2, Q2_m2, Q3_m2, \"m2\", \"m2\")\n",
    "plt.figure(figsize=(16, 4))\n",
    "histograma2(1, bedrooms, \"Habitaciones\", mean_bedr, medi_bedr, max_bedr, min_bath, Q1_betr, Q2_betr, Q3_betr, \"\", \"Habitaciones\")\n",
    "histograma2(2, bathrooms, \"Cuartos de Baño\", mean_bath, medi_bath, max_bath, min_bath, Q1_bath, Q2_bath, Q3_bath, \"\", \"Cuartos de baño\")"
   ]
  },
  {
   "cell_type": "markdown",
   "metadata": {},
   "source": [
    "* Boxplot"
   ]
  },
  {
   "cell_type": "code",
   "execution_count": null,
   "metadata": {},
   "outputs": [],
   "source": [
    "plt.figure(figsize=(16, 4))\n",
    "plt.subplot(1, 2, 1)\n",
    "plt.boxplot(price, showmeans=True, orientation=\"horizontal\")\n",
    "plt.grid()\n",
    "\n",
    "plt.subplot(1, 2, 2)\n",
    "plt.boxplot(m2, showmeans=True, orientation=\"horizontal\")\n",
    "plt.grid()\n",
    "\n",
    "plt.figure(figsize=(16, 4))\n",
    "plt.subplot(1, 2, 1)\n",
    "plt.boxplot(bedrooms, showmeans=True, orientation=\"horizontal\")\n",
    "plt.grid()\n",
    "\n",
    "plt.subplot(1, 2, 2)\n",
    "plt.boxplot(bathrooms, showmeans=True, orientation=\"horizontal\")\n",
    "plt.grid()"
   ]
  },
  {
   "cell_type": "markdown",
   "metadata": {},
   "source": [
    "### IQR"
   ]
  },
  {
   "cell_type": "code",
   "execution_count": 35,
   "metadata": {},
   "outputs": [],
   "source": [
    "iqr_price = Q3_price - Q1_price\n",
    "iqr_betr = Q3_betr - Q1_betr\n",
    "iqr_bath = Q3_bath - Q1_bath\n",
    "iqr_m2 = Q3_m2 - Q1_m2"
   ]
  },
  {
   "cell_type": "markdown",
   "metadata": {},
   "source": [
    "### Filtrar 20% mas caro y 20% mas barato"
   ]
  },
  {
   "cell_type": "code",
   "execution_count": 36,
   "metadata": {},
   "outputs": [],
   "source": [
    "percentil_20 = np.percentile(price, 20)\n",
    "percentil_80 = np.percentile(price, 80)\n",
    "\n",
    "viviendas_menor_precio = price[price <= percentil_20]\n",
    "viviendas_mayor_precio = price[price >= percentil_80]\n"
   ]
  },
  {
   "cell_type": "markdown",
   "metadata": {},
   "source": [
    "### Moda"
   ]
  },
  {
   "cell_type": "code",
   "execution_count": null,
   "metadata": {},
   "outputs": [],
   "source": []
  },
  {
   "cell_type": "markdown",
   "metadata": {},
   "source": [
    "### Dispersion"
   ]
  },
  {
   "cell_type": "markdown",
   "metadata": {},
   "source": [
    "* Varianza"
   ]
  },
  {
   "cell_type": "code",
   "execution_count": 37,
   "metadata": {},
   "outputs": [],
   "source": [
    "var_price = np.var(price)\n",
    "var_bedr = np.var(bedrooms)\n",
    "var_bath = np.var(bathrooms)\n",
    "var_m2 = np.var(m2)"
   ]
  },
  {
   "cell_type": "markdown",
   "metadata": {},
   "source": [
    "* Desviacion estardar"
   ]
  },
  {
   "cell_type": "code",
   "execution_count": 38,
   "metadata": {},
   "outputs": [],
   "source": [
    "desv_price = np.std(price)\n",
    "desv_bedr = np.std(bedrooms)\n",
    "desv_bath = np.std(bathrooms)\n",
    "desv_m2 = np.std(m2)"
   ]
  },
  {
   "cell_type": "markdown",
   "metadata": {},
   "source": [
    "### Filtro de outliners"
   ]
  },
  {
   "cell_type": "code",
   "execution_count": 39,
   "metadata": {},
   "outputs": [],
   "source": [
    "def filtrar_outliers(array, k, Q1, Q3, IQR):\n",
    "    limite_inf = Q1 - IQR * k\n",
    "    limite_sup = Q3 + IQR * k\n",
    "    array_sin_outliers = array[(array >= limite_inf) & (array <= limite_sup)]\n",
    "    return array_sin_outliers"
   ]
  },
  {
   "cell_type": "code",
   "execution_count": null,
   "metadata": {},
   "outputs": [],
   "source": [
    "price_sin_outliers = filtrar_outliers(price, 1.5, Q1_price, Q3_price, iqr_price)\n",
    "bedrooms_sin_outliers = filtrar_outliers(bedrooms, 1.5, Q1_betr, Q3_betr, iqr_betr)\n",
    "bathrooms_sin_outliers = filtrar_outliers(bathrooms, 1.5, Q1_bath, Q3_bath, iqr_bath)\n",
    "m2_sin_outliers = filtrar_outliers(m2, 1.5, Q1_m2, Q3_m2, iqr_m2)"
   ]
  },
  {
   "cell_type": "markdown",
   "metadata": {},
   "source": [
    "* Histogramas sin outliers"
   ]
  },
  {
   "cell_type": "code",
   "execution_count": 75,
   "metadata": {},
   "outputs": [],
   "source": [
    "def Histograma3 (sub, xla, xla_sin, tit):\n",
    "    plt.subplot(1, 2, sub)\n",
    "    outliers = list(set(xla) - set(xla_sin))\n",
    "    plt.hist(xla_sin, bins = 50, color = \"blue\")\n",
    "    plt.hist(outliers, bins = 50, color = \"red\")\n",
    "    plt.title(f\"Histograma {tit}\")\n",
    "    plt.legend()"
   ]
  },
  {
   "cell_type": "code",
   "execution_count": 76,
   "metadata": {},
   "outputs": [
    {
     "name": "stderr",
     "output_type": "stream",
     "text": [
      "C:\\Users\\user\\AppData\\Local\\Temp\\ipykernel_6452\\864962147.py:7: UserWarning: No artists with labels found to put in legend.  Note that artists whose label start with an underscore are ignored when legend() is called with no argument.\n",
      "  plt.legend()\n"
     ]
    },
    {
     "data": {
      "image/png": "[encoded data removed]",
      "text/plain": [
       "<Figure size 1600x400 with 2 Axes>"
      ]
     },
     "metadata": {},
     "output_type": "display_data"
    },
    {
     "data": {
      "image/png": "[encoded data removed]",
      "text/plain": [
       "<Figure size 1600x400 with 2 Axes>"
      ]
     },
     "metadata": {},
     "output_type": "display_data"
    }
   ],
   "source": [
    " plt.figure(figsize=(16, 4))\n",
    " Histograma3(1, price, price_sin_outliers, \"Precio\")\n",
    " Histograma3(2, m2, m2_sin_outliers, \"m2\")\n",
    " plt.show()\n",
    " plt.figure(figsize=(16, 4))\n",
    " Histograma3(1, bedrooms, bedrooms_sin_outliers, \"Habitaciones\")\n",
    " Histograma3(2, bathrooms, bathrooms_sin_outliers, \"Cuartos de Baño\")\n",
    " plt.show()"
   ]
  },
  {
   "cell_type": "markdown",
   "metadata": {},
   "source": [
    "### Correlacion"
   ]
  },
  {
   "cell_type": "code",
   "execution_count": null,
   "metadata": {},
   "outputs": [],
   "source": []
  },
  {
   "cell_type": "markdown",
   "metadata": {},
   "source": [
    "### Estandarizacion"
   ]
  },
  {
   "cell_type": "code",
   "execution_count": null,
   "metadata": {},
   "outputs": [],
   "source": []
  },
  {
   "cell_type": "markdown",
   "metadata": {},
   "source": [
    "### Asimetria y curtosis"
   ]
  },
  {
   "cell_type": "code",
   "execution_count": null,
   "metadata": {},
   "outputs": [],
   "source": []
  },
  {
   "cell_type": "markdown",
   "metadata": {},
   "source": [
    "### Transformar distribuciones e interpretar resultados"
   ]
  },
  {
   "cell_type": "code",
   "execution_count": null,
   "metadata": {},
   "outputs": [],
   "source": []
  },
  {
   "cell_type": "markdown",
   "metadata": {},
   "source": [
    "### Contraste de Hipótesis"
   ]
  },
  {
   "cell_type": "code",
   "execution_count": null,
   "metadata": {},
   "outputs": [],
   "source": []
  }
 ],
 "metadata": {
  "kernelspec": {
   "display_name": "Python 3",
   "language": "python",
   "name": "python3"
  },
  "language_info": {
   "codemirror_mode": {
    "name": "ipython",
    "version": 3
   },
   "file_extension": ".py",
   "mimetype": "text/x-python",
   "name": "python",
   "nbconvert_exporter": "python",
   "pygments_lexer": "ipython3",
   "version": "3.13.1"
  }
 },
 "nbformat": 4,
 "nbformat_minor": 2
}
