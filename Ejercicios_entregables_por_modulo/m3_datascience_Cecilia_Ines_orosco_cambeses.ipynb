{
 "cells": [
  {
   "cell_type": "markdown",
   "metadata": {},
   "source": [
    "Uso de Pandas y Seaborn + algún gráfico de Plotly.\n",
    "\n",
    "Dataset: diamonds.csv\n",
    "\n",
    "* Carga con Pandas: pd.read_csv\n",
    "\n",
    "* Limpieza de nulos (limpiar valores NaN):\n",
    "    * Nulos en columnas continuas: mediana, media\n",
    "    * Nulos en columnas categóricas: moda, un valor fijo\n",
    "\n",
    "* Cambio de tipo de dato: .astype() por ejemplo a categorical\n",
    "\n",
    "* Limpieza de valores error: \n",
    "    * hay columnas que tienen un valor '?', por tanto se deben reemplazar por una mediana o moda o valor fijo.\n",
    "\n",
    "* Encoding: texto a numérico\n",
    "    * Uso de la función get_dummies() para encoding one_hot\n",
    "    * Uso de map para encoding ordinal para la columna cut: 1, 2, 3, 4\n",
    "\n",
    "* Uso de función apply:\n",
    "    * crear una columna price_iva a partir de la columna price que muestre el precio + IVA (21%)\n",
    "\n",
    "* Crear una nueva columna volumen combinando: x, y, z\n",
    "\n",
    "* Ordenar por dos columnas con sort_values():\n",
    "    * tipo de corte (cut) y precio (price)\n",
    "\n",
    "* Agrupaciones con groupby y visualizarla\n",
    "    * Agrupar por las 3 que hay de tipo categórico calculando la media, max, min por ejemplo de alguna de las numéricas: price, carat, depth\n",
    "\n",
    "* Seaborn EDAS:\n",
    "    * univariantes:\n",
    "        * histogramas y curvas de densidad\n",
    "        * boxplot\n",
    "        * countplot\n",
    "    * bivariantes y multivariantes\n",
    "        * scatterplot con hue, con size, con style\n",
    "        * Calcular correlación con Pandas y mostrarla con seaborn\n",
    "        * Hacer la correlación en un gráfico de barras para la columna 'price'\n",
    "    * Combinarlas con:\n",
    "        * hue, style\n",
    "        * filtro\n",
    "\n",
    "* Outliers: Visualización Q1 y Q3 y calcular límites tukey y filtrar. Sobre la columna precio.\n",
    "\n",
    "* asimetría, curtosis y transformar datos con logaritmo o raíz cuadrada\n",
    "\n",
    "* Discretizar la columna precio por barato, medio, caro usando la función pd.cut"
   ]
  },
  {
   "cell_type": "markdown",
   "metadata": {},
   "source": [
    "### Librerías a utilizar"
   ]
  },
  {
   "cell_type": "code",
   "execution_count": 37,
   "metadata": {},
   "outputs": [],
   "source": [
    "import pandas as pd\n",
    "import seaborn as sns"
   ]
  },
  {
   "cell_type": "markdown",
   "metadata": {},
   "source": [
    "### Carga csv con pandas"
   ]
  },
  {
   "cell_type": "code",
   "execution_count": null,
   "metadata": {},
   "outputs": [],
   "source": [
    "df = pd.read_csv(\"diamonds.csv\")\n",
    "df.head(2)"
   ]
  },
  {
   "cell_type": "code",
   "execution_count": null,
   "metadata": {},
   "outputs": [],
   "source": [
    "df.info()\n"
   ]
  },
  {
   "cell_type": "code",
   "execution_count": null,
   "metadata": {},
   "outputs": [],
   "source": [
    "#df[\"price\"] = df[\"price\"].astype(\"float\")\n",
    "#mean()"
   ]
  },
  {
   "cell_type": "markdown",
   "metadata": {},
   "source": [
    "### Limpieza NaN"
   ]
  },
  {
   "cell_type": "code",
   "execution_count": null,
   "metadata": {},
   "outputs": [],
   "source": [
    "df.count()"
   ]
  },
  {
   "cell_type": "code",
   "execution_count": null,
   "metadata": {},
   "outputs": [],
   "source": [
    "df.describe(include=\"all\").T"
   ]
  },
  {
   "cell_type": "code",
   "execution_count": null,
   "metadata": {},
   "outputs": [],
   "source": [
    "df.isna().sum()"
   ]
  },
  {
   "cell_type": "markdown",
   "metadata": {},
   "source": [
    "* Para el reemplazo de NaN se utilizará el siguiente critero:\n",
    "    - carat     media\n",
    "    - cut       \"other\"\n",
    "    - color     \"other\"\n",
    "    - clarity   \"other\"\n",
    "    - table     media\n",
    "    - price     \"other\"\n",
    "    - x         \"other\"\n",
    "    - y         media\n",
    "    - z         media"
   ]
  },
  {
   "cell_type": "code",
   "execution_count": 74,
   "metadata": {},
   "outputs": [],
   "source": [
    "\"\"\"def nan_media(var):\n",
    "    media = df[var].mean()\n",
    "    \n",
    "    \n",
    "def nan_text(var, oth):\n",
    "    df[var] = df[var].fillna(oth)\"\"\""
   ]
  },
  {
   "cell_type": "code",
   "execution_count": 83,
   "metadata": {},
   "outputs": [
    {
     "name": "stderr",
     "output_type": "stream",
     "text": [
      "C:\\Users\\user\\AppData\\Local\\Temp\\ipykernel_20416\\4118857804.py:3: FutureWarning: Series.fillna with 'method' is deprecated and will raise in a future version. Use obj.ffill() or obj.bfill() instead.\n",
      "  df[\"color\"] = df[\"color\"].fillna(method=\"ffill\")\n",
      "C:\\Users\\user\\AppData\\Local\\Temp\\ipykernel_20416\\4118857804.py:4: FutureWarning: Series.fillna with 'method' is deprecated and will raise in a future version. Use obj.ffill() or obj.bfill() instead.\n",
      "  df[\"clarity\"] = df[\"clarity\"].fillna(method=\"ffill\")\n",
      "C:\\Users\\user\\AppData\\Local\\Temp\\ipykernel_20416\\4118857804.py:6: FutureWarning: Series.fillna with 'method' is deprecated and will raise in a future version. Use obj.ffill() or obj.bfill() instead.\n",
      "  df[\"price\"] = df[\"price\"].fillna(method=\"ffill\")\n",
      "C:\\Users\\user\\AppData\\Local\\Temp\\ipykernel_20416\\4118857804.py:7: FutureWarning: Series.fillna with 'method' is deprecated and will raise in a future version. Use obj.ffill() or obj.bfill() instead.\n",
      "  df[\"x\"] = df[\"x\"].fillna(method=\"ffill\")\n"
     ]
    }
   ],
   "source": [
    "df[\"carat\"] = df[\"carat\"].fillna(df[\"carat\"].mean())\n",
    "df[\"cut\"] = df[\"cut\"].ffill()\n",
    "df[\"color\"] = df[\"color\"].fillna(method=\"ffill\")\n",
    "df[\"clarity\"] = df[\"clarity\"].fillna(method=\"ffill\")\n",
    "df[\"table\"] = df[\"table\"].fillna(df[\"table\"].mean())\n",
    "df[\"price\"] = df[\"price\"].fillna(method=\"ffill\")\n",
    "df[\"x\"] = df[\"x\"].fillna(method=\"ffill\")\n",
    "df[\"y\"] = df[\"y\"].fillna(df[\"y\"].mean())\n",
    "df[\"z\"] = df[\"z\"].fillna(df[\"z\"].mean())"
   ]
  },
  {
   "cell_type": "code",
   "execution_count": 82,
   "metadata": {},
   "outputs": [
    {
     "data": {
      "text/plain": [
       "carat      53940\n",
       "cut        53940\n",
       "color      53940\n",
       "clarity    53940\n",
       "depth      53940\n",
       "table      53940\n",
       "price      53940\n",
       "x          53940\n",
       "y          53940\n",
       "z          53940\n",
       "dtype: int64"
      ]
     },
     "execution_count": 82,
     "metadata": {},
     "output_type": "execute_result"
    }
   ],
   "source": [
    "df.count()\n"
   ]
  },
  {
   "cell_type": "markdown",
   "metadata": {},
   "source": [
    "### Limpieza valores error"
   ]
  },
  {
   "cell_type": "code",
   "execution_count": 48,
   "metadata": {},
   "outputs": [],
   "source": [
    "#df.drop()"
   ]
  },
  {
   "cell_type": "markdown",
   "metadata": {},
   "source": [
    "### Cambio de tipo de datos"
   ]
  },
  {
   "cell_type": "code",
   "execution_count": 49,
   "metadata": {},
   "outputs": [],
   "source": [
    "#"
   ]
  },
  {
   "cell_type": "markdown",
   "metadata": {},
   "source": [
    "## Encoding"
   ]
  },
  {
   "cell_type": "markdown",
   "metadata": {},
   "source": [
    "* Get_dummies()"
   ]
  },
  {
   "cell_type": "code",
   "execution_count": 50,
   "metadata": {},
   "outputs": [],
   "source": [
    "#"
   ]
  },
  {
   "cell_type": "markdown",
   "metadata": {},
   "source": [
    "* Encodig Ordinal"
   ]
  },
  {
   "cell_type": "code",
   "execution_count": 51,
   "metadata": {},
   "outputs": [],
   "source": [
    "#"
   ]
  },
  {
   "cell_type": "markdown",
   "metadata": {},
   "source": [
    "### Creacion columnas"
   ]
  },
  {
   "cell_type": "markdown",
   "metadata": {},
   "source": [
    "* price_iva"
   ]
  },
  {
   "cell_type": "code",
   "execution_count": 52,
   "metadata": {},
   "outputs": [],
   "source": [
    "#"
   ]
  },
  {
   "cell_type": "markdown",
   "metadata": {},
   "source": [
    "* volumen ( x, y, z)"
   ]
  },
  {
   "cell_type": "code",
   "execution_count": 53,
   "metadata": {},
   "outputs": [],
   "source": [
    "#"
   ]
  },
  {
   "cell_type": "markdown",
   "metadata": {},
   "source": [
    "### Orden de columnas\n"
   ]
  },
  {
   "cell_type": "markdown",
   "metadata": {},
   "source": [
    "* Tipo de corte"
   ]
  },
  {
   "cell_type": "code",
   "execution_count": null,
   "metadata": {},
   "outputs": [],
   "source": []
  },
  {
   "cell_type": "markdown",
   "metadata": {},
   "source": [
    "* Precio"
   ]
  },
  {
   "cell_type": "code",
   "execution_count": null,
   "metadata": {},
   "outputs": [],
   "source": []
  },
  {
   "cell_type": "markdown",
   "metadata": {},
   "source": [
    "### Agrupaciones group_by()"
   ]
  },
  {
   "cell_type": "markdown",
   "metadata": {},
   "source": [
    "* carac"
   ]
  },
  {
   "cell_type": "code",
   "execution_count": 54,
   "metadata": {},
   "outputs": [],
   "source": [
    "#"
   ]
  },
  {
   "cell_type": "markdown",
   "metadata": {},
   "source": [
    "* price"
   ]
  },
  {
   "cell_type": "code",
   "execution_count": 55,
   "metadata": {},
   "outputs": [],
   "source": [
    "#"
   ]
  },
  {
   "cell_type": "markdown",
   "metadata": {},
   "source": [
    "* depth"
   ]
  },
  {
   "cell_type": "code",
   "execution_count": 56,
   "metadata": {},
   "outputs": [],
   "source": [
    "#"
   ]
  },
  {
   "cell_type": "markdown",
   "metadata": {},
   "source": [
    "## Seaborn EDAS\n",
    "### Univariantes"
   ]
  },
  {
   "cell_type": "markdown",
   "metadata": {},
   "source": [
    "* Histograma y curva de densidad"
   ]
  },
  {
   "cell_type": "code",
   "execution_count": 57,
   "metadata": {},
   "outputs": [],
   "source": [
    "#"
   ]
  },
  {
   "cell_type": "markdown",
   "metadata": {},
   "source": [
    "* Boxplot"
   ]
  },
  {
   "cell_type": "code",
   "execution_count": 58,
   "metadata": {},
   "outputs": [],
   "source": [
    "#"
   ]
  },
  {
   "cell_type": "markdown",
   "metadata": {},
   "source": [
    "* Countplot"
   ]
  },
  {
   "cell_type": "code",
   "execution_count": 59,
   "metadata": {},
   "outputs": [],
   "source": [
    "#"
   ]
  },
  {
   "cell_type": "markdown",
   "metadata": {},
   "source": [
    "### Bivariantes y Multivariantes\n",
    "* Scatterplot"
   ]
  },
  {
   "cell_type": "code",
   "execution_count": 60,
   "metadata": {},
   "outputs": [],
   "source": [
    "# con hue\n"
   ]
  },
  {
   "cell_type": "code",
   "execution_count": 61,
   "metadata": {},
   "outputs": [],
   "source": [
    "# con style\n"
   ]
  },
  {
   "cell_type": "code",
   "execution_count": 62,
   "metadata": {},
   "outputs": [],
   "source": [
    "# con size"
   ]
  },
  {
   "cell_type": "markdown",
   "metadata": {},
   "source": [
    "#### Correlacion\n",
    "* Calculo con pandas"
   ]
  },
  {
   "cell_type": "code",
   "execution_count": 63,
   "metadata": {},
   "outputs": [],
   "source": [
    "#"
   ]
  },
  {
   "cell_type": "markdown",
   "metadata": {},
   "source": [
    "* Mostrar con Seaborn"
   ]
  },
  {
   "cell_type": "code",
   "execution_count": 64,
   "metadata": {},
   "outputs": [],
   "source": [
    "#"
   ]
  },
  {
   "cell_type": "markdown",
   "metadata": {},
   "source": [
    "* Combinarlas con filtros hue, style"
   ]
  },
  {
   "cell_type": "code",
   "execution_count": 65,
   "metadata": {},
   "outputs": [],
   "source": [
    "#"
   ]
  },
  {
   "cell_type": "markdown",
   "metadata": {},
   "source": [
    "## Outliers\n",
    "* Visualizacion Q1 y Q3 "
   ]
  },
  {
   "cell_type": "code",
   "execution_count": 66,
   "metadata": {},
   "outputs": [],
   "source": [
    "#"
   ]
  },
  {
   "cell_type": "markdown",
   "metadata": {},
   "source": [
    "* Limites Tukey y filtro"
   ]
  },
  {
   "cell_type": "code",
   "execution_count": 67,
   "metadata": {},
   "outputs": [],
   "source": [
    "#"
   ]
  },
  {
   "cell_type": "markdown",
   "metadata": {},
   "source": [
    "## Transformacion de datos\n",
    "* Asimetria"
   ]
  },
  {
   "cell_type": "code",
   "execution_count": null,
   "metadata": {},
   "outputs": [],
   "source": []
  },
  {
   "cell_type": "markdown",
   "metadata": {},
   "source": [
    "* Curtosis"
   ]
  },
  {
   "cell_type": "code",
   "execution_count": null,
   "metadata": {},
   "outputs": [],
   "source": []
  },
  {
   "cell_type": "markdown",
   "metadata": {},
   "source": [
    "* Transformacion logaritmo"
   ]
  },
  {
   "cell_type": "code",
   "execution_count": null,
   "metadata": {},
   "outputs": [],
   "source": []
  },
  {
   "cell_type": "markdown",
   "metadata": {},
   "source": [
    "* Transformacion raiz cuadrada"
   ]
  },
  {
   "cell_type": "code",
   "execution_count": null,
   "metadata": {},
   "outputs": [],
   "source": []
  },
  {
   "cell_type": "markdown",
   "metadata": {},
   "source": [
    "## Discretizar la columna precio\n",
    "* barato, medio, caro"
   ]
  },
  {
   "cell_type": "code",
   "execution_count": null,
   "metadata": {},
   "outputs": [],
   "source": []
  }
 ],
 "metadata": {
  "kernelspec": {
   "display_name": "Python 3",
   "language": "python",
   "name": "python3"
  },
  "language_info": {
   "codemirror_mode": {
    "name": "ipython",
    "version": 3
   },
   "file_extension": ".py",
   "mimetype": "text/x-python",
   "name": "python",
   "nbconvert_exporter": "python",
   "pygments_lexer": "ipython3",
   "version": "3.13.1"
  }
 },
 "nbformat": 4,
 "nbformat_minor": 2
}
