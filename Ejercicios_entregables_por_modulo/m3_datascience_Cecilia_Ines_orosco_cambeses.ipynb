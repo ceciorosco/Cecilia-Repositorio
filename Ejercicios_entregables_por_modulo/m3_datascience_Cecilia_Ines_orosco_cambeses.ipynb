{
 "cells": [
  {
   "cell_type": "markdown",
   "metadata": {},
   "source": [
    "Uso de Pandas y Seaborn + algún gráfico de Plotly.\n",
    "\n",
    "Dataset: diamonds.csv\n",
    "\n",
    "* Carga con Pandas: pd.read_csv\n",
    "\n",
    "* Limpieza de nulos (limpiar valores NaN):\n",
    "    * Nulos en columnas continuas: mediana, media\n",
    "    * Nulos en columnas categóricas: moda, un valor fijo\n",
    "\n",
    "* Cambio de tipo de dato: .astype() por ejemplo a categorical\n",
    "\n",
    "* Limpieza de valores error: \n",
    "    * hay columnas que tienen un valor '?', por tanto se deben reemplazar por una mediana o moda o valor fijo.\n",
    "\n",
    "* Encoding: texto a numérico\n",
    "    * Uso de la función get_dummies() para encoding one_hot\n",
    "    * Uso de map para encoding ordinal para la columna cut: 1, 2, 3, 4\n",
    "\n",
    "* Uso de función apply:\n",
    "    * crear una columna price_iva a partir de la columna price que muestre el precio + IVA (21%)\n",
    "\n",
    "* Crear una nueva columna volumen combinando: x, y, z\n",
    "\n",
    "* Ordenar por dos columnas con sort_values():\n",
    "    * tipo de corte (cut) y precio (price)\n",
    "\n",
    "* Agrupaciones con groupby y visualizarla\n",
    "    * Agrupar por las 3 que hay de tipo categórico calculando la media, max, min por ejemplo de alguna de las numéricas: price, carat, depth\n",
    "\n",
    "* Seaborn EDAS:\n",
    "    * univariantes:\n",
    "        * histogramas y curvas de densidad\n",
    "        * boxplot\n",
    "        * countplot\n",
    "    * bivariantes y multivariantes\n",
    "        * scatterplot con hue, con size, con style\n",
    "        * Calcular correlación con Pandas y mostrarla con seaborn\n",
    "        * Hacer la correlación en un gráfico de barras para la columna 'price'\n",
    "    * Combinarlas con:\n",
    "        * hue, style\n",
    "        * filtro\n",
    "\n",
    "* Outliers: Visualización Q1 y Q3 y calcular límites tukey y filtrar. Sobre la columna precio.\n",
    "\n",
    "* asimetría, curtosis y transformar datos con logaritmo o raíz cuadrada\n",
    "\n",
    "* Discretizar la columna precio por barato, medio, caro usando la función pd.cut"
   ]
  },
  {
   "cell_type": "markdown",
   "metadata": {},
   "source": [
    "### Librerías a utilizar"
   ]
  },
  {
   "cell_type": "code",
   "execution_count": 1,
   "metadata": {},
   "outputs": [],
   "source": [
    "import pandas as pd\n",
    "import seaborn as sns"
   ]
  },
  {
   "cell_type": "markdown",
   "metadata": {},
   "source": [
    "### Carga csv con pandas"
   ]
  },
  {
   "cell_type": "code",
   "execution_count": 2,
   "metadata": {},
   "outputs": [],
   "source": [
    "df = pd.read_csv(\"diamonds.csv\")"
   ]
  },
  {
   "cell_type": "code",
   "execution_count": 3,
   "metadata": {},
   "outputs": [
    {
     "name": "stdout",
     "output_type": "stream",
     "text": [
      "<class 'pandas.core.frame.DataFrame'>\n",
      "RangeIndex: 53940 entries, 0 to 53939\n",
      "Data columns (total 10 columns):\n",
      " #   Column   Non-Null Count  Dtype  \n",
      "---  ------   --------------  -----  \n",
      " 0   carat    53939 non-null  float64\n",
      " 1   cut      53937 non-null  object \n",
      " 2   color    53938 non-null  object \n",
      " 3   clarity  53938 non-null  object \n",
      " 4   depth    53940 non-null  float64\n",
      " 5   table    53938 non-null  float64\n",
      " 6   price    53938 non-null  object \n",
      " 7   x        53938 non-null  object \n",
      " 8   y        53939 non-null  float64\n",
      " 9   z        53939 non-null  float64\n",
      "dtypes: float64(5), object(5)\n",
      "memory usage: 4.1+ MB\n"
     ]
    }
   ],
   "source": [
    "df.info()\n"
   ]
  },
  {
   "cell_type": "code",
   "execution_count": null,
   "metadata": {},
   "outputs": [],
   "source": []
  },
  {
   "cell_type": "code",
   "execution_count": null,
   "metadata": {},
   "outputs": [],
   "source": []
  },
  {
   "cell_type": "code",
   "execution_count": null,
   "metadata": {},
   "outputs": [],
   "source": []
  },
  {
   "cell_type": "code",
   "execution_count": null,
   "metadata": {},
   "outputs": [],
   "source": []
  },
  {
   "cell_type": "code",
   "execution_count": null,
   "metadata": {},
   "outputs": [],
   "source": []
  }
 ],
 "metadata": {
  "kernelspec": {
   "display_name": "Python 3",
   "language": "python",
   "name": "python3"
  },
  "language_info": {
   "codemirror_mode": {
    "name": "ipython",
    "version": 3
   },
   "file_extension": ".py",
   "mimetype": "text/x-python",
   "name": "python",
   "nbconvert_exporter": "python",
   "pygments_lexer": "ipython3",
   "version": "3.13.1"
  }
 },
 "nbformat": 4,
 "nbformat_minor": 2
}
