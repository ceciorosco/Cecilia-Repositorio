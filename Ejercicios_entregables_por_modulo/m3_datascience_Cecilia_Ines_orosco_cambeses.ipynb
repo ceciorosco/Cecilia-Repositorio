{
 "cells": [
  {
   "cell_type": "markdown",
   "metadata": {},
   "source": [
    "* 25 % carga y limpieza\n",
    "    * Carga con Pandas: pd.read_csv\n",
    "\n",
    "    * Limpieza de valores error: \n",
    "        * hay columnas que tienen un valor '?', por tanto se deben reemplazar por un valor nan.\n",
    "\n",
    "    * Cambio de tipo de dato: .astype() a numéricos y textos, por ejemplo a categorical y carat a float32 o float16\n",
    "\n",
    "    * Limpieza de nulos (limpiar valores NaN):\n",
    "        * Nulos en columnas continuas: mediana, media\n",
    "        * Nulos en columnas categóricas: moda, un valor fijo\n",
    "\n",
    "    * Encoding: texto a numérico\n",
    "        * Uso de la función get_dummies() para encoding one_hot\n",
    "        * Uso de map para encoding ordinal para la columna cut: 1, 2, 3, 4\n",
    "\n",
    "* 25 % transformaciones:\n",
    "    * Uso de función apply:\n",
    "        * crear una columna price_iva a partir de la columna price que muestre el precio + IVA (21%)\n",
    "\n",
    "    * Crear una nueva columna volumen combinando: x * y * z\n",
    "\n",
    "    * Ordenar por dos columnas con sort_values():\n",
    "        * tipo de corte (cut) y precio (price)\n",
    "\n",
    "    * Agrupaciones con groupby y visualizarla\n",
    "        * Agrupar por las 3 que hay de tipo categórico calculando la media, max, min por ejemplo de alguna de las numéricas: price, carat, depth\n",
    "\n",
    "20 % distribuciones: \n",
    "\n",
    "* Outliers: Visualización Q1 y Q3 y calcular límites tukey y filtrar. Sobre la columna precio.\n",
    "\n",
    "* asimetría, curtosis y transformar datos con logaritmo o raíz cuadrada\n",
    "\n",
    "* Discretizar la columna precio por barato, medio, caro usando la función pd.cut\n",
    "\n",
    "30 % visualizaciones:\n",
    "\n",
    "* Seaborn EDAS:\n",
    "    * univariantes:\n",
    "        * histogramas y curvas de densidad\n",
    "        * boxplot\n",
    "        * countplot\n",
    "    * bivariantes y multivariantes\n",
    "        * scatterplot con hue, con size, con style\n",
    "        * Calcular correlación con Pandas y mostrarla con seaborn\n",
    "        * Hacer la correlación en un gráfico de barras para la columna 'price'\n",
    "        * Crear una pivot table usando como index y columns algunas variables categóricas y como values usar el price y visualizarla con heatmap de seaborn\n",
    "    * Combinarlas con:\n",
    "        * hue, style, size, row, col usando un relplot\n",
    "        * filtro\n"
   ]
  },
  {
   "cell_type": "markdown",
   "metadata": {},
   "source": [
    "### Librerías a utilizar"
   ]
  },
  {
   "cell_type": "code",
   "execution_count": 1,
   "metadata": {},
   "outputs": [],
   "source": [
    "import numpy as np\n",
    "import pandas as pd\n",
    "import seaborn as sns\n",
    "import matplotlib.pyplot as plt"
   ]
  },
  {
   "cell_type": "markdown",
   "metadata": {},
   "source": [
    "# Carga y Limpieza\n",
    "### Carga csv con pandas"
   ]
  },
  {
   "cell_type": "code",
   "execution_count": null,
   "metadata": {},
   "outputs": [],
   "source": [
    "df = pd.read_csv(\"diamonds.csv\")\n",
    "df.head(2)"
   ]
  },
  {
   "cell_type": "code",
   "execution_count": null,
   "metadata": {},
   "outputs": [],
   "source": [
    "df.info()\n"
   ]
  },
  {
   "cell_type": "markdown",
   "metadata": {},
   "source": [
    "### Limpieza de valores error"
   ]
  },
  {
   "cell_type": "code",
   "execution_count": 4,
   "metadata": {},
   "outputs": [],
   "source": [
    "df = df.replace('?', np.nan)"
   ]
  },
  {
   "cell_type": "markdown",
   "metadata": {},
   "source": [
    "### Cambio de tipo de datos"
   ]
  },
  {
   "cell_type": "code",
   "execution_count": 5,
   "metadata": {},
   "outputs": [],
   "source": [
    "df[\"carat\"] = df[\"carat\"].astype(\"float32\")\n",
    "df[\"price\"] = df[\"price\"].astype(\"float\")\n",
    "df[\"x\"] = df[\"x\"].astype(\"float32\")\n",
    "df[\"clarity\"] = df[\"clarity\"].astype(\"category\")"
   ]
  },
  {
   "cell_type": "code",
   "execution_count": null,
   "metadata": {},
   "outputs": [],
   "source": [
    "df.info()"
   ]
  },
  {
   "cell_type": "markdown",
   "metadata": {},
   "source": [
    "### Limpieza NaN"
   ]
  },
  {
   "cell_type": "code",
   "execution_count": null,
   "metadata": {},
   "outputs": [],
   "source": [
    "df.count()"
   ]
  },
  {
   "cell_type": "code",
   "execution_count": null,
   "metadata": {},
   "outputs": [],
   "source": [
    "df.isna().sum()"
   ]
  },
  {
   "cell_type": "code",
   "execution_count": 9,
   "metadata": {},
   "outputs": [],
   "source": [
    "df[\"carat\"] = df[\"carat\"].fillna(df[\"carat\"].mean())\n",
    "df[\"cut\"] = df[\"cut\"].fillna(df[\"cut\"].mode().iloc[0])\n",
    "df[\"color\"] = df[\"color\"].fillna(df[\"color\"].mode().iloc[0])\n",
    "df[\"clarity\"] = df[\"clarity\"].fillna(df[\"clarity\"].mode().iloc[0])\n",
    "df[\"table\"] = df[\"table\"].fillna(df[\"table\"].mean())\n",
    "df[\"price\"] = df[\"price\"].fillna(df[\"price\"].mean())\n",
    "df[\"price\"] = df[\"price\"].astype(\"int32\")\n",
    "df[\"x\"] = df[\"x\"].fillna(df[\"x\"].mean())\n",
    "df[\"y\"] = df[\"y\"].fillna(df[\"y\"].mean())\n",
    "df[\"z\"] = df[\"z\"].fillna(df[\"z\"].mean())"
   ]
  },
  {
   "cell_type": "code",
   "execution_count": null,
   "metadata": {},
   "outputs": [],
   "source": [
    "df.info()\n"
   ]
  },
  {
   "cell_type": "markdown",
   "metadata": {},
   "source": [
    "## Encoding"
   ]
  },
  {
   "cell_type": "markdown",
   "metadata": {},
   "source": [
    "* Get_dummies()"
   ]
  },
  {
   "cell_type": "markdown",
   "metadata": {},
   "source": []
  },
  {
   "cell_type": "code",
   "execution_count": null,
   "metadata": {},
   "outputs": [],
   "source": [
    "df_encoded = pd.get_dummies(df)\n",
    "df_encoded"
   ]
  },
  {
   "cell_type": "markdown",
   "metadata": {},
   "source": [
    "* Encodig Ordinal"
   ]
  },
  {
   "cell_type": "code",
   "execution_count": null,
   "metadata": {},
   "outputs": [],
   "source": [
    "df[\"cut\"].value_counts()"
   ]
  },
  {
   "cell_type": "code",
   "execution_count": null,
   "metadata": {},
   "outputs": [],
   "source": [
    "mapeo_cut = {\n",
    "    \"Ideal\": 1,\n",
    "    \"Premium\": 2,\n",
    "    \"Very Good\": 3,\n",
    "    \"Good\": 4,\n",
    "    \"Fair\": 5\n",
    "}\n",
    "\n",
    "df[\"cut\"] = df[\"cut\"].map(mapeo_cut)\n",
    "df[\"cut\"] = df[\"cut\"].astype(int)\n",
    "df.head()"
   ]
  },
  {
   "cell_type": "markdown",
   "metadata": {},
   "source": [
    "### Creacion columnas"
   ]
  },
  {
   "cell_type": "markdown",
   "metadata": {},
   "source": [
    "* price_iva"
   ]
  },
  {
   "cell_type": "code",
   "execution_count": null,
   "metadata": {},
   "outputs": [],
   "source": [
    "df[\"price_iva\"] = df[\"price\"] * 1.21\n",
    "df.head()"
   ]
  },
  {
   "cell_type": "markdown",
   "metadata": {},
   "source": [
    "* volumen ( x, y, z)"
   ]
  },
  {
   "cell_type": "code",
   "execution_count": null,
   "metadata": {},
   "outputs": [],
   "source": [
    "df[\"volume\"] = df[\"x\"] * df[\"y\"] * df[\"z\"]\n",
    "df.head()"
   ]
  },
  {
   "cell_type": "markdown",
   "metadata": {},
   "source": [
    "### Orden de columnas\n"
   ]
  },
  {
   "cell_type": "markdown",
   "metadata": {},
   "source": [
    "* Tipo de corte"
   ]
  },
  {
   "cell_type": "code",
   "execution_count": null,
   "metadata": {},
   "outputs": [],
   "source": [
    "df.sort_values(\"cut\")\n"
   ]
  },
  {
   "cell_type": "markdown",
   "metadata": {},
   "source": [
    "* Precio"
   ]
  },
  {
   "cell_type": "code",
   "execution_count": null,
   "metadata": {},
   "outputs": [],
   "source": [
    "df.sort_values(\"price\", ascending=False)\n",
    "df.head()"
   ]
  },
  {
   "cell_type": "markdown",
   "metadata": {},
   "source": [
    "### Agrupaciones group_by()"
   ]
  },
  {
   "cell_type": "markdown",
   "metadata": {},
   "source": [
    "* carac"
   ]
  },
  {
   "cell_type": "code",
   "execution_count": null,
   "metadata": {},
   "outputs": [],
   "source": [
    "df.groupby(by = \"color\").aggregate({\"price\":[\"min\", \"max\", \"mean\"]})\n"
   ]
  },
  {
   "cell_type": "markdown",
   "metadata": {},
   "source": [
    "* price"
   ]
  },
  {
   "cell_type": "code",
   "execution_count": null,
   "metadata": {},
   "outputs": [],
   "source": [
    "df.groupby(by=\"cut\", as_index = False).aggregate({\"price\":[\"min\", \"max\", \"mean\"]})"
   ]
  },
  {
   "cell_type": "code",
   "execution_count": null,
   "metadata": {},
   "outputs": [],
   "source": [
    "df. groupby('cut')[['carat', 'depth', 'table', 'price']]. agg(['mean', 'min', 'max']) "
   ]
  },
  {
   "cell_type": "markdown",
   "metadata": {},
   "source": [
    "* depth"
   ]
  },
  {
   "cell_type": "code",
   "execution_count": 21,
   "metadata": {},
   "outputs": [],
   "source": [
    "#df.groupby(by= \"depth\", as_index = False)"
   ]
  },
  {
   "cell_type": "markdown",
   "metadata": {},
   "source": [
    "## Seaborn EDAS\n",
    "### Univariantes"
   ]
  },
  {
   "cell_type": "markdown",
   "metadata": {},
   "source": [
    "* Histograma y curva de densidad"
   ]
  },
  {
   "cell_type": "code",
   "execution_count": null,
   "metadata": {},
   "outputs": [],
   "source": [
    "sns.histplot(df, x=\"price\", kde=True, color=\"green\", hue=\"cut\", bins=100)\n",
    "plt.axvline(df[\"price\"].mean(), color=\"magenta\", linewidth=2)"
   ]
  },
  {
   "cell_type": "code",
   "execution_count": null,
   "metadata": {},
   "outputs": [],
   "source": [
    "sns.kdeplot(df, x=\"price\")\n",
    "sns.rugplot(df, x=\"price\")\n",
    "plt.axvline(df[\"price\"].mean(), color=\"magenta\")\n",
    "plt.axvline(df['price'].quantile(0.25), color='magenta', linestyle='--')\n",
    "plt.axvline(df['price'].quantile(0.75), color='magenta', linestyle='--')"
   ]
  },
  {
   "cell_type": "markdown",
   "metadata": {},
   "source": [
    "* Boxplot"
   ]
  },
  {
   "cell_type": "code",
   "execution_count": null,
   "metadata": {},
   "outputs": [],
   "source": [
    "sns.boxplot(df, x=df[\"price\"], hue=df[\"cut\"])"
   ]
  },
  {
   "cell_type": "markdown",
   "metadata": {},
   "source": [
    "* Countplot"
   ]
  },
  {
   "cell_type": "code",
   "execution_count": null,
   "metadata": {},
   "outputs": [],
   "source": [
    "sns.countplot(df, x=\"price\")"
   ]
  },
  {
   "cell_type": "markdown",
   "metadata": {},
   "source": [
    "### Bivariantes y Multivariantes\n",
    "* Scatterplot"
   ]
  },
  {
   "cell_type": "code",
   "execution_count": null,
   "metadata": {},
   "outputs": [],
   "source": [
    "sns.scatterplot(df, x=\"price\", y=\"depth\", hue=\"color\")\n"
   ]
  },
  {
   "cell_type": "code",
   "execution_count": null,
   "metadata": {},
   "outputs": [],
   "source": [
    "sns.scatterplot(df, x=\"price\", y=\"depth\", hue=\"color\", style=\"cut\")\n"
   ]
  },
  {
   "cell_type": "code",
   "execution_count": null,
   "metadata": {},
   "outputs": [],
   "source": [
    "sns.scatterplot(df, x=\"volume\", y=\"price\", hue=\"color\", style=\"cut\", size=\"depth\")"
   ]
  },
  {
   "cell_type": "code",
   "execution_count": null,
   "metadata": {},
   "outputs": [],
   "source": [
    "sns.jointplot(df, x=\"price\", y=\"depth\", hue=\"color\")"
   ]
  },
  {
   "cell_type": "markdown",
   "metadata": {},
   "source": [
    "#### Correlacion\n",
    "* Calculo con pandas"
   ]
  },
  {
   "cell_type": "code",
   "execution_count": null,
   "metadata": {},
   "outputs": [],
   "source": [
    "correlacion = df_encoded.corr()\n",
    "correlacion"
   ]
  },
  {
   "cell_type": "markdown",
   "metadata": {},
   "source": [
    "* Mostrar con Seaborn"
   ]
  },
  {
   "cell_type": "code",
   "execution_count": null,
   "metadata": {},
   "outputs": [],
   "source": [
    "sns.heatmap(correlacion, annot=True, cmap=\"viridis\")"
   ]
  },
  {
   "cell_type": "code",
   "execution_count": null,
   "metadata": {},
   "outputs": [],
   "source": [
    "sns.heatmap(correlacion[[\"price\", \"x\", \"y\", \"z\", \"carat\"]].corr(), annot=True, cmap=\"viridis\") "
   ]
  },
  {
   "cell_type": "markdown",
   "metadata": {},
   "source": [
    "* Combinarlas con filtros hue, style"
   ]
  },
  {
   "cell_type": "code",
   "execution_count": 33,
   "metadata": {},
   "outputs": [],
   "source": [
    "#"
   ]
  },
  {
   "cell_type": "markdown",
   "metadata": {},
   "source": [
    "## Outliers\n",
    "* Visualizacion Q1 y Q3 "
   ]
  },
  {
   "cell_type": "code",
   "execution_count": 34,
   "metadata": {},
   "outputs": [],
   "source": [
    "#"
   ]
  },
  {
   "cell_type": "markdown",
   "metadata": {},
   "source": [
    "* Limites Tukey y filtro"
   ]
  },
  {
   "cell_type": "code",
   "execution_count": 35,
   "metadata": {},
   "outputs": [],
   "source": [
    "#"
   ]
  },
  {
   "cell_type": "markdown",
   "metadata": {},
   "source": [
    "## Transformacion de datos\n",
    "* Asimetria"
   ]
  },
  {
   "cell_type": "code",
   "execution_count": null,
   "metadata": {},
   "outputs": [],
   "source": []
  },
  {
   "cell_type": "markdown",
   "metadata": {},
   "source": [
    "* Curtosis"
   ]
  },
  {
   "cell_type": "code",
   "execution_count": null,
   "metadata": {},
   "outputs": [],
   "source": []
  },
  {
   "cell_type": "markdown",
   "metadata": {},
   "source": [
    "* Transformacion logaritmo"
   ]
  },
  {
   "cell_type": "code",
   "execution_count": null,
   "metadata": {},
   "outputs": [],
   "source": []
  },
  {
   "cell_type": "markdown",
   "metadata": {},
   "source": [
    "* Transformacion raiz cuadrada"
   ]
  },
  {
   "cell_type": "code",
   "execution_count": null,
   "metadata": {},
   "outputs": [],
   "source": []
  },
  {
   "cell_type": "markdown",
   "metadata": {},
   "source": [
    "## Discretizar la columna precio\n",
    "* barato, medio, caro"
   ]
  },
  {
   "cell_type": "code",
   "execution_count": null,
   "metadata": {},
   "outputs": [],
   "source": []
  }
 ],
 "metadata": {
  "kernelspec": {
   "display_name": "Python 3",
   "language": "python",
   "name": "python3"
  },
  "language_info": {
   "codemirror_mode": {
    "name": "ipython",
    "version": 3
   },
   "file_extension": ".py",
   "mimetype": "text/x-python",
   "name": "python",
   "nbconvert_exporter": "python",
   "pygments_lexer": "ipython3",
   "version": "3.13.1"
  }
 },
 "nbformat": 4,
 "nbformat_minor": 2
}
