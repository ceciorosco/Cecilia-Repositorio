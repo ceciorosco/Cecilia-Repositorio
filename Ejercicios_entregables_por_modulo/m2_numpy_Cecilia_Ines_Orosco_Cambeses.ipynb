{
 "cells": [
  {
   "cell_type": "markdown",
   "metadata": {},
   "source": [
    "4 columnas numéricas\n",
    "\n",
    "* price\n",
    "* bedrooms\n",
    "* bathrooms\n",
    "* m2\n",
    "* address (quitarle lo de \", Madrid\" con numpy)\n",
    "\n",
    "En cada apartado hacer visualizaciones con matplotlib o seaborn.\n",
    "\n",
    "* 25 %:\n",
    "\n",
    "* Carga de datos: cargarlo con np.genfromtext\n",
    "* Media, mediana\n",
    "* Máximo y mínimo\n",
    "* histograma y curva de densidad\n",
    "\n",
    "* 25 %\n",
    "\n",
    "* Cuartiles: Q1 (25), Q2 (50), Q3 (75)\n",
    "* IQR\n",
    "* Filtrar 20 % más caro, y el 20 % más barato\n",
    "* Opcional: filtrar los barrios 20 % más baratos\n",
    "* Moda: calcular moda también de address\n",
    "* Opcional: Moda de los barrios más baratos y más caros\n",
    "* Dispersión: varianza y desviación estándar\n",
    "\n",
    "25 % \n",
    "\n",
    "* Filtro de outliers: tukey, z-score, marcar en un gráfico los límites de outliers: rojo y azul.\n",
    "* Correlación: calcular la matriz y pintarla con matplotlib/seaborn\n",
    "* Estandarización\n",
    "\n",
    "25 % \n",
    "\n",
    "* Asimetría y curtosis\n",
    "* Transformar distribuciones e interpretar resultados\n",
    "* Contraste de hipótesis:\n",
    "    * Que las casas de X barrio son más baratas de las de Y barrio\n",
    "    * Que las casas de >= 3 baños son más caras que las casas de 1-2 baños"
   ]
  },
  {
   "cell_type": "code",
   "execution_count": 1,
   "metadata": {},
   "outputs": [],
   "source": [
    "import numpy as np\n",
    "import matplotlib\n",
    "import matplotlib.pyplot as plt\n",
    "import random\n",
    "import scipy \n",
    "from scipy import stats\n",
    "from collections import Counter\n",
    "import pickle as pkl\n",
    "import random\n",
    "import seaborn as sns"
   ]
  },
  {
   "cell_type": "markdown",
   "metadata": {},
   "source": [
    "### Carga de datos:\n",
    "* price\n",
    "* bedrooms\n",
    "* bathrooms\n",
    "* m2\n",
    "* address"
   ]
  },
  {
   "cell_type": "markdown",
   "metadata": {},
   "source": []
  },
  {
   "cell_type": "code",
   "execution_count": 2,
   "metadata": {},
   "outputs": [],
   "source": [
    "price = np.genfromtxt(\"idealista_madrid.csv\", usecols=(0), delimiter=\",\", skip_header=1, encoding=\"utf-8\", dtype=np.int64)\n",
    "bedrooms = np.genfromtxt(\"idealista_madrid.csv\", usecols=(2), delimiter=\",\", skip_header=1, encoding=\"utf-8\", dtype=np.int64)\n",
    "bathrooms = np.genfromtxt(\"idealista_madrid.csv\", usecols=(1), delimiter=\",\", skip_header=1, encoding=\"utf-8\", dtype=np.int64)\n",
    "m2 = np.genfromtxt(\"idealista_madrid.csv\", usecols=(3), delimiter=\",\", skip_header=1, encoding=\"utf-8\", dtype=np.int64)\n",
    "address = np.genfromtxt(\"idealista_madrid.csv\", usecols=(4), delimiter=\",\", skip_header=1, encoding=\"utf-8\", dtype=str)\n"
   ]
  },
  {
   "cell_type": "markdown",
   "metadata": {},
   "source": [
    "### Media, mediana, máximo y mínimo"
   ]
  },
  {
   "cell_type": "code",
   "execution_count": 3,
   "metadata": {},
   "outputs": [],
   "source": [
    "# Medias\n",
    "mean_price = np.mean(price)\n",
    "mean_bedr = np.mean(bedrooms)\n",
    "mean_bath = np.mean(bathrooms)\n",
    "mean_m2 = np.mean(m2)\n",
    "\n",
    "\n",
    "# Medianas\n",
    "medi_price = np.median(price)\n",
    "medi_bedr = np.median(bedrooms)\n",
    "medi_bath = np.median(bathrooms)\n",
    "medi_m2 = np.median(m2)\n",
    "\n",
    "\n",
    "# Maximos\n",
    "max_price = np.max(price)\n",
    "max_bedr = np.max(bedrooms)\n",
    "max_bath = np.max(bathrooms)\n",
    "max_m2 = np.max(m2)\n",
    "\n",
    "\n",
    "# Minimos\n",
    "min_price = np.min(price)\n",
    "min_bedr = np.min(bedrooms)\n",
    "min_bath = np.min(bathrooms)\n",
    "min_m2 = np.min(m2)\n",
    "\n"
   ]
  },
  {
   "cell_type": "markdown",
   "metadata": {},
   "source": [
    "### Histograma"
   ]
  },
  {
   "cell_type": "code",
   "execution_count": 4,
   "metadata": {},
   "outputs": [],
   "source": [
    "def histograma(sub, var, xla, mean, medi, maxi, mini, r, tit):\n",
    "    plt.subplot(1, 2, sub)\n",
    "    plt.hist(var, bins=50, color='skyblue', alpha=0.5)\n",
    "    plt.xlabel(xla)\n",
    "    plt.ylabel(\"Cantidad viviendas\")\n",
    "    plt.axvline(mean, color='red', linestyle= 'dashed', linewidth=1, label=(f\"Media: {mean:.2f} {r}\"))\n",
    "    plt.axvline(medi, color='green', linestyle= 'dashed', linewidth=1, label=(f\"Mediana: {medi:.2f} {r}\"))\n",
    "    plt.axvline(maxi, color='grey', linestyle= 'dashed', linewidth=1, label=(f\"Maximo: {maxi:.2f} {r}\"))\n",
    "    plt.axvline(mini, color='grey', linestyle= 'dashed', linewidth=1, label=(f\"Minimo: {mini:.2f} {r}\"))\n",
    "    plt.title(f\"Histograma {tit}\")\n",
    "    plt.legend()\n",
    "    plt.show\n"
   ]
  },
  {
   "cell_type": "code",
   "execution_count": null,
   "metadata": {},
   "outputs": [],
   "source": [
    "plt.figure(figsize=(16, 4))\n",
    "histograma(1, price, \"Precio\", mean_price, medi_price, max_price, min_price, \"€\", \"Precios\")\n",
    "histograma(2, m2, \"m2\", mean_m2, medi_m2, max_m2, min_m2, \"m2\", \"m2\")\n",
    "plt.figure(figsize=(16, 4))\n",
    "histograma(1, bedrooms, \"Habitaciones\", mean_bedr, medi_bedr, max_bedr, min_bath, \"\", \"Habitaciones\")\n",
    "histograma(2, bathrooms, \"Cuartos de Baño\", mean_bath, medi_bath, max_bath, min_bath, \"\", \"Cuartos de baño\")"
   ]
  },
  {
   "cell_type": "markdown",
   "metadata": {},
   "source": [
    "### Curva de densidad"
   ]
  },
  {
   "cell_type": "code",
   "execution_count": 6,
   "metadata": {},
   "outputs": [],
   "source": [
    "def curva_densidad(sub, var, xla, mean, medi, maxi, mini, r, tit):\n",
    "    plt.subplot(1, 2, sub)\n",
    "    sns.kdeplot(var, label=xla)\n",
    "    plt.axvline(mean, color='red', linestyle= 'dashed', linewidth=1, label=(f\"Media: {mean:.2f} {r}\"))\n",
    "    plt.axvline(medi, color='green', linestyle= 'dashed', linewidth=1, label=(f\"Mediana: {medi:.2f} {r}\"))\n",
    "    plt.axvline(maxi, color='grey', linestyle= 'dashed', linewidth=1, label=(f\"Maximo: {maxi:.2f} {r}\"))\n",
    "    plt.axvline(mini, color='grey', linestyle= 'dashed', linewidth=1, label=(f\"Minimo: {mini:.2f} {r}\"))\n",
    "    plt.title(f\"Curva densidad {tit}\")\n",
    "    plt.legend()\n",
    "    "
   ]
  },
  {
   "cell_type": "code",
   "execution_count": null,
   "metadata": {},
   "outputs": [],
   "source": [
    "plt.figure(figsize=(16, 4))\n",
    "curva_densidad(1, price, \"Precio\", mean_price, medi_price, max_price, min_price, \"€\", \"Precios\")\n",
    "curva_densidad(2, m2, \"m2\", mean_m2, medi_m2, max_m2, min_m2, \"m2\", \"m2\")\n",
    "plt.show()\n",
    "\n",
    "plt.figure(figsize=(16, 4))\n",
    "curva_densidad(1, bedrooms, \"Habitaciones\", mean_bedr, medi_bedr, max_bedr, min_bath, \"\", \"Habitaciones\")\n",
    "curva_densidad(2, bathrooms, \"Cuartos de Baño\", mean_bath, medi_bath, max_bath, min_bath, \"\", \"Cuartos de baño\")\n",
    "plt.show()"
   ]
  },
  {
   "cell_type": "markdown",
   "metadata": {},
   "source": [
    "### Cuartiles"
   ]
  },
  {
   "cell_type": "code",
   "execution_count": 8,
   "metadata": {},
   "outputs": [],
   "source": [
    "Q1_price = np.quantile (a= price, q= 0.25, interpolation = \"lower\")\n",
    "Q1_betr = np.quantile (a= bedrooms, q= 0.25, interpolation = \"lower\")\n",
    "Q1_bath = np.quantile (a= bathrooms, q= 0.25, interpolation = \"lower\")\n",
    "Q1_m2 = np.quantile (a= m2, q= 0.25, interpolation = \"lower\")\n",
    "\n",
    "Q2_price = np.quantile (a= price, q= 0.50, interpolation = \"lower\")\n",
    "Q2_betr = np.quantile (a= bedrooms, q= 0.50, interpolation = \"lower\")\n",
    "Q2_bath = np.quantile (a= bathrooms, q= 0.50, interpolation = \"lower\")\n",
    "Q2_m2 = np.quantile (a= m2, q= 0.50, interpolation = \"lower\")\n",
    "\n",
    "Q3_price = np.quantile (a= price, q= 0.75, interpolation = \"lower\")\n",
    "Q3_betr = np.quantile (a= bedrooms, q= 0.75, interpolation = \"lower\")\n",
    "Q3_bath = np.quantile (a= bathrooms, q= 0.75, interpolation = \"lower\")\n",
    "Q3_m2 = np.quantile (a= m2, q= 0.75, interpolation = \"lower\")"
   ]
  },
  {
   "cell_type": "markdown",
   "metadata": {},
   "source": [
    "* Histograma"
   ]
  },
  {
   "cell_type": "code",
   "execution_count": 9,
   "metadata": {},
   "outputs": [],
   "source": [
    "def histograma2(sub, var, xla, mean, medi, maxi, mini, Q1, Q2, Q3, r, tit):\n",
    "    plt.subplot(1, 2, sub)\n",
    "    plt.hist(var, bins=50, color='skyblue', alpha=0.5)\n",
    "    plt.xlabel(xla)\n",
    "    plt.ylabel(\"Cantidad viviendas\")\n",
    "    plt.axvline(mean, color='red', linestyle= 'dashed', linewidth=1, label=(f\"Media: {mean:.2f} {r}\"))\n",
    "    plt.axvline(medi, color='green', linestyle= 'dashed', linewidth=1, label=(f\"Mediana: {medi:.2f} {r}\"))\n",
    "    plt.axvline(maxi, color='grey', linestyle= 'dashed', linewidth=1, label=(f\"Maximo: {maxi:.2f} {r}\"))\n",
    "    plt.axvline(mini, color='grey', linestyle= 'dashed', linewidth=1, label=(f\"Minimo: {mini:.2f} {r}\"))\n",
    "    plt.axvline(Q1, color='blue', linestyle= 'dashed', linewidth=1, label=(f\"Q1 (25%): {Q1:.2f} {r}\"))\n",
    "    plt.axvline(Q2, color='yellow', linestyle= 'dashed', linewidth=1, label=(f\"Q2 (50%): {Q2:.2f} {r}\"))\n",
    "    plt.axvline(Q3, color='orange', linestyle= 'dashed', linewidth=1, label=(f\"Q3 (75%): {Q3:.2f} {r}\"))\n",
    "    plt.title(f\"Histograma {tit}\")\n",
    "    plt.legend()\n",
    "    plt.show"
   ]
  },
  {
   "cell_type": "code",
   "execution_count": null,
   "metadata": {},
   "outputs": [],
   "source": [
    "plt.figure(figsize=(16, 4))\n",
    "histograma2(1, price, \"Precio\", mean_price, medi_price, max_price, min_price, Q1_price, Q2_price, Q3_price, \"€\", \"Precios\")\n",
    "histograma2(2, m2, \"m2\", mean_m2, medi_m2, max_m2, min_m2, Q1_m2, Q2_m2, Q3_m2, \"m2\", \"m2\")\n",
    "plt.figure(figsize=(16, 4))\n",
    "histograma2(1, bedrooms, \"Cantidad Habitaciones\", mean_bedr, medi_bedr, max_bedr, min_bath, Q1_betr, Q2_betr, Q3_betr, \"\", \"Habitaciones\")\n",
    "histograma2(2, bathrooms, \"Cantidad Cuartos de Baño\", mean_bath, medi_bath, max_bath, min_bath, Q1_bath, Q2_bath, Q3_bath, \"\", \"Cuartos de baño\")"
   ]
  },
  {
   "cell_type": "markdown",
   "metadata": {},
   "source": [
    "* Boxplot"
   ]
  },
  {
   "cell_type": "code",
   "execution_count": 11,
   "metadata": {},
   "outputs": [],
   "source": [
    "def boxplot(sub, dato, label1, yla):\n",
    "    plt.subplot(1, 2, sub)\n",
    "    plt.boxplot(dato, showmeans=True, orientation=\"horizontal\")\n",
    "    plt.xlabel(yla)\n",
    "    plt.grid()\n",
    "    plt.title(f\"Boxplot de {label1}\")\n"
   ]
  },
  {
   "cell_type": "code",
   "execution_count": null,
   "metadata": {},
   "outputs": [],
   "source": [
    "plt.figure(figsize=(16, 4))\n",
    "boxplot(1, price, \"Precio\", \"Euros\")\n",
    "boxplot(2, m2, \"m2\", \"Metros cuadrados\")\n",
    "plt.figure(figsize=(16, 4))\n",
    "boxplot(1, bedrooms, \"Habitaciones\", \"Cantidad Habitaciones\")\n",
    "boxplot(2, bathrooms, \"Cuartos de baño\", \"Cantidad Cuartos de baño\")"
   ]
  },
  {
   "cell_type": "markdown",
   "metadata": {},
   "source": [
    "### IQR"
   ]
  },
  {
   "cell_type": "code",
   "execution_count": 13,
   "metadata": {},
   "outputs": [],
   "source": [
    "iqr_price = Q3_price - Q1_price\n",
    "iqr_betr = Q3_betr - Q1_betr\n",
    "iqr_bath = Q3_bath - Q1_bath\n",
    "iqr_m2 = Q3_m2 - Q1_m2"
   ]
  },
  {
   "cell_type": "markdown",
   "metadata": {},
   "source": [
    "### Filtrar 20% mas caro y 20% mas barato"
   ]
  },
  {
   "cell_type": "code",
   "execution_count": 14,
   "metadata": {},
   "outputs": [],
   "source": [
    "percentil_20 = np.percentile(price, 20)\n",
    "percentil_80 = np.percentile(price, 80)\n",
    "\n",
    "viviendas_menor_precio = price[price <= percentil_20]\n",
    "viviendas_mayor_precio = price[price >= percentil_80]\n"
   ]
  },
  {
   "cell_type": "markdown",
   "metadata": {},
   "source": [
    "### Moda"
   ]
  },
  {
   "cell_type": "markdown",
   "metadata": {},
   "source": [
    "* Calculo"
   ]
  },
  {
   "cell_type": "code",
   "execution_count": null,
   "metadata": {},
   "outputs": [],
   "source": [
    "conteo = Counter(address)\n",
    "top_10 = conteo.most_common(10)\n",
    "for c, conteo in top_10:\n",
    "    print(f\"{c} tiene {conteo} viviendas\")\n",
    "    cdad, cant = zip(*top_10)\n"
   ]
  },
  {
   "cell_type": "markdown",
   "metadata": {},
   "source": [
    "* Grafico de Barras"
   ]
  },
  {
   "cell_type": "code",
   "execution_count": null,
   "metadata": {},
   "outputs": [],
   "source": [
    "plt.figure(figsize=(12, 8))\n",
    "plt.bar(cdad, cant)\n",
    "plt.xticks(rotation=45); #o bien utilizar plt.barh\n",
    "plt.grid()"
   ]
  },
  {
   "cell_type": "markdown",
   "metadata": {},
   "source": [
    "### Dispersion"
   ]
  },
  {
   "cell_type": "markdown",
   "metadata": {},
   "source": [
    "* Varianza"
   ]
  },
  {
   "cell_type": "code",
   "execution_count": 17,
   "metadata": {},
   "outputs": [],
   "source": [
    "var_price = np.var(price)\n",
    "var_bedr = np.var(bedrooms)\n",
    "var_bath = np.var(bathrooms)\n",
    "var_m2 = np.var(m2)"
   ]
  },
  {
   "cell_type": "markdown",
   "metadata": {},
   "source": [
    "* Desviacion estardar"
   ]
  },
  {
   "cell_type": "code",
   "execution_count": 18,
   "metadata": {},
   "outputs": [],
   "source": [
    "desv_price = np.std(price)\n",
    "desv_bedr = np.std(bedrooms)\n",
    "desv_bath = np.std(bathrooms)\n",
    "desv_m2 = np.std(m2)"
   ]
  },
  {
   "cell_type": "markdown",
   "metadata": {},
   "source": [
    "### Filtro de outliners"
   ]
  },
  {
   "cell_type": "code",
   "execution_count": 19,
   "metadata": {},
   "outputs": [],
   "source": [
    "def filtrar_outliers(array, k, Q1, Q3, IQR):\n",
    "    limite_inf = Q1 - IQR * k\n",
    "    limite_sup = Q3 + IQR * k\n",
    "    array_sin_outliers = array[(array >= limite_inf) & (array <= limite_sup)]\n",
    "    return array_sin_outliers"
   ]
  },
  {
   "cell_type": "code",
   "execution_count": 20,
   "metadata": {},
   "outputs": [],
   "source": [
    "price_sin_outliers = filtrar_outliers(price, 1.5, Q1_price, Q3_price, iqr_price)\n",
    "bedrooms_sin_outliers = filtrar_outliers(bedrooms, 1.5, Q1_betr, Q3_betr, iqr_betr)\n",
    "bathrooms_sin_outliers = filtrar_outliers(bathrooms, 1.5, Q1_bath, Q3_bath, iqr_bath)\n",
    "m2_sin_outliers = filtrar_outliers(m2, 1.5, Q1_m2, Q3_m2, iqr_m2)"
   ]
  },
  {
   "cell_type": "markdown",
   "metadata": {},
   "source": [
    "* Histogramas con y sin outliers"
   ]
  },
  {
   "cell_type": "code",
   "execution_count": 21,
   "metadata": {},
   "outputs": [],
   "source": [
    "def Histograma3 (sub, xla, xla_sin, tit):\n",
    "    plt.subplot(1, 2, sub)\n",
    "    outliers = list(set(xla) - set(xla_sin))\n",
    "    plt.xlabel(tit)\n",
    "    plt.ylabel(\"Cantidad viviendas\")\n",
    "    plt.hist(xla_sin, bins = 50, color = \"blue\", label=\"Viviendas sin outliers\")\n",
    "    plt.hist(outliers, bins = 50, color = \"red\", label=\"Outliers\")\n",
    "    plt.title(f\"Histograma {tit}\")\n",
    "    plt.legend()"
   ]
  },
  {
   "cell_type": "code",
   "execution_count": null,
   "metadata": {},
   "outputs": [],
   "source": [
    "plt.figure(figsize=(16, 4))\n",
    "Histograma3(1, price, price_sin_outliers, \"Precio\")\n",
    "Histograma3(2, m2, m2_sin_outliers, \"m2\")\n",
    "plt.show()\n",
    "plt.figure(figsize=(16, 4))\n",
    "Histograma3(1, bedrooms, bedrooms_sin_outliers, \"Habitaciones\")\n",
    "Histograma3(2, bathrooms, bathrooms_sin_outliers, \"Cuartos de Baño\")\n",
    "plt.show();"
   ]
  },
  {
   "cell_type": "markdown",
   "metadata": {},
   "source": [
    "### Correlacion"
   ]
  },
  {
   "cell_type": "code",
   "execution_count": null,
   "metadata": {},
   "outputs": [],
   "source": [
    "columnas = [price, bedrooms, bathrooms, m2]\n",
    "matriz_lista = list()\n",
    "for columna1 in columnas:\n",
    "    fila = list()\n",
    "    for columna2 in columnas:\n",
    "        fila.append(stats.pearsonr(columna1, columna2)[0])  \n",
    "    matriz_lista.append(fila)\n",
    "    \n",
    "matriz = np.array(matriz_lista)\n",
    "print(matriz)"
   ]
  },
  {
   "cell_type": "markdown",
   "metadata": {},
   "source": [
    "* Grafico Matriz correlación"
   ]
  },
  {
   "cell_type": "code",
   "execution_count": null,
   "metadata": {},
   "outputs": [],
   "source": [
    "column_names = ['Precio', 'Cant. Habit.', 'Cant. Baños', 'm2']\n",
    "plt.figure(figsize=(16, 6))\n",
    "plt.subplot(1, 2, 1)\n",
    "plt.imshow(matriz, cmap=\"viridis\")\n",
    "plt.colorbar(label=\"correlacion\")\n",
    "plt.xticks(range(len(column_names)), column_names)\n",
    "plt.yticks(range(len(column_names)), column_names)\n",
    "plt.gca().xaxis.set_ticks_position(\"top\")\n",
    "plt.subplot(1, 2, 2)\n",
    "sns.heatmap(matriz, annot=True, cmap='autumn', xticklabels=column_names, yticklabels=column_names)\n",
    "plt.gca().xaxis.set_ticks_position(\"top\")"
   ]
  },
  {
   "cell_type": "markdown",
   "metadata": {},
   "source": [
    "### Estandarizacion"
   ]
  },
  {
   "cell_type": "code",
   "execution_count": 25,
   "metadata": {},
   "outputs": [],
   "source": [
    "std_price = (price_sin_outliers - mean_price) / desv_price\n",
    "std_bedr = (bedrooms_sin_outliers - mean_bedr) / desv_bedr\n",
    "std_bath = (bathrooms_sin_outliers - mean_bath) / desv_bath\n",
    "std_m2 = (m2_sin_outliers - mean_m2) / desv_m2"
   ]
  },
  {
   "cell_type": "markdown",
   "metadata": {},
   "source": [
    "* Histogramas de estandarizacion"
   ]
  },
  {
   "cell_type": "code",
   "execution_count": null,
   "metadata": {},
   "outputs": [],
   "source": [
    "plt.hist(std_price, bins=30, color=\"red\", alpha=0.7, label=\"Precio (Estandarizado)\")\n",
    "plt.hist(std_bedr, bins=30, color=\"green\", alpha=0.7, label=\"Habitaciones (Estandarizado)\")\n",
    "plt.hist(std_bath, bins=30, color=\"yellow\",  alpha=0.7, label=\"Baños (Estandarizado)\")\n",
    "plt.hist(std_m2, bins=30, color=\"orange\", alpha=0.7, label=\"m2 (Estandarizado)\")\n",
    "plt.legend();"
   ]
  },
  {
   "cell_type": "markdown",
   "metadata": {},
   "source": [
    "### Asimetria y curtosis"
   ]
  },
  {
   "cell_type": "markdown",
   "metadata": {},
   "source": [
    "* Asimetria"
   ]
  },
  {
   "cell_type": "code",
   "execution_count": null,
   "metadata": {},
   "outputs": [],
   "source": [
    "print(f\"Coeficiente de asimetria precio: {stats.skew(price)}\")\n",
    "print(f\"Coeficiente de asimetria habitaciones: {stats.skew(bedrooms)}\")\n",
    "print(f\"Coeficiente de asimetria baños: {stats.skew(bathrooms)}\")\n",
    "print(f\"Coeficiente de asimetria m2: {stats.skew(m2)}\")"
   ]
  },
  {
   "cell_type": "markdown",
   "metadata": {},
   "source": [
    "* Curtosis"
   ]
  },
  {
   "cell_type": "code",
   "execution_count": null,
   "metadata": {},
   "outputs": [],
   "source": [
    "print(f\"Coeficiente de curtosis precio: {stats.kurtosis(price)}\")\n",
    "print(f\"Coeficiente de curtosis habitaciones: {stats.kurtosis(bedrooms)}\")\n",
    "print(f\"Coeficiente de curtosis baños: {stats.kurtosis(bathrooms)}\")\n",
    "print(f\"Coeficiente de curtosis m2: {stats.kurtosis(m2)}\")"
   ]
  },
  {
   "cell_type": "markdown",
   "metadata": {},
   "source": [
    "* Interpretacion Grafica de la curtosis"
   ]
  },
  {
   "cell_type": "code",
   "execution_count": null,
   "metadata": {},
   "outputs": [],
   "source": [
    "plt.figure(figsize=(16, 4))\n",
    "plt.subplot(1, 2, 1)\n",
    "sns.kdeplot(price, color=\"Orange\", label=\"Precio\")\n",
    "plt.subplot(1, 2, 2)\n",
    "sns.kdeplot(m2, color=\"blue\", label=\"m2\")\n",
    "plt.legend()\n",
    "\n",
    "plt.figure(figsize=(16, 4))\n",
    "plt.subplot(1, 2, 1)\n",
    "sns.kdeplot(bedrooms, color=\"red\", label=\"Habitaciones\")\n",
    "plt.subplot(1, 2, 2)\n",
    "sns.kdeplot(bathrooms, color=\"green\", label=\"Baños\")\n",
    "plt.legend();"
   ]
  },
  {
   "cell_type": "markdown",
   "metadata": {},
   "source": [
    "### Transformar distribuciones e interpretar resultados"
   ]
  },
  {
   "cell_type": "markdown",
   "metadata": {},
   "source": [
    "* Funcion raiz"
   ]
  },
  {
   "cell_type": "code",
   "execution_count": 30,
   "metadata": {},
   "outputs": [],
   "source": [
    "sqrt_price = np.sqrt(price)\n",
    "sqrt_bedr = np.sqrt(bedrooms)\n",
    "sqrt_bath = np.sqrt(bathrooms)\n",
    "sqrt_m2 = np.sqrt(m2)"
   ]
  },
  {
   "cell_type": "markdown",
   "metadata": {},
   "source": [
    "* Funcion logaritmo"
   ]
  },
  {
   "cell_type": "code",
   "execution_count": 31,
   "metadata": {},
   "outputs": [],
   "source": [
    "log_price = np.log(price)\n",
    "log_bedr = np.log(bedrooms)\n",
    "log_bath = np.log(bathrooms)\n",
    "log_m2 = np.log(m2)"
   ]
  },
  {
   "cell_type": "markdown",
   "metadata": {},
   "source": [
    "* Plots de Transformacion de distribuciones"
   ]
  },
  {
   "cell_type": "code",
   "execution_count": 32,
   "metadata": {},
   "outputs": [],
   "source": [
    "def plot_transfo(sub, var, color, label1, tit=\"\"):\n",
    "    if sub == 1:\n",
    "        plt.figure(figsize=(16, 4))\n",
    "        plt.title(f\"Transformacion distribucion {tit}\")\n",
    "    plt.subplot(1, 3, sub)\n",
    "    sns.kdeplot(var, color=color, label=label1)\n",
    "    plt.legend()\n",
    "    "
   ]
  },
  {
   "cell_type": "code",
   "execution_count": null,
   "metadata": {},
   "outputs": [],
   "source": [
    "\n",
    "plot_transfo(1, std_price, \"orange\",  \"Estandar\", \"Precio\")\n",
    "plot_transfo(2, sqrt_price, \"red\", \"Raiz\")\n",
    "plot_transfo(3, log_price, \"purple\", \"Logaritmo\")\n",
    "\n",
    "plot_transfo(1, std_bedr, \"orange\",  \"Estandar\", \"Habitaciones\")\n",
    "plot_transfo(2, sqrt_bedr, \"red\", \"Raiz\")\n",
    "plot_transfo(3, log_bedr, \"purple\", \"Logaritmo\")\n",
    "\n",
    "plot_transfo(1, std_bath, \"orange\",  \"Estandar\", \"Cuartos de baño\")\n",
    "plot_transfo(2, sqrt_bath, \"red\", \"Raiz\")\n",
    "plot_transfo(3, log_bath, \"purple\", \"Logaritmo\")\n",
    "\n",
    "plot_transfo(1, std_m2, \"orange\",  \"Estandar\", \"m2\")\n",
    "plot_transfo(2, sqrt_m2, \"red\", \"Raiz\")\n",
    "plot_transfo(3, log_m2, \"purple\", \"Logaritmo\");\n"
   ]
  },
  {
   "cell_type": "markdown",
   "metadata": {},
   "source": [
    "##NOTA: En la práctica se realizaría primero la transformación de las distribuciones antes de la estandarización, en este caso se ha hecho en el orden del enunciado del ejercicio "
   ]
  },
  {
   "cell_type": "markdown",
   "metadata": {},
   "source": [
    "### Contrastes de 1ª Hipótesis\n",
    " * H0 : Las casas del X barrio (\"Recoletos\") son más baratas de las del Y barrio (\"Hortaleza\")\n",
    " * H1 : Las casas del X barrio son más caras que las del Y barrio\n"
   ]
  },
  {
   "cell_type": "markdown",
   "metadata": {},
   "source": [
    "* Nivel de significancia"
   ]
  },
  {
   "cell_type": "code",
   "execution_count": 34,
   "metadata": {},
   "outputs": [],
   "source": [
    "alpha = 0.05 #valor de significancia, sirve para aceptar o rechazar pruebas"
   ]
  },
  {
   "cell_type": "markdown",
   "metadata": {},
   "source": [
    "* Selección de barrios y precios"
   ]
  },
  {
   "cell_type": "code",
   "execution_count": 35,
   "metadata": {},
   "outputs": [],
   "source": [
    "barrio_x = \"Recoletos\"\n",
    "barrio_y = \"Hortaleza\"\n",
    "precios_x = price[address == barrio_x]\n",
    "precios_y = price[address == barrio_y]"
   ]
  },
  {
   "cell_type": "markdown",
   "metadata": {},
   "source": [
    "* Normalidad"
   ]
  },
  {
   "cell_type": "code",
   "execution_count": 36,
   "metadata": {},
   "outputs": [],
   "source": [
    "_, p_barrio_x = stats.normaltest(precios_x)\n",
    "_, p_barrio_y = stats.normaltest(precios_y)"
   ]
  },
  {
   "cell_type": "markdown",
   "metadata": {},
   "source": [
    "* Homogeneidad de varianzas"
   ]
  },
  {
   "cell_type": "code",
   "execution_count": 37,
   "metadata": {},
   "outputs": [],
   "source": [
    "_, p_levene = stats.levene(precios_x, precios_y)"
   ]
  },
  {
   "cell_type": "markdown",
   "metadata": {},
   "source": [
    "* Comprobación de valores obtenidos vs significancia"
   ]
  },
  {
   "cell_type": "code",
   "execution_count": null,
   "metadata": {},
   "outputs": [],
   "source": [
    "suposiciones = p_barrio_x > alpha and p_barrio_y > alpha and p_levene > alpha\n",
    "\n",
    "if suposiciones:\n",
    "    print(\"Se cumple la asunción de NORMALIDAD Y HOMOGENEIDAD DE VARIANZAS\")\n",
    "else:\n",
    "    print(\"NO se cumple la asunción de NORMALIDAD Y HOMOGENEIDAD DE VARIANZAS\")   "
   ]
  },
  {
   "cell_type": "markdown",
   "metadata": {},
   "source": [
    "* Contraste de 1ª Hipótesis"
   ]
  },
  {
   "cell_type": "code",
   "execution_count": null,
   "metadata": {},
   "outputs": [],
   "source": [
    "\n",
    "sta1, p_val = stats.ttest_ind(precios_x, precios_y, alternative=\"greater\")\n",
    "\n",
    "print(f\"\\nContraste de Hipotesis 1: Precios en {barrio_x} vs {barrio_y}\")\n",
    "print(f\"Valor estadístico {round(sta1, 2)}\")\n",
    "print(f\"Valor p: {round(p_val, 2)}\\n\")\n"
   ]
  },
  {
   "cell_type": "markdown",
   "metadata": {},
   "source": [
    "* Conclusion:"
   ]
  },
  {
   "cell_type": "code",
   "execution_count": null,
   "metadata": {},
   "outputs": [],
   "source": [
    "print(\"CONCLUSION:\")\n",
    "if p_val < alpha:\n",
    "    print(f\"H1 VERDADERO (H alternativa): \\nLas viviendas del barrio {barrio_x} son mas caras que las del barrio {barrio_y}. \\nRECHAZAMOS H0 (H nula) \")\n",
    "else:\n",
    "    print(f\"H0 VERDADERO (H nula): \\nLas viviendas del barrio {barrio_x} son mas baratas que las del barrio {barrio_y}. \\nRECHAZAMOS H1 (H alrenativa)\")    "
   ]
  },
  {
   "cell_type": "markdown",
   "metadata": {},
   "source": [
    " ### Contraste de la 2ª Hipótesis\n",
    "\n",
    " * H0: Las casas de >= 3 baños son más caras que las casas de 1-2 baños\n",
    " * H1: Las casas de >= 3 baños son más baratas que las casas de 1-2 baños"
   ]
  },
  {
   "cell_type": "markdown",
   "metadata": {},
   "source": [
    "* Nivel de significancia"
   ]
  },
  {
   "cell_type": "code",
   "execution_count": 41,
   "metadata": {},
   "outputs": [],
   "source": [
    "alpha = 0.05"
   ]
  },
  {
   "cell_type": "markdown",
   "metadata": {},
   "source": [
    "* Preparación de datos"
   ]
  },
  {
   "cell_type": "code",
   "execution_count": 42,
   "metadata": {},
   "outputs": [],
   "source": [
    "price_3_bath = price[bathrooms >= 3]\n",
    "price_1_2_bath = price[(bathrooms == 1) | (bathrooms ==2)]"
   ]
  },
  {
   "cell_type": "markdown",
   "metadata": {},
   "source": [
    " * Normalidad"
   ]
  },
  {
   "cell_type": "code",
   "execution_count": 43,
   "metadata": {},
   "outputs": [],
   "source": [
    "_, p_price_3 = stats.normaltest(price_3_bath) \n",
    "_, p_price_1_2 = stats.normaltest(price_1_2_bath)"
   ]
  },
  {
   "cell_type": "markdown",
   "metadata": {},
   "source": [
    "* Homogeneidad de varianzas"
   ]
  },
  {
   "cell_type": "code",
   "execution_count": 44,
   "metadata": {},
   "outputs": [],
   "source": [
    "_, p_levene_bath = stats.levene(price_3_bath, price_1_2_bath)"
   ]
  },
  {
   "cell_type": "markdown",
   "metadata": {},
   "source": [
    "* Comprobar valores p obtenidos vs significancia"
   ]
  },
  {
   "cell_type": "code",
   "execution_count": null,
   "metadata": {},
   "outputs": [],
   "source": [
    "suposiciones = p_price_3 > alpha and p_price_1_2 > alpha and p_levene_bath > alpha \n",
    "\n",
    "if suposiciones:\n",
    "    print(\"Se cumple la asuncion de NORMALIDAD y HOMOGENEIDAD DE VARIANZAS\")\n",
    "else:\n",
    "    print(\"NO se cumple la asuncion de NORMALIDAD y HOMOGENEIDAD DE VARIANZAS\")"
   ]
  },
  {
   "cell_type": "markdown",
   "metadata": {},
   "source": [
    "* Contraste de 2º Hipotesis y Conclusiones"
   ]
  },
  {
   "cell_type": "code",
   "execution_count": null,
   "metadata": {},
   "outputs": [],
   "source": [
    "sta2, p_val_2 = stats.ttest_ind(price_3_bath, price_1_2_bath, alternative=\"greater\")\n",
    "\n",
    "print(\"\\nContraste de Hipotesis 1: \\nPrecios en viviendas con 3 o más cuartos de baño vs viviendas con 1 y 2 cuartos de baño\")\n",
    "print(f\"Valor estadístico {round(sta2, 2)}\")\n",
    "print(f\"Valor p: {p_val_2}\\n\")"
   ]
  },
  {
   "cell_type": "markdown",
   "metadata": {},
   "source": [
    "* Conclusion:"
   ]
  },
  {
   "cell_type": "code",
   "execution_count": null,
   "metadata": {},
   "outputs": [],
   "source": [
    "print(\"CONCLUSION: \")\n",
    "if p_val_2 < alpha:\n",
    "    print(\"H0 VERDADERO (H nula): \\nLas casas de >= 3 baños son más caras que las casas de 1-2 baños. \\nRECHAZAMOS H1 (H Alternativa)\")\n",
    "else:\n",
    "    print(\"H1 VERDADERO (H alternativa): \\nLas casas de >= 3 baños son más baratas que las casas de 1-2 baños. \\nRECHAZAMOS H0 (H Nula)\")    "
   ]
  }
 ],
 "metadata": {
  "kernelspec": {
   "display_name": "Python 3",
   "language": "python",
   "name": "python3"
  },
  "language_info": {
   "codemirror_mode": {
    "name": "ipython",
    "version": 3
   },
   "file_extension": ".py",
   "mimetype": "text/x-python",
   "name": "python",
   "nbconvert_exporter": "python",
   "pygments_lexer": "ipython3",
   "version": "3.13.1"
  }
 },
 "nbformat": 4,
 "nbformat_minor": 2
}
