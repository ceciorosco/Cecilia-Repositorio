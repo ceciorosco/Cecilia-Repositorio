{
 "cells": [
  {
   "cell_type": "code",
   "execution_count": 1,
   "metadata": {},
   "outputs": [],
   "source": [
    "import mysql.connector as con\n",
    "import pandas as pd\n",
    "import random\n",
    "import datetime \n",
    "from datetime import datetime, timedelta\n"
   ]
  },
  {
   "cell_type": "markdown",
   "metadata": {},
   "source": [
    "## ENUNCIADO EJERCICIO \n",
    "\n",
    "### 1. CREAR BASE DE DATOS (33%)\n",
    "\n",
    "* Crear con código SQL una base de datos llamada supermercado.\n",
    "* Código Python con mysql connector que ejecute el SQL para borrar y generar la base de datos vacía."
   ]
  },
  {
   "cell_type": "code",
   "execution_count": 2,
   "metadata": {},
   "outputs": [],
   "source": [
    "def crear_tabla(sql):\n",
    "    try:\n",
    "        connection = con.connect(\n",
    "            host=\"localhost\",\n",
    "            port=\"3306\",\n",
    "            user=\"root\",\n",
    "            password=\"admin\",\n",
    "            database='supermercado'\n",
    "        )\n",
    "        cursor = connection.cursor()\n",
    "        cursor.execute(sql)\n",
    "    except con.Error as error:\n",
    "        print(f\"Ha ocurrido un error: {error}\")\n",
    "        if connection:\n",
    "            connection.rollback()\n",
    "        return 0\n",
    "    finally:\n",
    "        if cursor: \n",
    "            cursor.close()\n",
    "        if connection:\n",
    "            connection.close()"
   ]
  },
  {
   "cell_type": "code",
   "execution_count": 3,
   "metadata": {},
   "outputs": [],
   "source": [
    "sql = \"DROP DATABASE IF EXISTS supermercado; CREATE DATABASE IF NOT EXISTS supermercado;\""
   ]
  },
  {
   "cell_type": "code",
   "execution_count": 4,
   "metadata": {},
   "outputs": [],
   "source": [
    "crear_tabla(sql)"
   ]
  },
  {
   "cell_type": "markdown",
   "metadata": {},
   "source": [
    "## Crear TABLAS"
   ]
  },
  {
   "cell_type": "markdown",
   "metadata": {},
   "source": [
    "tiendas\n",
    "- id_tienda (PRIMARY KEY)\n",
    "- nombre_tienda\n",
    "- direccion\n",
    "- ciudad"
   ]
  },
  {
   "cell_type": "code",
   "execution_count": 5,
   "metadata": {},
   "outputs": [],
   "source": [
    "sql = \"CREATE TABLE IF NOT EXISTS tiendas (id_tienda INT AUTO_INCREMENT PRIMARY KEY, nombre_tienda VARCHAR(255) NOT NULL, direccion VARCHAR(255), ciudad VARCHAR(255) NOT NULL);\""
   ]
  },
  {
   "cell_type": "code",
   "execution_count": 6,
   "metadata": {},
   "outputs": [],
   "source": [
    "crear_tabla(sql)"
   ]
  },
  {
   "cell_type": "markdown",
   "metadata": {},
   "source": [
    "empleados\n",
    "- id_empleado (PRIMARY KEY)\n",
    "- nombre_empleado\n",
    "- puesto (ej.: Cajero, Gerente, Reponedor)\n",
    "- id_tienda (FOREIGN KEY que hace referencia a tiendas.id_tienda)"
   ]
  },
  {
   "cell_type": "code",
   "execution_count": null,
   "metadata": {},
   "outputs": [],
   "source": [
    "sql = \"CREATE TABLE IF NOT EXISTS empleados (id_empleado INT AUTO_INCREMENT PRIMARY KEY, nombre_empleado VARCHAR(255) NOT NULL, puesto VARCHAR(60), id_tienda INT NOT NULL, FOREIGN KEY (id_tienda) REFERENCES tiendas(id_tienda) ON DELETE CASCADE);\""
   ]
  },
  {
   "cell_type": "code",
   "execution_count": 8,
   "metadata": {},
   "outputs": [],
   "source": [
    "crear_tabla(sql)"
   ]
  },
  {
   "cell_type": "markdown",
   "metadata": {},
   "source": [
    "categorias\n",
    "- id_categoria (PRIMARY KEY)\n",
    "- nombre_categoria"
   ]
  },
  {
   "cell_type": "code",
   "execution_count": 9,
   "metadata": {},
   "outputs": [],
   "source": [
    "sql = \"CREATE TABLE IF NOT EXISTS categorias (id_categoria INT AUTO_INCREMENT PRIMARY KEY, nombre_categoria VARCHAR(60));\""
   ]
  },
  {
   "cell_type": "code",
   "execution_count": 10,
   "metadata": {},
   "outputs": [],
   "source": [
    "crear_tabla(sql)"
   ]
  },
  {
   "cell_type": "markdown",
   "metadata": {},
   "source": [
    "productos\n",
    "- id_producto (PRIMARY KEY)\n",
    "- nombre_producto\n",
    "- precio\n",
    "- stock\n",
    "- id_categoria (FOREIGN KEY que hace referencia a categorias.id_categoria)"
   ]
  },
  {
   "cell_type": "code",
   "execution_count": 11,
   "metadata": {},
   "outputs": [],
   "source": [
    "sql = \"CREATE TABLE IF NOT EXISTS productos (id_producto INT AUTO_INCREMENT PRIMARY KEY, nombre_producto VARCHAR(70), precio FLOAT(8,2), stock INT, id_categoria INT NOT NULL, FOREIGN KEY (id_categoria) REFERENCES categorias(id_categoria));\""
   ]
  },
  {
   "cell_type": "code",
   "execution_count": 12,
   "metadata": {},
   "outputs": [],
   "source": [
    "crear_tabla(sql)"
   ]
  },
  {
   "cell_type": "markdown",
   "metadata": {},
   "source": [
    "clientes\n",
    "- id_cliente (PRIMARY KEY)\n",
    "- first_name\n",
    "- last_name\n",
    "- email\n",
    "- codigo_postal"
   ]
  },
  {
   "cell_type": "code",
   "execution_count": 13,
   "metadata": {},
   "outputs": [],
   "source": [
    "sql = \"CREATE TABLE IF NOT EXISTS clientes (id_cliente INT AUTO_INCREMENT PRIMARY KEY, first_name VARCHAR(50), last_name VARCHAR(50), email VARCHAR(200), codigo_postal INT);\""
   ]
  },
  {
   "cell_type": "code",
   "execution_count": 14,
   "metadata": {},
   "outputs": [],
   "source": [
    "crear_tabla(sql)"
   ]
  },
  {
   "cell_type": "markdown",
   "metadata": {},
   "source": [
    "ordenes\n",
    "- id_orden (PRIMARY KEY)\n",
    "- id_cliente (FOREIGN KEY que hace referencia a clientes.id_cliente)\n",
    "- id_empleado (FOREIGN KEY que hace referencia a empleados.id_empleado)\n",
    "- fecha_orden\n",
    "- metodo_pago (una enum que solo admita tres valores Tarjeta, Efectivo)"
   ]
  },
  {
   "cell_type": "code",
   "execution_count": 15,
   "metadata": {},
   "outputs": [],
   "source": [
    "sql = \"CREATE TABLE IF NOT EXISTS ordenes (id_orden INT AUTO_INCREMENT PRIMARY KEY, id_cliente INT, id_empleado INT, fecha_orden DATE, metodo_pago ENUM('Tarjeta', 'Efectivo') DEFAULT 'Efectivo', FOREIGN KEY (id_cliente) REFERENCES clientes(id_cliente), FOREIGN KEY (id_empleado) REFERENCES empleados(id_empleado));\""
   ]
  },
  {
   "cell_type": "code",
   "execution_count": 16,
   "metadata": {},
   "outputs": [],
   "source": [
    "crear_tabla(sql)"
   ]
  },
  {
   "cell_type": "markdown",
   "metadata": {},
   "source": [
    "detalle_orden\n",
    "- id_detalle (PRIMARY KEY)\n",
    "- id_orden (FOREIGN KEY que hace referencia a ordenes.id_orden) NOT NULL\n",
    "- id_producto (FOREIGN KEY que hace referencia a productos.id_producto) NOT NULL\n",
    "- cantidad\n",
    "- precio_unitario: mismo precio que en la tabla producto\n",
    "- descuento (podría ser NULL si no se aplica)"
   ]
  },
  {
   "cell_type": "code",
   "execution_count": 17,
   "metadata": {},
   "outputs": [],
   "source": [
    "sql = \"CREATE TABLE IF NOT EXISTS detalle_orden (id_detalle INT AUTO_INCREMENT PRIMARY KEY, id_orden INT NOT NULL, id_producto INT NOT NULL, cantidad FLOAT(8,2), precio_unitario FLOAT(8,2), descuento TINYINT, FOREIGN KEY (id_orden) REFERENCES ordenes(id_orden), FOREIGN KEY (id_producto) REFERENCES productos(id_producto));\""
   ]
  },
  {
   "cell_type": "code",
   "execution_count": 18,
   "metadata": {},
   "outputs": [],
   "source": [
    "crear_tabla(sql)"
   ]
  },
  {
   "cell_type": "markdown",
   "metadata": {},
   "source": [
    "### 2. Generar datos demo desde Python (33%)\n",
    "\n",
    "* Generar datos aleatorios en listas con Python similar los realizados en clase.\n",
    "    * Uso de datetime, timedelta, random para generar datos aleatorios\n",
    "* Pasar los datos a DataFrames de Pandas\n",
    "* Pasar los DataFrames de Pandas a MySQL usando la función to_sql de Pandas con SQLAlchemy o usando MySQL Connector con sentencias INSERT."
   ]
  },
  {
   "cell_type": "code",
   "execution_count": 19,
   "metadata": {},
   "outputs": [],
   "source": [
    "def insertar_dataframe(df, table_name):\n",
    "    try:\n",
    "        connection = con.connect(\n",
    "            host=\"localhost\",\n",
    "            port=\"3306\",\n",
    "            user=\"root\",\n",
    "            password=\"admin\",\n",
    "            database='supermercado'\n",
    "        )\n",
    "        cursor = connection.cursor()\n",
    "        \n",
    "        columns = ','.join(df.columns)\n",
    "        placeholders = ','.join(['%s'] * len(df.columns))\n",
    "        sql = f'INSERT INTO {table_name} ({columns}) VALUES ({placeholders});'\n",
    "    \n",
    "        rows = [tuple(row) for index, row in df.iterrows()] # lista de tuplas con los datos del dataframe\n",
    "\n",
    "        cursor.executemany(sql, rows)\n",
    "        \n",
    "        connection.commit()\n",
    "        return cursor.rowcount\n",
    "    except con.Error as error:\n",
    "        print(f\"Ha ocurrido un error: {error}\")\n",
    "        if connection:\n",
    "            connection.rollback()\n",
    "        return 0\n",
    "    finally:\n",
    "        if cursor: \n",
    "            cursor.close()\n",
    "        if connection:\n",
    "            connection.close()"
   ]
  },
  {
   "cell_type": "markdown",
   "metadata": {},
   "source": [
    "tiendas\n",
    "\n",
    "* id_tienda: valores enteros consecutivos (por ejemplo, 1, 2, 3...).\n",
    "* nombre_tienda: nombres ficticios o genéricos (p. ej. \"Tienda Centro\", \"Super Norte\", \"Super Sur\").\n",
    "* direccion: direcciones simples (p. ej. “Calle Falsa 123”).\n",
    "* ciudad: usar nombres de ciudades ficticias o reales (p. ej. “Madrid”, “Barcelona”, “México DF”, etc.).\n",
    "\n",
    "En total 5 o 10 tiendas."
   ]
  },
  {
   "cell_type": "code",
   "execution_count": null,
   "metadata": {},
   "outputs": [],
   "source": [
    "tiendas = ['Jerez Este', 'Sanlucar Oeste', 'Cadiz Norte', 'Valdelagrana Sur', 'Arcos Sur', 'Chiclana Norte', 'Barbate Este', 'Vejer Oeste', 'Conil Sur', 'Rota Norte']\n",
    "direcciones = ['Calle Catavino 25', 'Calle Manzanilla 42', 'Calle del Pan 38', 'Calle Playa 57', 'Calle Castillo 182', 'Calle Barrosa 63', 'Calle Atun 98', 'Calle Pescadill 56', 'Calle Balsa 71', 'Calle Base 22']\n",
    "ciudades = ['Jerez de la Frontera', 'Sanlucar de Barrameda', 'Cadiz', 'El Puerto de Santa Maria', 'Arcos de la Frontera', 'Chiclana de la Frontera', 'Barbate', 'Vejer de la Frontera', 'Conil de la Frontera', 'Rota']\n",
    "df_tiendas = pd.DataFrame(zip(tiendas, direcciones, ciudades), columns=['nombre_tienda', 'direccion', 'ciudad'])\n",
    "# generar columna id_tienda\n",
    "df_tiendas = df_tiendas.reset_index().rename({'index': 'id_tienda'}, axis=1)\n",
    "df_tiendas['id_tienda'] = df_tiendas['id_tienda'] + 1\n",
    "df_tiendas"
   ]
  },
  {
   "cell_type": "code",
   "execution_count": null,
   "metadata": {},
   "outputs": [],
   "source": [
    "insertar_dataframe(df_tiendas, 'tiendas')"
   ]
  },
  {
   "cell_type": "markdown",
   "metadata": {},
   "source": [
    "empleados\n",
    "\n",
    "* id_empleado: valores enteros consecutivos (1, 2, 3...).\n",
    "* nombre_empleado: nombres y apellidos ficticios (p. ej. “Laura Gutiérrez”, “Juan Pérez”).\n",
    "* puesto: limitarse a un conjunto reducido de valores (p. ej. {‘Cajero’, ‘Gerente’, ‘Reponedor’, ‘Vendedor’}).\n",
    "* id_tienda: debe hacer referencia a una tienda existente (por ejemplo, un número entre 1 y 3 si solo tienes 3 tiendas).\n",
    "\n",
    "En total 20 empleados por tienda."
   ]
  },
  {
   "cell_type": "code",
   "execution_count": null,
   "metadata": {},
   "outputs": [],
   "source": []
  },
  {
   "cell_type": "code",
   "execution_count": null,
   "metadata": {},
   "outputs": [],
   "source": [
    "#generar columna id_empleado\n",
    "empleados = list()\n",
    "nombres = [\"Juan\", \"María\", \"Luis\", \"Ana\", \"Pedro\", \"Sofía\", \"Carlos\", \"Lucía\", \"Jorge\", \"Elena\", \"Manuel\", \"Laura\", \"Diego\", \"Clara\", \"Alberto\", \"Teresa\", \"Pablo\", \"Isabel\", \"Sergio\", \"Marta\", \"Roberto\", \"Julia\", \"Fernando\", \"Carmen\", \"Ricardo\", \"Paula\", \"Andrés\", \"Eva\", \"Antonio\", \"Sara\", \"José\", \"Natalia\", \"Francisco\", \"Patricia\", \"Hugo\", \"Adriana\", \"Rafael\", \"Irene\", \"Víctor\", \"Olga\", \"Daniel\", \"Noelia\", \"Álvaro\", \"Alicia\", \"Javier\", \"Rocío\", \"Enrique\", \"Amelia\", \"Gonzalo\", \"Vera\"]\n",
    "apellidos = [\"García\", \"Martínez\", \"López\", \"Sánchez\", \"Pérez\", \"González\", \"Rodríguez\", \"Fernández\", \"Moreno\", \"Jiménez\", \"Hernández\", \"Muñoz\", \"Álvarez\", \"Romero\", \"Alonso\", \"Gutiérrez\", \"Ruiz\", \"Navarro\", \"Díaz\", \"Torres\", \"Castro\", \"Vázquez\", \"Ramos\", \"Gil\", \"Ramírez\", \"Flores\", \"Ortiz\", \"Marín\", \"Serrano\", \"Iglesias\", \"Delgado\", \"Domínguez\", \"Guerrero\", \"Molina\", \"Ortega\", \"Rubio\", \"Santos\", \"Medina\", \"Castillo\", \"Cruz\", \"Reyes\", \"Herrera\", \"Peña\", \"Carrasco\", \"Calvo\", \"Vega\", \"Cabrera\", \"Campos\", \"León\", \"Fuentes\"]\n",
    "trabajo = [\"Cajero\", \"Reponedor\", \"Encargado de sección\", \"Gerente\", \"Personal de limpieza\", \"Panadero\", \"Carnicero\", \"Pescadero\", \"Responsable de almacén\", \"Supervisor de caja\", \"Frutero\", \"Charcutero\", \"Jefe de turno\", \"Operador logístico\", \"Atención al cliente\", \"Auxiliar de caja\", \"Encargado de inventario\", \"Responsable de compras\", \"Promotor de ventas\", \"Encargado de seguridad\"]\n",
    "for tienda in df_tiendas['id_tienda']:\n",
    "    for empleado in range(20):\n",
    "        nombre_empleado = (random.choice(nombres) + ' ' + random.choice(apellidos))\n",
    "        puesto = trabajo[empleado]\n",
    "        id_tienda = tienda\n",
    "        empleados.append([nombre_empleado, puesto, id_tienda])\n",
    "        \n",
    "df_empleados = pd.DataFrame(empleados, columns=['nombre_empleado', 'puesto', 'id_tienda'])\n",
    "        \n",
    "df_empleados = df_empleados.reset_index().rename({'index': 'id_empleado'}, axis=1)\n",
    "df_empleados['id_empleado'] = df_empleados['id_empleado'] + 1\n",
    "df_empleados"
   ]
  },
  {
   "cell_type": "code",
   "execution_count": null,
   "metadata": {},
   "outputs": [],
   "source": [
    "insertar_dataframe(df_empleados, \"empleados\")"
   ]
  },
  {
   "cell_type": "markdown",
   "metadata": {},
   "source": [
    "categorias\n",
    "\n",
    "* id_categoria: valores enteros consecutivos (1, 2, 3...).\n",
    "* nombre_categoria: selección de categorías (p. ej. “Lácteos”, “Carnes”, “Frutas”, “Verduras”, “Bebidas”, “Snacks”).\n",
    "\n",
    "En total 10 categorías"
   ]
  },
  {
   "cell_type": "code",
   "execution_count": null,
   "metadata": {},
   "outputs": [],
   "source": [
    "categorias = ['Lácteos', 'Carnes', 'Frutas', 'Verduras', 'Bebidas', 'Snacks', 'Hogar', 'Limpieza', 'Perfumería', 'Jardín']\n",
    "\n",
    "df_categorias = pd.DataFrame(categorias, columns=['nombre_categoria'])\n",
    "\n",
    "# generar columna id_categoria\n",
    "df_categorias = df_categorias.reset_index().rename({'index': 'id_categoria'}, axis=1)\n",
    "df_categorias['id_categoria'] = df_categorias['id_categoria'] + 1\n",
    "df_categorias"
   ]
  },
  {
   "cell_type": "code",
   "execution_count": null,
   "metadata": {},
   "outputs": [],
   "source": [
    "insertar_dataframe(df_categorias, 'categorias')"
   ]
  },
  {
   "cell_type": "markdown",
   "metadata": {},
   "source": [
    "\n",
    "productos\n",
    "\n",
    "* id_producto: valores enteros consecutivos (1, 2, 3...).\n",
    "* nombre_producto: nombres como “Leche Entera”, “Manzana Roja”, “Refresco de Cola”, etc.\n",
    "* precio: valores DECIMAL entre 0.50 y 50.00, por ejemplo.\n",
    "* stock: valores INT entre 0 y 500 (o el rango que quieras).\n",
    "* id_categoria: debe hacer referencia a las categorías que hayas definido (1, 2, 3, etc.).\n",
    "\n",
    "En total 4 productos de cada categoría."
   ]
  },
  {
   "cell_type": "code",
   "execution_count": 46,
   "metadata": {},
   "outputs": [
    {
     "data": {
      "text/html": [
       "<div>\n",
       "<style scoped>\n",
       "    .dataframe tbody tr th:only-of-type {\n",
       "        vertical-align: middle;\n",
       "    }\n",
       "\n",
       "    .dataframe tbody tr th {\n",
       "        vertical-align: top;\n",
       "    }\n",
       "\n",
       "    .dataframe thead th {\n",
       "        text-align: right;\n",
       "    }\n",
       "</style>\n",
       "<table border=\"1\" class=\"dataframe\">\n",
       "  <thead>\n",
       "    <tr style=\"text-align: right;\">\n",
       "      <th></th>\n",
       "      <th>id_producto</th>\n",
       "      <th>nombre_producto</th>\n",
       "      <th>precio</th>\n",
       "      <th>stock</th>\n",
       "      <th>id_categoria</th>\n",
       "    </tr>\n",
       "  </thead>\n",
       "  <tbody>\n",
       "    <tr>\n",
       "      <th>0</th>\n",
       "      <td>1</td>\n",
       "      <td>Leche</td>\n",
       "      <td>4.947031</td>\n",
       "      <td>334</td>\n",
       "      <td>1</td>\n",
       "    </tr>\n",
       "    <tr>\n",
       "      <th>1</th>\n",
       "      <td>2</td>\n",
       "      <td>Yogur</td>\n",
       "      <td>10.304934</td>\n",
       "      <td>352</td>\n",
       "      <td>1</td>\n",
       "    </tr>\n",
       "    <tr>\n",
       "      <th>2</th>\n",
       "      <td>3</td>\n",
       "      <td>Queso</td>\n",
       "      <td>3.053225</td>\n",
       "      <td>298</td>\n",
       "      <td>1</td>\n",
       "    </tr>\n",
       "    <tr>\n",
       "      <th>3</th>\n",
       "      <td>4</td>\n",
       "      <td>Mantequilla</td>\n",
       "      <td>9.262840</td>\n",
       "      <td>250</td>\n",
       "      <td>1</td>\n",
       "    </tr>\n",
       "    <tr>\n",
       "      <th>4</th>\n",
       "      <td>5</td>\n",
       "      <td>Pollo</td>\n",
       "      <td>8.669271</td>\n",
       "      <td>198</td>\n",
       "      <td>2</td>\n",
       "    </tr>\n",
       "    <tr>\n",
       "      <th>5</th>\n",
       "      <td>6</td>\n",
       "      <td>Carne de res</td>\n",
       "      <td>9.358373</td>\n",
       "      <td>182</td>\n",
       "      <td>2</td>\n",
       "    </tr>\n",
       "    <tr>\n",
       "      <th>6</th>\n",
       "      <td>7</td>\n",
       "      <td>Cerdo</td>\n",
       "      <td>7.884616</td>\n",
       "      <td>33</td>\n",
       "      <td>2</td>\n",
       "    </tr>\n",
       "    <tr>\n",
       "      <th>7</th>\n",
       "      <td>8</td>\n",
       "      <td>Chuletas</td>\n",
       "      <td>9.495966</td>\n",
       "      <td>337</td>\n",
       "      <td>2</td>\n",
       "    </tr>\n",
       "    <tr>\n",
       "      <th>8</th>\n",
       "      <td>9</td>\n",
       "      <td>Manzana</td>\n",
       "      <td>4.526493</td>\n",
       "      <td>166</td>\n",
       "      <td>3</td>\n",
       "    </tr>\n",
       "    <tr>\n",
       "      <th>9</th>\n",
       "      <td>10</td>\n",
       "      <td>Banana</td>\n",
       "      <td>4.318121</td>\n",
       "      <td>102</td>\n",
       "      <td>3</td>\n",
       "    </tr>\n",
       "    <tr>\n",
       "      <th>10</th>\n",
       "      <td>11</td>\n",
       "      <td>Naranja</td>\n",
       "      <td>7.892696</td>\n",
       "      <td>500</td>\n",
       "      <td>3</td>\n",
       "    </tr>\n",
       "    <tr>\n",
       "      <th>11</th>\n",
       "      <td>12</td>\n",
       "      <td>Uva</td>\n",
       "      <td>7.943910</td>\n",
       "      <td>7</td>\n",
       "      <td>3</td>\n",
       "    </tr>\n",
       "    <tr>\n",
       "      <th>12</th>\n",
       "      <td>13</td>\n",
       "      <td>Zanahoria</td>\n",
       "      <td>9.834118</td>\n",
       "      <td>116</td>\n",
       "      <td>4</td>\n",
       "    </tr>\n",
       "    <tr>\n",
       "      <th>13</th>\n",
       "      <td>14</td>\n",
       "      <td>Tomate</td>\n",
       "      <td>0.724268</td>\n",
       "      <td>262</td>\n",
       "      <td>4</td>\n",
       "    </tr>\n",
       "    <tr>\n",
       "      <th>14</th>\n",
       "      <td>15</td>\n",
       "      <td>Lechuga</td>\n",
       "      <td>0.970622</td>\n",
       "      <td>106</td>\n",
       "      <td>4</td>\n",
       "    </tr>\n",
       "    <tr>\n",
       "      <th>15</th>\n",
       "      <td>16</td>\n",
       "      <td>Cebolla</td>\n",
       "      <td>1.194963</td>\n",
       "      <td>324</td>\n",
       "      <td>4</td>\n",
       "    </tr>\n",
       "    <tr>\n",
       "      <th>16</th>\n",
       "      <td>17</td>\n",
       "      <td>Agua</td>\n",
       "      <td>0.871331</td>\n",
       "      <td>200</td>\n",
       "      <td>5</td>\n",
       "    </tr>\n",
       "    <tr>\n",
       "      <th>17</th>\n",
       "      <td>18</td>\n",
       "      <td>Jugo de naranja</td>\n",
       "      <td>5.266107</td>\n",
       "      <td>369</td>\n",
       "      <td>5</td>\n",
       "    </tr>\n",
       "    <tr>\n",
       "      <th>18</th>\n",
       "      <td>19</td>\n",
       "      <td>Refresco</td>\n",
       "      <td>1.723737</td>\n",
       "      <td>53</td>\n",
       "      <td>5</td>\n",
       "    </tr>\n",
       "    <tr>\n",
       "      <th>19</th>\n",
       "      <td>20</td>\n",
       "      <td>Cerveza</td>\n",
       "      <td>10.081398</td>\n",
       "      <td>326</td>\n",
       "      <td>5</td>\n",
       "    </tr>\n",
       "    <tr>\n",
       "      <th>20</th>\n",
       "      <td>21</td>\n",
       "      <td>Papas fritas</td>\n",
       "      <td>2.399133</td>\n",
       "      <td>400</td>\n",
       "      <td>6</td>\n",
       "    </tr>\n",
       "    <tr>\n",
       "      <th>21</th>\n",
       "      <td>22</td>\n",
       "      <td>Chocolate</td>\n",
       "      <td>10.092093</td>\n",
       "      <td>424</td>\n",
       "      <td>6</td>\n",
       "    </tr>\n",
       "    <tr>\n",
       "      <th>22</th>\n",
       "      <td>23</td>\n",
       "      <td>Galletas</td>\n",
       "      <td>5.648038</td>\n",
       "      <td>494</td>\n",
       "      <td>6</td>\n",
       "    </tr>\n",
       "    <tr>\n",
       "      <th>23</th>\n",
       "      <td>24</td>\n",
       "      <td>Chicles</td>\n",
       "      <td>3.546500</td>\n",
       "      <td>108</td>\n",
       "      <td>6</td>\n",
       "    </tr>\n",
       "    <tr>\n",
       "      <th>24</th>\n",
       "      <td>25</td>\n",
       "      <td>Velas</td>\n",
       "      <td>6.302507</td>\n",
       "      <td>366</td>\n",
       "      <td>7</td>\n",
       "    </tr>\n",
       "    <tr>\n",
       "      <th>25</th>\n",
       "      <td>26</td>\n",
       "      <td>Platos desechables</td>\n",
       "      <td>6.215580</td>\n",
       "      <td>415</td>\n",
       "      <td>7</td>\n",
       "    </tr>\n",
       "    <tr>\n",
       "      <th>26</th>\n",
       "      <td>27</td>\n",
       "      <td>Bolsas de basura</td>\n",
       "      <td>3.636385</td>\n",
       "      <td>279</td>\n",
       "      <td>7</td>\n",
       "    </tr>\n",
       "    <tr>\n",
       "      <th>27</th>\n",
       "      <td>28</td>\n",
       "      <td>Pilas</td>\n",
       "      <td>3.015820</td>\n",
       "      <td>67</td>\n",
       "      <td>7</td>\n",
       "    </tr>\n",
       "    <tr>\n",
       "      <th>28</th>\n",
       "      <td>29</td>\n",
       "      <td>Detergente</td>\n",
       "      <td>4.144116</td>\n",
       "      <td>64</td>\n",
       "      <td>8</td>\n",
       "    </tr>\n",
       "    <tr>\n",
       "      <th>29</th>\n",
       "      <td>30</td>\n",
       "      <td>Jabón líquido</td>\n",
       "      <td>0.816271</td>\n",
       "      <td>321</td>\n",
       "      <td>8</td>\n",
       "    </tr>\n",
       "    <tr>\n",
       "      <th>30</th>\n",
       "      <td>31</td>\n",
       "      <td>Esponjas</td>\n",
       "      <td>4.890455</td>\n",
       "      <td>476</td>\n",
       "      <td>8</td>\n",
       "    </tr>\n",
       "    <tr>\n",
       "      <th>31</th>\n",
       "      <td>32</td>\n",
       "      <td>Desinfectante</td>\n",
       "      <td>1.229132</td>\n",
       "      <td>58</td>\n",
       "      <td>8</td>\n",
       "    </tr>\n",
       "    <tr>\n",
       "      <th>32</th>\n",
       "      <td>33</td>\n",
       "      <td>Champú</td>\n",
       "      <td>5.236603</td>\n",
       "      <td>188</td>\n",
       "      <td>9</td>\n",
       "    </tr>\n",
       "    <tr>\n",
       "      <th>33</th>\n",
       "      <td>34</td>\n",
       "      <td>Colonia</td>\n",
       "      <td>6.873403</td>\n",
       "      <td>378</td>\n",
       "      <td>9</td>\n",
       "    </tr>\n",
       "    <tr>\n",
       "      <th>34</th>\n",
       "      <td>35</td>\n",
       "      <td>Crema hidratante</td>\n",
       "      <td>7.425998</td>\n",
       "      <td>316</td>\n",
       "      <td>9</td>\n",
       "    </tr>\n",
       "    <tr>\n",
       "      <th>35</th>\n",
       "      <td>36</td>\n",
       "      <td>Desodorante</td>\n",
       "      <td>6.924515</td>\n",
       "      <td>275</td>\n",
       "      <td>9</td>\n",
       "    </tr>\n",
       "    <tr>\n",
       "      <th>36</th>\n",
       "      <td>37</td>\n",
       "      <td>Tierra para macetas</td>\n",
       "      <td>1.464809</td>\n",
       "      <td>170</td>\n",
       "      <td>10</td>\n",
       "    </tr>\n",
       "    <tr>\n",
       "      <th>37</th>\n",
       "      <td>38</td>\n",
       "      <td>Fertilizante</td>\n",
       "      <td>6.170776</td>\n",
       "      <td>403</td>\n",
       "      <td>10</td>\n",
       "    </tr>\n",
       "    <tr>\n",
       "      <th>38</th>\n",
       "      <td>39</td>\n",
       "      <td>Semillas</td>\n",
       "      <td>0.950291</td>\n",
       "      <td>436</td>\n",
       "      <td>10</td>\n",
       "    </tr>\n",
       "    <tr>\n",
       "      <th>39</th>\n",
       "      <td>40</td>\n",
       "      <td>Regadera</td>\n",
       "      <td>1.952675</td>\n",
       "      <td>6</td>\n",
       "      <td>10</td>\n",
       "    </tr>\n",
       "  </tbody>\n",
       "</table>\n",
       "</div>"
      ],
      "text/plain": [
       "    id_producto      nombre_producto     precio  stock  id_categoria\n",
       "0             1                Leche   4.947031    334             1\n",
       "1             2                Yogur  10.304934    352             1\n",
       "2             3                Queso   3.053225    298             1\n",
       "3             4          Mantequilla   9.262840    250             1\n",
       "4             5                Pollo   8.669271    198             2\n",
       "5             6         Carne de res   9.358373    182             2\n",
       "6             7                Cerdo   7.884616     33             2\n",
       "7             8             Chuletas   9.495966    337             2\n",
       "8             9              Manzana   4.526493    166             3\n",
       "9            10               Banana   4.318121    102             3\n",
       "10           11              Naranja   7.892696    500             3\n",
       "11           12                  Uva   7.943910      7             3\n",
       "12           13            Zanahoria   9.834118    116             4\n",
       "13           14               Tomate   0.724268    262             4\n",
       "14           15              Lechuga   0.970622    106             4\n",
       "15           16              Cebolla   1.194963    324             4\n",
       "16           17                 Agua   0.871331    200             5\n",
       "17           18      Jugo de naranja   5.266107    369             5\n",
       "18           19             Refresco   1.723737     53             5\n",
       "19           20              Cerveza  10.081398    326             5\n",
       "20           21         Papas fritas   2.399133    400             6\n",
       "21           22            Chocolate  10.092093    424             6\n",
       "22           23             Galletas   5.648038    494             6\n",
       "23           24              Chicles   3.546500    108             6\n",
       "24           25                Velas   6.302507    366             7\n",
       "25           26   Platos desechables   6.215580    415             7\n",
       "26           27     Bolsas de basura   3.636385    279             7\n",
       "27           28                Pilas   3.015820     67             7\n",
       "28           29           Detergente   4.144116     64             8\n",
       "29           30        Jabón líquido   0.816271    321             8\n",
       "30           31             Esponjas   4.890455    476             8\n",
       "31           32        Desinfectante   1.229132     58             8\n",
       "32           33               Champú   5.236603    188             9\n",
       "33           34              Colonia   6.873403    378             9\n",
       "34           35     Crema hidratante   7.425998    316             9\n",
       "35           36          Desodorante   6.924515    275             9\n",
       "36           37  Tierra para macetas   1.464809    170            10\n",
       "37           38         Fertilizante   6.170776    403            10\n",
       "38           39             Semillas   0.950291    436            10\n",
       "39           40             Regadera   1.952675      6            10"
      ]
     },
     "execution_count": 46,
     "metadata": {},
     "output_type": "execute_result"
    }
   ],
   "source": [
    "# generar columna id_producto\n",
    "nombres = [\"Leche\", \"Yogur\", \"Queso\", \"Mantequilla\", \"Pollo\", \"Carne de res\", \"Cerdo\", \"Chuletas\", \"Manzana\", \"Banana\", \"Naranja\", \"Uva\", \"Zanahoria\", \"Tomate\", \"Lechuga\", \"Cebolla\", \"Agua\", \"Jugo de naranja\", \"Refresco\", \"Cerveza\", \"Papas fritas\", \"Chocolate\", \"Galletas\", \"Chicles\", \"Velas\", \"Platos desechables\", \"Bolsas de basura\", \"Pilas\", \"Detergente\", \"Jabón líquido\", \"Esponjas\", \"Desinfectante\", \"Champú\", \"Colonia\", \"Crema hidratante\", \"Desodorante\", \"Tierra para macetas\", \"Fertilizante\", \"Semillas\", \"Regadera\"]\n",
    "precios, lista_categorias, stock = list(), list(), list()\n",
    "cantidad = len(nombres)\n",
    "for _ in range(cantidad):\n",
    "    precios.append(random.uniform(0.50, 10.50))\n",
    "    stock.append(random.randint(0, 500))\n",
    "for categ in df_categorias['id_categoria']:\n",
    "    for i in range(4):\n",
    "        lista_categorias.append(categ)\n",
    "lista_categorias        \n",
    "df_productos = pd.DataFrame(zip(nombres, precios, stock, lista_categorias), columns=['nombre_producto', 'precio', 'stock', 'id_categoria'])    \n",
    "df_productos = df_productos.reset_index().rename({'index': 'id_producto'}, axis=1)\n",
    "df_productos['id_producto'] = df_productos['id_producto'] + 1\n",
    "df_productos"
   ]
  },
  {
   "cell_type": "code",
   "execution_count": 47,
   "metadata": {},
   "outputs": [
    {
     "data": {
      "text/plain": [
       "40"
      ]
     },
     "execution_count": 47,
     "metadata": {},
     "output_type": "execute_result"
    }
   ],
   "source": [
    "insertar_dataframe(df_productos, 'productos')"
   ]
  },
  {
   "cell_type": "markdown",
   "metadata": {},
   "source": [
    "clientes\n",
    "\n",
    "* id_cliente: valores enteros consecutivos (1, 2, 3...).\n",
    "* nombre_cliente: nombres y apellidos ficticios (p. ej. “Carlos López”, “María Gil”).\n",
    "* email: podrías generar correos ficticios (p. ej. “carlos.lopez@test.com”).\n",
    "* telefono: número de 9 o 10 dígitos (dependiendo del país).\n",
    "* direccion: calles y números ficticios (p. ej. “Av. Siempre Viva 742”).\n",
    "\n",
    "En total: 2000.\n"
   ]
  },
  {
   "cell_type": "code",
   "execution_count": null,
   "metadata": {},
   "outputs": [],
   "source": [
    "# generar columna id_cliente\n",
    "nombre_cliente, apellido_cliente, email, phone, direccion = list(), list(), list(), list(), list()\n",
    "\n",
    "df_clientes = df_clientes.reset_index().rename({'index': 'id_cliente'}, axis=1)\n",
    "df_clientes['id_cliente'] = df_clientes['id_cliente'] + 1\n",
    "df_clientes"
   ]
  },
  {
   "cell_type": "code",
   "execution_count": null,
   "metadata": {},
   "outputs": [],
   "source": [
    "insertar_dataframe(df_clientes, 'clientes')"
   ]
  },
  {
   "cell_type": "markdown",
   "metadata": {},
   "source": [
    "ordenes\n",
    "\n",
    "* id_orden: valores enteros consecutivos (1, 2, 3...).\n",
    "* id_cliente: haz referencia a los IDs existentes de la tabla clientes.\n",
    "* id_empleado: haz referencia a los IDs existentes de la tabla empleados.\n",
    "* fecha_orden: genera fechas aleatorias o secuenciales (p. ej. entre ‘2024-01-01’ y ‘2025-01-01’).\n",
    "* metodo_pago: escoge entre {‘Tarjeta’, ‘Efectivo’}.\n",
    "\n",
    "En total: 10000.\n"
   ]
  },
  {
   "cell_type": "code",
   "execution_count": null,
   "metadata": {},
   "outputs": [],
   "source": [
    "# generar columna id_orden\n",
    "df_ordenes = df_ordenes.reset_index().rename({'index': 'id_orden'}, axis=1)\n",
    "df_ordenes['id_orden'] = df_ordenes['id_orden'] + 1\n",
    "df_ordenes"
   ]
  },
  {
   "cell_type": "code",
   "execution_count": null,
   "metadata": {},
   "outputs": [],
   "source": [
    "insertar_dataframe(df_ordenes, 'ordenes')"
   ]
  },
  {
   "cell_type": "markdown",
   "metadata": {},
   "source": [
    "detalle_orden\n",
    "\n",
    "* id_detalle: valores enteros consecutivos (1, 2, 3...).\n",
    "* id_orden: referencia al ID de alguna orden válida.\n",
    "* id_producto: referencia al ID de algún producto válido.\n",
    "* cantidad: valores entre 1 y 20, por ejemplo.\n",
    "* precio_unitario: usar el mismo precio que está en la tabla productos o uno ligeramente distinto si quieres simular ofertas.\n",
    "* descuento: valores DECIMAL bajos (p. ej. 0.00, 1.00, 2.50) o NULL.\n",
    "\n",
    "En total: 30000."
   ]
  },
  {
   "cell_type": "code",
   "execution_count": null,
   "metadata": {},
   "outputs": [],
   "source": [
    "# generar columna id_detalle\n",
    "df_detalle_orden = df_detalle_orden.reset_index().rename({'index': 'id_detalle'}, axis=1)\n",
    "df_detalle_orden['id_detalle'] = df_detalle_orden['id_detalle'] + 1\n",
    "df_detalle_orden"
   ]
  },
  {
   "cell_type": "code",
   "execution_count": null,
   "metadata": {},
   "outputs": [],
   "source": [
    "insertar_dataframe(df_detalle_orden, 'detalle_orden')"
   ]
  },
  {
   "cell_type": "markdown",
   "metadata": {},
   "source": [
    "### 3. Consultas SQL (34%)"
   ]
  },
  {
   "cell_type": "markdown",
   "metadata": {},
   "source": [
    "1. Listado de órdenes con detalles de cliente y empleado\n",
    "* Muestra el ID de la orden, la fecha, el nombre del cliente, el nombre del empleado que atendió la compra y el método de pago.\n",
    "* Utiliza un JOIN entre las tablas ordenes, clientes y empleados."
   ]
  },
  {
   "cell_type": "code",
   "execution_count": null,
   "metadata": {},
   "outputs": [],
   "source": []
  },
  {
   "cell_type": "markdown",
   "metadata": {},
   "source": [
    "2. Productos con stock bajo\n",
    "* Filtra aquellos productos cuyo stock sea menor a 10.\n",
    "* Muestra nombre del producto, categoría y stock.\n"
   ]
  },
  {
   "cell_type": "code",
   "execution_count": null,
   "metadata": {},
   "outputs": [],
   "source": []
  },
  {
   "cell_type": "markdown",
   "metadata": {},
   "source": [
    "3. Ventas totales por categoría\n",
    "* Muestra el nombre de la categoría y la suma total de las ventas (ej.: multiplicando cantidad * precio_unitario) para cada categoría.\n",
    "* Realiza el JOIN con detalle_orden, productos y categorias.\n",
    "* Utiliza agrupación (GROUP BY)."
   ]
  },
  {
   "cell_type": "code",
   "execution_count": null,
   "metadata": {},
   "outputs": [],
   "source": []
  },
  {
   "cell_type": "markdown",
   "metadata": {},
   "source": [
    "4. Clientes con mayores gastos acumulados\n",
    "* Muestra el nombre del cliente y el monto total que ha gastado (suma de todas sus órdenes).\n",
    "* Asegúrate de tener en cuenta posibles descuentos (descuento) si se ha definido. Por ejemplo, la fórmula podría ser (cantidad * precio_unitario) - descuento.\n",
    "* Ordena el resultado de mayor a menor gasto acumulado."
   ]
  },
  {
   "cell_type": "code",
   "execution_count": null,
   "metadata": {},
   "outputs": [],
   "source": []
  },
  {
   "cell_type": "markdown",
   "metadata": {},
   "source": [
    "5. Empleados y número de órdenes gestionadas\n",
    "* Muestra el nombre del empleado, el puesto y la cantidad de órdenes que ha gestionado.\n",
    "* Utiliza GROUP BY y COUNT."
   ]
  },
  {
   "cell_type": "code",
   "execution_count": null,
   "metadata": {},
   "outputs": [],
   "source": []
  },
  {
   "cell_type": "markdown",
   "metadata": {},
   "source": [
    "6. Ordenes filtradas por fecha y tienda\n",
    "* Muestra todas las órdenes que se realizaron en un rango de fechas determinado (ej.: del 1 de enero de 2025 al 31 de enero de 2025) y en una tienda específica.\n",
    "* Incluye datos de la tienda y del cliente."
   ]
  },
  {
   "cell_type": "code",
   "execution_count": null,
   "metadata": {},
   "outputs": [],
   "source": []
  },
  {
   "cell_type": "markdown",
   "metadata": {},
   "source": [
    "7. Ranking de productos más vendidos en cada tienda\n",
    "* Para cada tienda, muestra los 3 productos más vendidos (en términos de cantidad total).\n",
    "* Tendrás que unir tiendas, empleados, ordenes y detalle_orden, además de productos.\n",
    "* Usa GROUP BY y ordena por la cantidad sumada (y opcionalmente, un LIMIT 3).\n"
   ]
  },
  {
   "cell_type": "code",
   "execution_count": null,
   "metadata": {},
   "outputs": [],
   "source": []
  },
  {
   "cell_type": "markdown",
   "metadata": {},
   "source": [
    "Opcional: añadir alguna consulta con subconsultas o algo que no se abarque en las anteriores consulta."
   ]
  },
  {
   "cell_type": "code",
   "execution_count": null,
   "metadata": {},
   "outputs": [],
   "source": []
  }
 ],
 "metadata": {
  "kernelspec": {
   "display_name": "Python 3",
   "language": "python",
   "name": "python3"
  },
  "language_info": {
   "codemirror_mode": {
    "name": "ipython",
    "version": 3
   },
   "file_extension": ".py",
   "mimetype": "text/x-python",
   "name": "python",
   "nbconvert_exporter": "python",
   "pygments_lexer": "ipython3",
   "version": "3.13.1"
  }
 },
 "nbformat": 4,
 "nbformat_minor": 2
}
