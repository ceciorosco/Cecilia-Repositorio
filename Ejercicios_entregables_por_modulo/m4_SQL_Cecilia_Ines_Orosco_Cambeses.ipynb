{
 "cells": [
  {
   "cell_type": "code",
   "execution_count": 5,
   "metadata": {},
   "outputs": [],
   "source": [
    "import mysql.connector as con\n",
    "import pandas as pd\n",
    "import random\n",
    "import datetime \n",
    "from datetime import datetime, timedelta\n"
   ]
  },
  {
   "cell_type": "markdown",
   "metadata": {},
   "source": [
    "## ENUNCIADO EJERCICIO \n",
    "\n",
    "### 1. CREAR BASE DE DATOS (33%)\n",
    "\n",
    "* Crear con código SQL una base de datos llamada supermercado.\n",
    "* Código Python con mysql connector que ejecute el SQL para borrar y generar la base de datos vacía."
   ]
  },
  {
   "cell_type": "code",
   "execution_count": 16,
   "metadata": {},
   "outputs": [],
   "source": [
    "def crear_tabla(sql):\n",
    "    try:\n",
    "        connection = con.connect(\n",
    "            host=\"localhost\",\n",
    "            port=\"3306\",\n",
    "            user=\"root\",\n",
    "            password=\"admin\",\n",
    "            database='supermercado'\n",
    "        )\n",
    "        cursor = connection.cursor()\n",
    "        cursor.execute(sql)\n",
    "    except con.Error as error:\n",
    "        print(f\"Ha ocurrido un error: {error}\")\n",
    "        if connection:\n",
    "            connection.rollback()\n",
    "        return 0\n",
    "    finally:\n",
    "        if cursor: \n",
    "            cursor.close()\n",
    "        if connection:\n",
    "            connection.close()"
   ]
  },
  {
   "cell_type": "code",
   "execution_count": 10,
   "metadata": {},
   "outputs": [],
   "source": [
    "sql = \"DROP DATABASE IF EXISTS supermercado; CREATE DATABASE IF NOT EXISTS supermercado;\""
   ]
  },
  {
   "cell_type": "code",
   "execution_count": 11,
   "metadata": {},
   "outputs": [],
   "source": [
    "crear_tabla(sql)"
   ]
  },
  {
   "cell_type": "markdown",
   "metadata": {},
   "source": [
    "## Crear TABLAS"
   ]
  },
  {
   "cell_type": "markdown",
   "metadata": {},
   "source": [
    "tiendas\n",
    "- id_tienda (PRIMARY KEY)\n",
    "- nombre_tienda\n",
    "- direccion\n",
    "- ciudad"
   ]
  },
  {
   "cell_type": "code",
   "execution_count": 17,
   "metadata": {},
   "outputs": [],
   "source": [
    "sql = \"CREATE TABLE IF NOT EXISTS tiendas (id_tienda INT AUTO_INCREMENT PRIMARY KEY, nombre_tienda VARCHAR(255) NOT NULL, direccion VARCHAR(255), ciudad VARCHAR(255) NOT NULL);\""
   ]
  },
  {
   "cell_type": "code",
   "execution_count": 18,
   "metadata": {},
   "outputs": [],
   "source": [
    "crear_tabla(sql)"
   ]
  },
  {
   "cell_type": "markdown",
   "metadata": {},
   "source": [
    "empleados\n",
    "- id_empleado (PRIMARY KEY)\n",
    "- nombre_empleado\n",
    "- puesto (ej.: Cajero, Gerente, Reponedor)\n",
    "- id_tienda (FOREIGN KEY que hace referencia a tiendas.id_tienda)"
   ]
  },
  {
   "cell_type": "code",
   "execution_count": 19,
   "metadata": {},
   "outputs": [],
   "source": [
    "sql = \"CREATE TABLE IF NOT EXISTS empleados (id_empleado INT AUTO_INCREMENT PRIMARY KEY, nombre_empleado VARCHAR(255) NOT NULL, puesto VARCHAR(60), id_tienda INT NOT NULL, FOREIGN KEY (id_tienda) REFERENCES tiendas(id_tienda) ON DELETE CASCADE);\"C"
   ]
  },
  {
   "cell_type": "code",
   "execution_count": 20,
   "metadata": {},
   "outputs": [],
   "source": [
    "crear_tabla(sql)"
   ]
  },
  {
   "cell_type": "markdown",
   "metadata": {},
   "source": [
    "categorias\n",
    "- id_categoria (PRIMARY KEY)\n",
    "- nombre_categoria"
   ]
  },
  {
   "cell_type": "code",
   "execution_count": 23,
   "metadata": {},
   "outputs": [],
   "source": [
    "sql = \"CREATE TABLE IF NOT EXISTS categorias (id_categoria INT AUTO_INCREMENT PRIMARY KEY, nombre_categoria VARCHAR(60));\""
   ]
  },
  {
   "cell_type": "code",
   "execution_count": 24,
   "metadata": {},
   "outputs": [],
   "source": [
    "crear_tabla(sql)"
   ]
  },
  {
   "cell_type": "markdown",
   "metadata": {},
   "source": [
    "productos\n",
    "- id_producto (PRIMARY KEY)\n",
    "- nombre_producto\n",
    "- precio\n",
    "- stock\n",
    "- id_categoria (FOREIGN KEY que hace referencia a categorias.id_categoria)"
   ]
  },
  {
   "cell_type": "code",
   "execution_count": 27,
   "metadata": {},
   "outputs": [],
   "source": [
    "sql = \"CREATE TABLE IF NOT EXISTS productos (id_producto INT AUTO_INCREMENT PRIMARY KEY, nombre_producto VARCHAR(70), precio FLOAT(8,2), stock INT, id_categoria INT NOT NULL, FOREIGN KEY (id_categoria) REFERENCES categorias(id_categoria));\""
   ]
  },
  {
   "cell_type": "code",
   "execution_count": 28,
   "metadata": {},
   "outputs": [],
   "source": [
    "crear_tabla(sql)"
   ]
  },
  {
   "cell_type": "markdown",
   "metadata": {},
   "source": [
    "clientes\n",
    "- id_cliente (PRIMARY KEY)\n",
    "- first_name\n",
    "- last_name\n",
    "- email\n",
    "- codigo_postal"
   ]
  },
  {
   "cell_type": "code",
   "execution_count": 31,
   "metadata": {},
   "outputs": [],
   "source": [
    "sql = \"CREATE TABLE IF NOT EXISTS clientes (id_cliente INT AUTO_INCREMENT PRIMARY KEY, first_name VARCHAR(50), last_name VARCHAR(50), email VARCHAR(200), codigo_postal INT);\""
   ]
  },
  {
   "cell_type": "code",
   "execution_count": 30,
   "metadata": {},
   "outputs": [],
   "source": [
    "crear_tabla(sql)"
   ]
  },
  {
   "cell_type": "markdown",
   "metadata": {},
   "source": [
    "ordenes\n",
    "- id_orden (PRIMARY KEY)\n",
    "- id_cliente (FOREIGN KEY que hace referencia a clientes.id_cliente)\n",
    "- id_empleado (FOREIGN KEY que hace referencia a empleados.id_empleado)\n",
    "- fecha_orden\n",
    "- metodo_pago (una enum que solo admita tres valores Tarjeta, Efectivo)"
   ]
  },
  {
   "cell_type": "code",
   "execution_count": 32,
   "metadata": {},
   "outputs": [],
   "source": [
    "sql = \"CREATE TABLE IF NOT EXISTS ordenes (id_orden INT AUTO_INCREMENT PRIMARY KEY, id_cliente INT, id_empleado INT, fecha_orden DATE, metodo_pago ENUM('Tarjeta', 'Efectivo') DEFAULT 'Efectivo', FOREIGN KEY (id_cliente) REFERENCES clientes(id_cliente), FOREIGN KEY (id_empleado) REFERENCES empleados(id_empleado));\""
   ]
  },
  {
   "cell_type": "code",
   "execution_count": 33,
   "metadata": {},
   "outputs": [],
   "source": [
    "crear_tabla(sql)"
   ]
  },
  {
   "cell_type": "markdown",
   "metadata": {},
   "source": [
    "detalle_orden\n",
    "- id_detalle (PRIMARY KEY)\n",
    "- id_orden (FOREIGN KEY que hace referencia a ordenes.id_orden) NOT NULL\n",
    "- id_producto (FOREIGN KEY que hace referencia a productos.id_producto) NOT NULL\n",
    "- cantidad\n",
    "- precio_unitario: mismo precio que en la tabla producto\n",
    "- descuento (podría ser NULL si no se aplica)"
   ]
  },
  {
   "cell_type": "code",
   "execution_count": 40,
   "metadata": {},
   "outputs": [],
   "source": [
    "sql = \"CREATE TABLE IF NOT EXISTS detalle_orden (id_detalle INT AUTO_INCREMENT PRIMARY KEY, id_orden INT NOT NULL, id_producto INT NOT NULL, cantidad FLOAT(8,2), precio_unitario FLOAT(8,2), descuento TINYINT, FOREIGN KEY (id_orden) REFERENCES ordenes(id_orden), FOREIGN KEY (id_producto) REFERENCES productos(id_producto));\""
   ]
  },
  {
   "cell_type": "code",
   "execution_count": 41,
   "metadata": {},
   "outputs": [],
   "source": [
    "crear_tabla(sql)"
   ]
  },
  {
   "cell_type": "markdown",
   "metadata": {},
   "source": [
    "### 2. Generar datos demo desde Python (33%)\n",
    "\n",
    "* Generar datos aleatorios en listas con Python similar los realizados en clase.\n",
    "    * Uso de datetime, timedelta, random para generar datos aleatorios\n",
    "* Pasar los datos a DataFrames de Pandas\n",
    "* Pasar los DataFrames de Pandas a MySQL usando la función to_sql de Pandas con SQLAlchemy o usando MySQL Connector con sentencias INSERT."
   ]
  },
  {
   "cell_type": "code",
   "execution_count": 38,
   "metadata": {},
   "outputs": [],
   "source": [
    "def insertar_dataframe(df, table_name):\n",
    "    try:\n",
    "        connection = con.connect(\n",
    "            host=\"localhost\",\n",
    "            port=\"3306\",\n",
    "            user=\"root\",\n",
    "            password=\"admin\",\n",
    "            database='supermercado'\n",
    "        )\n",
    "        cursor = connection.cursor()\n",
    "        \n",
    "        columns = ','.join(df.columns)\n",
    "        placeholders = ','.join(['%s'] * len(df.columns))\n",
    "        sql = f'INSERT INTO {table_name} ({columns}) VALUES ({placeholders});'\n",
    "    \n",
    "        rows = [tuple(row) for index, row in df.iterrows()] # lista de tuplas con los datos del dataframe\n",
    "\n",
    "        cursor.executemany(sql, rows)\n",
    "        \n",
    "        connection.commit()\n",
    "        return cursor.rowcount\n",
    "    except con.Error as error:\n",
    "        print(f\"Ha ocurrido un error: {error}\")\n",
    "        if connection:\n",
    "            connection.rollback()\n",
    "        return 0\n",
    "    finally:\n",
    "        if cursor: \n",
    "            cursor.close()\n",
    "        if connection:\n",
    "            connection.close()"
   ]
  },
  {
   "cell_type": "markdown",
   "metadata": {},
   "source": [
    "tiendas\n",
    "\n",
    "* id_tienda: valores enteros consecutivos (por ejemplo, 1, 2, 3...).\n",
    "* nombre_tienda: nombres ficticios o genéricos (p. ej. \"Tienda Centro\", \"Super Norte\", \"Super Sur\").\n",
    "* direccion: direcciones simples (p. ej. “Calle Falsa 123”).\n",
    "* ciudad: usar nombres de ciudades ficticias o reales (p. ej. “Madrid”, “Barcelona”, “México DF”, etc.).\n",
    "\n",
    "En total 5 o 10 tiendas."
   ]
  },
  {
   "cell_type": "code",
   "execution_count": null,
   "metadata": {},
   "outputs": [],
   "source": []
  },
  {
   "cell_type": "code",
   "execution_count": null,
   "metadata": {},
   "outputs": [],
   "source": []
  },
  {
   "cell_type": "markdown",
   "metadata": {},
   "source": [
    "empleados\n",
    "\n",
    "* id_empleado: valores enteros consecutivos (1, 2, 3...).\n",
    "* nombre_empleado: nombres y apellidos ficticios (p. ej. “Laura Gutiérrez”, “Juan Pérez”).\n",
    "* puesto: limitarse a un conjunto reducido de valores (p. ej. {‘Cajero’, ‘Gerente’, ‘Reponedor’, ‘Vendedor’}).\n",
    "* id_tienda: debe hacer referencia a una tienda existente (por ejemplo, un número entre 1 y 3 si solo tienes 3 tiendas).\n",
    "\n",
    "En total 20 empleados por tienda."
   ]
  },
  {
   "cell_type": "code",
   "execution_count": null,
   "metadata": {},
   "outputs": [],
   "source": []
  },
  {
   "cell_type": "code",
   "execution_count": null,
   "metadata": {},
   "outputs": [],
   "source": []
  },
  {
   "cell_type": "markdown",
   "metadata": {},
   "source": [
    "categorias\n",
    "\n",
    "* id_categoria: valores enteros consecutivos (1, 2, 3...).\n",
    "* nombre_categoria: selección de categorías (p. ej. “Lácteos”, “Carnes”, “Frutas”, “Verduras”, “Bebidas”, “Snacks”).\n",
    "\n",
    "En total 10 categorías"
   ]
  },
  {
   "cell_type": "code",
   "execution_count": 36,
   "metadata": {},
   "outputs": [
    {
     "data": {
      "text/html": [
       "<div>\n",
       "<style scoped>\n",
       "    .dataframe tbody tr th:only-of-type {\n",
       "        vertical-align: middle;\n",
       "    }\n",
       "\n",
       "    .dataframe tbody tr th {\n",
       "        vertical-align: top;\n",
       "    }\n",
       "\n",
       "    .dataframe thead th {\n",
       "        text-align: right;\n",
       "    }\n",
       "</style>\n",
       "<table border=\"1\" class=\"dataframe\">\n",
       "  <thead>\n",
       "    <tr style=\"text-align: right;\">\n",
       "      <th></th>\n",
       "      <th>id_categoria</th>\n",
       "      <th>nombre_categoria</th>\n",
       "    </tr>\n",
       "  </thead>\n",
       "  <tbody>\n",
       "    <tr>\n",
       "      <th>0</th>\n",
       "      <td>1</td>\n",
       "      <td>Lácteos</td>\n",
       "    </tr>\n",
       "    <tr>\n",
       "      <th>1</th>\n",
       "      <td>2</td>\n",
       "      <td>Carnes</td>\n",
       "    </tr>\n",
       "    <tr>\n",
       "      <th>2</th>\n",
       "      <td>3</td>\n",
       "      <td>Frutas</td>\n",
       "    </tr>\n",
       "    <tr>\n",
       "      <th>3</th>\n",
       "      <td>4</td>\n",
       "      <td>Verduras</td>\n",
       "    </tr>\n",
       "    <tr>\n",
       "      <th>4</th>\n",
       "      <td>5</td>\n",
       "      <td>Bebidas</td>\n",
       "    </tr>\n",
       "    <tr>\n",
       "      <th>5</th>\n",
       "      <td>6</td>\n",
       "      <td>Snacks</td>\n",
       "    </tr>\n",
       "    <tr>\n",
       "      <th>6</th>\n",
       "      <td>7</td>\n",
       "      <td>Hogar</td>\n",
       "    </tr>\n",
       "    <tr>\n",
       "      <th>7</th>\n",
       "      <td>8</td>\n",
       "      <td>Limpieza</td>\n",
       "    </tr>\n",
       "    <tr>\n",
       "      <th>8</th>\n",
       "      <td>9</td>\n",
       "      <td>Perfumería</td>\n",
       "    </tr>\n",
       "    <tr>\n",
       "      <th>9</th>\n",
       "      <td>10</td>\n",
       "      <td>Jardín</td>\n",
       "    </tr>\n",
       "  </tbody>\n",
       "</table>\n",
       "</div>"
      ],
      "text/plain": [
       "   id_categoria nombre_categoria\n",
       "0             1          Lácteos\n",
       "1             2           Carnes\n",
       "2             3           Frutas\n",
       "3             4         Verduras\n",
       "4             5          Bebidas\n",
       "5             6           Snacks\n",
       "6             7            Hogar\n",
       "7             8         Limpieza\n",
       "8             9       Perfumería\n",
       "9            10           Jardín"
      ]
     },
     "execution_count": 36,
     "metadata": {},
     "output_type": "execute_result"
    }
   ],
   "source": [
    "categorias = ['Lácteos', 'Carnes', 'Frutas', 'Verduras', 'Bebidas', 'Snacks', 'Hogar', 'Limpieza', 'Perfumería', 'Jardín']\n",
    "\n",
    "df_categorias = pd.DataFrame(categorias, columns=['nombre_categoria'])\n",
    "\n",
    "# generar columna modulo_id\n",
    "df_categorias = df_categorias.reset_index().rename({'index': 'id_categoria'}, axis=1)\n",
    "df_categorias['id_categoria'] = df_categorias['id_categoria'] + 1\n",
    "df_categorias"
   ]
  },
  {
   "cell_type": "code",
   "execution_count": 39,
   "metadata": {},
   "outputs": [
    {
     "data": {
      "text/plain": [
       "10"
      ]
     },
     "execution_count": 39,
     "metadata": {},
     "output_type": "execute_result"
    }
   ],
   "source": [
    "insertar_dataframe(df_categorias, 'categorias')"
   ]
  },
  {
   "cell_type": "markdown",
   "metadata": {},
   "source": [
    "\n",
    "productos\n",
    "\n",
    "* id_producto: valores enteros consecutivos (1, 2, 3...).\n",
    "nombre_producto: nombres como “Leche Entera”, “Manzana Roja”, “Refresco de Cola”, etc.\n",
    "* precio: valores DECIMAL entre 0.50 y 50.00, por ejemplo.\n",
    "* stock: valores INT entre 0 y 500 (o el rango que quieras).\n",
    "* id_categoria: debe hacer referencia a las categorías que hayas definido (1, 2, 3, etc.).\n",
    "\n",
    "En total 4 productos de cada categoría."
   ]
  },
  {
   "cell_type": "code",
   "execution_count": null,
   "metadata": {},
   "outputs": [],
   "source": []
  },
  {
   "cell_type": "code",
   "execution_count": null,
   "metadata": {},
   "outputs": [],
   "source": []
  },
  {
   "cell_type": "markdown",
   "metadata": {},
   "source": [
    "clientes\n",
    "\n",
    "* id_cliente: valores enteros consecutivos (1, 2, 3...).\n",
    "* nombre_cliente: nombres y apellidos ficticios (p. ej. “Carlos López”, “María Gil”).\n",
    "* email: podrías generar correos ficticios (p. ej. “carlos.lopez@test.com”).\n",
    "* telefono: número de 9 o 10 dígitos (dependiendo del país).\n",
    "* direccion: calles y números ficticios (p. ej. “Av. Siempre Viva 742”).\n",
    "\n",
    "En total: 2000.\n"
   ]
  },
  {
   "cell_type": "code",
   "execution_count": null,
   "metadata": {},
   "outputs": [],
   "source": []
  },
  {
   "cell_type": "code",
   "execution_count": null,
   "metadata": {},
   "outputs": [],
   "source": []
  },
  {
   "cell_type": "markdown",
   "metadata": {},
   "source": [
    "ordenes\n",
    "\n",
    "* id_orden: valores enteros consecutivos (1, 2, 3...).\n",
    "* id_cliente: haz referencia a los IDs existentes de la tabla clientes.\n",
    "* id_empleado: haz referencia a los IDs existentes de la tabla empleados.\n",
    "* fecha_orden: genera fechas aleatorias o secuenciales (p. ej. entre ‘2024-01-01’ y ‘2025-01-01’).\n",
    "* metodo_pago: escoge entre {‘Tarjeta’, ‘Efectivo’}.\n",
    "\n",
    "En total: 10000.\n"
   ]
  },
  {
   "cell_type": "code",
   "execution_count": null,
   "metadata": {},
   "outputs": [],
   "source": []
  },
  {
   "cell_type": "code",
   "execution_count": null,
   "metadata": {},
   "outputs": [],
   "source": []
  },
  {
   "cell_type": "markdown",
   "metadata": {},
   "source": [
    "detalle_orden\n",
    "\n",
    "* id_detalle: valores enteros consecutivos (1, 2, 3...).\n",
    "* id_orden: referencia al ID de alguna orden válida.\n",
    "* id_producto: referencia al ID de algún producto válido.\n",
    "* cantidad: valores entre 1 y 20, por ejemplo.\n",
    "* precio_unitario: usar el mismo precio que está en la tabla productos o uno ligeramente distinto si quieres simular ofertas.\n",
    "* descuento: valores DECIMAL bajos (p. ej. 0.00, 1.00, 2.50) o NULL.\n",
    "\n",
    "En total: 30000."
   ]
  },
  {
   "cell_type": "code",
   "execution_count": null,
   "metadata": {},
   "outputs": [],
   "source": []
  },
  {
   "cell_type": "code",
   "execution_count": null,
   "metadata": {},
   "outputs": [],
   "source": []
  },
  {
   "cell_type": "markdown",
   "metadata": {},
   "source": [
    "### 3. Consultas SQL (34%)"
   ]
  },
  {
   "cell_type": "markdown",
   "metadata": {},
   "source": [
    "1. Listado de órdenes con detalles de cliente y empleado\n",
    "* Muestra el ID de la orden, la fecha, el nombre del cliente, el nombre del empleado que atendió la compra y el método de pago.\n",
    "* Utiliza un JOIN entre las tablas ordenes, clientes y empleados."
   ]
  },
  {
   "cell_type": "code",
   "execution_count": null,
   "metadata": {},
   "outputs": [],
   "source": []
  },
  {
   "cell_type": "markdown",
   "metadata": {},
   "source": [
    "2. Productos con stock bajo\n",
    "* Filtra aquellos productos cuyo stock sea menor a 10.\n",
    "* Muestra nombre del producto, categoría y stock.\n"
   ]
  },
  {
   "cell_type": "code",
   "execution_count": null,
   "metadata": {},
   "outputs": [],
   "source": []
  },
  {
   "cell_type": "markdown",
   "metadata": {},
   "source": [
    "3. Ventas totales por categoría\n",
    "* Muestra el nombre de la categoría y la suma total de las ventas (ej.: multiplicando cantidad * precio_unitario) para cada categoría.\n",
    "* Realiza el JOIN con detalle_orden, productos y categorias.\n",
    "* Utiliza agrupación (GROUP BY)."
   ]
  },
  {
   "cell_type": "code",
   "execution_count": null,
   "metadata": {},
   "outputs": [],
   "source": []
  },
  {
   "cell_type": "markdown",
   "metadata": {},
   "source": [
    "4. Clientes con mayores gastos acumulados\n",
    "* Muestra el nombre del cliente y el monto total que ha gastado (suma de todas sus órdenes).\n",
    "* Asegúrate de tener en cuenta posibles descuentos (descuento) si se ha definido. Por ejemplo, la fórmula podría ser (cantidad * precio_unitario) - descuento.\n",
    "* Ordena el resultado de mayor a menor gasto acumulado."
   ]
  },
  {
   "cell_type": "code",
   "execution_count": null,
   "metadata": {},
   "outputs": [],
   "source": []
  },
  {
   "cell_type": "markdown",
   "metadata": {},
   "source": [
    "5. Empleados y número de órdenes gestionadas\n",
    "* Muestra el nombre del empleado, el puesto y la cantidad de órdenes que ha gestionado.\n",
    "* Utiliza GROUP BY y COUNT."
   ]
  },
  {
   "cell_type": "code",
   "execution_count": null,
   "metadata": {},
   "outputs": [],
   "source": []
  },
  {
   "cell_type": "markdown",
   "metadata": {},
   "source": [
    "6. Ordenes filtradas por fecha y tienda\n",
    "* Muestra todas las órdenes que se realizaron en un rango de fechas determinado (ej.: del 1 de enero de 2025 al 31 de enero de 2025) y en una tienda específica.\n",
    "* Incluye datos de la tienda y del cliente."
   ]
  },
  {
   "cell_type": "code",
   "execution_count": null,
   "metadata": {},
   "outputs": [],
   "source": []
  },
  {
   "cell_type": "markdown",
   "metadata": {},
   "source": [
    "7. Ranking de productos más vendidos en cada tienda\n",
    "* Para cada tienda, muestra los 3 productos más vendidos (en términos de cantidad total).\n",
    "* Tendrás que unir tiendas, empleados, ordenes y detalle_orden, además de productos.\n",
    "* Usa GROUP BY y ordena por la cantidad sumada (y opcionalmente, un LIMIT 3).\n"
   ]
  },
  {
   "cell_type": "code",
   "execution_count": null,
   "metadata": {},
   "outputs": [],
   "source": []
  },
  {
   "cell_type": "markdown",
   "metadata": {},
   "source": [
    "Opcional: añadir alguna consulta con subconsultas o algo que no se abarque en las anteriores consulta."
   ]
  },
  {
   "cell_type": "code",
   "execution_count": null,
   "metadata": {},
   "outputs": [],
   "source": []
  }
 ],
 "metadata": {
  "kernelspec": {
   "display_name": "Python 3",
   "language": "python",
   "name": "python3"
  },
  "language_info": {
   "codemirror_mode": {
    "name": "ipython",
    "version": 3
   },
   "file_extension": ".py",
   "mimetype": "text/x-python",
   "name": "python",
   "nbconvert_exporter": "python",
   "pygments_lexer": "ipython3",
   "version": "3.13.1"
  }
 },
 "nbformat": 4,
 "nbformat_minor": 2
}
