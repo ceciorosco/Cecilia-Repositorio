{
 "cells": [
  {
   "cell_type": "code",
   "execution_count": 1,
   "metadata": {},
   "outputs": [],
   "source": [
    "import mysql.connector as con\n",
    "import pandas as pd\n",
    "import random\n",
    "import datetime \n",
    "from datetime import datetime, timedelta\n"
   ]
  },
  {
   "cell_type": "markdown",
   "metadata": {},
   "source": [
    "## ENUNCIADO EJERCICIO \n",
    "\n",
    "### 1. CREAR BASE DE DATOS (33%)\n",
    "\n",
    "* Crear con código SQL una base de datos llamada supermercado.\n",
    "* Código Python con mysql connector que ejecute el SQL para borrar y generar la base de datos vacía."
   ]
  },
  {
   "cell_type": "code",
   "execution_count": 2,
   "metadata": {},
   "outputs": [],
   "source": [
    "def crear_tabla(sql):\n",
    "    try:\n",
    "        connection = con.connect(\n",
    "            host=\"localhost\",\n",
    "            port=\"3306\",\n",
    "            user=\"root\",\n",
    "            password=\"admin\",\n",
    "            database='supermercado'\n",
    "        )\n",
    "        cursor = connection.cursor()\n",
    "        cursor.execute(sql)\n",
    "    except con.Error as error:\n",
    "        print(f\"Ha ocurrido un error: {error}\")\n",
    "        if connection:\n",
    "            connection.rollback()\n",
    "        return 0\n",
    "    finally:\n",
    "        if cursor: \n",
    "            cursor.close()\n",
    "        if connection:\n",
    "            connection.close()"
   ]
  },
  {
   "cell_type": "code",
   "execution_count": 3,
   "metadata": {},
   "outputs": [],
   "source": [
    "sql = \"DROP DATABASE IF EXISTS supermercado; CREATE DATABASE IF NOT EXISTS supermercado;\""
   ]
  },
  {
   "cell_type": "code",
   "execution_count": 4,
   "metadata": {},
   "outputs": [],
   "source": [
    "crear_tabla(sql)"
   ]
  },
  {
   "cell_type": "markdown",
   "metadata": {},
   "source": [
    "## Crear TABLAS"
   ]
  },
  {
   "cell_type": "markdown",
   "metadata": {},
   "source": [
    "tiendas\n",
    "- id_tienda (PRIMARY KEY)\n",
    "- nombre_tienda\n",
    "- direccion\n",
    "- ciudad"
   ]
  },
  {
   "cell_type": "code",
   "execution_count": 5,
   "metadata": {},
   "outputs": [],
   "source": [
    "sql = \"CREATE TABLE IF NOT EXISTS tiendas (id_tienda INT AUTO_INCREMENT PRIMARY KEY, nombre_tienda VARCHAR(255) NOT NULL, direccion VARCHAR(255), ciudad VARCHAR(255) NOT NULL);\""
   ]
  },
  {
   "cell_type": "code",
   "execution_count": 6,
   "metadata": {},
   "outputs": [],
   "source": [
    "crear_tabla(sql)"
   ]
  },
  {
   "cell_type": "markdown",
   "metadata": {},
   "source": [
    "empleados\n",
    "- id_empleado (PRIMARY KEY)\n",
    "- nombre_empleado\n",
    "- puesto (ej.: Cajero, Gerente, Reponedor)\n",
    "- id_tienda (FOREIGN KEY que hace referencia a tiendas.id_tienda)"
   ]
  },
  {
   "cell_type": "code",
   "execution_count": 7,
   "metadata": {},
   "outputs": [],
   "source": [
    "sql = \"CREATE TABLE IF NOT EXISTS empleados (id_empleado INT AUTO_INCREMENT PRIMARY KEY, nombre_empleado VARCHAR(255) NOT NULL, puesto VARCHAR(60), id_tienda INT NOT NULL, FOREIGN KEY (id_tienda) REFERENCES tiendas(id_tienda) ON DELETE CASCADE);\""
   ]
  },
  {
   "cell_type": "code",
   "execution_count": 8,
   "metadata": {},
   "outputs": [],
   "source": [
    "crear_tabla(sql)"
   ]
  },
  {
   "cell_type": "markdown",
   "metadata": {},
   "source": [
    "categorias\n",
    "- id_categoria (PRIMARY KEY)\n",
    "- nombre_categoria"
   ]
  },
  {
   "cell_type": "code",
   "execution_count": 9,
   "metadata": {},
   "outputs": [],
   "source": [
    "sql = \"CREATE TABLE IF NOT EXISTS categorias (id_categoria INT AUTO_INCREMENT PRIMARY KEY, nombre_categoria VARCHAR(60));\""
   ]
  },
  {
   "cell_type": "code",
   "execution_count": 10,
   "metadata": {},
   "outputs": [],
   "source": [
    "crear_tabla(sql)"
   ]
  },
  {
   "cell_type": "markdown",
   "metadata": {},
   "source": [
    "productos\n",
    "- id_producto (PRIMARY KEY)\n",
    "- nombre_producto\n",
    "- precio\n",
    "- stock\n",
    "- id_categoria (FOREIGN KEY que hace referencia a categorias.id_categoria)"
   ]
  },
  {
   "cell_type": "code",
   "execution_count": 11,
   "metadata": {},
   "outputs": [],
   "source": [
    "sql = \"CREATE TABLE IF NOT EXISTS productos (id_producto INT AUTO_INCREMENT PRIMARY KEY, nombre_producto VARCHAR(70), precio FLOAT(8,2), stock INT, id_categoria INT NOT NULL, FOREIGN KEY (id_categoria) REFERENCES categorias(id_categoria));\""
   ]
  },
  {
   "cell_type": "code",
   "execution_count": 12,
   "metadata": {},
   "outputs": [],
   "source": [
    "crear_tabla(sql)"
   ]
  },
  {
   "cell_type": "markdown",
   "metadata": {},
   "source": [
    "clientes\n",
    "- id_cliente (PRIMARY KEY)\n",
    "- first_name\n",
    "- last_name\n",
    "- email\n",
    "- codigo_postal"
   ]
  },
  {
   "cell_type": "code",
   "execution_count": 13,
   "metadata": {},
   "outputs": [],
   "source": [
    "sql = \"CREATE TABLE IF NOT EXISTS clientes (id_cliente INT AUTO_INCREMENT PRIMARY KEY, first_name VARCHAR(50), last_name VARCHAR(50), email VARCHAR(200), codigo_postal INT);\""
   ]
  },
  {
   "cell_type": "code",
   "execution_count": 14,
   "metadata": {},
   "outputs": [],
   "source": [
    "crear_tabla(sql)"
   ]
  },
  {
   "cell_type": "markdown",
   "metadata": {},
   "source": [
    "ordenes\n",
    "- id_orden (PRIMARY KEY)\n",
    "- id_cliente (FOREIGN KEY que hace referencia a clientes.id_cliente)\n",
    "- id_empleado (FOREIGN KEY que hace referencia a empleados.id_empleado)\n",
    "- fecha_orden\n",
    "- metodo_pago (una enum que solo admita tres valores Tarjeta, Efectivo)"
   ]
  },
  {
   "cell_type": "code",
   "execution_count": 15,
   "metadata": {},
   "outputs": [],
   "source": [
    "sql = \"CREATE TABLE IF NOT EXISTS ordenes (id_orden INT AUTO_INCREMENT PRIMARY KEY, id_cliente INT, id_empleado INT, fecha_orden DATE, metodo_pago ENUM('Tarjeta', 'Efectivo') DEFAULT 'Efectivo', FOREIGN KEY (id_cliente) REFERENCES clientes(id_cliente), FOREIGN KEY (id_empleado) REFERENCES empleados(id_empleado));\""
   ]
  },
  {
   "cell_type": "code",
   "execution_count": 16,
   "metadata": {},
   "outputs": [],
   "source": [
    "crear_tabla(sql)"
   ]
  },
  {
   "cell_type": "markdown",
   "metadata": {},
   "source": [
    "detalle_orden\n",
    "- id_detalle (PRIMARY KEY)\n",
    "- id_orden (FOREIGN KEY que hace referencia a ordenes.id_orden) NOT NULL\n",
    "- id_producto (FOREIGN KEY que hace referencia a productos.id_producto) NOT NULL\n",
    "- cantidad\n",
    "- precio_unitario: mismo precio que en la tabla producto\n",
    "- descuento (podría ser NULL si no se aplica)"
   ]
  },
  {
   "cell_type": "code",
   "execution_count": 17,
   "metadata": {},
   "outputs": [],
   "source": [
    "sql = \"CREATE TABLE IF NOT EXISTS detalle_orden (id_detalle INT AUTO_INCREMENT PRIMARY KEY, id_orden INT NOT NULL, id_producto INT NOT NULL, cantidad FLOAT(8,2), precio_unitario FLOAT(8,2), descuento TINYINT, FOREIGN KEY (id_orden) REFERENCES ordenes(id_orden), FOREIGN KEY (id_producto) REFERENCES productos(id_producto));\""
   ]
  },
  {
   "cell_type": "code",
   "execution_count": 18,
   "metadata": {},
   "outputs": [],
   "source": [
    "crear_tabla(sql)"
   ]
  },
  {
   "cell_type": "markdown",
   "metadata": {},
   "source": [
    "### 2. Generar datos demo desde Python (33%)\n",
    "\n",
    "* Generar datos aleatorios en listas con Python similar los realizados en clase.\n",
    "    * Uso de datetime, timedelta, random para generar datos aleatorios\n",
    "* Pasar los datos a DataFrames de Pandas\n",
    "* Pasar los DataFrames de Pandas a MySQL usando la función to_sql de Pandas con SQLAlchemy o usando MySQL Connector con sentencias INSERT."
   ]
  },
  {
   "cell_type": "code",
   "execution_count": 19,
   "metadata": {},
   "outputs": [],
   "source": [
    "def insertar_dataframe(df, table_name):\n",
    "    try:\n",
    "        connection = con.connect(\n",
    "            host=\"localhost\",\n",
    "            port=\"3306\",\n",
    "            user=\"root\",\n",
    "            password=\"admin\",\n",
    "            database='supermercado'\n",
    "        )\n",
    "        cursor = connection.cursor()\n",
    "        \n",
    "        columns = ','.join(df.columns)\n",
    "        placeholders = ','.join(['%s'] * len(df.columns))\n",
    "        sql = f'INSERT INTO {table_name} ({columns}) VALUES ({placeholders});'\n",
    "    \n",
    "        rows = [tuple(row) for index, row in df.iterrows()] # lista de tuplas con los datos del dataframe\n",
    "\n",
    "        cursor.executemany(sql, rows)\n",
    "        \n",
    "        connection.commit()\n",
    "        return cursor.rowcount\n",
    "    except con.Error as error:\n",
    "        print(f\"Ha ocurrido un error: {error}\")\n",
    "        if connection:\n",
    "            connection.rollback()\n",
    "        return 0\n",
    "    finally:\n",
    "        if cursor: \n",
    "            cursor.close()\n",
    "        if connection:\n",
    "            connection.close()"
   ]
  },
  {
   "cell_type": "markdown",
   "metadata": {},
   "source": [
    "tiendas\n",
    "\n",
    "* id_tienda: valores enteros consecutivos (por ejemplo, 1, 2, 3...).\n",
    "* nombre_tienda: nombres ficticios o genéricos (p. ej. \"Tienda Centro\", \"Super Norte\", \"Super Sur\").\n",
    "* direccion: direcciones simples (p. ej. “Calle Falsa 123”).\n",
    "* ciudad: usar nombres de ciudades ficticias o reales (p. ej. “Madrid”, “Barcelona”, “México DF”, etc.).\n",
    "\n",
    "En total 5 o 10 tiendas."
   ]
  },
  {
   "cell_type": "code",
   "execution_count": null,
   "metadata": {},
   "outputs": [],
   "source": [
    "tiendas = ['Jerez Este', 'Sanlucar Oeste', 'Cadiz Norte', 'Valdelagrana Sur', 'Arcos Sur', 'Chiclana Norte', 'Barbate Este', 'Vejer Oeste', 'Conil Sur', 'Rota Norte']\n",
    "direcciones = ['Calle Catavino 25', 'Calle Manzanilla 42', 'Calle del Pan 38', 'Calle Playa 57', 'Calle Castillo 182', 'Calle Barrosa 63', 'Calle Atun 98', 'Calle Pescadill 56', 'Calle Balsa 71', 'Calle Base 22']\n",
    "ciudades = ['Jerez de la Frontera', 'Sanlucar de Barrameda', 'Cadiz', 'El Puerto de Santa Maria', 'Arcos de la Frontera', 'Chiclana de la Frontera', 'Barbate', 'Vejer de la Frontera', 'Conil de la Frontera', 'Rota']\n",
    "df_tiendas = pd.DataFrame(zip(tiendas, direcciones, ciudades), columns=['nombre_tienda', 'direccion', 'ciudad'])\n",
    "# generar columna id_tienda\n",
    "df_tiendas = df_tiendas.reset_index().rename({'index': 'id_tienda'}, axis=1)\n",
    "df_tiendas['id_tienda'] = df_tiendas['id_tienda'] + 1\n",
    "df_tiendas"
   ]
  },
  {
   "cell_type": "code",
   "execution_count": null,
   "metadata": {},
   "outputs": [],
   "source": [
    "insertar_dataframe(df_tiendas, 'tiendas')"
   ]
  },
  {
   "cell_type": "markdown",
   "metadata": {},
   "source": [
    "empleados\n",
    "\n",
    "* id_empleado: valores enteros consecutivos (1, 2, 3...).\n",
    "* nombre_empleado: nombres y apellidos ficticios (p. ej. “Laura Gutiérrez”, “Juan Pérez”).\n",
    "* puesto: limitarse a un conjunto reducido de valores (p. ej. {‘Cajero’, ‘Gerente’, ‘Reponedor’, ‘Vendedor’}).\n",
    "* id_tienda: debe hacer referencia a una tienda existente (por ejemplo, un número entre 1 y 3 si solo tienes 3 tiendas).\n",
    "\n",
    "En total 20 empleados por tienda."
   ]
  },
  {
   "cell_type": "code",
   "execution_count": null,
   "metadata": {},
   "outputs": [],
   "source": []
  },
  {
   "cell_type": "code",
   "execution_count": null,
   "metadata": {},
   "outputs": [],
   "source": [
    "#generar columna id_empleado\n",
    "empleados = list()\n",
    "nombres = [\"Juan\", \"María\", \"Luis\", \"Ana\", \"Pedro\", \"Sofía\", \"Carlos\", \"Lucía\", \"Jorge\", \"Elena\", \"Manuel\", \"Laura\", \"Diego\", \"Clara\", \"Alberto\", \"Teresa\", \"Pablo\", \"Isabel\", \"Sergio\", \"Marta\", \"Roberto\", \"Julia\", \"Fernando\", \"Carmen\", \"Ricardo\", \"Paula\", \"Andrés\", \"Eva\", \"Antonio\", \"Sara\", \"José\", \"Natalia\", \"Francisco\", \"Patricia\", \"Hugo\", \"Adriana\", \"Rafael\", \"Irene\", \"Víctor\", \"Olga\", \"Daniel\", \"Noelia\", \"Álvaro\", \"Alicia\", \"Javier\", \"Rocío\", \"Enrique\", \"Amelia\", \"Gonzalo\", \"Vera\"]\n",
    "apellidos = [\"García\", \"Martínez\", \"López\", \"Sánchez\", \"Pérez\", \"González\", \"Rodríguez\", \"Fernández\", \"Moreno\", \"Jiménez\", \"Hernández\", \"Muñoz\", \"Álvarez\", \"Romero\", \"Alonso\", \"Gutiérrez\", \"Ruiz\", \"Navarro\", \"Díaz\", \"Torres\", \"Castro\", \"Vázquez\", \"Ramos\", \"Gil\", \"Ramírez\", \"Flores\", \"Ortiz\", \"Marín\", \"Serrano\", \"Iglesias\", \"Delgado\", \"Domínguez\", \"Guerrero\", \"Molina\", \"Ortega\", \"Rubio\", \"Santos\", \"Medina\", \"Castillo\", \"Cruz\", \"Reyes\", \"Herrera\", \"Peña\", \"Carrasco\", \"Calvo\", \"Vega\", \"Cabrera\", \"Campos\", \"León\", \"Fuentes\"]\n",
    "trabajo = [\"Cajero\", \"Reponedor\", \"Encargado de sección\", \"Gerente\", \"Personal de limpieza\", \"Panadero\", \"Carnicero\", \"Pescadero\", \"Responsable de almacén\", \"Supervisor de caja\", \"Frutero\", \"Charcutero\", \"Jefe de turno\", \"Operador logístico\", \"Atención al cliente\", \"Auxiliar de caja\", \"Encargado de inventario\", \"Responsable de compras\", \"Promotor de ventas\", \"Encargado de seguridad\"]\n",
    "for tienda in df_tiendas['id_tienda']:\n",
    "    for empleado in range(20):\n",
    "        nombre_empleado = (random.choice(nombres) + ' ' + random.choice(apellidos))\n",
    "        puesto = trabajo[empleado]\n",
    "        id_tienda = tienda\n",
    "        empleados.append([nombre_empleado, puesto, id_tienda])\n",
    "        \n",
    "df_empleados = pd.DataFrame(empleados, columns=['nombre_empleado', 'puesto', 'id_tienda'])\n",
    "        \n",
    "df_empleados = df_empleados.reset_index().rename({'index': 'id_empleado'}, axis=1)\n",
    "df_empleados['id_empleado'] = df_empleados['id_empleado'] + 1\n",
    "df_empleados"
   ]
  },
  {
   "cell_type": "code",
   "execution_count": null,
   "metadata": {},
   "outputs": [],
   "source": [
    "insertar_dataframe(df_empleados, \"empleados\")"
   ]
  },
  {
   "cell_type": "markdown",
   "metadata": {},
   "source": [
    "categorias\n",
    "\n",
    "* id_categoria: valores enteros consecutivos (1, 2, 3...).\n",
    "* nombre_categoria: selección de categorías (p. ej. “Lácteos”, “Carnes”, “Frutas”, “Verduras”, “Bebidas”, “Snacks”).\n",
    "\n",
    "En total 10 categorías"
   ]
  },
  {
   "cell_type": "code",
   "execution_count": null,
   "metadata": {},
   "outputs": [],
   "source": [
    "categorias = ['Lácteos', 'Carnes', 'Frutas', 'Verduras', 'Bebidas', 'Snacks', 'Hogar', 'Limpieza', 'Perfumería', 'Jardín']\n",
    "\n",
    "df_categorias = pd.DataFrame(categorias, columns=['nombre_categoria'])\n",
    "\n",
    "# generar columna id_categoria\n",
    "df_categorias = df_categorias.reset_index().rename({'index': 'id_categoria'}, axis=1)\n",
    "df_categorias['id_categoria'] = df_categorias['id_categoria'] + 1\n",
    "df_categorias"
   ]
  },
  {
   "cell_type": "code",
   "execution_count": null,
   "metadata": {},
   "outputs": [],
   "source": [
    "insertar_dataframe(df_categorias, 'categorias')"
   ]
  },
  {
   "cell_type": "markdown",
   "metadata": {},
   "source": [
    "\n",
    "productos\n",
    "\n",
    "* id_producto: valores enteros consecutivos (1, 2, 3...).\n",
    "* nombre_producto: nombres como “Leche Entera”, “Manzana Roja”, “Refresco de Cola”, etc.\n",
    "* precio: valores DECIMAL entre 0.50 y 50.00, por ejemplo.\n",
    "* stock: valores INT entre 0 y 500 (o el rango que quieras).\n",
    "* id_categoria: debe hacer referencia a las categorías que hayas definido (1, 2, 3, etc.).\n",
    "\n",
    "En total 4 productos de cada categoría."
   ]
  },
  {
   "cell_type": "code",
   "execution_count": null,
   "metadata": {},
   "outputs": [],
   "source": [
    "# generar columna id_producto\n",
    "produ = [\"Leche\", \"Yogur\", \"Queso\", \"Mantequilla\", \"Pollo\", \"Carne de res\", \"Cerdo\", \"Chuletas\", \"Manzana\", \"Banana\", \"Naranja\", \"Uva\", \"Zanahoria\", \"Tomate\", \"Lechuga\", \"Cebolla\", \"Agua\", \"Jugo de naranja\", \"Refresco\", \"Cerveza\", \"Papas fritas\", \"Chocolate\", \"Galletas\", \"Chicles\", \"Velas\", \"Platos desechables\", \"Bolsas de basura\", \"Pilas\", \"Detergente\", \"Jabón líquido\", \"Esponjas\", \"Desinfectante\", \"Champú\", \"Colonia\", \"Crema hidratante\", \"Desodorante\", \"Tierra para macetas\", \"Fertilizante\", \"Semillas\", \"Regadera\"]\n",
    "precios, lista_categorias, stock = list(), list(), list()\n",
    "cantidad = len(produ)\n",
    "for _ in range(cantidad):\n",
    "    precios.append(random.uniform(0.50, 10.50))\n",
    "    stock.append(random.randint(0, 500))\n",
    "for categ in df_categorias['id_categoria']:\n",
    "    for i in range(4):\n",
    "        lista_categorias.append(categ)\n",
    "lista_categorias        \n",
    "df_productos = pd.DataFrame(zip(produ, precios, stock, lista_categorias), columns=['nombre_producto', 'precio', 'stock', 'id_categoria'])    \n",
    "df_productos = df_productos.reset_index().rename({'index': 'id_producto'}, axis=1)\n",
    "df_productos['id_producto'] = df_productos['id_producto'] + 1\n",
    "df_productos"
   ]
  },
  {
   "cell_type": "code",
   "execution_count": null,
   "metadata": {},
   "outputs": [],
   "source": [
    "insertar_dataframe(df_productos, 'productos')"
   ]
  },
  {
   "cell_type": "markdown",
   "metadata": {},
   "source": [
    "clientes\n",
    "\n",
    "* id_cliente: valores enteros consecutivos (1, 2, 3...).\n",
    "* nombre_cliente: nombres y apellidos ficticios (p. ej. “Carlos López”, “María Gil”).\n",
    "* email: podrías generar correos ficticios (p. ej. “carlos.lopez@test.com”).\n",
    "* telefono: número de 9 o 10 dígitos (dependiendo del país).\n",
    "* direccion: calles y números ficticios (p. ej. “Av. Siempre Viva 742”).\n",
    "\n",
    "En total: 2000.\n"
   ]
  },
  {
   "cell_type": "code",
   "execution_count": 34,
   "metadata": {},
   "outputs": [
    {
     "data": {
      "text/html": [
       "<div>\n",
       "<style scoped>\n",
       "    .dataframe tbody tr th:only-of-type {\n",
       "        vertical-align: middle;\n",
       "    }\n",
       "\n",
       "    .dataframe tbody tr th {\n",
       "        vertical-align: top;\n",
       "    }\n",
       "\n",
       "    .dataframe thead th {\n",
       "        text-align: right;\n",
       "    }\n",
       "</style>\n",
       "<table border=\"1\" class=\"dataframe\">\n",
       "  <thead>\n",
       "    <tr style=\"text-align: right;\">\n",
       "      <th></th>\n",
       "      <th>id_cliente</th>\n",
       "      <th>first_name</th>\n",
       "      <th>last_name</th>\n",
       "      <th>email</th>\n",
       "      <th>codigo_postal</th>\n",
       "    </tr>\n",
       "  </thead>\n",
       "  <tbody>\n",
       "    <tr>\n",
       "      <th>0</th>\n",
       "      <td>1</td>\n",
       "      <td>Ana</td>\n",
       "      <td>Campos</td>\n",
       "      <td>Ana.Campos@suemail.com</td>\n",
       "      <td>11687</td>\n",
       "    </tr>\n",
       "    <tr>\n",
       "      <th>1</th>\n",
       "      <td>2</td>\n",
       "      <td>Olga</td>\n",
       "      <td>Alonso</td>\n",
       "      <td>Olga.Alonso@suemail.com</td>\n",
       "      <td>11608</td>\n",
       "    </tr>\n",
       "    <tr>\n",
       "      <th>2</th>\n",
       "      <td>3</td>\n",
       "      <td>Daniel</td>\n",
       "      <td>Domínguez</td>\n",
       "      <td>Daniel.Domínguez@suemail.com</td>\n",
       "      <td>11826</td>\n",
       "    </tr>\n",
       "    <tr>\n",
       "      <th>3</th>\n",
       "      <td>4</td>\n",
       "      <td>Natalia</td>\n",
       "      <td>Marín</td>\n",
       "      <td>Natalia.Marín@suemail.com</td>\n",
       "      <td>11433</td>\n",
       "    </tr>\n",
       "    <tr>\n",
       "      <th>4</th>\n",
       "      <td>5</td>\n",
       "      <td>Paula</td>\n",
       "      <td>Vega</td>\n",
       "      <td>Paula.Vega@suemail.com</td>\n",
       "      <td>11668</td>\n",
       "    </tr>\n",
       "    <tr>\n",
       "      <th>...</th>\n",
       "      <td>...</td>\n",
       "      <td>...</td>\n",
       "      <td>...</td>\n",
       "      <td>...</td>\n",
       "      <td>...</td>\n",
       "    </tr>\n",
       "    <tr>\n",
       "      <th>1995</th>\n",
       "      <td>1996</td>\n",
       "      <td>Alicia</td>\n",
       "      <td>Moreno</td>\n",
       "      <td>Alicia.Moreno@suemail.com</td>\n",
       "      <td>11130</td>\n",
       "    </tr>\n",
       "    <tr>\n",
       "      <th>1996</th>\n",
       "      <td>1997</td>\n",
       "      <td>Rafael</td>\n",
       "      <td>Castro</td>\n",
       "      <td>Rafael.Castro@suemail.com</td>\n",
       "      <td>11280</td>\n",
       "    </tr>\n",
       "    <tr>\n",
       "      <th>1997</th>\n",
       "      <td>1998</td>\n",
       "      <td>Fernando</td>\n",
       "      <td>Sánchez</td>\n",
       "      <td>Fernando.Sánchez@suemail.com</td>\n",
       "      <td>11020</td>\n",
       "    </tr>\n",
       "    <tr>\n",
       "      <th>1998</th>\n",
       "      <td>1999</td>\n",
       "      <td>Lucía</td>\n",
       "      <td>Alonso</td>\n",
       "      <td>Lucía.Alonso@suemail.com</td>\n",
       "      <td>11069</td>\n",
       "    </tr>\n",
       "    <tr>\n",
       "      <th>1999</th>\n",
       "      <td>2000</td>\n",
       "      <td>Sofía</td>\n",
       "      <td>Torres</td>\n",
       "      <td>Sofía.Torres@suemail.com</td>\n",
       "      <td>11779</td>\n",
       "    </tr>\n",
       "  </tbody>\n",
       "</table>\n",
       "<p>2000 rows × 5 columns</p>\n",
       "</div>"
      ],
      "text/plain": [
       "      id_cliente first_name  last_name                         email  \\\n",
       "0              1        Ana     Campos        Ana.Campos@suemail.com   \n",
       "1              2       Olga     Alonso       Olga.Alonso@suemail.com   \n",
       "2              3     Daniel  Domínguez  Daniel.Domínguez@suemail.com   \n",
       "3              4    Natalia      Marín     Natalia.Marín@suemail.com   \n",
       "4              5      Paula       Vega        Paula.Vega@suemail.com   \n",
       "...          ...        ...        ...                           ...   \n",
       "1995        1996     Alicia     Moreno     Alicia.Moreno@suemail.com   \n",
       "1996        1997     Rafael     Castro     Rafael.Castro@suemail.com   \n",
       "1997        1998   Fernando    Sánchez  Fernando.Sánchez@suemail.com   \n",
       "1998        1999      Lucía     Alonso      Lucía.Alonso@suemail.com   \n",
       "1999        2000      Sofía     Torres      Sofía.Torres@suemail.com   \n",
       "\n",
       "      codigo_postal  \n",
       "0             11687  \n",
       "1             11608  \n",
       "2             11826  \n",
       "3             11433  \n",
       "4             11668  \n",
       "...             ...  \n",
       "1995          11130  \n",
       "1996          11280  \n",
       "1997          11020  \n",
       "1998          11069  \n",
       "1999          11779  \n",
       "\n",
       "[2000 rows x 5 columns]"
      ]
     },
     "execution_count": 34,
     "metadata": {},
     "output_type": "execute_result"
    }
   ],
   "source": [
    "# generar columna id_cliente\n",
    "nombre_cliente, apellido_cliente, email, postal, cliente_completo = list(), list(), list(), list(), list()\n",
    "calles = (\"Av. Libertad\", \"Calle Mayor\", \"Paseo de la Reforma\", \"Calle Real\", \"Av. de la Constitución\", \"Calle del Sol\", \"Calle de la Luna\", \"Calle los Pinos\", \"Calle de la Paz\", \"Calle Olivo\", \"Calle Cedro\", \"Calle Nogal\", \"Av. de las Flores\", \"Paseo del Prado\", \"Calle del Río\", \"Av. Central\", \"Calle Primavera\", \"Calle Otoño\", \"Calle Invierno\", \"Calle Verano\", \"Calle Granada\", \"Calle Sevilla\", \"Calle Córdoba\", \"Calle Málaga\", \"Calle Valencia\", \"Calle Zaragoza\", \"Calle Alicante\", \"Av. de los Ángeles\", \"Calle del Carmen\", \"Calle San Miguel\", \"Calle San Juan\", \"Calle del Pilar\", \"Calle Santa Teresa\", \"Calle San Francisco\", \"Calle de la Sierra\", \"Calle del Mar\", \"Av. del Norte\", \"Av. del Sur\", \"Calle del Este\", \"Calle del Oeste\", \"Calle Diamante\", \"Calle Esmeralda\", \"Calle Rubí\", \"Calle Zafiro\", \"Calle Ámbar\", \"Calle Turquesa\", \"Calle Topacio\", \"Calle Perla\", \"Calle Horizonte\", \"Calle Amanecer\")\n",
    "for _ in range(2000):\n",
    "    nom = random.choice(nombres)\n",
    "    nombre_cliente.append(nom)\n",
    "    ape = random.choice(apellidos)\n",
    "    apellido_cliente.append(ape)\n",
    "    email.append((f'{nom}.{ape}@suemail.com'))\n",
    "    postal.append(random.randint(11000, 11900))\n",
    "    \n",
    "df_clientes = pd.DataFrame(zip(nombre_cliente, apellido_cliente, email, postal), columns=['first_name', 'last_name', 'email', 'codigo_postal']) \n",
    "df_clientes = df_clientes.reset_index().rename({'index': 'id_cliente'}, axis=1)\n",
    "df_clientes['id_cliente'] = df_clientes['id_cliente'] + 1\n",
    "df_clientes"
   ]
  },
  {
   "cell_type": "code",
   "execution_count": 35,
   "metadata": {},
   "outputs": [
    {
     "data": {
      "text/plain": [
       "2000"
      ]
     },
     "execution_count": 35,
     "metadata": {},
     "output_type": "execute_result"
    }
   ],
   "source": [
    "insertar_dataframe(df_clientes, 'clientes')"
   ]
  },
  {
   "cell_type": "markdown",
   "metadata": {},
   "source": [
    "ordenes\n",
    "\n",
    "* id_orden: valores enteros consecutivos (1, 2, 3...).\n",
    "* id_cliente: haz referencia a los IDs existentes de la tabla clientes.\n",
    "* id_empleado: haz referencia a los IDs existentes de la tabla empleados.\n",
    "* fecha_orden: genera fechas aleatorias o secuenciales (p. ej. entre ‘2024-01-01’ y ‘2025-01-01’).\n",
    "* metodo_pago: escoge entre {‘Tarjeta’, ‘Efectivo’}.\n",
    "\n",
    "En total: 10000.\n"
   ]
  },
  {
   "cell_type": "code",
   "execution_count": 55,
   "metadata": {},
   "outputs": [
    {
     "data": {
      "text/html": [
       "<div>\n",
       "<style scoped>\n",
       "    .dataframe tbody tr th:only-of-type {\n",
       "        vertical-align: middle;\n",
       "    }\n",
       "\n",
       "    .dataframe tbody tr th {\n",
       "        vertical-align: top;\n",
       "    }\n",
       "\n",
       "    .dataframe thead th {\n",
       "        text-align: right;\n",
       "    }\n",
       "</style>\n",
       "<table border=\"1\" class=\"dataframe\">\n",
       "  <thead>\n",
       "    <tr style=\"text-align: right;\">\n",
       "      <th></th>\n",
       "      <th>id_orden</th>\n",
       "      <th>id_cliente</th>\n",
       "      <th>id_empleado</th>\n",
       "      <th>fecha_orden</th>\n",
       "      <th>metodo_pago</th>\n",
       "    </tr>\n",
       "  </thead>\n",
       "  <tbody>\n",
       "    <tr>\n",
       "      <th>0</th>\n",
       "      <td>1</td>\n",
       "      <td>1343</td>\n",
       "      <td>73</td>\n",
       "      <td>2024-01-01</td>\n",
       "      <td>Efectivo</td>\n",
       "    </tr>\n",
       "    <tr>\n",
       "      <th>20</th>\n",
       "      <td>2</td>\n",
       "      <td>61</td>\n",
       "      <td>158</td>\n",
       "      <td>2024-01-01</td>\n",
       "      <td>Efectivo</td>\n",
       "    </tr>\n",
       "    <tr>\n",
       "      <th>21</th>\n",
       "      <td>3</td>\n",
       "      <td>814</td>\n",
       "      <td>56</td>\n",
       "      <td>2024-01-01</td>\n",
       "      <td>Tarjeta</td>\n",
       "    </tr>\n",
       "    <tr>\n",
       "      <th>22</th>\n",
       "      <td>4</td>\n",
       "      <td>1103</td>\n",
       "      <td>105</td>\n",
       "      <td>2024-01-01</td>\n",
       "      <td>Efectivo</td>\n",
       "    </tr>\n",
       "    <tr>\n",
       "      <th>23</th>\n",
       "      <td>5</td>\n",
       "      <td>1788</td>\n",
       "      <td>25</td>\n",
       "      <td>2024-01-01</td>\n",
       "      <td>Efectivo</td>\n",
       "    </tr>\n",
       "    <tr>\n",
       "      <th>26</th>\n",
       "      <td>6</td>\n",
       "      <td>1751</td>\n",
       "      <td>95</td>\n",
       "      <td>2024-01-01</td>\n",
       "      <td>Efectivo</td>\n",
       "    </tr>\n",
       "    <tr>\n",
       "      <th>24</th>\n",
       "      <td>7</td>\n",
       "      <td>1521</td>\n",
       "      <td>28</td>\n",
       "      <td>2024-01-01</td>\n",
       "      <td>Tarjeta</td>\n",
       "    </tr>\n",
       "    <tr>\n",
       "      <th>25</th>\n",
       "      <td>8</td>\n",
       "      <td>1377</td>\n",
       "      <td>15</td>\n",
       "      <td>2024-01-01</td>\n",
       "      <td>Efectivo</td>\n",
       "    </tr>\n",
       "    <tr>\n",
       "      <th>33</th>\n",
       "      <td>9</td>\n",
       "      <td>1224</td>\n",
       "      <td>76</td>\n",
       "      <td>2024-01-01</td>\n",
       "      <td>Tarjeta</td>\n",
       "    </tr>\n",
       "    <tr>\n",
       "      <th>27</th>\n",
       "      <td>10</td>\n",
       "      <td>343</td>\n",
       "      <td>186</td>\n",
       "      <td>2024-01-01</td>\n",
       "      <td>Tarjeta</td>\n",
       "    </tr>\n",
       "    <tr>\n",
       "      <th>28</th>\n",
       "      <td>11</td>\n",
       "      <td>1833</td>\n",
       "      <td>17</td>\n",
       "      <td>2024-01-01</td>\n",
       "      <td>Efectivo</td>\n",
       "    </tr>\n",
       "    <tr>\n",
       "      <th>29</th>\n",
       "      <td>12</td>\n",
       "      <td>1235</td>\n",
       "      <td>164</td>\n",
       "      <td>2024-01-01</td>\n",
       "      <td>Efectivo</td>\n",
       "    </tr>\n",
       "    <tr>\n",
       "      <th>30</th>\n",
       "      <td>13</td>\n",
       "      <td>789</td>\n",
       "      <td>42</td>\n",
       "      <td>2024-01-01</td>\n",
       "      <td>Tarjeta</td>\n",
       "    </tr>\n",
       "    <tr>\n",
       "      <th>31</th>\n",
       "      <td>14</td>\n",
       "      <td>143</td>\n",
       "      <td>57</td>\n",
       "      <td>2024-01-01</td>\n",
       "      <td>Efectivo</td>\n",
       "    </tr>\n",
       "    <tr>\n",
       "      <th>32</th>\n",
       "      <td>15</td>\n",
       "      <td>15</td>\n",
       "      <td>196</td>\n",
       "      <td>2024-01-01</td>\n",
       "      <td>Tarjeta</td>\n",
       "    </tr>\n",
       "    <tr>\n",
       "      <th>18</th>\n",
       "      <td>16</td>\n",
       "      <td>718</td>\n",
       "      <td>126</td>\n",
       "      <td>2024-01-01</td>\n",
       "      <td>Tarjeta</td>\n",
       "    </tr>\n",
       "    <tr>\n",
       "      <th>19</th>\n",
       "      <td>17</td>\n",
       "      <td>414</td>\n",
       "      <td>100</td>\n",
       "      <td>2024-01-01</td>\n",
       "      <td>Efectivo</td>\n",
       "    </tr>\n",
       "    <tr>\n",
       "      <th>16</th>\n",
       "      <td>18</td>\n",
       "      <td>1110</td>\n",
       "      <td>114</td>\n",
       "      <td>2024-01-01</td>\n",
       "      <td>Tarjeta</td>\n",
       "    </tr>\n",
       "    <tr>\n",
       "      <th>7</th>\n",
       "      <td>19</td>\n",
       "      <td>586</td>\n",
       "      <td>78</td>\n",
       "      <td>2024-01-01</td>\n",
       "      <td>Efectivo</td>\n",
       "    </tr>\n",
       "    <tr>\n",
       "      <th>1</th>\n",
       "      <td>20</td>\n",
       "      <td>1258</td>\n",
       "      <td>184</td>\n",
       "      <td>2024-01-01</td>\n",
       "      <td>Tarjeta</td>\n",
       "    </tr>\n",
       "    <tr>\n",
       "      <th>2</th>\n",
       "      <td>21</td>\n",
       "      <td>630</td>\n",
       "      <td>76</td>\n",
       "      <td>2024-01-01</td>\n",
       "      <td>Tarjeta</td>\n",
       "    </tr>\n",
       "    <tr>\n",
       "      <th>3</th>\n",
       "      <td>22</td>\n",
       "      <td>74</td>\n",
       "      <td>191</td>\n",
       "      <td>2024-01-01</td>\n",
       "      <td>Tarjeta</td>\n",
       "    </tr>\n",
       "    <tr>\n",
       "      <th>4</th>\n",
       "      <td>23</td>\n",
       "      <td>48</td>\n",
       "      <td>135</td>\n",
       "      <td>2024-01-01</td>\n",
       "      <td>Tarjeta</td>\n",
       "    </tr>\n",
       "    <tr>\n",
       "      <th>5</th>\n",
       "      <td>24</td>\n",
       "      <td>741</td>\n",
       "      <td>121</td>\n",
       "      <td>2024-01-01</td>\n",
       "      <td>Efectivo</td>\n",
       "    </tr>\n",
       "    <tr>\n",
       "      <th>6</th>\n",
       "      <td>25</td>\n",
       "      <td>199</td>\n",
       "      <td>103</td>\n",
       "      <td>2024-01-01</td>\n",
       "      <td>Tarjeta</td>\n",
       "    </tr>\n",
       "    <tr>\n",
       "      <th>17</th>\n",
       "      <td>26</td>\n",
       "      <td>1964</td>\n",
       "      <td>121</td>\n",
       "      <td>2024-01-01</td>\n",
       "      <td>Tarjeta</td>\n",
       "    </tr>\n",
       "    <tr>\n",
       "      <th>8</th>\n",
       "      <td>27</td>\n",
       "      <td>819</td>\n",
       "      <td>74</td>\n",
       "      <td>2024-01-01</td>\n",
       "      <td>Tarjeta</td>\n",
       "    </tr>\n",
       "    <tr>\n",
       "      <th>15</th>\n",
       "      <td>28</td>\n",
       "      <td>852</td>\n",
       "      <td>17</td>\n",
       "      <td>2024-01-01</td>\n",
       "      <td>Tarjeta</td>\n",
       "    </tr>\n",
       "    <tr>\n",
       "      <th>9</th>\n",
       "      <td>29</td>\n",
       "      <td>210</td>\n",
       "      <td>50</td>\n",
       "      <td>2024-01-01</td>\n",
       "      <td>Tarjeta</td>\n",
       "    </tr>\n",
       "    <tr>\n",
       "      <th>10</th>\n",
       "      <td>30</td>\n",
       "      <td>1244</td>\n",
       "      <td>83</td>\n",
       "      <td>2024-01-01</td>\n",
       "      <td>Tarjeta</td>\n",
       "    </tr>\n",
       "    <tr>\n",
       "      <th>11</th>\n",
       "      <td>31</td>\n",
       "      <td>1621</td>\n",
       "      <td>14</td>\n",
       "      <td>2024-01-01</td>\n",
       "      <td>Efectivo</td>\n",
       "    </tr>\n",
       "    <tr>\n",
       "      <th>12</th>\n",
       "      <td>32</td>\n",
       "      <td>629</td>\n",
       "      <td>113</td>\n",
       "      <td>2024-01-01</td>\n",
       "      <td>Efectivo</td>\n",
       "    </tr>\n",
       "    <tr>\n",
       "      <th>13</th>\n",
       "      <td>33</td>\n",
       "      <td>1167</td>\n",
       "      <td>156</td>\n",
       "      <td>2024-01-01</td>\n",
       "      <td>Tarjeta</td>\n",
       "    </tr>\n",
       "    <tr>\n",
       "      <th>14</th>\n",
       "      <td>34</td>\n",
       "      <td>442</td>\n",
       "      <td>123</td>\n",
       "      <td>2024-01-01</td>\n",
       "      <td>Efectivo</td>\n",
       "    </tr>\n",
       "    <tr>\n",
       "      <th>53</th>\n",
       "      <td>35</td>\n",
       "      <td>125</td>\n",
       "      <td>191</td>\n",
       "      <td>2024-01-02</td>\n",
       "      <td>Tarjeta</td>\n",
       "    </tr>\n",
       "    <tr>\n",
       "      <th>54</th>\n",
       "      <td>36</td>\n",
       "      <td>902</td>\n",
       "      <td>84</td>\n",
       "      <td>2024-01-02</td>\n",
       "      <td>Tarjeta</td>\n",
       "    </tr>\n",
       "    <tr>\n",
       "      <th>60</th>\n",
       "      <td>37</td>\n",
       "      <td>473</td>\n",
       "      <td>188</td>\n",
       "      <td>2024-01-02</td>\n",
       "      <td>Efectivo</td>\n",
       "    </tr>\n",
       "    <tr>\n",
       "      <th>56</th>\n",
       "      <td>38</td>\n",
       "      <td>914</td>\n",
       "      <td>19</td>\n",
       "      <td>2024-01-02</td>\n",
       "      <td>Tarjeta</td>\n",
       "    </tr>\n",
       "    <tr>\n",
       "      <th>57</th>\n",
       "      <td>39</td>\n",
       "      <td>1399</td>\n",
       "      <td>4</td>\n",
       "      <td>2024-01-02</td>\n",
       "      <td>Tarjeta</td>\n",
       "    </tr>\n",
       "    <tr>\n",
       "      <th>51</th>\n",
       "      <td>40</td>\n",
       "      <td>472</td>\n",
       "      <td>155</td>\n",
       "      <td>2024-01-02</td>\n",
       "      <td>Tarjeta</td>\n",
       "    </tr>\n",
       "    <tr>\n",
       "      <th>58</th>\n",
       "      <td>41</td>\n",
       "      <td>385</td>\n",
       "      <td>131</td>\n",
       "      <td>2024-01-02</td>\n",
       "      <td>Tarjeta</td>\n",
       "    </tr>\n",
       "    <tr>\n",
       "      <th>59</th>\n",
       "      <td>42</td>\n",
       "      <td>1607</td>\n",
       "      <td>150</td>\n",
       "      <td>2024-01-02</td>\n",
       "      <td>Tarjeta</td>\n",
       "    </tr>\n",
       "    <tr>\n",
       "      <th>67</th>\n",
       "      <td>43</td>\n",
       "      <td>1856</td>\n",
       "      <td>60</td>\n",
       "      <td>2024-01-02</td>\n",
       "      <td>Tarjeta</td>\n",
       "    </tr>\n",
       "    <tr>\n",
       "      <th>61</th>\n",
       "      <td>44</td>\n",
       "      <td>1851</td>\n",
       "      <td>108</td>\n",
       "      <td>2024-01-02</td>\n",
       "      <td>Tarjeta</td>\n",
       "    </tr>\n",
       "    <tr>\n",
       "      <th>62</th>\n",
       "      <td>45</td>\n",
       "      <td>843</td>\n",
       "      <td>43</td>\n",
       "      <td>2024-01-02</td>\n",
       "      <td>Tarjeta</td>\n",
       "    </tr>\n",
       "    <tr>\n",
       "      <th>63</th>\n",
       "      <td>46</td>\n",
       "      <td>335</td>\n",
       "      <td>9</td>\n",
       "      <td>2024-01-02</td>\n",
       "      <td>Tarjeta</td>\n",
       "    </tr>\n",
       "    <tr>\n",
       "      <th>64</th>\n",
       "      <td>47</td>\n",
       "      <td>1695</td>\n",
       "      <td>33</td>\n",
       "      <td>2024-01-02</td>\n",
       "      <td>Tarjeta</td>\n",
       "    </tr>\n",
       "    <tr>\n",
       "      <th>65</th>\n",
       "      <td>48</td>\n",
       "      <td>1715</td>\n",
       "      <td>127</td>\n",
       "      <td>2024-01-02</td>\n",
       "      <td>Efectivo</td>\n",
       "    </tr>\n",
       "    <tr>\n",
       "      <th>66</th>\n",
       "      <td>49</td>\n",
       "      <td>1722</td>\n",
       "      <td>160</td>\n",
       "      <td>2024-01-02</td>\n",
       "      <td>Efectivo</td>\n",
       "    </tr>\n",
       "    <tr>\n",
       "      <th>52</th>\n",
       "      <td>50</td>\n",
       "      <td>1460</td>\n",
       "      <td>103</td>\n",
       "      <td>2024-01-02</td>\n",
       "      <td>Efectivo</td>\n",
       "    </tr>\n",
       "  </tbody>\n",
       "</table>\n",
       "</div>"
      ],
      "text/plain": [
       "    id_orden  id_cliente  id_empleado fecha_orden metodo_pago\n",
       "0          1        1343           73  2024-01-01    Efectivo\n",
       "20         2          61          158  2024-01-01    Efectivo\n",
       "21         3         814           56  2024-01-01     Tarjeta\n",
       "22         4        1103          105  2024-01-01    Efectivo\n",
       "23         5        1788           25  2024-01-01    Efectivo\n",
       "26         6        1751           95  2024-01-01    Efectivo\n",
       "24         7        1521           28  2024-01-01     Tarjeta\n",
       "25         8        1377           15  2024-01-01    Efectivo\n",
       "33         9        1224           76  2024-01-01     Tarjeta\n",
       "27        10         343          186  2024-01-01     Tarjeta\n",
       "28        11        1833           17  2024-01-01    Efectivo\n",
       "29        12        1235          164  2024-01-01    Efectivo\n",
       "30        13         789           42  2024-01-01     Tarjeta\n",
       "31        14         143           57  2024-01-01    Efectivo\n",
       "32        15          15          196  2024-01-01     Tarjeta\n",
       "18        16         718          126  2024-01-01     Tarjeta\n",
       "19        17         414          100  2024-01-01    Efectivo\n",
       "16        18        1110          114  2024-01-01     Tarjeta\n",
       "7         19         586           78  2024-01-01    Efectivo\n",
       "1         20        1258          184  2024-01-01     Tarjeta\n",
       "2         21         630           76  2024-01-01     Tarjeta\n",
       "3         22          74          191  2024-01-01     Tarjeta\n",
       "4         23          48          135  2024-01-01     Tarjeta\n",
       "5         24         741          121  2024-01-01    Efectivo\n",
       "6         25         199          103  2024-01-01     Tarjeta\n",
       "17        26        1964          121  2024-01-01     Tarjeta\n",
       "8         27         819           74  2024-01-01     Tarjeta\n",
       "15        28         852           17  2024-01-01     Tarjeta\n",
       "9         29         210           50  2024-01-01     Tarjeta\n",
       "10        30        1244           83  2024-01-01     Tarjeta\n",
       "11        31        1621           14  2024-01-01    Efectivo\n",
       "12        32         629          113  2024-01-01    Efectivo\n",
       "13        33        1167          156  2024-01-01     Tarjeta\n",
       "14        34         442          123  2024-01-01    Efectivo\n",
       "53        35         125          191  2024-01-02     Tarjeta\n",
       "54        36         902           84  2024-01-02     Tarjeta\n",
       "60        37         473          188  2024-01-02    Efectivo\n",
       "56        38         914           19  2024-01-02     Tarjeta\n",
       "57        39        1399            4  2024-01-02     Tarjeta\n",
       "51        40         472          155  2024-01-02     Tarjeta\n",
       "58        41         385          131  2024-01-02     Tarjeta\n",
       "59        42        1607          150  2024-01-02     Tarjeta\n",
       "67        43        1856           60  2024-01-02     Tarjeta\n",
       "61        44        1851          108  2024-01-02     Tarjeta\n",
       "62        45         843           43  2024-01-02     Tarjeta\n",
       "63        46         335            9  2024-01-02     Tarjeta\n",
       "64        47        1695           33  2024-01-02     Tarjeta\n",
       "65        48        1715          127  2024-01-02    Efectivo\n",
       "66        49        1722          160  2024-01-02    Efectivo\n",
       "52        50        1460          103  2024-01-02    Efectivo"
      ]
     },
     "execution_count": 55,
     "metadata": {},
     "output_type": "execute_result"
    }
   ],
   "source": [
    "# generar columna id_orden\n",
    "cliente, emplea, fecha, metodo = list(), list(), list(), list()\n",
    "fechas = [datetime(year=2024, month=1, day=1) + timedelta(days=numero) for numero in range(395)]\n",
    "for _ in range(10000):\n",
    "    cliente.append(random.choice(df_clientes['id_cliente']))\n",
    "    emplea.append(random.choice(df_empleados['id_empleado']))\n",
    "    fecha.append(random.choice(fechas))\n",
    "    metodo.append(random.choices(['Tarjeta', 'Efectivo'], weights=[0.65, 0.35])[0])\n",
    "\n",
    "fecha.sort()\n",
    "df_ordenes = pd.DataFrame(zip(cliente, emplea, fecha, metodo), columns=['id_cliente', 'id_empleado', 'fecha_orden', 'metodo_pago'])\n",
    "df_ordenes.sort_values('fecha_orden', inplace=True)\n",
    "df_ordenes = df_ordenes.reset_index().rename({'index': 'id_orden'}, axis=1)\n",
    "df_ordenes['id_orden'] = df_ordenes['id_orden'] + 1\n",
    "df_ordenes.sort_values('id_orden', inplace=True)\n",
    "df_ordenes.head(50)"
   ]
  },
  {
   "cell_type": "code",
   "execution_count": 56,
   "metadata": {},
   "outputs": [
    {
     "data": {
      "text/plain": [
       "10000"
      ]
     },
     "execution_count": 56,
     "metadata": {},
     "output_type": "execute_result"
    }
   ],
   "source": [
    "insertar_dataframe(df_ordenes, 'ordenes')"
   ]
  },
  {
   "cell_type": "markdown",
   "metadata": {},
   "source": [
    "detalle_orden\n",
    "\n",
    "* id_detalle: valores enteros consecutivos (1, 2, 3...).\n",
    "* id_orden: referencia al ID de alguna orden válida.\n",
    "* id_producto: referencia al ID de algún producto válido.\n",
    "* cantidad: valores entre 1 y 20, por ejemplo.\n",
    "* precio_unitario: usar el mismo precio que está en la tabla productos o uno ligeramente distinto si quieres simular ofertas.\n",
    "* descuento: valores DECIMAL bajos (p. ej. 0.00, 1.00, 2.50) o NULL.\n",
    "\n",
    "En total: 30000."
   ]
  },
  {
   "cell_type": "code",
   "execution_count": null,
   "metadata": {},
   "outputs": [],
   "source": [
    "# generar columna id_detalle\n",
    "ordenes, producto, cant, valor = list(), list(), list(), list()\n",
    "for orden in df_ordenes['id_orden']:\n",
    "    ordenes.append(orden)\n",
    "    prod = random.choice(df_productos)\n",
    "    producto.append(prod[''])\n",
    "    cant.append(random.randint(1, 20))\n",
    "    valor.append(df_productos('price'))    \n",
    "\n",
    "df_detalle_orden = df_detalle_orden.reset_index().rename({'index': 'id_detalle'}, axis=1)\n",
    "df_detalle_orden['id_detalle'] = df_detalle_orden['id_detalle'] + 1\n",
    "df_detalle_orden"
   ]
  },
  {
   "cell_type": "code",
   "execution_count": 75,
   "metadata": {},
   "outputs": [],
   "source": [
    "pre = list()\n",
    "prod = random.choice(df_productos['id_producto'])\n",
    "pre.append([prod, df_productos[df_productos['id_producto']==prod]['precio']])\n"
   ]
  },
  {
   "cell_type": "code",
   "execution_count": 77,
   "metadata": {},
   "outputs": [
    {
     "data": {
      "text/plain": [
       "[[np.int64(33),\n",
       "  32    7.932352\n",
       "  Name: precio, dtype: float64]]"
      ]
     },
     "execution_count": 77,
     "metadata": {},
     "output_type": "execute_result"
    }
   ],
   "source": [
    "pre"
   ]
  },
  {
   "cell_type": "code",
   "execution_count": null,
   "metadata": {},
   "outputs": [],
   "source": [
    "insertar_dataframe(df_detalle_orden, 'detalle_orden')"
   ]
  },
  {
   "cell_type": "markdown",
   "metadata": {},
   "source": [
    "### 3. Consultas SQL (34%)"
   ]
  },
  {
   "cell_type": "markdown",
   "metadata": {},
   "source": [
    "1. Listado de órdenes con detalles de cliente y empleado\n",
    "* Muestra el ID de la orden, la fecha, el nombre del cliente, el nombre del empleado que atendió la compra y el método de pago.\n",
    "* Utiliza un JOIN entre las tablas ordenes, clientes y empleados."
   ]
  },
  {
   "cell_type": "code",
   "execution_count": null,
   "metadata": {},
   "outputs": [],
   "source": []
  },
  {
   "cell_type": "markdown",
   "metadata": {},
   "source": [
    "2. Productos con stock bajo\n",
    "* Filtra aquellos productos cuyo stock sea menor a 10.\n",
    "* Muestra nombre del producto, categoría y stock.\n"
   ]
  },
  {
   "cell_type": "code",
   "execution_count": null,
   "metadata": {},
   "outputs": [],
   "source": []
  },
  {
   "cell_type": "markdown",
   "metadata": {},
   "source": [
    "3. Ventas totales por categoría\n",
    "* Muestra el nombre de la categoría y la suma total de las ventas (ej.: multiplicando cantidad * precio_unitario) para cada categoría.\n",
    "* Realiza el JOIN con detalle_orden, productos y categorias.\n",
    "* Utiliza agrupación (GROUP BY)."
   ]
  },
  {
   "cell_type": "code",
   "execution_count": null,
   "metadata": {},
   "outputs": [],
   "source": []
  },
  {
   "cell_type": "markdown",
   "metadata": {},
   "source": [
    "4. Clientes con mayores gastos acumulados\n",
    "* Muestra el nombre del cliente y el monto total que ha gastado (suma de todas sus órdenes).\n",
    "* Asegúrate de tener en cuenta posibles descuentos (descuento) si se ha definido. Por ejemplo, la fórmula podría ser (cantidad * precio_unitario) - descuento.\n",
    "* Ordena el resultado de mayor a menor gasto acumulado."
   ]
  },
  {
   "cell_type": "code",
   "execution_count": null,
   "metadata": {},
   "outputs": [],
   "source": []
  },
  {
   "cell_type": "markdown",
   "metadata": {},
   "source": [
    "5. Empleados y número de órdenes gestionadas\n",
    "* Muestra el nombre del empleado, el puesto y la cantidad de órdenes que ha gestionado.\n",
    "* Utiliza GROUP BY y COUNT."
   ]
  },
  {
   "cell_type": "code",
   "execution_count": null,
   "metadata": {},
   "outputs": [],
   "source": []
  },
  {
   "cell_type": "markdown",
   "metadata": {},
   "source": [
    "6. Ordenes filtradas por fecha y tienda\n",
    "* Muestra todas las órdenes que se realizaron en un rango de fechas determinado (ej.: del 1 de enero de 2025 al 31 de enero de 2025) y en una tienda específica.\n",
    "* Incluye datos de la tienda y del cliente."
   ]
  },
  {
   "cell_type": "code",
   "execution_count": null,
   "metadata": {},
   "outputs": [],
   "source": []
  },
  {
   "cell_type": "markdown",
   "metadata": {},
   "source": [
    "7. Ranking de productos más vendidos en cada tienda\n",
    "* Para cada tienda, muestra los 3 productos más vendidos (en términos de cantidad total).\n",
    "* Tendrás que unir tiendas, empleados, ordenes y detalle_orden, además de productos.\n",
    "* Usa GROUP BY y ordena por la cantidad sumada (y opcionalmente, un LIMIT 3).\n"
   ]
  },
  {
   "cell_type": "code",
   "execution_count": null,
   "metadata": {},
   "outputs": [],
   "source": []
  },
  {
   "cell_type": "markdown",
   "metadata": {},
   "source": [
    "Opcional: añadir alguna consulta con subconsultas o algo que no se abarque en las anteriores consulta."
   ]
  },
  {
   "cell_type": "code",
   "execution_count": null,
   "metadata": {},
   "outputs": [],
   "source": []
  }
 ],
 "metadata": {
  "kernelspec": {
   "display_name": "Python 3",
   "language": "python",
   "name": "python3"
  },
  "language_info": {
   "codemirror_mode": {
    "name": "ipython",
    "version": 3
   },
   "file_extension": ".py",
   "mimetype": "text/x-python",
   "name": "python",
   "nbconvert_exporter": "python",
   "pygments_lexer": "ipython3",
   "version": "3.13.1"
  }
 },
 "nbformat": 4,
 "nbformat_minor": 2
}
