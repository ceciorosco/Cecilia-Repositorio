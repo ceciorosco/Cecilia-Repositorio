{
 "cells": [
  {
   "cell_type": "markdown",
   "metadata": {},
   "source": [
    "## ENUNCIADO EJERCICIO \n",
    "\n",
    "### 1. CREAR BASE DE DATOS (33%)\n",
    "\n",
    "* Crear con código SQL una base de datos llamada supermercado.\n",
    "* Código Python con mysql connector que ejecute el SQL para borrar y generar la base de datos vacía."
   ]
  },
  {
   "cell_type": "markdown",
   "metadata": {},
   "source": [
    "Tablas: 7 "
   ]
  },
  {
   "cell_type": "markdown",
   "metadata": {},
   "source": [
    "tiendas\n",
    "- id_tienda (PRIMARY KEY)\n",
    "- nombre_tienda\n",
    "- direccion\n",
    "- ciudad"
   ]
  },
  {
   "cell_type": "code",
   "execution_count": null,
   "metadata": {},
   "outputs": [],
   "source": []
  },
  {
   "cell_type": "markdown",
   "metadata": {},
   "source": [
    "empleados\n",
    "- id_empleado (PRIMARY KEY)\n",
    "- nombre_empleado\n",
    "- puesto (ej.: Cajero, Gerente, Reponedor)\n",
    "- id_tienda (FOREIGN KEY que hace referencia a tiendas.id_tienda)"
   ]
  },
  {
   "cell_type": "code",
   "execution_count": null,
   "metadata": {},
   "outputs": [],
   "source": []
  },
  {
   "cell_type": "markdown",
   "metadata": {},
   "source": [
    "categorias\n",
    "- id_categoria (PRIMARY KEY)\n",
    "- nombre_categoria"
   ]
  },
  {
   "cell_type": "code",
   "execution_count": null,
   "metadata": {},
   "outputs": [],
   "source": []
  },
  {
   "cell_type": "markdown",
   "metadata": {},
   "source": [
    "productos\n",
    "- id_producto (PRIMARY KEY)\n",
    "- nombre_producto\n",
    "- precio\n",
    "- stock\n",
    "- id_categoria (FOREIGN KEY que hace referencia a categorias.id_categoria)"
   ]
  },
  {
   "cell_type": "code",
   "execution_count": null,
   "metadata": {},
   "outputs": [],
   "source": []
  },
  {
   "cell_type": "markdown",
   "metadata": {},
   "source": [
    "clientes\n",
    "- id_cliente (PRIMARY KEY)\n",
    "- first_name\n",
    "- last_name\n",
    "- email\n",
    "- codigo_postal"
   ]
  },
  {
   "cell_type": "code",
   "execution_count": null,
   "metadata": {},
   "outputs": [],
   "source": []
  },
  {
   "cell_type": "markdown",
   "metadata": {},
   "source": [
    "ordenes\n",
    "- id_orden (PRIMARY KEY)\n",
    "- id_cliente (FOREIGN KEY que hace referencia a clientes.id_cliente)\n",
    "- id_empleado (FOREIGN KEY que hace referencia a empleados.id_empleado)\n",
    "- fecha_orden\n",
    "- metodo_pago (una enum que solo admita tres valores Tarjeta, Efectivo)"
   ]
  },
  {
   "cell_type": "code",
   "execution_count": null,
   "metadata": {},
   "outputs": [],
   "source": []
  },
  {
   "cell_type": "markdown",
   "metadata": {},
   "source": [
    "detalle_orden\n",
    "- id_detalle (PRIMARY KEY)\n",
    "- id_orden (FOREIGN KEY que hace referencia a ordenes.id_orden) NOT NULL\n",
    "- id_producto (FOREIGN KEY que hace referencia a productos.id_producto) NOT NULL\n",
    "- cantidad\n",
    "- precio_unitario: mismo precio que en la tabla producto\n",
    "- descuento (podría ser NULL si no se aplica)"
   ]
  },
  {
   "cell_type": "code",
   "execution_count": null,
   "metadata": {},
   "outputs": [],
   "source": []
  },
  {
   "cell_type": "markdown",
   "metadata": {},
   "source": [
    "### 2. Generar datos demo desde Python (33%)\n",
    "\n",
    "* Generar datos aleatorios en listas con Python similar los realizados en clase.\n",
    "    * Uso de datetime, timedelta, random para generar datos aleatorios\n",
    "* Pasar los datos a DataFrames de Pandas\n",
    "* Pasar los DataFrames de Pandas a MySQL usando la función to_sql de Pandas con SQLAlchemy o usando MySQL Connector con sentencias INSERT."
   ]
  },
  {
   "cell_type": "code",
   "execution_count": null,
   "metadata": {},
   "outputs": [],
   "source": []
  },
  {
   "cell_type": "markdown",
   "metadata": {},
   "source": [
    "tiendas\n",
    "\n",
    "* id_tienda: valores enteros consecutivos (por ejemplo, 1, 2, 3...).\n",
    "* nombre_tienda: nombres ficticios o genéricos (p. ej. \"Tienda Centro\", \"Super Norte\", \"Super Sur\").\n",
    "* direccion: direcciones simples (p. ej. “Calle Falsa 123”).\n",
    "* ciudad: usar nombres de ciudades ficticias o reales (p. ej. “Madrid”, “Barcelona”, “México DF”, etc.).\n",
    "\n",
    "En total 5 o 10 tiendas."
   ]
  },
  {
   "cell_type": "code",
   "execution_count": null,
   "metadata": {},
   "outputs": [],
   "source": []
  },
  {
   "cell_type": "markdown",
   "metadata": {},
   "source": [
    "empleados\n",
    "\n",
    "* id_empleado: valores enteros consecutivos (1, 2, 3...).\n",
    "* nombre_empleado: nombres y apellidos ficticios (p. ej. “Laura Gutiérrez”, “Juan Pérez”).\n",
    "* puesto: limitarse a un conjunto reducido de valores (p. ej. {‘Cajero’, ‘Gerente’, ‘Reponedor’, ‘Vendedor’}).\n",
    "* id_tienda: debe hacer referencia a una tienda existente (por ejemplo, un número entre 1 y 3 si solo tienes 3 tiendas).\n",
    "\n",
    "En total 20 empleados por tienda."
   ]
  },
  {
   "cell_type": "code",
   "execution_count": null,
   "metadata": {},
   "outputs": [],
   "source": []
  },
  {
   "cell_type": "markdown",
   "metadata": {},
   "source": [
    "categorias\n",
    "\n",
    "* id_categoria: valores enteros consecutivos (1, 2, 3...).\n",
    "* nombre_categoria: selección de categorías (p. ej. “Lácteos”, “Carnes”, “Frutas”, “Verduras”, “Bebidas”, “Snacks”).\n",
    "\n",
    "En total 10 categorías"
   ]
  },
  {
   "cell_type": "code",
   "execution_count": null,
   "metadata": {},
   "outputs": [],
   "source": []
  },
  {
   "cell_type": "markdown",
   "metadata": {},
   "source": [
    "\n",
    "productos\n",
    "\n",
    "* id_producto: valores enteros consecutivos (1, 2, 3...).\n",
    "nombre_producto: nombres como “Leche Entera”, “Manzana Roja”, “Refresco de Cola”, etc.\n",
    "* precio: valores DECIMAL entre 0.50 y 50.00, por ejemplo.\n",
    "* stock: valores INT entre 0 y 500 (o el rango que quieras).\n",
    "* id_categoria: debe hacer referencia a las categorías que hayas definido (1, 2, 3, etc.).\n",
    "\n",
    "En total 4 productos de cada categoría."
   ]
  },
  {
   "cell_type": "code",
   "execution_count": null,
   "metadata": {},
   "outputs": [],
   "source": []
  },
  {
   "cell_type": "markdown",
   "metadata": {},
   "source": [
    "clientes\n",
    "\n",
    "* id_cliente: valores enteros consecutivos (1, 2, 3...).\n",
    "* nombre_cliente: nombres y apellidos ficticios (p. ej. “Carlos López”, “María Gil”).\n",
    "* email: podrías generar correos ficticios (p. ej. “carlos.lopez@test.com”).\n",
    "* telefono: número de 9 o 10 dígitos (dependiendo del país).\n",
    "* direccion: calles y números ficticios (p. ej. “Av. Siempre Viva 742”).\n",
    "\n",
    "En total: 2000.\n"
   ]
  },
  {
   "cell_type": "code",
   "execution_count": null,
   "metadata": {},
   "outputs": [],
   "source": []
  },
  {
   "cell_type": "markdown",
   "metadata": {},
   "source": [
    "ordenes\n",
    "\n",
    "* id_orden: valores enteros consecutivos (1, 2, 3...).\n",
    "* id_cliente: haz referencia a los IDs existentes de la tabla clientes.\n",
    "* id_empleado: haz referencia a los IDs existentes de la tabla empleados.\n",
    "* fecha_orden: genera fechas aleatorias o secuenciales (p. ej. entre ‘2024-01-01’ y ‘2025-01-01’).\n",
    "* metodo_pago: escoge entre {‘Tarjeta’, ‘Efectivo’}.\n",
    "\n",
    "En total: 10000.\n"
   ]
  },
  {
   "cell_type": "code",
   "execution_count": null,
   "metadata": {},
   "outputs": [],
   "source": []
  },
  {
   "cell_type": "markdown",
   "metadata": {},
   "source": [
    "detalle_orden\n",
    "\n",
    "* id_detalle: valores enteros consecutivos (1, 2, 3...).\n",
    "* id_orden: referencia al ID de alguna orden válida.\n",
    "* id_producto: referencia al ID de algún producto válido.\n",
    "* cantidad: valores entre 1 y 20, por ejemplo.\n",
    "* precio_unitario: usar el mismo precio que está en la tabla productos o uno ligeramente distinto si quieres simular ofertas.\n",
    "* descuento: valores DECIMAL bajos (p. ej. 0.00, 1.00, 2.50) o NULL.\n",
    "\n",
    "En total: 30000."
   ]
  },
  {
   "cell_type": "code",
   "execution_count": null,
   "metadata": {},
   "outputs": [],
   "source": []
  },
  {
   "cell_type": "markdown",
   "metadata": {},
   "source": [
    "### 3. Consultas SQL (34%)"
   ]
  },
  {
   "cell_type": "markdown",
   "metadata": {},
   "source": [
    "1. Listado de órdenes con detalles de cliente y empleado\n",
    "* Muestra el ID de la orden, la fecha, el nombre del cliente, el nombre del empleado que atendió la compra y el método de pago.\n",
    "* Utiliza un JOIN entre las tablas ordenes, clientes y empleados."
   ]
  },
  {
   "cell_type": "code",
   "execution_count": null,
   "metadata": {},
   "outputs": [],
   "source": []
  },
  {
   "cell_type": "markdown",
   "metadata": {},
   "source": [
    "2. Productos con stock bajo\n",
    "* Filtra aquellos productos cuyo stock sea menor a 10.\n",
    "* Muestra nombre del producto, categoría y stock.\n"
   ]
  },
  {
   "cell_type": "code",
   "execution_count": null,
   "metadata": {},
   "outputs": [],
   "source": []
  },
  {
   "cell_type": "markdown",
   "metadata": {},
   "source": [
    "3. Ventas totales por categoría\n",
    "* Muestra el nombre de la categoría y la suma total de las ventas (ej.: multiplicando cantidad * precio_unitario) para cada categoría.\n",
    "* Realiza el JOIN con detalle_orden, productos y categorias.\n",
    "* Utiliza agrupación (GROUP BY)."
   ]
  },
  {
   "cell_type": "code",
   "execution_count": null,
   "metadata": {},
   "outputs": [],
   "source": []
  },
  {
   "cell_type": "markdown",
   "metadata": {},
   "source": [
    "4. Clientes con mayores gastos acumulados\n",
    "* Muestra el nombre del cliente y el monto total que ha gastado (suma de todas sus órdenes).\n",
    "* Asegúrate de tener en cuenta posibles descuentos (descuento) si se ha definido. Por ejemplo, la fórmula podría ser (cantidad * precio_unitario) - descuento.\n",
    "* Ordena el resultado de mayor a menor gasto acumulado."
   ]
  },
  {
   "cell_type": "code",
   "execution_count": null,
   "metadata": {},
   "outputs": [],
   "source": []
  },
  {
   "cell_type": "markdown",
   "metadata": {},
   "source": [
    "5. Empleados y número de órdenes gestionadas\n",
    "* Muestra el nombre del empleado, el puesto y la cantidad de órdenes que ha gestionado.\n",
    "* Utiliza GROUP BY y COUNT."
   ]
  },
  {
   "cell_type": "code",
   "execution_count": null,
   "metadata": {},
   "outputs": [],
   "source": []
  },
  {
   "cell_type": "markdown",
   "metadata": {},
   "source": [
    "6. Ordenes filtradas por fecha y tienda\n",
    "* Muestra todas las órdenes que se realizaron en un rango de fechas determinado (ej.: del 1 de enero de 2025 al 31 de enero de 2025) y en una tienda específica.\n",
    "* Incluye datos de la tienda y del cliente."
   ]
  },
  {
   "cell_type": "code",
   "execution_count": null,
   "metadata": {},
   "outputs": [],
   "source": []
  },
  {
   "cell_type": "markdown",
   "metadata": {},
   "source": [
    "7. Ranking de productos más vendidos en cada tienda\n",
    "* Para cada tienda, muestra los 3 productos más vendidos (en términos de cantidad total).\n",
    "* Tendrás que unir tiendas, empleados, ordenes y detalle_orden, además de productos.\n",
    "* Usa GROUP BY y ordena por la cantidad sumada (y opcionalmente, un LIMIT 3).\n"
   ]
  },
  {
   "cell_type": "code",
   "execution_count": null,
   "metadata": {},
   "outputs": [],
   "source": []
  },
  {
   "cell_type": "markdown",
   "metadata": {},
   "source": [
    "Opcional: añadir alguna consulta con subconsultas o algo que no se abarque en las anteriores consulta."
   ]
  },
  {
   "cell_type": "code",
   "execution_count": null,
   "metadata": {},
   "outputs": [],
   "source": []
  }
 ],
 "metadata": {
  "language_info": {
   "name": "python"
  }
 },
 "nbformat": 4,
 "nbformat_minor": 2
}
