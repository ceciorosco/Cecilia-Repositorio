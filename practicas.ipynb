{
 "cells": [
  {
   "cell_type": "code",
   "execution_count": null,
   "metadata": {},
   "outputs": [],
   "source": [
    "# class Product con atributos: id, title, price, quantity, active, description\n",
    "# sin metodo init\n",
    "class Product:\n",
    "    id: 0\n",
    "    title = \"empty\"\n",
    "    price = 0.00\n",
    "    quantity = 0\n",
    "    active = False\n",
    "    description = \"empty\"\n",
    "    image_url = \"http://wwww.google.com/image.png\"\n",
    "    \n",
    "    def __init__(self, id, title, price, quantity, active, description, image_url):\n",
    "        self.id = id\n",
    "        self.title = title\n",
    "        self.price = price\n",
    "        self.quantity = quantity\n",
    "        self.active = active\n",
    "        self.description = description\n",
    "        self.image_url = image_url\n",
    "        \n",
    "    def display_info(self):\n",
    "        print(f\"Id: {self.id}\")\n",
    "        print(f\"Title: {self.title}\")\n",
    "        print(f\"Price: {self.price}\")        \n",
    "        print(f\"Quantity: {self.quantity}\")\n",
    "        print(f\"Active : {self.active}\")\n",
    "        print(f\"Description: {self.description}\")\n",
    "        print(f\"Imagen producto: {self.image_url}\")"
   ]
  },
  {
   "cell_type": "code",
   "execution_count": 5,
   "metadata": {},
   "outputs": [
    {
     "name": "stdout",
     "output_type": "stream",
     "text": [
      "Id: 1\n",
      "Title: Microfono\n",
      "Price: 6.3\n",
      "Quantity: 10\n",
      "Active : 1\n",
      "Description: Microfono 1304\n"
     ]
    }
   ],
   "source": [
    "producto_1 = Product(1, \"Microfono\", 6.30, 10, 1, \"Microfono 1304\")\n",
    "producto_1.display_info()"
   ]
  },
  {
   "cell_type": "code",
   "execution_count": 1,
   "metadata": {},
   "outputs": [
    {
     "name": "stdout",
     "output_type": "stream",
     "text": [
      "Collecting numpy\n",
      "  Downloading numpy-2.2.0-cp313-cp313-win_amd64.whl.metadata (60 kB)\n",
      "Downloading numpy-2.2.0-cp313-cp313-win_amd64.whl (12.6 MB)\n",
      "   ---------------------------------------- 0.0/12.6 MB ? eta -:--:--\n",
      "   ------- -------------------------------- 2.4/12.6 MB 11.8 MB/s eta 0:00:01\n",
      "   -------------- ------------------------- 4.7/12.6 MB 11.8 MB/s eta 0:00:01\n",
      "   ----------------------- ---------------- 7.3/12.6 MB 11.8 MB/s eta 0:00:01\n",
      "   ------------------------------- -------- 10.0/12.6 MB 11.8 MB/s eta 0:00:01\n",
      "   ---------------------------------------  12.3/12.6 MB 11.8 MB/s eta 0:00:01\n",
      "   ---------------------------------------- 12.6/12.6 MB 11.3 MB/s eta 0:00:00\n",
      "Installing collected packages: numpy\n",
      "Successfully installed numpy-2.2.0\n",
      "Note: you may need to restart the kernel to use updated packages.\n"
     ]
    }
   ],
   "source": [
    "pip install numpy\n"
   ]
  },
  {
   "cell_type": "code",
   "execution_count": 2,
   "metadata": {},
   "outputs": [],
   "source": [
    "import numpy as np\n"
   ]
  }
 ],
 "metadata": {
  "kernelspec": {
   "display_name": "Python 3",
   "language": "python",
   "name": "python3"
  },
  "language_info": {
   "codemirror_mode": {
    "name": "ipython",
    "version": 3
   },
   "file_extension": ".py",
   "mimetype": "text/x-python",
   "name": "python",
   "nbconvert_exporter": "python",
   "pygments_lexer": "ipython3",
   "version": "3.13.1"
  }
 },
 "nbformat": 4,
 "nbformat_minor": 2
}
