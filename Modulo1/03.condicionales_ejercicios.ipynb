{
 "cells": [
  {
   "cell_type": "markdown",
   "id": "cc6f0931",
   "metadata": {},
   "source": [
    "## Ejecicios - Condicionales"
   ]
  },
  {
   "cell_type": "markdown",
   "id": "45bf39fc",
   "metadata": {},
   "source": [
    "### Ejercicio 1\n",
    "\n",
    "- Perdirle al usuario que ingrese un número mayor a 0\n",
    "- Luego que imprima por pantalla si el número es par o impar."
   ]
  },
  {
   "cell_type": "code",
   "execution_count": 3,
   "id": "ce78094c",
   "metadata": {},
   "outputs": [
    {
     "name": "stdout",
     "output_type": "stream",
     "text": [
      "no es un valor correcto\n",
      "no es un valor correcto\n",
      "no es un valor correcto\n",
      "el numero 45 es impar\n"
     ]
    }
   ],
   "source": [
    "while True: \n",
    "    try:\n",
    "        numero = int(input(\"ingrese un número mayor que 0 y menor que 50: \"))\n",
    "        if numero > 0 and numero < 50:\n",
    "            break\n",
    "    except ValueError:\n",
    "        pass    \n",
    "    print(\"no es un valor correcto\")\n",
    "if numero % 2 == 0:\n",
    "    print(f\"el numero {numero} es par\")\n",
    "else:\n",
    "    print(f\"el numero {numero} es impar\")\n"
   ]
  },
  {
   "cell_type": "code",
   "execution_count": null,
   "id": "4047176c",
   "metadata": {},
   "outputs": [],
   "source": []
  },
  {
   "cell_type": "code",
   "execution_count": null,
   "id": "b98b7cc7",
   "metadata": {},
   "outputs": [],
   "source": []
  },
  {
   "cell_type": "markdown",
   "id": "50f7c887",
   "metadata": {},
   "source": [
    "### Ejercicio 2\n",
    "- Pedirle al usuario que ingrese una palabra.\n",
    "- Contar el número de letras y decir si es una palabra larga (10 caracteres o más) o corta."
   ]
  },
  {
   "cell_type": "code",
   "execution_count": null,
   "id": "dd695bac",
   "metadata": {},
   "outputs": [
    {
     "name": "stdout",
     "output_type": "stream",
     "text": [
      "La palabra es Larga\n"
     ]
    }
   ],
   "source": [
    "palabra = input(\"ingrese una palabra:\")\n",
    "medida = len(palabra)\n",
    "if medida >= 10:\n",
    "    tama = \"larga\"\n",
    "else:\n",
    "    tama = \"corta\"\n",
    "print(f\"La palabra es {tama}\")"
   ]
  },
  {
   "cell_type": "markdown",
   "id": "e5438374",
   "metadata": {},
   "source": []
  },
  {
   "cell_type": "code",
   "execution_count": null,
   "id": "9fbdea13",
   "metadata": {},
   "outputs": [],
   "source": []
  },
  {
   "cell_type": "code",
   "execution_count": null,
   "id": "8f385606",
   "metadata": {},
   "outputs": [],
   "source": []
  },
  {
   "cell_type": "markdown",
   "id": "c3b58038",
   "metadata": {},
   "source": [
    "### Ejercicio 3\n",
    "- Pedirle al usuario que ingrese una palabra.\n",
    "- Contar cuantas vocales tiene e imprimir cuantas hay de cada una.\n",
    "- Luego imprimir por pantalla si tiene más vocales que consonantes."
   ]
  },
  {
   "cell_type": "code",
   "execution_count": null,
   "id": "c756ca4d",
   "metadata": {},
   "outputs": [
    {
     "name": "stdout",
     "output_type": "stream",
     "text": [
      "chismosas\n",
      "Hay más consonantes (6) que vocales (3)\n"
     ]
    }
   ],
   "source": [
    "palabra = input(\"ingrese una palabra:\")\n",
    "a=palabra.count(\"a\")\n",
    "e=palabra.count(\"e\")\n",
    "i=palabra.count(\"i\")\n",
    "o=palabra.count(\"o\")\n",
    "u=palabra.count(\"u\")\n",
    "tot = a+e+i+o+u\n",
    "conso = len(palabra)-tot\n",
    "print(palabra)\n",
    "\n",
    "if conso > tot:\n",
    "   print(f\"Hay más consonantes ({conso}) que vocales ({tot})\")\n",
    "elif conso == tot:\n",
    "    print(f\"Hay tantas consonantes como vocales ({conso})\")\n",
    "else:\n",
    "    print(f\"Hay menos consonantes ({conso}) que vocales ({tot})\")"
   ]
  },
  {
   "cell_type": "code",
   "execution_count": null,
   "id": "e31e702d",
   "metadata": {},
   "outputs": [
    {
     "name": "stdout",
     "output_type": "stream",
     "text": [
      "La palabra chismosa tiene 1 aA, 0 eE, 1 iI, 1 oO, 0 uU y 5 consonantes\n",
      "Hay más consonantes (5) que vocales (3)\n"
     ]
    }
   ],
   "source": [
    "palabra = input(\"ingrese una palabra:\")\n",
    "a = 0\n",
    "e = 0\n",
    "i = 0\n",
    "o = 0 \n",
    "u = 0 \n",
    "conso = 0\n",
    "for x in palabra:\n",
    "    if x == \"a\" or x == \"A\":\n",
    "        a = a + 1\n",
    "    elif x == \"e\" or x == \"E\":\n",
    "        e = e + 1 \n",
    "    elif x == \"i\" or x == \"I\":\n",
    "        i = i + 1\n",
    "    elif x == \"o\" or x == \"O\":\n",
    "        o = o + 1 \n",
    "    elif x == \"u\" or x == \"U\":\n",
    "        u = u + 1\n",
    "    else:\n",
    "        conso = conso + 1     \n",
    "print(f\"La palabra {palabra} tiene {a} aA, {e} eE, {i} iI, {o} oO, {u} uU y {conso} consonantes\")\n",
    "if conso > tot:\n",
    "   print(f\"Tiene más consonantes ({conso}) que vocales ({tot})\")\n",
    "elif conso == tot:\n",
    "    print(f\"Tiene tantas consonantes como vocales ({conso})\")\n",
    "else:\n",
    "    print(f\"Tiene menos consonantes ({conso}) que vocales ({tot})\")"
   ]
  },
  {
   "cell_type": "code",
   "execution_count": 9,
   "id": "21726bb9",
   "metadata": {},
   "outputs": [
    {
     "name": "stdout",
     "output_type": "stream",
     "text": [
      "La frase tiene 5 vocales.\n"
     ]
    }
   ],
   "source": [
    "# Contar las vocales\n",
    "palabra = input(\"ingrese una palabra:\")\n",
    "vocales = \"aeiouAEIOU\"\n",
    "contador_vocales = sum(1 for letra in palabra if letra in vocales)\n",
    "\n",
    "# Imprimir el resultado\n",
    "print(f\"La frase tiene {contador_vocales} vocales.\")"
   ]
  },
  {
   "cell_type": "code",
   "execution_count": 18,
   "id": "0e3bb7e3",
   "metadata": {},
   "outputs": [
    {
     "name": "stdout",
     "output_type": "stream",
     "text": [
      "La vocal 'a' aparece 1 veces.\n",
      "La vocal 'e' aparece 1 veces.\n",
      "La vocal 'i' aparece 1 veces.\n",
      "La vocal 'o' aparece 1 veces.\n",
      "La vocal 'u' aparece 1 veces.\n",
      "La vocal 'A' aparece 0 veces.\n",
      "La vocal 'E' aparece 0 veces.\n",
      "La vocal 'I' aparece 0 veces.\n",
      "La vocal 'O' aparece 0 veces.\n",
      "La vocal 'U' aparece 0 veces.\n"
     ]
    }
   ],
   "source": [
    "# Pedir al usuario que ingrese una frase\n",
    "frase = input(\"Escribe una frase: \")\n",
    "\n",
    "# Inicializar un diccionario para contar las vocales\n",
    "contador_vocales = {\n",
    "    'a': 0,\n",
    "    'e': 0,\n",
    "    'i': 0,\n",
    "    'o': 0,\n",
    "    'u': 0,\n",
    "    'A': 0,\n",
    "    'E': 0,\n",
    "    'I': 0,\n",
    "    'O': 0,\n",
    "    'U': 0\n",
    "}\n",
    "\n",
    "# Contar las vocales\n",
    "for letra in frase:\n",
    "    if letra in contador_vocales:\n",
    "        contador_vocales[letra] += 1\n",
    "\n",
    "# Imprimir el resultado\n",
    "for vocal, cantidad in contador_vocales.items():\n",
    "    print(f\"La vocal '{vocal}' aparece {cantidad} veces.\")"
   ]
  },
  {
   "cell_type": "code",
   "execution_count": null,
   "id": "76fc9c09",
   "metadata": {},
   "outputs": [],
   "source": [
    "frase = input(\"Escribe una frase: \")\n",
    "# Inicializar un diccionario para contar las vocales\n",
    "contador_vocales = {'a': 0,'e': 0,'i': 0,'o': 0,'u': 0,}\n",
    "# Contar las vocales\n",
    "for letra in frase:\n",
    "    if letra in contador_vocales:\n",
    "        contador_vocales[letra] += 1\n",
    "# Imprimir el resultado\n",
    "for vocal, cantidad in contador_vocales.items():\n",
    "    print(f\"La vocal '{vocal}' aparece {cantidad} veces.\")"
   ]
  },
  {
   "cell_type": "markdown",
   "id": "c075c77b",
   "metadata": {},
   "source": [
    "### Ejercicio 4\n",
    "- Pedir al usuario que ingrese una frase.\n",
    "- Contar el número de palabras.\n",
    "- Si el número de palabras es impar imprimir \"El número de palabras es impar\" de lo contrario imprimir \"El número de palabras es par\"."
   ]
  },
  {
   "cell_type": "code",
   "execution_count": 6,
   "id": "67962e21",
   "metadata": {},
   "outputs": [
    {
     "name": "stdout",
     "output_type": "stream",
     "text": [
      "Frase: una frase para recordaqr\n",
      "El número de palabras (4) es par\n"
     ]
    }
   ],
   "source": [
    "frase = input(\"Ingresa una frase: \")\n",
    "numero_palabras = len(frase.split())\n",
    "print(f\"Frase: {frase}\")\n",
    "if numero_palabras % 2 == 0:\n",
    "    print(f\"El número de palabras ({numero_palabras}) es par\")\n",
    "else:\n",
    "    print(\"El número de palabras ({numero_palabras}) es impar\")"
   ]
  },
  {
   "cell_type": "code",
   "execution_count": null,
   "id": "0cdfdbbd",
   "metadata": {},
   "outputs": [],
   "source": []
  },
  {
   "cell_type": "code",
   "execution_count": null,
   "id": "8c1baece",
   "metadata": {},
   "outputs": [],
   "source": []
  },
  {
   "cell_type": "code",
   "execution_count": 2,
   "id": "38fb44c7",
   "metadata": {},
   "outputs": [],
   "source": [
    "##############################################################################################################################"
   ]
  }
 ],
 "metadata": {
  "kernelspec": {
   "display_name": "Python 3",
   "language": "python",
   "name": "python3"
  },
  "language_info": {
   "codemirror_mode": {
    "name": "ipython",
    "version": 3
   },
   "file_extension": ".py",
   "mimetype": "text/x-python",
   "name": "python",
   "nbconvert_exporter": "python",
   "pygments_lexer": "ipython3",
   "version": "3.13.1"
  }
 },
 "nbformat": 4,
 "nbformat_minor": 5
}
