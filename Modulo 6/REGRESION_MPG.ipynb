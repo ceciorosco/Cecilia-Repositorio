{
 "cells": [
  {
   "cell_type": "markdown",
   "metadata": {},
   "source": [
    "# VectorAssembler\n",
    "\n",
    "### Regresion pyspark para predecir columna mpg del dataset mpg"
   ]
  },
  {
   "cell_type": "code",
   "execution_count": 40,
   "metadata": {},
   "outputs": [],
   "source": [
    "import seaborn as sns\n",
    "import pandas as pd\n",
    "from pyspark.sql import SparkSession\n",
    "from pyspark.ml.feature import VectorAssembler\n",
    "from pyspark.ml.regression import LinearRegression, DecisionTreeRegressor, RandomForestRegressor, GBTRegressor\n",
    "from pyspark.ml.evaluation import RegressionEvaluator\n",
    "from pyspark.sql.types import NumericType, StringType "
   ]
  },
  {
   "cell_type": "code",
   "execution_count": 22,
   "metadata": {},
   "outputs": [
    {
     "name": "stdout",
     "output_type": "stream",
     "text": [
      "+----+---------+------------+----------+------+------------+----------+------+--------------------+\n",
      "| mpg|cylinders|displacement|horsepower|weight|acceleration|model_year|origin|                name|\n",
      "+----+---------+------------+----------+------+------------+----------+------+--------------------+\n",
      "|18.0|        8|       307.0|     130.0|  3504|        12.0|        70|   usa|chevrolet chevell...|\n",
      "|15.0|        8|       350.0|     165.0|  3693|        11.5|        70|   usa|   buick skylark 320|\n",
      "|18.0|        8|       318.0|     150.0|  3436|        11.0|        70|   usa|  plymouth satellite|\n",
      "|16.0|        8|       304.0|     150.0|  3433|        12.0|        70|   usa|       amc rebel sst|\n",
      "|17.0|        8|       302.0|     140.0|  3449|        10.5|        70|   usa|         ford torino|\n",
      "+----+---------+------------+----------+------+------------+----------+------+--------------------+\n",
      "only showing top 5 rows\n",
      "\n"
     ]
    }
   ],
   "source": [
    "spark = SparkSession.builder.appName('regresion_mpg').getOrCreate()\n",
    "df = spark.createDataFrame(sns.load_dataset('mpg').dropna())\n",
    "df.show(5)"
   ]
  },
  {
   "cell_type": "markdown",
   "metadata": {},
   "source": [
    "### Opcion 1: hacer assembler antes de particionar datos\n"
   ]
  },
  {
   "cell_type": "code",
   "execution_count": 23,
   "metadata": {},
   "outputs": [
    {
     "name": "stdout",
     "output_type": "stream",
     "text": [
      "+----+---------+------------+----------+------+------------+----------+------+--------------------+--------------------+\n",
      "| mpg|cylinders|displacement|horsepower|weight|acceleration|model_year|origin|                name|            features|\n",
      "+----+---------+------------+----------+------+------------+----------+------+--------------------+--------------------+\n",
      "|18.0|        8|       307.0|     130.0|  3504|        12.0|        70|   usa|chevrolet chevell...|[8.0,307.0,130.0,...|\n",
      "|15.0|        8|       350.0|     165.0|  3693|        11.5|        70|   usa|   buick skylark 320|[8.0,350.0,165.0,...|\n",
      "|18.0|        8|       318.0|     150.0|  3436|        11.0|        70|   usa|  plymouth satellite|[8.0,318.0,150.0,...|\n",
      "+----+---------+------------+----------+------+------------+----------+------+--------------------+--------------------+\n",
      "only showing top 3 rows\n",
      "\n"
     ]
    }
   ],
   "source": [
    "\n",
    "assembler = VectorAssembler(\n",
    "    inputCols=['cylinders', 'displacement', 'horsepower', 'weight', 'acceleration', 'model_year'],\n",
    "    outputCol= 'features' #le llamamos features para que coincida con lo que piden los algoritmos\n",
    ")\n",
    "df_assembled = assembler.transform(df)\n",
    "df_assembled.show(3)"
   ]
  },
  {
   "cell_type": "code",
   "execution_count": 24,
   "metadata": {},
   "outputs": [
    {
     "name": "stdout",
     "output_type": "stream",
     "text": [
      "+--------------------+-----+\n",
      "|            features|label|\n",
      "+--------------------+-----+\n",
      "|[8.0,307.0,130.0,...| 18.0|\n",
      "|[8.0,350.0,165.0,...| 15.0|\n",
      "|[8.0,318.0,150.0,...| 18.0|\n",
      "+--------------------+-----+\n",
      "only showing top 3 rows\n",
      "\n"
     ]
    }
   ],
   "source": [
    "df_features_label = df_assembled.withColumnRenamed('mpg', 'label').select('features', 'label')\n",
    "df_features_label.show(3)"
   ]
  },
  {
   "cell_type": "code",
   "execution_count": 25,
   "metadata": {},
   "outputs": [],
   "source": [
    "#particionamiento de datos\n",
    "df_train, df_test = df_features_label.randomSplit([0.8, 0.2], seed=42)\n"
   ]
  },
  {
   "cell_type": "markdown",
   "metadata": {},
   "source": [
    "### Opcion 2: primero particionar y luego usar VectorAssembler"
   ]
  },
  {
   "cell_type": "code",
   "execution_count": 26,
   "metadata": {},
   "outputs": [
    {
     "name": "stdout",
     "output_type": "stream",
     "text": [
      "+---------+------------+----------+------+------------+----------+----+\n",
      "|cylinders|displacement|horsepower|weight|acceleration|model_year| mpg|\n",
      "+---------+------------+----------+------+------------+----------+----+\n",
      "|        8|       307.0|     130.0|  3504|        12.0|        70|18.0|\n",
      "|        8|       350.0|     165.0|  3693|        11.5|        70|15.0|\n",
      "+---------+------------+----------+------+------------+----------+----+\n",
      "only showing top 2 rows\n",
      "\n"
     ]
    }
   ],
   "source": [
    "numeric_cols = ['cylinders', 'displacement', 'horsepower', 'weight', 'acceleration', 'model_year']\n",
    "label_col = 'mpg'\n",
    "df_selected = df.select(numeric_cols + [label_col])\n",
    "df_selected.show(2)"
   ]
  },
  {
   "cell_type": "code",
   "execution_count": 27,
   "metadata": {},
   "outputs": [],
   "source": [
    "df_train, df_test = df_selected.randomSplit([0.8, 0.2], seed=42)"
   ]
  },
  {
   "cell_type": "code",
   "execution_count": 28,
   "metadata": {},
   "outputs": [
    {
     "name": "stdout",
     "output_type": "stream",
     "text": [
      "+--------------------+----+\n",
      "|            features| mpg|\n",
      "+--------------------+----+\n",
      "|[4.0,97.0,46.0,18...|26.0|\n",
      "+--------------------+----+\n",
      "only showing top 1 row\n",
      "\n"
     ]
    }
   ],
   "source": [
    "assembler = VectorAssembler(\n",
    "    inputCols= numeric_cols,\n",
    "    outputCol= 'features' #le llamamos features para que coincida con lo que piden los algoritmos\n",
    ")\n",
    "df_train = assembler.transform(df_train).select('features', label_col)\n",
    "df_test = assembler.transform(df_test).select('features', label_col)\n",
    "df_train.show(1)"
   ]
  },
  {
   "cell_type": "markdown",
   "metadata": {},
   "source": [
    "### Regression"
   ]
  },
  {
   "cell_type": "code",
   "execution_count": null,
   "metadata": {},
   "outputs": [
    {
     "name": "stdout",
     "output_type": "stream",
     "text": [
      "+--------------------+----+------------------+\n",
      "|            features| mpg|        prediction|\n",
      "+--------------------+----+------------------+\n",
      "|[4.0,97.0,88.0,21...|27.0|25.250093988412278|\n",
      "|[4.0,113.0,95.0,2...|25.0|24.676738282044827|\n",
      "|[4.0,121.0,113.0,...|26.0|23.814798786244754|\n",
      "|[6.0,199.0,90.0,2...|21.0|21.084588525221672|\n",
      "+--------------------+----+------------------+\n",
      "only showing top 4 rows\n",
      "\n"
     ]
    }
   ],
   "source": [
    "lr = LinearRegression(labelCol=label_col)\n",
    "model = lr.fit(df_train)\n",
    "df_pred = model.transform(df_test)\n",
    "df_pred.show(4)"
   ]
  },
  {
   "cell_type": "code",
   "execution_count": 31,
   "metadata": {},
   "outputs": [
    {
     "name": "stdout",
     "output_type": "stream",
     "text": [
      "r2 0.7855411849361159\n",
      "mae 2.729576315612858\n",
      "mse 12.796950495638\n",
      "rmse 3.5772825574223237\n"
     ]
    }
   ],
   "source": [
    "evaluator_r2 = RegressionEvaluator(metricName='r2', labelCol=label_col)\n",
    "evaluator_mae = RegressionEvaluator(metricName='mae', labelCol=label_col)\n",
    "evaluator_mse = RegressionEvaluator(metricName='mse', labelCol=label_col)\n",
    "evaluator_rmse = RegressionEvaluator(metricName='rmse', labelCol=label_col)\n",
    "print('r2', evaluator_r2.evaluate(df_pred))\n",
    "print('mae', evaluator_mae.evaluate(df_pred))\n",
    "print('mse', evaluator_mse.evaluate(df_pred))\n",
    "print('rmse', evaluator_rmse.evaluate(df_pred))\n"
   ]
  },
  {
   "cell_type": "code",
   "execution_count": null,
   "metadata": {},
   "outputs": [
    {
     "name": "stdout",
     "output_type": "stream",
     "text": [
      "+--------------------+----+------------------+\n",
      "|            features| mpg|        prediction|\n",
      "+--------------------+----+------------------+\n",
      "|[4.0,97.0,88.0,21...|27.0| 28.38888888888889|\n",
      "|[4.0,113.0,95.0,2...|25.0|23.452380952380953|\n",
      "|[4.0,121.0,113.0,...|26.0|23.452380952380953|\n",
      "|[6.0,199.0,90.0,2...|21.0|19.545454545454547|\n",
      "+--------------------+----+------------------+\n",
      "only showing top 4 rows\n",
      "\n",
      "r2 0.7365300126693128\n",
      "mae 2.727834251947929\n",
      "mse 15.72149125207477\n",
      "rmse 3.9650335751510064\n"
     ]
    }
   ],
   "source": [
    "tree = DecisionTreeRegressor(labelCol=label_col)\n",
    "model = tree.fit(df_train)\n",
    "df_pred = model.transform(df_test)\n",
    "df_pred.show(4)\n",
    "print('r2', evaluator_r2.evaluate(df_pred))\n",
    "print('mae', evaluator_mae.evaluate(df_pred))\n",
    "print('mse', evaluator_mse.evaluate(df_pred))\n",
    "print('rmse', evaluator_rmse.evaluate(df_pred))"
   ]
  },
  {
   "cell_type": "code",
   "execution_count": 38,
   "metadata": {},
   "outputs": [
    {
     "name": "stdout",
     "output_type": "stream",
     "text": [
      "+--------------------+----+------------------+\n",
      "|            features| mpg|        prediction|\n",
      "+--------------------+----+------------------+\n",
      "|[4.0,97.0,88.0,21...|27.0| 26.38153733393471|\n",
      "|[4.0,113.0,95.0,2...|25.0|24.004228108417472|\n",
      "|[4.0,121.0,113.0,...|26.0| 23.23222333171911|\n",
      "|[6.0,199.0,90.0,2...|21.0|20.984431060662835|\n",
      "+--------------------+----+------------------+\n",
      "only showing top 4 rows\n",
      "\n",
      "r2 0.8265663244052999\n",
      "mae 2.0549119456815133\n",
      "mse 10.348943503211952\n",
      "rmse 3.216977386182867\n"
     ]
    }
   ],
   "source": [
    "rfores = RandomForestRegressor(labelCol=label_col)\n",
    "model = rfores.fit(df_train)\n",
    "df_pred2 = model.transform(df_test)\n",
    "df_pred2.show(4)\n",
    "print('r2', evaluator_r2.evaluate(df_pred2))\n",
    "print('mae', evaluator_mae.evaluate(df_pred2))\n",
    "print('mse', evaluator_mse.evaluate(df_pred2))\n",
    "print('rmse', evaluator_rmse.evaluate(df_pred2))"
   ]
  },
  {
   "cell_type": "code",
   "execution_count": null,
   "metadata": {},
   "outputs": [
    {
     "name": "stdout",
     "output_type": "stream",
     "text": [
      "+--------------------+----+------------------+\n",
      "|            features| mpg|        prediction|\n",
      "+--------------------+----+------------------+\n",
      "|[4.0,97.0,88.0,21...|27.0| 27.75746768399558|\n",
      "|[4.0,113.0,95.0,2...|25.0|22.617828495200573|\n",
      "|[4.0,121.0,113.0,...|26.0| 21.98734984759712|\n",
      "|[6.0,199.0,90.0,2...|21.0| 20.78967097491329|\n",
      "+--------------------+----+------------------+\n",
      "only showing top 4 rows\n",
      "\n",
      "r2 0.7397536860595073\n",
      "mae 2.712554975632221\n",
      "mse 15.52913175975856\n",
      "rmse 3.9407019374419274\n"
     ]
    }
   ],
   "source": [
    "gbt = GBTRegressor(labelCol=label_col)\n",
    "model = gbt.fit(df_train)\n",
    "df_pred2 = model.transform(df_test)\n",
    "df_pred2.show(4)\n",
    "print('r2', evaluator_r2.evaluate(df_pred2))\n",
    "print('mae', evaluator_mae.evaluate(df_pred2))\n",
    "print('mse', evaluator_mse.evaluate(df_pred2))\n",
    "print('rmse', evaluator_rmse.evaluate(df_pred2))"
   ]
  },
  {
   "cell_type": "code",
   "execution_count": null,
   "metadata": {},
   "outputs": [],
   "source": [
    "numeric_cols = [field.name for field in df.schema.fields if isinstance(field.dataType, NumericType)]\n",
    "categorical_cols = [field.name for field in df.schema.fields if isinstance(field.dataType, StringType)]"
   ]
  }
 ],
 "metadata": {
  "kernelspec": {
   "display_name": "Python 3 (ipykernel)",
   "language": "python",
   "name": "python3"
  },
  "language_info": {
   "codemirror_mode": {
    "name": "ipython",
    "version": 3
   },
   "file_extension": ".py",
   "mimetype": "text/x-python",
   "name": "python",
   "nbconvert_exporter": "python",
   "pygments_lexer": "ipython3",
   "version": "3.11.6"
  }
 },
 "nbformat": 4,
 "nbformat_minor": 2
}
