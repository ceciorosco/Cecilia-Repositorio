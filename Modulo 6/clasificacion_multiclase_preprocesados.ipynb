{
 "cells": [
  {
   "cell_type": "code",
   "execution_count": 19,
   "metadata": {},
   "outputs": [],
   "source": [
    "import seaborn as sns\n",
    "import pandas as pd\n",
    "from pyspark.sql import SparkSession\n",
    "from pyspark.ml.feature import VectorAssembler, StringIndexer, OneHotEncoder, Imputer, StringIndexer, StandardScaler\n",
    "from pyspark.ml.evaluation import (BinaryClassificationEvaluator, \n",
    "                                   MulticlassClassificationEvaluator)\n",
    "from pyspark.ml.classification import (LogisticRegression, \n",
    "                                       DecisionTreeClassifier, \n",
    "                                       RandomForestClassifier, \n",
    "                                       GBTClassifier, \n",
    "                                       MultilayerPerceptronClassifier,\n",
    "                                       OneVsRest)\n",
    "from pyspark.sql.types import NumericType, StringType\n",
    "from pyspark.sql.functions import col"
   ]
  },
  {
   "cell_type": "code",
   "execution_count": 20,
   "metadata": {},
   "outputs": [
    {
     "name": "stdout",
     "output_type": "stream",
     "text": [
      "+-------+---------+--------------+-------------+-----------------+-----------+------+\n",
      "|species|   island|bill_length_mm|bill_depth_mm|flipper_length_mm|body_mass_g|   sex|\n",
      "+-------+---------+--------------+-------------+-----------------+-----------+------+\n",
      "| Adelie|Torgersen|          39.1|         18.7|            181.0|     3750.0|  Male|\n",
      "| Adelie|Torgersen|          39.5|         17.4|            186.0|     3800.0|Female|\n",
      "| Adelie|Torgersen|          40.3|         18.0|            195.0|     3250.0|Female|\n",
      "| Adelie|Torgersen|          36.7|         19.3|            193.0|     3450.0|Female|\n",
      "| Adelie|Torgersen|          39.3|         20.6|            190.0|     3650.0|  Male|\n",
      "+-------+---------+--------------+-------------+-----------------+-----------+------+\n",
      "only showing top 5 rows\n",
      "\n"
     ]
    }
   ],
   "source": [
    "spark = SparkSession.builder.appName('clasificacion_penguins_preprocesados').getOrCreate()\n",
    "df = spark.createDataFrame(sns.load_dataset('penguins').dropna())\n",
    "df.show(5)"
   ]
  },
  {
   "cell_type": "code",
   "execution_count": 21,
   "metadata": {},
   "outputs": [],
   "source": [
    "#queremos predecir species por lo tanto elimino filas donde species dea Nan\n",
    "df = df.dropna(subset=['species'])\n",
    "# si estuviera en dataframe de pandas: \n",
    "# df['island'] = df['island'].fillna('other')"
   ]
  },
  {
   "cell_type": "code",
   "execution_count": 22,
   "metadata": {},
   "outputs": [],
   "source": [
    "df_train, df_test = df.randomSplit([0.8, 0.2], seed=42)"
   ]
  },
  {
   "cell_type": "markdown",
   "metadata": {},
   "source": [
    "## Imputers"
   ]
  },
  {
   "cell_type": "code",
   "execution_count": 23,
   "metadata": {},
   "outputs": [],
   "source": [
    "numeric_cols =  [field.name for field in df.schema.fields if isinstance(field.dataType, NumericType)]\n",
    "# Filtramos species porque species es la variable a predecir y ya hemos asegurado que no tiene nan\n",
    "categorical_cols = [field.name for field in df.schema.fields if isinstance(field.dataType, StringType) and field.name != 'species']"
   ]
  },
  {
   "cell_type": "code",
   "execution_count": 24,
   "metadata": {},
   "outputs": [
    {
     "name": "stdout",
     "output_type": "stream",
     "text": [
      "+-------+------+--------------+-------------+-----------------+-----------+------+----------------------+---------------------+-------------------------+-------------------+\n",
      "|species|island|bill_length_mm|bill_depth_mm|flipper_length_mm|body_mass_g|   sex|bill_length_mm_imputed|bill_depth_mm_imputed|flipper_length_mm_imputed|body_mass_g_imputed|\n",
      "+-------+------+--------------+-------------+-----------------+-----------+------+----------------------+---------------------+-------------------------+-------------------+\n",
      "| Adelie|Biscoe|          35.3|         18.9|            187.0|     3800.0|Female|                  35.3|                 18.9|                    187.0|             3800.0|\n",
      "| Adelie|Biscoe|          35.9|         19.2|            189.0|     3800.0|Female|                  35.9|                 19.2|                    189.0|             3800.0|\n",
      "| Adelie|Biscoe|          37.8|         18.3|            174.0|     3400.0|Female|                  37.8|                 18.3|                    174.0|             3400.0|\n",
      "| Adelie|Biscoe|          37.9|         18.6|            172.0|     3150.0|Female|                  37.9|                 18.6|                    172.0|             3150.0|\n",
      "| Adelie|Biscoe|          38.2|         18.1|            185.0|     3950.0|  Male|                  38.2|                 18.1|                    185.0|             3950.0|\n",
      "+-------+------+--------------+-------------+-----------------+-----------+------+----------------------+---------------------+-------------------------+-------------------+\n",
      "only showing top 5 rows\n",
      "\n"
     ]
    }
   ],
   "source": [
    "imputer = Imputer(\n",
    "    strategy='median',\n",
    "    inputCols=numeric_cols,\n",
    "    outputCols=[col +'_imputed' for col in numeric_cols]\n",
    ")\n",
    "imputer_model = imputer.fit(df_train)\n",
    "df_train = imputer_model.transform(df_train)\n",
    "df_test = imputer_model.transform(df_test)\n",
    "df_train.show(5)\n",
    "\n"
   ]
  },
  {
   "cell_type": "code",
   "execution_count": 25,
   "metadata": {},
   "outputs": [],
   "source": [
    "# Opcion 1 para las categoricas: rellenar con un valor fijo\n",
    "# al inferir el schema automáticamente nos está diciendo que la columna sex NO es nullable y no tiene nan, por lo que en realidad\n",
    "# lo que está pasando es que los NaN los tiene como palabras 'NaN' texto, por tanto no sirve el fill y usamos replace:\n",
    "\n",
    "\n",
    "# df_train = df_train.na.fill('other', subset=categorical_cols)\n",
    "# df_test = df_test.na.fill('other', subset=categorical_cols)\n",
    "\n",
    "# df_train = df_train.fillna('other', subset=categorical_cols)\n",
    "# df_test = df_test.fillna('other', subset=categorical_cols)\n",
    "\n",
    "# df_train = df_train.replace('NaN', 'other', subset=categorical_cols)\n",
    "# df_test = df_test.replace('NaN', 'other', subset=categorical_cols)\n"
   ]
  },
  {
   "cell_type": "code",
   "execution_count": 26,
   "metadata": {},
   "outputs": [
    {
     "name": "stdout",
     "output_type": "stream",
     "text": [
      "+---------+-----+\n",
      "|   island|count|\n",
      "+---------+-----+\n",
      "|   Biscoe|  163|\n",
      "|    Dream|  123|\n",
      "|Torgersen|   47|\n",
      "+---------+-----+\n",
      "\n"
     ]
    }
   ],
   "source": [
    "# ver value_counts para ver valores mas frecuentes\n",
    "df.groupBy('island').count().orderBy(col('count').desc()).show()"
   ]
  },
  {
   "cell_type": "code",
   "execution_count": 27,
   "metadata": {},
   "outputs": [],
   "source": [
    "# Opcion 2: usar Imputer\n",
    "# No se puede, IllegalArgumentException, requiere numéricas.\n",
    "# Se haría si hemos hecho primero un StringIndexer para convertir a numéricas a índices\n",
    "# imputer = Imputer(\n",
    "#     strategy='mode',\n",
    "#     inputCols=categorical_cols,\n",
    "#     outputCols=[col + '_imputed' for col in categorical_cols]\n",
    "# )\n",
    "# imputer_model = imputer.fit(df_train) # fit solo sobre train para evitar fuga de datos data leakage\n",
    "# df_train = imputer_model.transform(df_train)\n",
    "# df_test = imputer_model.transform(df_test)"
   ]
  },
  {
   "cell_type": "code",
   "execution_count": 28,
   "metadata": {},
   "outputs": [],
   "source": [
    "# 3 rellenar con la moda\n",
    "island_mode = df.groupBy('island').count().orderBy(col('count').desc()).first()['island']\n",
    "sex_mode = df.groupBy('sex').count().orderBy(col('count').desc()).first()['sex']\n",
    "\n",
    "df_train = df_train.replace('NaN', island_mode, subset=['island'])\n",
    "df_test = df_test.replace('NaN', island_mode, subset=['island'])\n",
    "\n",
    "df_train = df_train.replace('NaN', sex_mode, subset=['sex'])\n",
    "df_test = df_test.replace('NaN', sex_mode, subset=['sex'])"
   ]
  },
  {
   "cell_type": "markdown",
   "metadata": {},
   "source": [
    "## StringIndexer + OneHotEncoder"
   ]
  },
  {
   "cell_type": "code",
   "execution_count": 29,
   "metadata": {},
   "outputs": [
    {
     "name": "stdout",
     "output_type": "stream",
     "text": [
      "+-------+------+--------------+-------------+-----------------+-----------+------+----------------------+---------------------+-------------------------+-------------------+-----+--------------+-----------+\n",
      "|species|island|bill_length_mm|bill_depth_mm|flipper_length_mm|body_mass_g|   sex|bill_length_mm_imputed|bill_depth_mm_imputed|flipper_length_mm_imputed|body_mass_g_imputed|label|island_indexed|sex_indexed|\n",
      "+-------+------+--------------+-------------+-----------------+-----------+------+----------------------+---------------------+-------------------------+-------------------+-----+--------------+-----------+\n",
      "| Adelie|Biscoe|          35.3|         18.9|            187.0|     3800.0|Female|                  35.3|                 18.9|                    187.0|             3800.0|  0.0|           0.0|        0.0|\n",
      "| Adelie|Biscoe|          35.9|         19.2|            189.0|     3800.0|Female|                  35.9|                 19.2|                    189.0|             3800.0|  0.0|           0.0|        0.0|\n",
      "| Adelie|Biscoe|          37.8|         18.3|            174.0|     3400.0|Female|                  37.8|                 18.3|                    174.0|             3400.0|  0.0|           0.0|        0.0|\n",
      "+-------+------+--------------+-------------+-----------------+-----------+------+----------------------+---------------------+-------------------------+-------------------+-----+--------------+-----------+\n",
      "only showing top 3 rows\n",
      "\n"
     ]
    }
   ],
   "source": [
    "#indexar 'species' columna  a predecir. Ya no le aplicamos OneHotEncoder\n",
    "indexer_label = StringIndexer(inputCol='species', outputCol='label')\n",
    "indexer_model = indexer_label.fit(df_train)\n",
    "df_train = indexer_model.transform(df_train)\n",
    "df_test = indexer_model.transform(df_test)\n",
    "\n",
    "#indexar las otras categoricas\n",
    "for categorical_col in categorical_cols:\n",
    "    indexer = StringIndexer(inputCol=categorical_col, outputCol=categorical_col + '_indexed')\n",
    "    model = indexer.fit(df_train)\n",
    "    df_train = model.transform(df_train)\n",
    "    df_test = model.transform(df_test)\n",
    "    \n",
    "df_train.show(3)"
   ]
  },
  {
   "cell_type": "code",
   "execution_count": 30,
   "metadata": {},
   "outputs": [
    {
     "name": "stdout",
     "output_type": "stream",
     "text": [
      "+-------+------+--------------+-------------+-----------------+-----------+------+----------------------+---------------------+-------------------------+-------------------+-----+--------------+-----------+-------------+-------------+\n",
      "|species|island|bill_length_mm|bill_depth_mm|flipper_length_mm|body_mass_g|   sex|bill_length_mm_imputed|bill_depth_mm_imputed|flipper_length_mm_imputed|body_mass_g_imputed|label|island_indexed|sex_indexed|island_onehot|   sex_onehot|\n",
      "+-------+------+--------------+-------------+-----------------+-----------+------+----------------------+---------------------+-------------------------+-------------------+-----+--------------+-----------+-------------+-------------+\n",
      "| Adelie|Biscoe|          35.3|         18.9|            187.0|     3800.0|Female|                  35.3|                 18.9|                    187.0|             3800.0|  0.0|           0.0|        0.0|(2,[0],[1.0])|(1,[0],[1.0])|\n",
      "| Adelie|Biscoe|          35.9|         19.2|            189.0|     3800.0|Female|                  35.9|                 19.2|                    189.0|             3800.0|  0.0|           0.0|        0.0|(2,[0],[1.0])|(1,[0],[1.0])|\n",
      "| Adelie|Biscoe|          37.8|         18.3|            174.0|     3400.0|Female|                  37.8|                 18.3|                    174.0|             3400.0|  0.0|           0.0|        0.0|(2,[0],[1.0])|(1,[0],[1.0])|\n",
      "+-------+------+--------------+-------------+-----------------+-----------+------+----------------------+---------------------+-------------------------+-------------------+-----+--------------+-----------+-------------+-------------+\n",
      "only showing top 3 rows\n",
      "\n"
     ]
    }
   ],
   "source": [
    "encoder = OneHotEncoder(\n",
    "    inputCols=[col + '_indexed' for col in categorical_cols],\n",
    "    outputCols=[col + '_onehot' for col in categorical_cols]\n",
    ")\n",
    "\n",
    "model = encoder.fit(df_train)\n",
    "df_train = model.transform(df_train)\n",
    "df_test = model.transform(df_test)\n",
    "\n",
    "df_train.show(3)"
   ]
  },
  {
   "cell_type": "markdown",
   "metadata": {},
   "source": [
    "## Assembler"
   ]
  },
  {
   "cell_type": "code",
   "execution_count": 31,
   "metadata": {},
   "outputs": [
    {
     "name": "stdout",
     "output_type": "stream",
     "text": [
      "+-------+------+--------------+-------------+-----------------+-----------+------+----------------------+---------------------+-------------------------+-------------------+-----+--------------+-----------+-------------+-------------+--------------------+\n",
      "|species|island|bill_length_mm|bill_depth_mm|flipper_length_mm|body_mass_g|   sex|bill_length_mm_imputed|bill_depth_mm_imputed|flipper_length_mm_imputed|body_mass_g_imputed|label|island_indexed|sex_indexed|island_onehot|   sex_onehot|            features|\n",
      "+-------+------+--------------+-------------+-----------------+-----------+------+----------------------+---------------------+-------------------------+-------------------+-----+--------------+-----------+-------------+-------------+--------------------+\n",
      "| Adelie|Biscoe|          35.3|         18.9|            187.0|     3800.0|Female|                  35.3|                 18.9|                    187.0|             3800.0|  0.0|           0.0|        0.0|(2,[0],[1.0])|(1,[0],[1.0])|[1.0,0.0,1.0,35.3...|\n",
      "| Adelie|Biscoe|          35.9|         19.2|            189.0|     3800.0|Female|                  35.9|                 19.2|                    189.0|             3800.0|  0.0|           0.0|        0.0|(2,[0],[1.0])|(1,[0],[1.0])|[1.0,0.0,1.0,35.9...|\n",
      "+-------+------+--------------+-------------+-----------------+-----------+------+----------------------+---------------------+-------------------------+-------------------+-----+--------------+-----------+-------------+-------------+--------------------+\n",
      "only showing top 2 rows\n",
      "\n"
     ]
    }
   ],
   "source": [
    "onehot = [col + '_onehot' for col in categorical_cols]\n",
    "imputed = [col + '_imputed' for col in numeric_cols]\n",
    "onehot + imputed\n",
    " \n",
    "assembler = VectorAssembler(\n",
    "    inputCols= onehot + imputed,\n",
    "    outputCol='features'\n",
    ")\n",
    "\n",
    "df_train = assembler.transform(df_train)\n",
    "df_test = assembler.transform(df_test)\n",
    "\n",
    "df_train.show(2)"
   ]
  },
  {
   "cell_type": "markdown",
   "metadata": {},
   "source": [
    "## Scaler"
   ]
  },
  {
   "cell_type": "code",
   "execution_count": 32,
   "metadata": {},
   "outputs": [],
   "source": [
    "scaler = StandardScaler(\n",
    "    inputCol='features',\n",
    "    outputCol='scaled_features'\n",
    ")\n",
    "model = scaler.fit(df_train)\n",
    "df_train = model.transform(df_train)\n",
    "df_test = model.transform(df_test)"
   ]
  },
  {
   "cell_type": "markdown",
   "metadata": {},
   "source": [
    "## Modelado"
   ]
  },
  {
   "cell_type": "code",
   "execution_count": 33,
   "metadata": {},
   "outputs": [
    {
     "name": "stdout",
     "output_type": "stream",
     "text": [
      "+-------+------+--------------+-------------+-----------------+-----------+------+----------------------+---------------------+-------------------------+-------------------+-----+--------------+-----------+-------------+-------------+--------------------+--------------------+--------------------+--------------------+----------+\n",
      "|species|island|bill_length_mm|bill_depth_mm|flipper_length_mm|body_mass_g|   sex|bill_length_mm_imputed|bill_depth_mm_imputed|flipper_length_mm_imputed|body_mass_g_imputed|label|island_indexed|sex_indexed|island_onehot|   sex_onehot|            features|     scaled_features|       rawPrediction|         probability|prediction|\n",
      "+-------+------+--------------+-------------+-----------------+-----------+------+----------------------+---------------------+-------------------------+-------------------+-----+--------------+-----------+-------------+-------------+--------------------+--------------------+--------------------+--------------------+----------+\n",
      "| Adelie|Biscoe|          37.7|         18.7|            180.0|     3600.0|  Male|                  37.7|                 18.7|                    180.0|             3600.0|  0.0|           0.0|        1.0|(2,[0],[1.0])|    (1,[],[])|[1.0,0.0,0.0,37.7...|[1.99794240119408...|[94.2787383739385...|[1.0,3.3401786163...|       0.0|\n",
      "| Adelie|Biscoe|          38.8|         17.2|            180.0|     3800.0|  Male|                  38.8|                 17.2|                    180.0|             3800.0|  0.0|           0.0|        1.0|(2,[0],[1.0])|    (1,[],[])|[1.0,0.0,0.0,38.8...|[1.99794240119408...|[64.3916730200894...|[1.0,7.6131725411...|       0.0|\n",
      "| Adelie|Biscoe|          40.5|         18.9|            180.0|     3950.0|  Male|                  40.5|                 18.9|                    180.0|             3950.0|  0.0|           0.0|        1.0|(2,[0],[1.0])|    (1,[],[])|[1.0,0.0,0.0,40.5...|[1.99794240119408...|[74.0514950152037...|[1.0,1.2828884310...|       0.0|\n",
      "| Adelie| Dream|          37.0|         16.9|            185.0|     3000.0|Female|                  37.0|                 16.9|                    185.0|             3000.0|  0.0|           1.0|        0.0|(2,[1],[1.0])|(1,[0],[1.0])|[0.0,1.0,1.0,37.0...|[0.0,2.0601033037...|[47.3746605066109...|[1.0,2.9953338484...|       0.0|\n",
      "+-------+------+--------------+-------------+-----------------+-----------+------+----------------------+---------------------+-------------------------+-------------------+-----+--------------+-----------+-------------+-------------+--------------------+--------------------+--------------------+--------------------+----------+\n",
      "only showing top 4 rows\n",
      "\n"
     ]
    }
   ],
   "source": [
    "lr = LogisticRegression(featuresCol='scaled_features')\n",
    "model = lr.fit(df_train)\n",
    "df_pred = model.transform(df_test)\n",
    "df_pred.show(4)"
   ]
  },
  {
   "cell_type": "code",
   "execution_count": 34,
   "metadata": {},
   "outputs": [
    {
     "name": "stdout",
     "output_type": "stream",
     "text": [
      "accuracy 1.0\n",
      "f1 1.0\n",
      "precision 1.0\n",
      "recall 1.0\n"
     ]
    }
   ],
   "source": [
    "evaluator_accuracy = MulticlassClassificationEvaluator(metricName='accuracy')\n",
    "evaluator_f1 = MulticlassClassificationEvaluator(metricName='f1')\n",
    "evaluator_precision = MulticlassClassificationEvaluator(metricName='weightedPrecision')\n",
    "evaluator_recall = MulticlassClassificationEvaluator(metricName='weightedRecall')\n",
    "\n",
    "print('accuracy', evaluator_accuracy.evaluate(df_pred))\n",
    "print('f1', evaluator_f1.evaluate(df_pred))\n",
    "print('precision', evaluator_precision.evaluate(df_pred))\n",
    "print('recall', evaluator_recall.evaluate(df_pred))"
   ]
  },
  {
   "cell_type": "code",
   "execution_count": 35,
   "metadata": {},
   "outputs": [
    {
     "name": "stdout",
     "output_type": "stream",
     "text": [
      "+-------+------+--------------+-------------+-----------------+-----------+------+----------------------+---------------------+-------------------------+-------------------+-----+--------------+-----------+-------------+-------------+--------------------+--------------------+--------------------+--------------------+----------+\n",
      "|species|island|bill_length_mm|bill_depth_mm|flipper_length_mm|body_mass_g|   sex|bill_length_mm_imputed|bill_depth_mm_imputed|flipper_length_mm_imputed|body_mass_g_imputed|label|island_indexed|sex_indexed|island_onehot|   sex_onehot|            features|     scaled_features|       rawPrediction|         probability|prediction|\n",
      "+-------+------+--------------+-------------+-----------------+-----------+------+----------------------+---------------------+-------------------------+-------------------+-----+--------------+-----------+-------------+-------------+--------------------+--------------------+--------------------+--------------------+----------+\n",
      "| Adelie|Biscoe|          37.7|         18.7|            180.0|     3600.0|  Male|                  37.7|                 18.7|                    180.0|             3600.0|  0.0|           0.0|        1.0|(2,[0],[1.0])|    (1,[],[])|[1.0,0.0,0.0,37.7...|[1.99794240119408...|[94.2787383723301...|[1.0,3.3401786226...|       0.0|\n",
      "| Adelie|Biscoe|          38.8|         17.2|            180.0|     3800.0|  Male|                  38.8|                 17.2|                    180.0|             3800.0|  0.0|           0.0|        1.0|(2,[0],[1.0])|    (1,[],[])|[1.0,0.0,0.0,38.8...|[1.99794240119408...|[64.3916730189637...|[1.0,7.6131725505...|       0.0|\n",
      "| Adelie|Biscoe|          40.5|         18.9|            180.0|     3950.0|  Male|                  40.5|                 18.9|                    180.0|             3950.0|  0.0|           0.0|        1.0|(2,[0],[1.0])|    (1,[],[])|[1.0,0.0,0.0,40.5...|[1.99794240119408...|[74.0514950140657...|[1.0,1.2828884328...|       0.0|\n",
      "| Adelie| Dream|          37.0|         16.9|            185.0|     3000.0|Female|                  37.0|                 16.9|                    185.0|             3000.0|  0.0|           1.0|        0.0|(2,[1],[1.0])|(1,[0],[1.0])|[0.0,1.0,1.0,37.0...|[0.0,2.0601033037...|[47.3746605056487...|[1.0,2.9953338527...|       0.0|\n",
      "+-------+------+--------------+-------------+-----------------+-----------+------+----------------------+---------------------+-------------------------+-------------------+-----+--------------+-----------+-------------+-------------+--------------------+--------------------+--------------------+--------------------+----------+\n",
      "only showing top 4 rows\n",
      "\n",
      "accuracy 1.0\n",
      "f1 1.0\n",
      "precision 1.0\n",
      "recall 1.0\n"
     ]
    }
   ],
   "source": [
    "# sin feature_scaled\n",
    "lr = LogisticRegression()\n",
    "model = lr.fit(df_train)\n",
    "df_pred = model.transform(df_test)\n",
    "df_pred.show(4)\n",
    "print('accuracy', evaluator_accuracy.evaluate(df_pred))\n",
    "print('f1', evaluator_f1.evaluate(df_pred))\n",
    "print('precision', evaluator_precision.evaluate(df_pred))\n",
    "print('recall', evaluator_recall.evaluate(df_pred))"
   ]
  },
  {
   "cell_type": "code",
   "execution_count": 37,
   "metadata": {},
   "outputs": [
    {
     "name": "stdout",
     "output_type": "stream",
     "text": [
      "+-------+------+--------------+-------------+-----------------+-----------+------+----------------------+---------------------+-------------------------+-------------------+-----+--------------+-----------+-------------+-------------+--------------------+--------------------+--------------------+--------------------+----------+\n",
      "|species|island|bill_length_mm|bill_depth_mm|flipper_length_mm|body_mass_g|   sex|bill_length_mm_imputed|bill_depth_mm_imputed|flipper_length_mm_imputed|body_mass_g_imputed|label|island_indexed|sex_indexed|island_onehot|   sex_onehot|            features|     scaled_features|       rawPrediction|         probability|prediction|\n",
      "+-------+------+--------------+-------------+-----------------+-----------+------+----------------------+---------------------+-------------------------+-------------------+-----+--------------+-----------+-------------+-------------+--------------------+--------------------+--------------------+--------------------+----------+\n",
      "| Adelie|Biscoe|          37.7|         18.7|            180.0|     3600.0|  Male|                  37.7|                 18.7|                    180.0|             3600.0|  0.0|           0.0|        1.0|(2,[0],[1.0])|    (1,[],[])|[1.0,0.0,0.0,37.7...|[1.99794240119408...|[19.6889920313604...|[0.98444960156802...|       0.0|\n",
      "| Adelie|Biscoe|          38.8|         17.2|            180.0|     3800.0|  Male|                  38.8|                 17.2|                    180.0|             3800.0|  0.0|           0.0|        1.0|(2,[0],[1.0])|    (1,[],[])|[1.0,0.0,0.0,38.8...|[1.99794240119408...|[19.6889920313604...|[0.98444960156802...|       0.0|\n",
      "| Adelie|Biscoe|          40.5|         18.9|            180.0|     3950.0|  Male|                  40.5|                 18.9|                    180.0|             3950.0|  0.0|           0.0|        1.0|(2,[0],[1.0])|    (1,[],[])|[1.0,0.0,0.0,40.5...|[1.99794240119408...|[19.6889920313604...|[0.98444960156802...|       0.0|\n",
      "| Adelie| Dream|          37.0|         16.9|            185.0|     3000.0|Female|                  37.0|                 16.9|                    185.0|             3000.0|  0.0|           1.0|        0.0|(2,[1],[1.0])|(1,[0],[1.0])|[0.0,1.0,1.0,37.0...|[0.0,2.0601033037...|[18.2259761583445...|[0.91129880791722...|       0.0|\n",
      "+-------+------+--------------+-------------+-----------------+-----------+------+----------------------+---------------------+-------------------------+-------------------+-----+--------------+-----------+-------------+-------------+--------------------+--------------------+--------------------+--------------------+----------+\n",
      "only showing top 4 rows\n",
      "\n",
      "accuracy 0.9571428571428572\n",
      "f1 0.9582054357564562\n",
      "precision 0.9635714285714286\n",
      "recall 0.9571428571428572\n"
     ]
    }
   ],
   "source": [
    "rfc = RandomForestClassifier()\n",
    "model = rfc.fit(df_train)\n",
    "df_pred = model.transform(df_test)\n",
    "df_pred.show(4)\n",
    "print('accuracy', evaluator_accuracy.evaluate(df_pred))\n",
    "print('f1', evaluator_f1.evaluate(df_pred))\n",
    "print('precision', evaluator_precision.evaluate(df_pred))\n",
    "print('recall', evaluator_recall.evaluate(df_pred))"
   ]
  },
  {
   "cell_type": "code",
   "execution_count": 41,
   "metadata": {},
   "outputs": [
    {
     "name": "stdout",
     "output_type": "stream",
     "text": [
      "+-------+------+--------------+-------------+-----------------+-----------+------+----------------------+---------------------+-------------------------+-------------------+-----+--------------+-----------+-------------+-------------+--------------------+--------------------+--------------------+--------------------+----------+\n",
      "|species|island|bill_length_mm|bill_depth_mm|flipper_length_mm|body_mass_g|   sex|bill_length_mm_imputed|bill_depth_mm_imputed|flipper_length_mm_imputed|body_mass_g_imputed|label|island_indexed|sex_indexed|island_onehot|   sex_onehot|            features|     scaled_features|       rawPrediction|         probability|prediction|\n",
      "+-------+------+--------------+-------------+-----------------+-----------+------+----------------------+---------------------+-------------------------+-------------------+-----+--------------+-----------+-------------+-------------+--------------------+--------------------+--------------------+--------------------+----------+\n",
      "| Adelie|Biscoe|          37.7|         18.7|            180.0|     3600.0|  Male|                  37.7|                 18.7|                    180.0|             3600.0|  0.0|           0.0|        1.0|(2,[0],[1.0])|    (1,[],[])|[1.0,0.0,0.0,37.7...|[1.99794240119408...|[19.6889920313604...|[0.98444960156802...|       0.0|\n",
      "| Adelie|Biscoe|          38.8|         17.2|            180.0|     3800.0|  Male|                  38.8|                 17.2|                    180.0|             3800.0|  0.0|           0.0|        1.0|(2,[0],[1.0])|    (1,[],[])|[1.0,0.0,0.0,38.8...|[1.99794240119408...|[19.6889920313604...|[0.98444960156802...|       0.0|\n",
      "| Adelie|Biscoe|          40.5|         18.9|            180.0|     3950.0|  Male|                  40.5|                 18.9|                    180.0|             3950.0|  0.0|           0.0|        1.0|(2,[0],[1.0])|    (1,[],[])|[1.0,0.0,0.0,40.5...|[1.99794240119408...|[19.6889920313604...|[0.98444960156802...|       0.0|\n",
      "| Adelie| Dream|          37.0|         16.9|            185.0|     3000.0|Female|                  37.0|                 16.9|                    185.0|             3000.0|  0.0|           1.0|        0.0|(2,[1],[1.0])|(1,[0],[1.0])|[0.0,1.0,1.0,37.0...|[0.0,2.0601033037...|[18.2259761583445...|[0.91129880791722...|       0.0|\n",
      "+-------+------+--------------+-------------+-----------------+-----------+------+----------------------+---------------------+-------------------------+-------------------+-----+--------------+-----------+-------------+-------------+--------------------+--------------------+--------------------+--------------------+----------+\n",
      "only showing top 4 rows\n",
      "\n",
      "accuracy 0.9571428571428572\n",
      "f1 0.9582054357564562\n",
      "precision 0.9635714285714286\n",
      "recall 0.9571428571428572\n"
     ]
    }
   ],
   "source": [
    "rfc = RandomForestClassifier(featuresCol='scaled_features')\n",
    "model = rfc.fit(df_train)\n",
    "df_pred = model.transform(df_test)\n",
    "df_pred.show(4)\n",
    "print('accuracy', evaluator_accuracy.evaluate(df_pred))\n",
    "print('f1', evaluator_f1.evaluate(df_pred))\n",
    "print('precision', evaluator_precision.evaluate(df_pred))\n",
    "print('recall', evaluator_recall.evaluate(df_pred))"
   ]
  },
  {
   "cell_type": "code",
   "execution_count": 38,
   "metadata": {},
   "outputs": [
    {
     "name": "stdout",
     "output_type": "stream",
     "text": [
      "+-------+------+--------------+-------------+-----------------+-----------+------+----------------------+---------------------+-------------------------+-------------------+-----+--------------+-----------+-------------+-------------+--------------------+--------------------+--------------+-------------+----------+\n",
      "|species|island|bill_length_mm|bill_depth_mm|flipper_length_mm|body_mass_g|   sex|bill_length_mm_imputed|bill_depth_mm_imputed|flipper_length_mm_imputed|body_mass_g_imputed|label|island_indexed|sex_indexed|island_onehot|   sex_onehot|            features|     scaled_features| rawPrediction|  probability|prediction|\n",
      "+-------+------+--------------+-------------+-----------------+-----------+------+----------------------+---------------------+-------------------------+-------------------+-----+--------------+-----------+-------------+-------------+--------------------+--------------------+--------------+-------------+----------+\n",
      "| Adelie|Biscoe|          37.7|         18.7|            180.0|     3600.0|  Male|                  37.7|                 18.7|                    180.0|             3600.0|  0.0|           0.0|        1.0|(2,[0],[1.0])|    (1,[],[])|[1.0,0.0,0.0,37.7...|[1.99794240119408...|[93.0,0.0,0.0]|[1.0,0.0,0.0]|       0.0|\n",
      "| Adelie|Biscoe|          38.8|         17.2|            180.0|     3800.0|  Male|                  38.8|                 17.2|                    180.0|             3800.0|  0.0|           0.0|        1.0|(2,[0],[1.0])|    (1,[],[])|[1.0,0.0,0.0,38.8...|[1.99794240119408...|[93.0,0.0,0.0]|[1.0,0.0,0.0]|       0.0|\n",
      "| Adelie|Biscoe|          40.5|         18.9|            180.0|     3950.0|  Male|                  40.5|                 18.9|                    180.0|             3950.0|  0.0|           0.0|        1.0|(2,[0],[1.0])|    (1,[],[])|[1.0,0.0,0.0,40.5...|[1.99794240119408...|[93.0,0.0,0.0]|[1.0,0.0,0.0]|       0.0|\n",
      "| Adelie| Dream|          37.0|         16.9|            185.0|     3000.0|Female|                  37.0|                 16.9|                    185.0|             3000.0|  0.0|           1.0|        0.0|(2,[1],[1.0])|(1,[0],[1.0])|[0.0,1.0,1.0,37.0...|[0.0,2.0601033037...|[10.0,0.0,0.0]|[1.0,0.0,0.0]|       0.0|\n",
      "+-------+------+--------------+-------------+-----------------+-----------+------+----------------------+---------------------+-------------------------+-------------------+-----+--------------+-----------+-------------+-------------+--------------------+--------------------+--------------+-------------+----------+\n",
      "only showing top 4 rows\n",
      "\n",
      "accuracy 0.9571428571428572\n",
      "f1 0.9574011249521452\n",
      "precision 0.9596212754107492\n",
      "recall 0.9571428571428572\n"
     ]
    }
   ],
   "source": [
    "tree = DecisionTreeClassifier()\n",
    "model = tree.fit(df_train)\n",
    "df_pred = model.transform(df_test)\n",
    "df_pred.show(4)\n",
    "print('accuracy', evaluator_accuracy.evaluate(df_pred))\n",
    "print('f1', evaluator_f1.evaluate(df_pred))\n",
    "print('precision', evaluator_precision.evaluate(df_pred))\n",
    "print('recall', evaluator_recall.evaluate(df_pred))"
   ]
  },
  {
   "cell_type": "code",
   "execution_count": 39,
   "metadata": {},
   "outputs": [
    {
     "name": "stdout",
     "output_type": "stream",
     "text": [
      "+-------+------+--------------+-------------+-----------------+-----------+------+----------------------+---------------------+-------------------------+-------------------+-----+--------------+-----------+-------------+-------------+--------------------+--------------------+--------------------+----------+\n",
      "|species|island|bill_length_mm|bill_depth_mm|flipper_length_mm|body_mass_g|   sex|bill_length_mm_imputed|bill_depth_mm_imputed|flipper_length_mm_imputed|body_mass_g_imputed|label|island_indexed|sex_indexed|island_onehot|   sex_onehot|            features|     scaled_features|       rawPrediction|prediction|\n",
      "+-------+------+--------------+-------------+-----------------+-----------+------+----------------------+---------------------+-------------------------+-------------------+-----+--------------+-----------+-------------+-------------+--------------------+--------------------+--------------------+----------+\n",
      "| Adelie|Biscoe|          37.7|         18.7|            180.0|     3600.0|  Male|                  37.7|                 18.7|                    180.0|             3600.0|  0.0|           0.0|        1.0|(2,[0],[1.0])|    (1,[],[])|[1.0,0.0,0.0,37.7...|[1.99794240119408...|[1.54350200272498...|       0.0|\n",
      "| Adelie|Biscoe|          38.8|         17.2|            180.0|     3800.0|  Male|                  38.8|                 17.2|                    180.0|             3800.0|  0.0|           0.0|        1.0|(2,[0],[1.0])|    (1,[],[])|[1.0,0.0,0.0,38.8...|[1.99794240119408...|[1.54350200272498...|       0.0|\n",
      "| Adelie|Biscoe|          40.5|         18.9|            180.0|     3950.0|  Male|                  40.5|                 18.9|                    180.0|             3950.0|  0.0|           0.0|        1.0|(2,[0],[1.0])|    (1,[],[])|[1.0,0.0,0.0,40.5...|[1.99794240119408...|[1.54350200272498...|       0.0|\n",
      "| Adelie| Dream|          37.0|         16.9|            185.0|     3000.0|Female|                  37.0|                 16.9|                    185.0|             3000.0|  0.0|           1.0|        0.0|(2,[1],[1.0])|(1,[0],[1.0])|[0.0,1.0,1.0,37.0...|[0.0,2.0601033037...|[1.54350200272498...|       0.0|\n",
      "+-------+------+--------------+-------------+-----------------+-----------+------+----------------------+---------------------+-------------------------+-------------------+-----+--------------+-----------+-------------+-------------+--------------------+--------------------+--------------------+----------+\n",
      "only showing top 4 rows\n",
      "\n",
      "accuracy 0.9857142857142858\n",
      "f1 0.9856938264027415\n",
      "precision 0.9862068965517241\n",
      "recall 0.9857142857142858\n"
     ]
    }
   ],
   "source": [
    "# si tenemos mas de dos labels da error\n",
    "gbtc = GBTClassifier()\n",
    "ovr = OneVsRest(classifier=gbtc)\n",
    "model = ovr.fit(df_train)\n",
    "df_pred = model.transform(df_test)\n",
    "df_pred.show(4)\n",
    "print('accuracy', evaluator_accuracy.evaluate(df_pred))\n",
    "print('f1', evaluator_f1.evaluate(df_pred))\n",
    "print('precision', evaluator_precision.evaluate(df_pred))\n",
    "print('recall', evaluator_recall.evaluate(df_pred))"
   ]
  },
  {
   "cell_type": "code",
   "execution_count": 40,
   "metadata": {},
   "outputs": [
    {
     "ename": "AnalysisException",
     "evalue": "[UNRESOLVED_COLUMN.WITH_SUGGESTION] A column or function parameter with name `label` cannot be resolved. Did you mean one of the following? [`sex`, `island`, `species`, `body_mass_g`, `bill_depth_mm`].;\n'Project ['label]\n+- Filter atleastnnonnulls(1, species#1300)\n   +- LogicalRDD [species#1300, island#1301, bill_length_mm#1302, bill_depth_mm#1303, flipper_length_mm#1304, body_mass_g#1305, sex#1306], false\n",
     "output_type": "error",
     "traceback": [
      "\u001b[0;31m---------------------------------------------------------------------------\u001b[0m",
      "\u001b[0;31mAnalysisException\u001b[0m                         Traceback (most recent call last)",
      "Cell \u001b[0;32mIn[40], line 2\u001b[0m\n\u001b[1;32m      1\u001b[0m num_features \u001b[38;5;241m=\u001b[39m df_train\u001b[38;5;241m.\u001b[39mfirst()[\u001b[38;5;124m'\u001b[39m\u001b[38;5;124mfeatures\u001b[39m\u001b[38;5;124m'\u001b[39m]\u001b[38;5;241m.\u001b[39msize\n\u001b[0;32m----> 2\u001b[0m num_labels \u001b[38;5;241m=\u001b[39m \u001b[43mdf\u001b[49m\u001b[38;5;241;43m.\u001b[39;49m\u001b[43mselect\u001b[49m\u001b[43m(\u001b[49m\u001b[38;5;124;43m'\u001b[39;49m\u001b[38;5;124;43mlabel\u001b[39;49m\u001b[38;5;124;43m'\u001b[39;49m\u001b[43m)\u001b[49m\u001b[38;5;241m.\u001b[39mdistinct()\u001b[38;5;241m.\u001b[39mcount()\n\u001b[1;32m      3\u001b[0m mlp \u001b[38;5;241m=\u001b[39m MultilayerPerceptronClassifier(layers\u001b[38;5;241m=\u001b[39m[num_features, \u001b[38;5;241m32\u001b[39m, \u001b[38;5;241m32\u001b[39m, num_labels], seed\u001b[38;5;241m=\u001b[39m\u001b[38;5;241m42\u001b[39m, maxIter\u001b[38;5;241m=\u001b[39m\u001b[38;5;241m20\u001b[39m) \u001b[38;5;66;03m#layers=[capa input, capas ocultas..., capa output]\u001b[39;00m\n\u001b[1;32m      4\u001b[0m model \u001b[38;5;241m=\u001b[39m mlp\u001b[38;5;241m.\u001b[39mfit(df_train)\n",
      "File \u001b[0;32m/usr/local/spark/python/pyspark/sql/dataframe.py:3223\u001b[0m, in \u001b[0;36mDataFrame.select\u001b[0;34m(self, *cols)\u001b[0m\n\u001b[1;32m   3178\u001b[0m \u001b[38;5;28;01mdef\u001b[39;00m \u001b[38;5;21mselect\u001b[39m(\u001b[38;5;28mself\u001b[39m, \u001b[38;5;241m*\u001b[39mcols: \u001b[38;5;124m\"\u001b[39m\u001b[38;5;124mColumnOrName\u001b[39m\u001b[38;5;124m\"\u001b[39m) \u001b[38;5;241m-\u001b[39m\u001b[38;5;241m>\u001b[39m \u001b[38;5;124m\"\u001b[39m\u001b[38;5;124mDataFrame\u001b[39m\u001b[38;5;124m\"\u001b[39m:  \u001b[38;5;66;03m# type: ignore[misc]\u001b[39;00m\n\u001b[1;32m   3179\u001b[0m \u001b[38;5;250m    \u001b[39m\u001b[38;5;124;03m\"\"\"Projects a set of expressions and returns a new :class:`DataFrame`.\u001b[39;00m\n\u001b[1;32m   3180\u001b[0m \n\u001b[1;32m   3181\u001b[0m \u001b[38;5;124;03m    .. versionadded:: 1.3.0\u001b[39;00m\n\u001b[0;32m   (...)\u001b[0m\n\u001b[1;32m   3221\u001b[0m \u001b[38;5;124;03m    +-----+---+\u001b[39;00m\n\u001b[1;32m   3222\u001b[0m \u001b[38;5;124;03m    \"\"\"\u001b[39;00m\n\u001b[0;32m-> 3223\u001b[0m     jdf \u001b[38;5;241m=\u001b[39m \u001b[38;5;28;43mself\u001b[39;49m\u001b[38;5;241;43m.\u001b[39;49m\u001b[43m_jdf\u001b[49m\u001b[38;5;241;43m.\u001b[39;49m\u001b[43mselect\u001b[49m\u001b[43m(\u001b[49m\u001b[38;5;28;43mself\u001b[39;49m\u001b[38;5;241;43m.\u001b[39;49m\u001b[43m_jcols\u001b[49m\u001b[43m(\u001b[49m\u001b[38;5;241;43m*\u001b[39;49m\u001b[43mcols\u001b[49m\u001b[43m)\u001b[49m\u001b[43m)\u001b[49m\n\u001b[1;32m   3224\u001b[0m     \u001b[38;5;28;01mreturn\u001b[39;00m DataFrame(jdf, \u001b[38;5;28mself\u001b[39m\u001b[38;5;241m.\u001b[39msparkSession)\n",
      "File \u001b[0;32m/usr/local/spark/python/lib/py4j-0.10.9.7-src.zip/py4j/java_gateway.py:1322\u001b[0m, in \u001b[0;36mJavaMember.__call__\u001b[0;34m(self, *args)\u001b[0m\n\u001b[1;32m   1316\u001b[0m command \u001b[38;5;241m=\u001b[39m proto\u001b[38;5;241m.\u001b[39mCALL_COMMAND_NAME \u001b[38;5;241m+\u001b[39m\\\n\u001b[1;32m   1317\u001b[0m     \u001b[38;5;28mself\u001b[39m\u001b[38;5;241m.\u001b[39mcommand_header \u001b[38;5;241m+\u001b[39m\\\n\u001b[1;32m   1318\u001b[0m     args_command \u001b[38;5;241m+\u001b[39m\\\n\u001b[1;32m   1319\u001b[0m     proto\u001b[38;5;241m.\u001b[39mEND_COMMAND_PART\n\u001b[1;32m   1321\u001b[0m answer \u001b[38;5;241m=\u001b[39m \u001b[38;5;28mself\u001b[39m\u001b[38;5;241m.\u001b[39mgateway_client\u001b[38;5;241m.\u001b[39msend_command(command)\n\u001b[0;32m-> 1322\u001b[0m return_value \u001b[38;5;241m=\u001b[39m \u001b[43mget_return_value\u001b[49m\u001b[43m(\u001b[49m\n\u001b[1;32m   1323\u001b[0m \u001b[43m    \u001b[49m\u001b[43manswer\u001b[49m\u001b[43m,\u001b[49m\u001b[43m \u001b[49m\u001b[38;5;28;43mself\u001b[39;49m\u001b[38;5;241;43m.\u001b[39;49m\u001b[43mgateway_client\u001b[49m\u001b[43m,\u001b[49m\u001b[43m \u001b[49m\u001b[38;5;28;43mself\u001b[39;49m\u001b[38;5;241;43m.\u001b[39;49m\u001b[43mtarget_id\u001b[49m\u001b[43m,\u001b[49m\u001b[43m \u001b[49m\u001b[38;5;28;43mself\u001b[39;49m\u001b[38;5;241;43m.\u001b[39;49m\u001b[43mname\u001b[49m\u001b[43m)\u001b[49m\n\u001b[1;32m   1325\u001b[0m \u001b[38;5;28;01mfor\u001b[39;00m temp_arg \u001b[38;5;129;01min\u001b[39;00m temp_args:\n\u001b[1;32m   1326\u001b[0m     \u001b[38;5;28;01mif\u001b[39;00m \u001b[38;5;28mhasattr\u001b[39m(temp_arg, \u001b[38;5;124m\"\u001b[39m\u001b[38;5;124m_detach\u001b[39m\u001b[38;5;124m\"\u001b[39m):\n",
      "File \u001b[0;32m/usr/local/spark/python/pyspark/errors/exceptions/captured.py:185\u001b[0m, in \u001b[0;36mcapture_sql_exception.<locals>.deco\u001b[0;34m(*a, **kw)\u001b[0m\n\u001b[1;32m    181\u001b[0m converted \u001b[38;5;241m=\u001b[39m convert_exception(e\u001b[38;5;241m.\u001b[39mjava_exception)\n\u001b[1;32m    182\u001b[0m \u001b[38;5;28;01mif\u001b[39;00m \u001b[38;5;129;01mnot\u001b[39;00m \u001b[38;5;28misinstance\u001b[39m(converted, UnknownException):\n\u001b[1;32m    183\u001b[0m     \u001b[38;5;66;03m# Hide where the exception came from that shows a non-Pythonic\u001b[39;00m\n\u001b[1;32m    184\u001b[0m     \u001b[38;5;66;03m# JVM exception message.\u001b[39;00m\n\u001b[0;32m--> 185\u001b[0m     \u001b[38;5;28;01mraise\u001b[39;00m converted \u001b[38;5;28;01mfrom\u001b[39;00m \u001b[38;5;28;01mNone\u001b[39;00m\n\u001b[1;32m    186\u001b[0m \u001b[38;5;28;01melse\u001b[39;00m:\n\u001b[1;32m    187\u001b[0m     \u001b[38;5;28;01mraise\u001b[39;00m\n",
      "\u001b[0;31mAnalysisException\u001b[0m: [UNRESOLVED_COLUMN.WITH_SUGGESTION] A column or function parameter with name `label` cannot be resolved. Did you mean one of the following? [`sex`, `island`, `species`, `body_mass_g`, `bill_depth_mm`].;\n'Project ['label]\n+- Filter atleastnnonnulls(1, species#1300)\n   +- LogicalRDD [species#1300, island#1301, bill_length_mm#1302, bill_depth_mm#1303, flipper_length_mm#1304, body_mass_g#1305, sex#1306], false\n"
     ]
    }
   ],
   "source": [
    "num_features = df_train.first()['features'].size\n",
    "num_labels = df.select('label').distinct().count()\n",
    "mlp = MultilayerPerceptronClassifier(layers=[num_features, 32, 32, num_labels], seed=42, maxIter=20) #layers=[capa input, capas ocultas..., capa output]\n",
    "model = mlp.fit(df_train)\n",
    "df_pred = model.transform(df_test)\n",
    "df_pred.show(4)\n",
    "print('accuracy', evaluator_accuracy.evaluate(df_pred))\n",
    "print('f1', evaluator_f1.evaluate(df_pred))\n",
    "print('precision', evaluator_precision.evaluate(df_pred))\n",
    "print('recall', evaluator_recall.evaluate(df_pred))"
   ]
  }
 ],
 "metadata": {
  "kernelspec": {
   "display_name": "Python 3 (ipykernel)",
   "language": "python",
   "name": "python3"
  },
  "language_info": {
   "codemirror_mode": {
    "name": "ipython",
    "version": 3
   },
   "file_extension": ".py",
   "mimetype": "text/x-python",
   "name": "python",
   "nbconvert_exporter": "python",
   "pygments_lexer": "ipython3",
   "version": "3.11.6"
  }
 },
 "nbformat": 4,
 "nbformat_minor": 2
}
