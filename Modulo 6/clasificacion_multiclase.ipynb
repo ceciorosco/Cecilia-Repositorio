{
 "cells": [
  {
   "cell_type": "markdown",
   "metadata": {},
   "source": []
  },
  {
   "cell_type": "code",
   "execution_count": 17,
   "metadata": {},
   "outputs": [],
   "source": [
    "import seaborn as sns\n",
    "import pandas as pd\n",
    "from pyspark.sql import SparkSession\n",
    "from pyspark.ml.feature import VectorAssembler, StringIndexer, OneHotEncoder\n",
    "from pyspark.ml.evaluation import (BinaryClassificationEvaluator, \n",
    "                                   MulticlassClassificationEvaluator)\n",
    "from pyspark.ml.classification import (LogisticRegression, \n",
    "                                       DecisionTreeClassifier, \n",
    "                                       RandomForestClassifier, \n",
    "                                       GBTClassifier, \n",
    "                                       MultilayerPerceptronClassifier)"
   ]
  },
  {
   "cell_type": "code",
   "execution_count": 3,
   "metadata": {},
   "outputs": [
    {
     "name": "stdout",
     "output_type": "stream",
     "text": [
      "+-------+---------+--------------+-------------+-----------------+-----------+------+\n",
      "|species|   island|bill_length_mm|bill_depth_mm|flipper_length_mm|body_mass_g|   sex|\n",
      "+-------+---------+--------------+-------------+-----------------+-----------+------+\n",
      "| Adelie|Torgersen|          39.1|         18.7|            181.0|     3750.0|  Male|\n",
      "| Adelie|Torgersen|          39.5|         17.4|            186.0|     3800.0|Female|\n",
      "| Adelie|Torgersen|          40.3|         18.0|            195.0|     3250.0|Female|\n",
      "| Adelie|Torgersen|          36.7|         19.3|            193.0|     3450.0|Female|\n",
      "| Adelie|Torgersen|          39.3|         20.6|            190.0|     3650.0|  Male|\n",
      "+-------+---------+--------------+-------------+-----------------+-----------+------+\n",
      "only showing top 5 rows\n",
      "\n"
     ]
    }
   ],
   "source": [
    "spark = SparkSession.builder.appName('clasificacion_penguins').getOrCreate()\n",
    "df = spark.createDataFrame(sns.load_dataset('penguins').dropna())\n",
    "df.show(5)"
   ]
  },
  {
   "cell_type": "markdown",
   "metadata": {},
   "source": [
    "## Encoding y Assembler"
   ]
  },
  {
   "cell_type": "code",
   "execution_count": 6,
   "metadata": {},
   "outputs": [
    {
     "name": "stdout",
     "output_type": "stream",
     "text": [
      "+-------+---------+--------------+-------------+-----------------+-----------+------+---------------+-----+-----------+\n",
      "|species|   island|bill_length_mm|bill_depth_mm|flipper_length_mm|body_mass_g|   sex|species_indexed|label|sex_indexed|\n",
      "+-------+---------+--------------+-------------+-----------------+-----------+------+---------------+-----+-----------+\n",
      "| Adelie|Torgersen|          39.1|         18.7|            181.0|     3750.0|  Male|            0.0|  2.0|        0.0|\n",
      "| Adelie|Torgersen|          39.5|         17.4|            186.0|     3800.0|Female|            0.0|  2.0|        1.0|\n",
      "+-------+---------+--------------+-------------+-----------------+-----------+------+---------------+-----+-----------+\n",
      "only showing top 2 rows\n",
      "\n"
     ]
    }
   ],
   "source": [
    "# paso 1 . aplicar StringIndexer\n",
    "\n",
    "indexer_species = StringIndexer(inputCol='species', outputCol='species_indexed')\n",
    "df = indexer_species.fit(df).transform(df)\n",
    "\n",
    "indexer_islands = StringIndexer(inputCol='island', outputCol='label')\n",
    "df = indexer_islands.fit(df).transform(df)\n",
    "\n",
    "indexer_sex = StringIndexer(inputCol='sex', outputCol='sex_indexed')\n",
    "df = indexer_sex.fit(df).transform(df)\n",
    "\n",
    "df.show(2)\n"
   ]
  },
  {
   "cell_type": "code",
   "execution_count": null,
   "metadata": {},
   "outputs": [
    {
     "name": "stdout",
     "output_type": "stream",
     "text": [
      "+-------+---------+--------------+-------------+-----------------+-----------+------+---------------+-----+-----------+-------------+--------------+\n",
      "|species|   island|bill_length_mm|bill_depth_mm|flipper_length_mm|body_mass_g|   sex|species_indexed|label|sex_indexed|   sex_onehot|species_onehot|\n",
      "+-------+---------+--------------+-------------+-----------------+-----------+------+---------------+-----+-----------+-------------+--------------+\n",
      "| Adelie|Torgersen|          39.1|         18.7|            181.0|     3750.0|  Male|            0.0|  2.0|        0.0|(1,[0],[1.0])| (2,[0],[1.0])|\n",
      "| Adelie|Torgersen|          39.5|         17.4|            186.0|     3800.0|Female|            0.0|  2.0|        1.0|    (1,[],[])| (2,[0],[1.0])|\n",
      "+-------+---------+--------------+-------------+-----------------+-----------+------+---------------+-----+-----------+-------------+--------------+\n",
      "only showing top 2 rows\n",
      "\n"
     ]
    }
   ],
   "source": [
    "# Paso 2 . aplicar OneHotEncoder sobre las cateoricas de entrada en features: species_indexed, sex_indexed\n",
    "encoder = OneHotEncoder(\n",
    "    inputCols=['sex_indexed', 'species_indexed'],\n",
    "    outputCols=['sex_onehot', 'species_onehot']\n",
    ")\n",
    "df = encoder.fit(df).transform(df)\n",
    "df.show(2)"
   ]
  },
  {
   "cell_type": "code",
   "execution_count": null,
   "metadata": {},
   "outputs": [
    {
     "name": "stdout",
     "output_type": "stream",
     "text": [
      "+-------+---------+--------------+-------------+-----------------+-----------+------+---------------+-----+-----------+-------------+--------------+--------------------+\n",
      "|species|   island|bill_length_mm|bill_depth_mm|flipper_length_mm|body_mass_g|   sex|species_indexed|label|sex_indexed|   sex_onehot|species_onehot|            features|\n",
      "+-------+---------+--------------+-------------+-----------------+-----------+------+---------------+-----+-----------+-------------+--------------+--------------------+\n",
      "| Adelie|Torgersen|          39.1|         18.7|            181.0|     3750.0|  Male|            0.0|  2.0|        0.0|(1,[0],[1.0])| (2,[0],[1.0])|[39.1,18.7,181.0,...|\n",
      "| Adelie|Torgersen|          39.5|         17.4|            186.0|     3800.0|Female|            0.0|  2.0|        1.0|    (1,[],[])| (2,[0],[1.0])|[39.5,17.4,186.0,...|\n",
      "+-------+---------+--------------+-------------+-----------------+-----------+------+---------------+-----+-----------+-------------+--------------+--------------------+\n",
      "only showing top 2 rows\n",
      "\n"
     ]
    }
   ],
   "source": [
    "assembler = VectorAssembler(\n",
    "    inputCols=['bill_length_mm', 'bill_depth_mm', 'flipper_length_mm', 'body_mass_g', 'sex_onehot', 'species_onehot'],\n",
    "    outputCol='features' #le llamamos features para que coincida con lo que piden los algoritmos\n",
    ")\n",
    "# df = assembler.transform(df).select('features','label') se puede hacer asi o en dos celdas\n",
    "df = assembler.transform(df)\n",
    "df.show(2)"
   ]
  },
  {
   "cell_type": "code",
   "execution_count": 12,
   "metadata": {},
   "outputs": [
    {
     "name": "stdout",
     "output_type": "stream",
     "text": [
      "+--------------------+-----+\n",
      "|            features|label|\n",
      "+--------------------+-----+\n",
      "|[39.1,18.7,181.0,...|  2.0|\n",
      "|[39.5,17.4,186.0,...|  2.0|\n",
      "+--------------------+-----+\n",
      "only showing top 2 rows\n",
      "\n"
     ]
    }
   ],
   "source": [
    "df_to_predict = df.select('features', 'label')\n",
    "df_to_predict.show(2)"
   ]
  },
  {
   "cell_type": "code",
   "execution_count": 13,
   "metadata": {},
   "outputs": [],
   "source": [
    "#particionamiento de datos\n",
    "df_train, df_test = df_to_predict.randomSplit([0.8, 0.2], seed=42)"
   ]
  },
  {
   "cell_type": "code",
   "execution_count": 14,
   "metadata": {},
   "outputs": [
    {
     "name": "stdout",
     "output_type": "stream",
     "text": [
      "+--------------------+-----+--------------------+--------------------+----------+\n",
      "|            features|label|       rawPrediction|         probability|prediction|\n",
      "+--------------------+-----+--------------------+--------------------+----------+\n",
      "|[35.3,18.9,187.0,...|  0.0|[0.07212777470235...|[0.35779265402679...|       0.0|\n",
      "|[36.5,18.0,182.0,...|  1.0|[0.09888914177782...|[0.36476506792571...|       0.0|\n",
      "|[36.7,19.3,193.0,...|  2.0|[-0.1922890272724...|[0.27058540798590...|       2.0|\n",
      "|[37.8,18.3,174.0,...|  0.0|[0.61964645747517...|[0.55839875149316...|       0.0|\n",
      "+--------------------+-----+--------------------+--------------------+----------+\n",
      "only showing top 4 rows\n",
      "\n"
     ]
    }
   ],
   "source": [
    "lr = LogisticRegression()\n",
    "model = lr.fit(df_train)\n",
    "df_pred = model.transform(df_test)\n",
    "df_pred.show(4)"
   ]
  },
  {
   "cell_type": "code",
   "execution_count": 20,
   "metadata": {},
   "outputs": [
    {
     "name": "stdout",
     "output_type": "stream",
     "text": [
      "accuracy 0.7285714285714285\n",
      "f1 0.7085714285714286\n",
      "precision 0.7103174603174602\n",
      "recall 0.7285714285714286\n"
     ]
    }
   ],
   "source": [
    "# evaluator_auc = MulticlassClassificationEvaluator(metricName='areaUnderROC') no lo tiene\n",
    "evaluator_accuracy = MulticlassClassificationEvaluator(metricName='accuracy')\n",
    "evaluator_f1 = MulticlassClassificationEvaluator(metricName='f1')\n",
    "evaluator_precision = MulticlassClassificationEvaluator(metricName='weightedPrecision')\n",
    "evaluator_recall = MulticlassClassificationEvaluator(metricName='weightedRecall')\n",
    "\n",
    "print('accuracy', evaluator_accuracy.evaluate(df_pred))\n",
    "print('f1', evaluator_f1.evaluate(df_pred))\n",
    "print('precision', evaluator_precision.evaluate(df_pred))\n",
    "print('recall', evaluator_recall.evaluate(df_pred))"
   ]
  },
  {
   "cell_type": "code",
   "execution_count": 21,
   "metadata": {},
   "outputs": [
    {
     "name": "stdout",
     "output_type": "stream",
     "text": [
      "+--------------------+-----+--------------------+--------------------+----------+\n",
      "|            features|label|       rawPrediction|         probability|prediction|\n",
      "+--------------------+-----+--------------------+--------------------+----------+\n",
      "|[35.3,18.9,187.0,...|  0.0|[7.95302810384073...|[0.39765140519203...|       0.0|\n",
      "|[36.5,18.0,182.0,...|  1.0|[6.49383582821825...|[0.32469179141091...|       1.0|\n",
      "|[36.7,19.3,193.0,...|  2.0|[5.72120306613334...|[0.28606015330666...|       1.0|\n",
      "|[37.8,18.3,174.0,...|  0.0|[6.21449860747620...|[0.31072493037381...|       1.0|\n",
      "+--------------------+-----+--------------------+--------------------+----------+\n",
      "only showing top 4 rows\n",
      "\n",
      "accuracy 0.6714285714285714\n",
      "f1 0.6683713485394158\n",
      "precision 0.6801879372438631\n",
      "recall 0.6714285714285715\n"
     ]
    }
   ],
   "source": [
    "rfc = RandomForestClassifier()\n",
    "model = rfc.fit(df_train)\n",
    "df_pred = model.transform(df_test)\n",
    "df_pred.show(4)\n",
    "print('accuracy', evaluator_accuracy.evaluate(df_pred))\n",
    "print('f1', evaluator_f1.evaluate(df_pred))\n",
    "print('precision', evaluator_precision.evaluate(df_pred))\n",
    "print('recall', evaluator_recall.evaluate(df_pred))"
   ]
  },
  {
   "cell_type": "code",
   "execution_count": 22,
   "metadata": {},
   "outputs": [
    {
     "name": "stdout",
     "output_type": "stream",
     "text": [
      "+--------------------+-----+---------------+--------------------+----------+\n",
      "|            features|label|  rawPrediction|         probability|prediction|\n",
      "+--------------------+-----+---------------+--------------------+----------+\n",
      "|[35.3,18.9,187.0,...|  0.0|[21.0,21.0,9.0]|[0.41176470588235...|       0.0|\n",
      "|[36.5,18.0,182.0,...|  1.0|[21.0,21.0,9.0]|[0.41176470588235...|       0.0|\n",
      "|[36.7,19.3,193.0,...|  2.0|[21.0,21.0,9.0]|[0.41176470588235...|       0.0|\n",
      "|[37.8,18.3,174.0,...|  0.0|[21.0,21.0,9.0]|[0.41176470588235...|       0.0|\n",
      "+--------------------+-----+---------------+--------------------+----------+\n",
      "only showing top 4 rows\n",
      "\n",
      "accuracy 0.7142857142857143\n",
      "f1 0.6841168467386954\n",
      "precision 0.670390243902439\n",
      "recall 0.7142857142857142\n"
     ]
    }
   ],
   "source": [
    "tree = DecisionTreeClassifier()\n",
    "model = tree.fit(df_train)\n",
    "df_pred = model.transform(df_test)\n",
    "df_pred.show(4)\n",
    "print('accuracy', evaluator_accuracy.evaluate(df_pred))\n",
    "print('f1', evaluator_f1.evaluate(df_pred))\n",
    "print('precision', evaluator_precision.evaluate(df_pred))\n",
    "print('recall', evaluator_recall.evaluate(df_pred))\n"
   ]
  },
  {
   "cell_type": "code",
   "execution_count": 29,
   "metadata": {},
   "outputs": [],
   "source": [
    "# si tenemos mas de dos labels da error\n",
    "# gbtc = GBTClassifier(seed=42)\n",
    "# model = gbtc.fit(df_train)\n",
    "# df_pred = model.transform(df_test)\n",
    "# df_pred.show(4)\n",
    "# print('accuracy', evaluator_accuracy.evaluate(df_pred))\n",
    "# print('f1', evaluator_f1.evaluate(df_pred))\n",
    "# print('precision', evaluator_precision.evaluate(df_pred))\n",
    "# print('recall', evaluator_recall.evaluate(df_pred))"
   ]
  },
  {
   "cell_type": "code",
   "execution_count": 28,
   "metadata": {},
   "outputs": [
    {
     "name": "stdout",
     "output_type": "stream",
     "text": [
      "+--------------------+-----+--------------------+--------------------+----------+\n",
      "|            features|label|       rawPrediction|         probability|prediction|\n",
      "+--------------------+-----+--------------------+--------------------+----------+\n",
      "|[35.3,18.9,187.0,...|  0.0|[0.30848638607658...|[0.48967809759043...|       0.0|\n",
      "|[36.5,18.0,182.0,...|  1.0|[0.30848638607658...|[0.48967809759043...|       0.0|\n",
      "|[36.7,19.3,193.0,...|  2.0|[0.30848638607658...|[0.48967809759043...|       0.0|\n",
      "|[37.8,18.3,174.0,...|  0.0|[0.30848638607658...|[0.48967809759043...|       0.0|\n",
      "+--------------------+-----+--------------------+--------------------+----------+\n",
      "only showing top 4 rows\n",
      "\n",
      "accuracy 0.4857142857142857\n",
      "f1 0.31758241758241756\n",
      "precision 0.23591836734693875\n",
      "recall 0.4857142857142857\n"
     ]
    }
   ],
   "source": [
    "num_features = df_train.first()['features'].size\n",
    "num_labels = df.select('label').distinct().count()\n",
    "mlp = MultilayerPerceptronClassifier(layers=[num_features, 32, 32, num_labels], seed=42, maxIter=20) #layers=[capa input, capas ocultas..., capa output]\n",
    "model = mlp.fit(df_train)\n",
    "df_pred = model.transform(df_test)\n",
    "df_pred.show(4)\n",
    "print('accuracy', evaluator_accuracy.evaluate(df_pred))\n",
    "print('f1', evaluator_f1.evaluate(df_pred))\n",
    "print('precision', evaluator_precision.evaluate(df_pred))\n",
    "print('recall', evaluator_recall.evaluate(df_pred))"
   ]
  }
 ],
 "metadata": {
  "kernelspec": {
   "display_name": "Python 3 (ipykernel)",
   "language": "python",
   "name": "python3"
  },
  "language_info": {
   "codemirror_mode": {
    "name": "ipython",
    "version": 3
   },
   "file_extension": ".py",
   "mimetype": "text/x-python",
   "name": "python",
   "nbconvert_exporter": "python",
   "pygments_lexer": "ipython3",
   "version": "3.11.6"
  }
 },
 "nbformat": 4,
 "nbformat_minor": 2
}
