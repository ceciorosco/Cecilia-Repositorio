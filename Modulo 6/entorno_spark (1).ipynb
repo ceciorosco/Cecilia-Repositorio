{
  "cells": [
    {
      "cell_type": "code",
      "execution_count": 1,
      "metadata": {
        "colab": {
          "base_uri": "https://localhost:8080/",
          "height": 35
        },
        "id": "w0zErvNe_dnS",
        "outputId": "eba95440-3a57-45a0-a12f-5e8f44ec8479"
      },
      "outputs": [
        {
          "data": {
            "text/plain": [
              "'3.5.0'"
            ]
          },
          "execution_count": 1,
          "metadata": {},
          "output_type": "execute_result"
        }
      ],
      "source": [
        "import os\n",
        "import seaborn as sns\n",
        "import pandas as pd\n",
        "import pyspark\n",
        "\n",
        "from pyspark.sql import SparkSession\n",
        "from pyspark.sql.functions import collect_list, col, when, udf, avg, count, sum\n",
        "from pyspark.sql.types import IntegerType, FloatType, StringType\n",
        "\n",
        "pyspark.__version__"
      ]
    },
    {
      "cell_type": "code",
      "execution_count": 2,
      "metadata": {
        "colab": {
          "base_uri": "https://localhost:8080/",
          "height": 219
        },
        "id": "SRZlch_T_t8s",
        "outputId": "3053ccb0-34dd-4c66-fa49-7882889f1441"
      },
      "outputs": [
        {
          "data": {
            "text/html": [
              "\n",
              "            <div>\n",
              "                <p><b>SparkSession - in-memory</b></p>\n",
              "                \n",
              "        <div>\n",
              "            <p><b>SparkContext</b></p>\n",
              "\n",
              "            <p><a href=\"http://887f8eb491ff:4040\">Spark UI</a></p>\n",
              "\n",
              "            <dl>\n",
              "              <dt>Version</dt>\n",
              "                <dd><code>v3.5.0</code></dd>\n",
              "              <dt>Master</dt>\n",
              "                <dd><code>local[*]</code></dd>\n",
              "              <dt>AppName</dt>\n",
              "                <dd><code>notebook1</code></dd>\n",
              "            </dl>\n",
              "        </div>\n",
              "        \n",
              "            </div>\n",
              "        "
            ],
            "text/plain": [
              "<pyspark.sql.session.SparkSession at 0x7f6ecb6ea6d0>"
            ]
          },
          "execution_count": 2,
          "metadata": {},
          "output_type": "execute_result"
        }
      ],
      "source": [
        "\n",
        "session = SparkSession.builder.appName('notebook1').getOrCreate()\n",
        "session"
      ]
    },
    {
      "cell_type": "code",
      "execution_count": 3,
      "metadata": {
        "colab": {
          "base_uri": "https://localhost:8080/"
        },
        "id": "S2BREoufAEGs",
        "outputId": "3fd7110b-e95a-42cb-dec7-c5e64efd371f"
      },
      "outputs": [
        {
          "data": {
            "text/plain": [
              "Row(total_bill=16.99, tip=1.01, sex='Female', smoker='No', day='Sun', time='Dinner', size=2)"
            ]
          },
          "execution_count": 3,
          "metadata": {},
          "output_type": "execute_result"
        }
      ],
      "source": [
        "df = session.createDataFrame(sns.load_dataset('tips'))\n",
        "df.head()"
      ]
    },
    {
      "cell_type": "code",
      "execution_count": null,
      "metadata": {
        "colab": {
          "base_uri": "https://localhost:8080/"
        },
        "id": "7Yk9d4aYATmD",
        "outputId": "52a2ed3c-a96b-4d04-df2c-f62801698ff7"
      },
      "outputs": [
        {
          "name": "stdout",
          "output_type": "stream",
          "text": [
            "root\n",
            " |-- total_bill: double (nullable = true)\n",
            " |-- tip: double (nullable = true)\n",
            " |-- sex: string (nullable = true)\n",
            " |-- smoker: string (nullable = true)\n",
            " |-- day: string (nullable = true)\n",
            " |-- time: string (nullable = true)\n",
            " |-- size: long (nullable = true)\n",
            "\n"
          ]
        }
      ],
      "source": [
        "df.printSchema()"
      ]
    },
    {
      "cell_type": "code",
      "execution_count": 5,
      "metadata": {
        "colab": {
          "base_uri": "https://localhost:8080/"
        },
        "id": "EVCg44zoFr7v",
        "outputId": "d8cdc382-15b5-4206-e851-816c7d4fd4fe"
      },
      "outputs": [
        {
          "name": "stdout",
          "output_type": "stream",
          "text": [
            "+----------+----+------+------+---+------+----+\n",
            "|total_bill| tip|   sex|smoker|day|  time|size|\n",
            "+----------+----+------+------+---+------+----+\n",
            "|     16.99|1.01|Female|    No|Sun|Dinner|   2|\n",
            "|     10.34|1.66|  Male|    No|Sun|Dinner|   3|\n",
            "|     21.01| 3.5|  Male|    No|Sun|Dinner|   3|\n",
            "|     23.68|3.31|  Male|    No|Sun|Dinner|   2|\n",
            "|     24.59|3.61|Female|    No|Sun|Dinner|   4|\n",
            "+----------+----+------+------+---+------+----+\n",
            "only showing top 5 rows\n",
            "\n"
          ]
        }
      ],
      "source": [
        "df.show(5)"
      ]
    },
    {
      "cell_type": "code",
      "execution_count": 6,
      "metadata": {
        "colab": {
          "base_uri": "https://localhost:8080/",
          "height": 363
        },
        "id": "3M--bgvKAksc",
        "outputId": "49756ff3-2642-40f2-f0b5-a051939738d3"
      },
      "outputs": [
        {
          "data": {
            "text/html": [
              "<div>\n",
              "<style scoped>\n",
              "    .dataframe tbody tr th:only-of-type {\n",
              "        vertical-align: middle;\n",
              "    }\n",
              "\n",
              "    .dataframe tbody tr th {\n",
              "        vertical-align: top;\n",
              "    }\n",
              "\n",
              "    .dataframe thead th {\n",
              "        text-align: right;\n",
              "    }\n",
              "</style>\n",
              "<table border=\"1\" class=\"dataframe\">\n",
              "  <thead>\n",
              "    <tr style=\"text-align: right;\">\n",
              "      <th></th>\n",
              "      <th>total_bill</th>\n",
              "      <th>tip</th>\n",
              "      <th>sex</th>\n",
              "      <th>smoker</th>\n",
              "      <th>day</th>\n",
              "      <th>time</th>\n",
              "      <th>size</th>\n",
              "    </tr>\n",
              "  </thead>\n",
              "  <tbody>\n",
              "    <tr>\n",
              "      <th>0</th>\n",
              "      <td>16.99</td>\n",
              "      <td>1.01</td>\n",
              "      <td>Female</td>\n",
              "      <td>No</td>\n",
              "      <td>Sun</td>\n",
              "      <td>Dinner</td>\n",
              "      <td>2</td>\n",
              "    </tr>\n",
              "    <tr>\n",
              "      <th>1</th>\n",
              "      <td>10.34</td>\n",
              "      <td>1.66</td>\n",
              "      <td>Male</td>\n",
              "      <td>No</td>\n",
              "      <td>Sun</td>\n",
              "      <td>Dinner</td>\n",
              "      <td>3</td>\n",
              "    </tr>\n",
              "    <tr>\n",
              "      <th>2</th>\n",
              "      <td>21.01</td>\n",
              "      <td>3.50</td>\n",
              "      <td>Male</td>\n",
              "      <td>No</td>\n",
              "      <td>Sun</td>\n",
              "      <td>Dinner</td>\n",
              "      <td>3</td>\n",
              "    </tr>\n",
              "    <tr>\n",
              "      <th>3</th>\n",
              "      <td>23.68</td>\n",
              "      <td>3.31</td>\n",
              "      <td>Male</td>\n",
              "      <td>No</td>\n",
              "      <td>Sun</td>\n",
              "      <td>Dinner</td>\n",
              "      <td>2</td>\n",
              "    </tr>\n",
              "    <tr>\n",
              "      <th>4</th>\n",
              "      <td>24.59</td>\n",
              "      <td>3.61</td>\n",
              "      <td>Female</td>\n",
              "      <td>No</td>\n",
              "      <td>Sun</td>\n",
              "      <td>Dinner</td>\n",
              "      <td>4</td>\n",
              "    </tr>\n",
              "    <tr>\n",
              "      <th>5</th>\n",
              "      <td>25.29</td>\n",
              "      <td>4.71</td>\n",
              "      <td>Male</td>\n",
              "      <td>No</td>\n",
              "      <td>Sun</td>\n",
              "      <td>Dinner</td>\n",
              "      <td>4</td>\n",
              "    </tr>\n",
              "    <tr>\n",
              "      <th>6</th>\n",
              "      <td>8.77</td>\n",
              "      <td>2.00</td>\n",
              "      <td>Male</td>\n",
              "      <td>No</td>\n",
              "      <td>Sun</td>\n",
              "      <td>Dinner</td>\n",
              "      <td>2</td>\n",
              "    </tr>\n",
              "    <tr>\n",
              "      <th>7</th>\n",
              "      <td>26.88</td>\n",
              "      <td>3.12</td>\n",
              "      <td>Male</td>\n",
              "      <td>No</td>\n",
              "      <td>Sun</td>\n",
              "      <td>Dinner</td>\n",
              "      <td>4</td>\n",
              "    </tr>\n",
              "    <tr>\n",
              "      <th>8</th>\n",
              "      <td>15.04</td>\n",
              "      <td>1.96</td>\n",
              "      <td>Male</td>\n",
              "      <td>No</td>\n",
              "      <td>Sun</td>\n",
              "      <td>Dinner</td>\n",
              "      <td>2</td>\n",
              "    </tr>\n",
              "    <tr>\n",
              "      <th>9</th>\n",
              "      <td>14.78</td>\n",
              "      <td>3.23</td>\n",
              "      <td>Male</td>\n",
              "      <td>No</td>\n",
              "      <td>Sun</td>\n",
              "      <td>Dinner</td>\n",
              "      <td>2</td>\n",
              "    </tr>\n",
              "  </tbody>\n",
              "</table>\n",
              "</div>"
            ],
            "text/plain": [
              "   total_bill   tip     sex smoker  day    time  size\n",
              "0       16.99  1.01  Female     No  Sun  Dinner     2\n",
              "1       10.34  1.66    Male     No  Sun  Dinner     3\n",
              "2       21.01  3.50    Male     No  Sun  Dinner     3\n",
              "3       23.68  3.31    Male     No  Sun  Dinner     2\n",
              "4       24.59  3.61  Female     No  Sun  Dinner     4\n",
              "5       25.29  4.71    Male     No  Sun  Dinner     4\n",
              "6        8.77  2.00    Male     No  Sun  Dinner     2\n",
              "7       26.88  3.12    Male     No  Sun  Dinner     4\n",
              "8       15.04  1.96    Male     No  Sun  Dinner     2\n",
              "9       14.78  3.23    Male     No  Sun  Dinner     2"
            ]
          },
          "execution_count": 6,
          "metadata": {},
          "output_type": "execute_result"
        }
      ],
      "source": [
        "df.limit(10).toPandas()"
      ]
    },
    {
      "cell_type": "code",
      "execution_count": 7,
      "metadata": {
        "colab": {
          "base_uri": "https://localhost:8080/"
        },
        "id": "Au15YN5dGRdb",
        "outputId": "0d81a02d-ccae-4040-ec16-5d15f2789a3f"
      },
      "outputs": [
        {
          "data": {
            "text/plain": [
              "['total_bill', 'tip', 'sex', 'smoker', 'day', 'time', 'size']"
            ]
          },
          "execution_count": 7,
          "metadata": {},
          "output_type": "execute_result"
        }
      ],
      "source": [
        "df.columns"
      ]
    },
    {
      "cell_type": "code",
      "execution_count": 8,
      "metadata": {
        "colab": {
          "base_uri": "https://localhost:8080/"
        },
        "id": "aJoSMXBlGX07",
        "outputId": "dd67b5b7-57d7-4d62-ffda-512e24f741fd"
      },
      "outputs": [
        {
          "name": "stdout",
          "output_type": "stream",
          "text": [
            "+----------+----+------+\n",
            "|total_bill| tip|   sex|\n",
            "+----------+----+------+\n",
            "|     16.99|1.01|Female|\n",
            "|     10.34|1.66|  Male|\n",
            "|     21.01| 3.5|  Male|\n",
            "|     23.68|3.31|  Male|\n",
            "|     24.59|3.61|Female|\n",
            "+----------+----+------+\n",
            "only showing top 5 rows\n",
            "\n"
          ]
        }
      ],
      "source": [
        "df.select('total_bill', 'tip', 'sex').show(5)"
      ]
    },
    {
      "cell_type": "code",
      "execution_count": 9,
      "metadata": {
        "colab": {
          "base_uri": "https://localhost:8080/"
        },
        "id": "T1CJpssOGdGd",
        "outputId": "7ea0271a-97e1-4eb1-86b3-00db4a8c6e3c"
      },
      "outputs": [
        {
          "name": "stdout",
          "output_type": "stream",
          "text": [
            "+----------+----+\n",
            "|total_bill| tip|\n",
            "+----------+----+\n",
            "|     16.99|1.01|\n",
            "|     10.34|1.66|\n",
            "|     21.01| 3.5|\n",
            "|     23.68|3.31|\n",
            "|     24.59|3.61|\n",
            "+----------+----+\n",
            "only showing top 5 rows\n",
            "\n"
          ]
        }
      ],
      "source": [
        "df[['total_bill', 'tip']].show(5) # esto es en pandas\n"
      ]
    },
    {
      "cell_type": "code",
      "execution_count": 10,
      "metadata": {
        "colab": {
          "base_uri": "https://localhost:8080/",
          "height": 226
        },
        "id": "fgfJlxoyG45j",
        "outputId": "3b0dd1f3-10e0-40d9-aadd-263504eee741"
      },
      "outputs": [
        {
          "data": {
            "text/html": [
              "<div>\n",
              "<style scoped>\n",
              "    .dataframe tbody tr th:only-of-type {\n",
              "        vertical-align: middle;\n",
              "    }\n",
              "\n",
              "    .dataframe tbody tr th {\n",
              "        vertical-align: top;\n",
              "    }\n",
              "\n",
              "    .dataframe thead th {\n",
              "        text-align: right;\n",
              "    }\n",
              "</style>\n",
              "<table border=\"1\" class=\"dataframe\">\n",
              "  <thead>\n",
              "    <tr style=\"text-align: right;\">\n",
              "      <th></th>\n",
              "      <th>summary</th>\n",
              "      <th>total_bill</th>\n",
              "      <th>tip</th>\n",
              "      <th>sex</th>\n",
              "      <th>smoker</th>\n",
              "      <th>day</th>\n",
              "      <th>time</th>\n",
              "      <th>size</th>\n",
              "    </tr>\n",
              "  </thead>\n",
              "  <tbody>\n",
              "    <tr>\n",
              "      <th>0</th>\n",
              "      <td>count</td>\n",
              "      <td>244</td>\n",
              "      <td>244</td>\n",
              "      <td>244</td>\n",
              "      <td>244</td>\n",
              "      <td>244</td>\n",
              "      <td>244</td>\n",
              "      <td>244</td>\n",
              "    </tr>\n",
              "    <tr>\n",
              "      <th>1</th>\n",
              "      <td>mean</td>\n",
              "      <td>19.785942622950813</td>\n",
              "      <td>2.9982786885245907</td>\n",
              "      <td>None</td>\n",
              "      <td>None</td>\n",
              "      <td>None</td>\n",
              "      <td>None</td>\n",
              "      <td>2.569672131147541</td>\n",
              "    </tr>\n",
              "    <tr>\n",
              "      <th>2</th>\n",
              "      <td>stddev</td>\n",
              "      <td>8.902411954856856</td>\n",
              "      <td>1.383638189001182</td>\n",
              "      <td>None</td>\n",
              "      <td>None</td>\n",
              "      <td>None</td>\n",
              "      <td>None</td>\n",
              "      <td>0.9510998047322344</td>\n",
              "    </tr>\n",
              "    <tr>\n",
              "      <th>3</th>\n",
              "      <td>min</td>\n",
              "      <td>3.07</td>\n",
              "      <td>1.0</td>\n",
              "      <td>Female</td>\n",
              "      <td>No</td>\n",
              "      <td>Fri</td>\n",
              "      <td>Dinner</td>\n",
              "      <td>1</td>\n",
              "    </tr>\n",
              "    <tr>\n",
              "      <th>4</th>\n",
              "      <td>max</td>\n",
              "      <td>50.81</td>\n",
              "      <td>10.0</td>\n",
              "      <td>Male</td>\n",
              "      <td>Yes</td>\n",
              "      <td>Thur</td>\n",
              "      <td>Lunch</td>\n",
              "      <td>6</td>\n",
              "    </tr>\n",
              "  </tbody>\n",
              "</table>\n",
              "</div>"
            ],
            "text/plain": [
              "  summary          total_bill                 tip     sex smoker   day  \\\n",
              "0   count                 244                 244     244    244   244   \n",
              "1    mean  19.785942622950813  2.9982786885245907    None   None  None   \n",
              "2  stddev   8.902411954856856   1.383638189001182    None   None  None   \n",
              "3     min                3.07                 1.0  Female     No   Fri   \n",
              "4     max               50.81                10.0    Male    Yes  Thur   \n",
              "\n",
              "     time                size  \n",
              "0     244                 244  \n",
              "1    None   2.569672131147541  \n",
              "2    None  0.9510998047322344  \n",
              "3  Dinner                   1  \n",
              "4   Lunch                   6  "
            ]
          },
          "execution_count": 10,
          "metadata": {},
          "output_type": "execute_result"
        }
      ],
      "source": [
        "df.describe().toPandas()"
      ]
    },
    {
      "cell_type": "code",
      "execution_count": 11,
      "metadata": {
        "colab": {
          "base_uri": "https://localhost:8080/"
        },
        "id": "Ao5s3odrHAhD",
        "outputId": "f9065534-6c51-43f9-f3e5-65c96331f459"
      },
      "outputs": [
        {
          "data": {
            "text/plain": [
              "[('total_bill', 'double'),\n",
              " ('tip', 'double'),\n",
              " ('sex', 'string'),\n",
              " ('smoker', 'string'),\n",
              " ('day', 'string'),\n",
              " ('time', 'string'),\n",
              " ('size', 'bigint')]"
            ]
          },
          "execution_count": 11,
          "metadata": {},
          "output_type": "execute_result"
        }
      ],
      "source": [
        "df.dtypes"
      ]
    },
    {
      "cell_type": "code",
      "execution_count": 12,
      "metadata": {
        "colab": {
          "base_uri": "https://localhost:8080/"
        },
        "id": "9HMbYThHHDr7",
        "outputId": "6c4002e1-0d8f-406f-861f-7395bc87b6f9"
      },
      "outputs": [
        {
          "data": {
            "text/plain": [
              "StructField('total_bill', DoubleType(), True)"
            ]
          },
          "execution_count": 12,
          "metadata": {},
          "output_type": "execute_result"
        }
      ],
      "source": [
        "df.schema['total_bill']"
      ]
    },
    {
      "cell_type": "code",
      "execution_count": 13,
      "metadata": {
        "colab": {
          "base_uri": "https://localhost:8080/"
        },
        "id": "x-VqtGevHYCT",
        "outputId": "57c23aa1-ac2b-407a-9a76-4413d8503618"
      },
      "outputs": [
        {
          "name": "stdout",
          "output_type": "stream",
          "text": [
            "root\n",
            " |-- total_bill: float (nullable = true)\n",
            " |-- tip: integer (nullable = true)\n",
            " |-- sex: string (nullable = true)\n",
            " |-- smoker: string (nullable = true)\n",
            " |-- day: string (nullable = true)\n",
            " |-- time: string (nullable = true)\n",
            " |-- size: long (nullable = true)\n",
            "\n"
          ]
        }
      ],
      "source": [
        "#df_cast = df.withColumn('total_bill', col('total_bill').cast('float'))\\\n",
        " #           .withColumn('tip', col('tip').cast('int'))\n",
        "df_cast = df.withColumn('total_bill', col('total_bill').cast(FloatType()))\\\n",
        "            .withColumn('tip', col('tip').cast(IntegerType()))\n",
        "df_cast.printSchema()"
      ]
    },
    {
      "cell_type": "code",
      "execution_count": 14,
      "metadata": {
        "colab": {
          "base_uri": "https://localhost:8080/"
        },
        "id": "81E3LRpYS_t0",
        "outputId": "80ad21a9-cd1f-4c0b-b1ca-1d11c7a002f9"
      },
      "outputs": [
        {
          "name": "stdout",
          "output_type": "stream",
          "text": [
            "+-------+------------------+------------------+-----------------+\n",
            "|summary|        total_bill|               tip|             size|\n",
            "+-------+------------------+------------------+-----------------+\n",
            "|  count|               244|               244|              244|\n",
            "|    min|              3.07|               1.0|                1|\n",
            "|    max|             50.81|              10.0|                6|\n",
            "|   mean|19.785942622950813|2.9982786885245907|2.569672131147541|\n",
            "+-------+------------------+------------------+-----------------+\n",
            "\n"
          ]
        }
      ],
      "source": [
        "#agregaciones\n",
        "df.select('total_bill', 'tip', 'size').summary('count', 'min', 'max', 'mean').show() #agregar show()para verlo"
      ]
    },
    {
      "cell_type": "code",
      "execution_count": 15,
      "metadata": {
        "colab": {
          "base_uri": "https://localhost:8080/"
        },
        "id": "5wTAEFfRUv0z",
        "outputId": "8b781c52-3c1b-49b5-abe4-027e0a679003"
      },
      "outputs": [
        {
          "name": "stdout",
          "output_type": "stream",
          "text": [
            "+-------+------------------+------------------+------+------+----+------+------------------+\n",
            "|summary|        total_bill|               tip|   sex|smoker| day|  time|              size|\n",
            "+-------+------------------+------------------+------+------+----+------+------------------+\n",
            "|  count|               244|               244|   244|   244| 244|   244|               244|\n",
            "|   mean|19.785942622950813|2.9982786885245907|  NULL|  NULL|NULL|  NULL| 2.569672131147541|\n",
            "| stddev| 8.902411954856856| 1.383638189001182|  NULL|  NULL|NULL|  NULL|0.9510998047322344|\n",
            "|    min|              3.07|               1.0|Female|    No| Fri|Dinner|                 1|\n",
            "|    25%|             13.28|               2.0|  NULL|  NULL|NULL|  NULL|                 2|\n",
            "|    50%|             17.78|              2.88|  NULL|  NULL|NULL|  NULL|                 2|\n",
            "|    75%|             24.08|              3.55|  NULL|  NULL|NULL|  NULL|                 3|\n",
            "|    max|             50.81|              10.0|  Male|   Yes|Thur| Lunch|                 6|\n",
            "+-------+------------------+------------------+------+------+----+------+------------------+\n",
            "\n"
          ]
        }
      ],
      "source": [
        "df.summary().show() #hace todos los calculos, hay que agregarle el show() para verlo"
      ]
    },
    {
      "cell_type": "code",
      "execution_count": 16,
      "metadata": {
        "colab": {
          "base_uri": "https://localhost:8080/"
        },
        "id": "SXQeSPe0WY8s",
        "outputId": "4eadfc7a-d46f-4b81-8af0-c1b38c998595"
      },
      "outputs": [
        {
          "name": "stdout",
          "output_type": "stream",
          "text": [
            "+----------+----+------+------+---+------+----+\n",
            "|total_bill| tip|   sex|smoker|day|  time|size|\n",
            "+----------+----+------+------+---+------+----+\n",
            "|     21.01| 3.5|  Male|    No|Sun|Dinner|   3|\n",
            "|     23.68|3.31|  Male|    No|Sun|Dinner|   2|\n",
            "|     24.59|3.61|Female|    No|Sun|Dinner|   4|\n",
            "|     25.29|4.71|  Male|    No|Sun|Dinner|   4|\n",
            "|     26.88|3.12|  Male|    No|Sun|Dinner|   4|\n",
            "|     35.26| 5.0|Female|    No|Sun|Dinner|   4|\n",
            "|     21.58|3.92|  Male|    No|Sun|Dinner|   2|\n",
            "|     20.65|3.35|  Male|    No|Sat|Dinner|   3|\n",
            "|     20.29|2.75|Female|    No|Sat|Dinner|   2|\n",
            "|     39.42|7.58|  Male|    No|Sat|Dinner|   4|\n",
            "|      21.7| 4.3|  Male|    No|Sat|Dinner|   2|\n",
            "|     20.69|2.45|Female|    No|Sat|Dinner|   4|\n",
            "|     24.06| 3.6|  Male|    No|Sat|Dinner|   3|\n",
            "|     31.27| 5.0|  Male|    No|Sat|Dinner|   3|\n",
            "|      30.4| 5.6|  Male|    No|Sun|Dinner|   4|\n",
            "|     22.23| 5.0|  Male|    No|Sun|Dinner|   2|\n",
            "|      32.4| 6.0|  Male|    No|Sun|Dinner|   4|\n",
            "|     28.55|2.05|  Male|    No|Sun|Dinner|   3|\n",
            "|     34.81| 5.2|Female|    No|Sun|Dinner|   4|\n",
            "|     25.56|4.34|  Male|    No|Sun|Dinner|   4|\n",
            "+----------+----+------+------+---+------+----+\n",
            "only showing top 20 rows\n",
            "\n"
          ]
        }
      ],
      "source": [
        "#Filtros\n",
        "#Forma 1\n",
        "df.filter(df['total_bill']> 20).show()"
      ]
    },
    {
      "cell_type": "code",
      "execution_count": 17,
      "metadata": {
        "id": "CKpdzda9Wr9E"
      },
      "outputs": [],
      "source": [
        "#forma 2\n",
        "#df.filter(df['total_bill'] > 20).collect()[0]['total_bill']\n",
        "#forma 3\n",
        "#df.filter(col('total_bill') > 20).show()"
      ]
    },
    {
      "cell_type": "code",
      "execution_count": 18,
      "metadata": {
        "colab": {
          "base_uri": "https://localhost:8080/"
        },
        "id": "2cuKgOneX7xT",
        "outputId": "ec3d584c-fa8d-484e-9be5-168b0a7e666b"
      },
      "outputs": [
        {
          "name": "stdout",
          "output_type": "stream",
          "text": [
            "+----------+----+------+------+---+------+----+\n",
            "|total_bill| tip|   sex|smoker|day|  time|size|\n",
            "+----------+----+------+------+---+------+----+\n",
            "|     21.01| 3.5|  Male|    No|Sun|Dinner|   3|\n",
            "|     23.68|3.31|  Male|    No|Sun|Dinner|   2|\n",
            "|     24.59|3.61|Female|    No|Sun|Dinner|   4|\n",
            "|     25.29|4.71|  Male|    No|Sun|Dinner|   4|\n",
            "|     26.88|3.12|  Male|    No|Sun|Dinner|   4|\n",
            "+----------+----+------+------+---+------+----+\n",
            "only showing top 5 rows\n",
            "\n"
          ]
        }
      ],
      "source": [
        "df.filter((df['total_bill'] > 20) & (df['tip'] > 3)).show(5)"
      ]
    },
    {
      "cell_type": "code",
      "execution_count": 19,
      "metadata": {
        "colab": {
          "base_uri": "https://localhost:8080/"
        },
        "id": "Ghwr-WCPYRQD",
        "outputId": "78478e10-463e-43a7-837e-01126ade3324"
      },
      "outputs": [
        {
          "name": "stdout",
          "output_type": "stream",
          "text": [
            "+----------+----+------+------+---+------+----+------------------+\n",
            "|total_bill| tip|   sex|smoker|day|  time|size| total_bill_iva_10|\n",
            "+----------+----+------+------+---+------+----+------------------+\n",
            "|     16.99|1.01|Female|    No|Sun|Dinner|   2|1.6989999999999998|\n",
            "|     10.34|1.66|  Male|    No|Sun|Dinner|   3|             1.034|\n",
            "+----------+----+------+------+---+------+----+------------------+\n",
            "only showing top 2 rows\n",
            "\n"
          ]
        }
      ],
      "source": [
        "#crear una nueva columna con el 10% de total_bill para el iva\n",
        "df_new = df.withColumn('total_bill_iva_10', df['total_bill'] * 0.10)\n",
        "df_new.show(2)"
      ]
    },
    {
      "cell_type": "code",
      "execution_count": 20,
      "metadata": {
        "colab": {
          "base_uri": "https://localhost:8080/"
        },
        "id": "QJeeH-iQYtLj",
        "outputId": "622563fb-c4a2-46bd-edd3-367b62974cbf"
      },
      "outputs": [
        {
          "name": "stdout",
          "output_type": "stream",
          "text": [
            "+----------+----+------+------+---+------+----+------------+\n",
            "|total_bill| tip|   sex|smoker|day|  time|size|tip_category|\n",
            "+----------+----+------+------+---+------+----+------------+\n",
            "|     16.99|1.01|Female|    No|Sun|Dinner|   2|       media|\n",
            "|     10.34|1.66|  Male|    No|Sun|Dinner|   3|       media|\n",
            "|     21.01| 3.5|  Male|    No|Sun|Dinner|   3|        alta|\n",
            "|     23.68|3.31|  Male|    No|Sun|Dinner|   2|        alta|\n",
            "|     24.59|3.61|Female|    No|Sun|Dinner|   4|        alta|\n",
            "|     25.29|4.71|  Male|    No|Sun|Dinner|   4|        alta|\n",
            "|      8.77| 2.0|  Male|    No|Sun|Dinner|   2|       media|\n",
            "|     26.88|3.12|  Male|    No|Sun|Dinner|   4|        alta|\n",
            "|     15.04|1.96|  Male|    No|Sun|Dinner|   2|       media|\n",
            "|     14.78|3.23|  Male|    No|Sun|Dinner|   2|        alta|\n",
            "|     10.27|1.71|  Male|    No|Sun|Dinner|   2|       media|\n",
            "|     35.26| 5.0|Female|    No|Sun|Dinner|   4|        alta|\n",
            "|     15.42|1.57|  Male|    No|Sun|Dinner|   2|       media|\n",
            "|     18.43| 3.0|  Male|    No|Sun|Dinner|   4|       media|\n",
            "|     14.83|3.02|Female|    No|Sun|Dinner|   2|        alta|\n",
            "|     21.58|3.92|  Male|    No|Sun|Dinner|   2|        alta|\n",
            "|     10.33|1.67|Female|    No|Sun|Dinner|   3|       media|\n",
            "|     16.29|3.71|  Male|    No|Sun|Dinner|   3|        alta|\n",
            "|     16.97| 3.5|Female|    No|Sun|Dinner|   3|        alta|\n",
            "|     20.65|3.35|  Male|    No|Sat|Dinner|   3|        alta|\n",
            "+----------+----+------+------+---+------+----+------------+\n",
            "only showing top 20 rows\n",
            "\n"
          ]
        }
      ],
      "source": [
        "# en pandas solemos aplicar una transformacion utilizando apply()\n",
        "#crear una columna categorica a partir de una numérica\n",
        "df.withColumn(\n",
        "    'tip_category',\n",
        "    when(df['tip'] <= 1, 'baja')\n",
        "    .when((df['tip'] > 1)& (df['tip'] <= 3), 'media')\n",
        "    .otherwise('alta')).show()"
      ]
    },
    {
      "cell_type": "code",
      "execution_count": 21,
      "metadata": {
        "id": "M2i-Xgx0a34c"
      },
      "outputs": [],
      "source": [
        "# esto es mejor solo para los casos avanzados en los que no nos sirve con las\n",
        "#funciones que ya hay en finction\n",
        "def categorize_tip(tip):\n",
        "  if tip <= 1:\n",
        "    return 'baja'\n",
        "  elif tip > 1 and tip <= 3:\n",
        "    return 'media'\n",
        "  else:\n",
        "    return 'alta'"
      ]
    },
    {
      "cell_type": "code",
      "execution_count": 22,
      "metadata": {
        "colab": {
          "base_uri": "https://localhost:8080/"
        },
        "id": "WmiPrccib0Sc",
        "outputId": "32c636fb-4ec2-4e7a-b401-059e8e23faf3"
      },
      "outputs": [
        {
          "name": "stdout",
          "output_type": "stream",
          "text": [
            "+----------+----+------+------+---+------+----+------------+\n",
            "|total_bill| tip|   sex|smoker|day|  time|size|tip_category|\n",
            "+----------+----+------+------+---+------+----+------------+\n",
            "|     16.99|1.01|Female|    No|Sun|Dinner|   2|       media|\n",
            "|     10.34|1.66|  Male|    No|Sun|Dinner|   3|       media|\n",
            "|     21.01| 3.5|  Male|    No|Sun|Dinner|   3|        alta|\n",
            "|     23.68|3.31|  Male|    No|Sun|Dinner|   2|        alta|\n",
            "|     24.59|3.61|Female|    No|Sun|Dinner|   4|        alta|\n",
            "|     25.29|4.71|  Male|    No|Sun|Dinner|   4|        alta|\n",
            "|      8.77| 2.0|  Male|    No|Sun|Dinner|   2|       media|\n",
            "|     26.88|3.12|  Male|    No|Sun|Dinner|   4|        alta|\n",
            "|     15.04|1.96|  Male|    No|Sun|Dinner|   2|       media|\n",
            "|     14.78|3.23|  Male|    No|Sun|Dinner|   2|        alta|\n",
            "|     10.27|1.71|  Male|    No|Sun|Dinner|   2|       media|\n",
            "|     35.26| 5.0|Female|    No|Sun|Dinner|   4|        alta|\n",
            "|     15.42|1.57|  Male|    No|Sun|Dinner|   2|       media|\n",
            "|     18.43| 3.0|  Male|    No|Sun|Dinner|   4|       media|\n",
            "|     14.83|3.02|Female|    No|Sun|Dinner|   2|        alta|\n",
            "|     21.58|3.92|  Male|    No|Sun|Dinner|   2|        alta|\n",
            "|     10.33|1.67|Female|    No|Sun|Dinner|   3|       media|\n",
            "|     16.29|3.71|  Male|    No|Sun|Dinner|   3|        alta|\n",
            "|     16.97| 3.5|Female|    No|Sun|Dinner|   3|        alta|\n",
            "|     20.65|3.35|  Male|    No|Sat|Dinner|   3|        alta|\n",
            "+----------+----+------+------+---+------+----+------------+\n",
            "only showing top 20 rows\n",
            "\n"
          ]
        }
      ],
      "source": [
        "udf_categorize_tip = udf(categorize_tip, StringType())\n",
        "df.withColumn('tip_category', udf_categorize_tip('tip')).show()"
      ]
    },
    {
      "cell_type": "code",
      "execution_count": 23,
      "metadata": {
        "colab": {
          "base_uri": "https://localhost:8080/"
        },
        "id": "QF2OgdkRc1uk",
        "outputId": "1abfa2ca-f543-4517-afaf-2970b7d880c9"
      },
      "outputs": [
        {
          "name": "stdout",
          "output_type": "stream",
          "text": [
            "+----------+----+------+------+---+------+----+\n",
            "|total_bill| tip| genre|smoker|day|  time|size|\n",
            "+----------+----+------+------+---+------+----+\n",
            "|     16.99|1.01|Female|    No|Sun|Dinner|   2|\n",
            "|     10.34|1.66|  Male|    No|Sun|Dinner|   3|\n",
            "|     21.01| 3.5|  Male|    No|Sun|Dinner|   3|\n",
            "|     23.68|3.31|  Male|    No|Sun|Dinner|   2|\n",
            "+----------+----+------+------+---+------+----+\n",
            "only showing top 4 rows\n",
            "\n"
          ]
        }
      ],
      "source": [
        "# renombrar columnas\n",
        "df_renamed = df.withColumnRenamed('sex', 'genre')\n",
        "df_renamed.show(4)"
      ]
    },
    {
      "cell_type": "code",
      "execution_count": 24,
      "metadata": {
        "colab": {
          "base_uri": "https://localhost:8080/"
        },
        "id": "bGSuFqC8dF1E",
        "outputId": "4ef017df-7a77-4831-ad9c-e96e78427289"
      },
      "outputs": [
        {
          "name": "stdout",
          "output_type": "stream",
          "text": [
            "+----------+----+---+------+----+\n",
            "|total_bill| tip|day|  time|size|\n",
            "+----------+----+---+------+----+\n",
            "|     16.99|1.01|Sun|Dinner|   2|\n",
            "|     10.34|1.66|Sun|Dinner|   3|\n",
            "|     21.01| 3.5|Sun|Dinner|   3|\n",
            "|     23.68|3.31|Sun|Dinner|   2|\n",
            "+----------+----+---+------+----+\n",
            "only showing top 4 rows\n",
            "\n"
          ]
        }
      ],
      "source": [
        "#borrar una columna\n",
        "df_dropped = df.drop('sex', 'smoker')\n",
        "df_dropped.show(4)"
      ]
    },
    {
      "cell_type": "code",
      "execution_count": 25,
      "metadata": {
        "colab": {
          "base_uri": "https://localhost:8080/"
        },
        "id": "S3gmlY9JdhWE",
        "outputId": "45eae69d-13e5-401f-f3dd-cbe9ed8a45f3"
      },
      "outputs": [
        {
          "name": "stdout",
          "output_type": "stream",
          "text": [
            "+----------+----+------+------+---+------+----+\n",
            "|total_bill| tip|   sex|smoker|day|  time|size|\n",
            "+----------+----+------+------+---+------+----+\n",
            "|      3.07| 1.0|Female|   Yes|Sat|Dinner|   1|\n",
            "|      5.75| 1.0|Female|   Yes|Fri|Dinner|   2|\n",
            "|      7.25|5.15|  Male|   Yes|Sun|Dinner|   2|\n",
            "|      7.25| 1.0|Female|    No|Sat|Dinner|   1|\n",
            "+----------+----+------+------+---+------+----+\n",
            "only showing top 4 rows\n",
            "\n"
          ]
        }
      ],
      "source": [
        "#ordenar por una columna, en pandas es sort_values()\n",
        "df.sort('total_bill').show(4) # asc"
      ]
    },
    {
      "cell_type": "code",
      "execution_count": 26,
      "metadata": {
        "colab": {
          "base_uri": "https://localhost:8080/"
        },
        "id": "gyXN2wendxGb",
        "outputId": "d10d427a-e47e-4d7d-d73c-7ce1252ff309"
      },
      "outputs": [
        {
          "name": "stdout",
          "output_type": "stream",
          "text": [
            "+----------+----+----+------+---+------+----+\n",
            "|total_bill| tip| sex|smoker|day|  time|size|\n",
            "+----------+----+----+------+---+------+----+\n",
            "|     50.81|10.0|Male|   Yes|Sat|Dinner|   3|\n",
            "|     48.33| 9.0|Male|    No|Sat|Dinner|   4|\n",
            "|     48.27|6.73|Male|    No|Sat|Dinner|   4|\n",
            "|     48.17| 5.0|Male|    No|Sun|Dinner|   6|\n",
            "+----------+----+----+------+---+------+----+\n",
            "only showing top 4 rows\n",
            "\n"
          ]
        }
      ],
      "source": [
        "df.sort(col('total_bill').desc()).show(4) # descendente hay que usal col y desc"
      ]
    },
    {
      "cell_type": "code",
      "execution_count": 27,
      "metadata": {
        "colab": {
          "base_uri": "https://localhost:8080/"
        },
        "id": "ZMoks3ZGeAU0",
        "outputId": "e47340eb-1247-40f1-b345-d6868119fa49"
      },
      "outputs": [
        {
          "name": "stdout",
          "output_type": "stream",
          "text": [
            "+----------+----+----+------+---+------+----+\n",
            "|total_bill| tip| sex|smoker|day|  time|size|\n",
            "+----------+----+----+------+---+------+----+\n",
            "|     50.81|10.0|Male|   Yes|Sat|Dinner|   3|\n",
            "|     48.33| 9.0|Male|    No|Sat|Dinner|   4|\n",
            "|     48.27|6.73|Male|    No|Sat|Dinner|   4|\n",
            "|     48.17| 5.0|Male|    No|Sun|Dinner|   6|\n",
            "+----------+----+----+------+---+------+----+\n",
            "only showing top 4 rows\n",
            "\n"
          ]
        }
      ],
      "source": [
        "df.orderBy(col('total_bill').desc()).show(4)"
      ]
    },
    {
      "cell_type": "code",
      "execution_count": 28,
      "metadata": {
        "colab": {
          "base_uri": "https://localhost:8080/"
        },
        "id": "LaZ5XfZseLJe",
        "outputId": "0023155d-3943-481d-d000-dd386a085369"
      },
      "outputs": [
        {
          "name": "stdout",
          "output_type": "stream",
          "text": [
            "+------+-----+\n",
            "|   sex|count|\n",
            "+------+-----+\n",
            "|Female|   87|\n",
            "|  Male|  157|\n",
            "+------+-----+\n",
            "\n"
          ]
        }
      ],
      "source": [
        "#agrupar datos\n",
        "# equivalente a value_counts de pandas\n",
        "df.groupBy('sex').count().show()"
      ]
    },
    {
      "cell_type": "code",
      "execution_count": 29,
      "metadata": {
        "colab": {
          "base_uri": "https://localhost:8080/"
        },
        "id": "yC6xMlxJebst",
        "outputId": "3639048b-834d-4cbf-83c6-ea16e34c41fe"
      },
      "outputs": [
        {
          "name": "stdout",
          "output_type": "stream",
          "text": [
            "+------+----------+------------------+------------------+\n",
            "|   sex|count_rows|    avg_total_bill|          sum_tips|\n",
            "+------+----------+------------------+------------------+\n",
            "|Female|        87| 18.05689655172414|            246.51|\n",
            "|  Male|       157|20.744076433121016|485.07000000000005|\n",
            "+------+----------+------------------+------------------+\n",
            "\n"
          ]
        }
      ],
      "source": [
        "# similar a pandas pordemos usar una funcion de agregacion para pedir varias agregaciones\n",
        "df.groupby('sex').agg(\n",
        "    count('*').alias('count_rows'),\n",
        "    avg('total_bill').alias('avg_total_bill'),\n",
        "    sum('tip').alias('sum_tips')\n",
        ").show()"
      ]
    },
    {
      "cell_type": "code",
      "execution_count": 30,
      "metadata": {
        "colab": {
          "base_uri": "https://localhost:8080/"
        },
        "id": "Ii-EdalmaI-l",
        "outputId": "b8309eb0-a204-46bb-fb1d-c7a04ecf6f7d"
      },
      "outputs": [
        {
          "data": {
            "text/plain": [
              "DataFrame[total_bill: double, tip: double, sex: string, smoker: string, day: string, time: string, size: bigint]"
            ]
          },
          "execution_count": 30,
          "metadata": {},
          "output_type": "execute_result"
        }
      ],
      "source": [
        "# elimina filas donde hay al menos un valor nulo:\n",
        "df_no_nulls = df.dropna()\n",
        "#eliminar filas donde hay nulos solo en algunas columnas especificadas\n",
        "df.dropna(subset=['tip'])"
      ]
    },
    {
      "cell_type": "code",
      "execution_count": 41,
      "metadata": {},
      "outputs": [
        {
          "name": "stdout",
          "output_type": "stream",
          "text": [
            "+----------+----+------+------+---+------+----+\n",
            "|total_bill| tip|   sex|smoker|day|  time|size|\n",
            "+----------+----+------+------+---+------+----+\n",
            "|     16.99|1.01|Female|    No|Sun|Dinner|   2|\n",
            "|     10.34|1.66|  Male|    No|Sun|Dinner|   3|\n",
            "|     21.01| 3.5|  Male|    No|Sun|Dinner|   3|\n",
            "|     23.68|3.31|  Male|    No|Sun|Dinner|   2|\n",
            "+----------+----+------+------+---+------+----+\n",
            "only showing top 4 rows\n",
            "\n"
          ]
        }
      ],
      "source": [
        "df_imputed = df_no_nulls.fillna({\n",
        "    'total_bill': 0,\n",
        "    'smoker': 'desconocido'\n",
        "})\n",
        "df_imputed.show(4)"
      ]
    },
    {
      "cell_type": "code",
      "execution_count": 32,
      "metadata": {},
      "outputs": [
        {
          "name": "stdout",
          "output_type": "stream",
          "text": [
            "+----------+----+------+------+---+------+----+\n",
            "|total_bill| tip|   sex|smoker|day|  time|size|\n",
            "+----------+----+------+------+---+------+----+\n",
            "|     16.99|1.01|Female|    No|Sun|Dinner|   2|\n",
            "|     10.34|1.66|  Male|    No|Sun|Dinner|   3|\n",
            "|     21.01| 3.5|  Male|    No|Sun|Dinner|   3|\n",
            "|     23.68|3.31|  Male|    No|Sun|Dinner|   2|\n",
            "|     24.59|3.61|Female|    No|Sun|Dinner|   4|\n",
            "+----------+----+------+------+---+------+----+\n",
            "only showing top 5 rows\n",
            "\n"
          ]
        }
      ],
      "source": [
        "#cargar CSV desde pandas y luego a pyspark\n",
        "url = 'https://raw.githubusercontent.com/mwaskom/seaborn-data/refs/heads/master/tips.csv'\n",
        "df_pandas = pd.read_csv(url)\n",
        "df_spark = session.createDataFrame(df_pandas)\n",
        "df_spark.show(5)"
      ]
    },
    {
      "cell_type": "code",
      "execution_count": 33,
      "metadata": {},
      "outputs": [
        {
          "name": "stdout",
          "output_type": "stream",
          "text": [
            "+----------+----+------+------+---+------+----+\n",
            "|total_bill| tip|   sex|smoker|day|  time|size|\n",
            "+----------+----+------+------+---+------+----+\n",
            "|     16.99|1.01|Female|    No|Sun|Dinner|   2|\n",
            "|     10.34|1.66|  Male|    No|Sun|Dinner|   3|\n",
            "|     21.01| 3.5|  Male|    No|Sun|Dinner|   3|\n",
            "|     23.68|3.31|  Male|    No|Sun|Dinner|   2|\n",
            "|     24.59|3.61|Female|    No|Sun|Dinner|   4|\n",
            "+----------+----+------+------+---+------+----+\n",
            "only showing top 5 rows\n",
            "\n"
          ]
        }
      ],
      "source": [
        "# Cargar CSV directamente con pyspark (más recomendable)\n",
        "import requests\n",
        "url = 'https://raw.githubusercontent.com/mwaskom/seaborn-data/refs/heads/master/tips.csv'\n",
        "csv_path = '/tmp/tips.csv'\n",
        "csv_path = 'tips.csv'\n",
        "with open(csv_path, 'wb') as file:\n",
        "    file.write(requests.get(url).content)\n",
        "    \n",
        "df_spark = session.read.csv(csv_path, header=True, inferSchema=True)\n",
        "df_spark.show(5)\n"
      ]
    },
    {
      "cell_type": "code",
      "execution_count": 34,
      "metadata": {},
      "outputs": [
        {
          "name": "stdout",
          "output_type": "stream",
          "text": [
            "+----------+----+------+------+---+------+----+\n",
            "|total_bill| tip|   sex|smoker|day|  time|size|\n",
            "+----------+----+------+------+---+------+----+\n",
            "|     16.99|1.01|Female|    No|Sun|Dinner|   2|\n",
            "|     10.34|1.66|  Male|    No|Sun|Dinner|   3|\n",
            "|     21.01| 3.5|  Male|    No|Sun|Dinner|   3|\n",
            "|     23.68|3.31|  Male|    No|Sun|Dinner|   2|\n",
            "|     24.59|3.61|Female|    No|Sun|Dinner|   4|\n",
            "+----------+----+------+------+---+------+----+\n",
            "only showing top 5 rows\n",
            "\n",
            "root\n",
            " |-- total_bill: double (nullable = true)\n",
            " |-- tip: double (nullable = true)\n",
            " |-- sex: string (nullable = true)\n",
            " |-- smoker: string (nullable = true)\n",
            " |-- day: string (nullable = true)\n",
            " |-- time: string (nullable = true)\n",
            " |-- size: integer (nullable = true)\n",
            "\n"
          ]
        }
      ],
      "source": [
        "# Cargar CSV directamente con pyspark + schema(más recomendable)  \n",
        "import requests\n",
        "from pyspark.sql.types import StructType, StructField, FloatType, IntegerType, StringType\n",
        "url = 'https://raw.githubusercontent.com/mwaskom/seaborn-data/refs/heads/master/tips.csv'\n",
        "csv_path = '/tmp/tips.csv'\n",
        "csv_path = 'tips.csv'\n",
        "with open(csv_path, 'wb') as file:\n",
        "    file.write(requests.get(url).content)\n",
        "    \n",
        "schema = StructType([\n",
        "    # columnas del dataset y su tipo de dato\n",
        "    StructField('total_bill', FloatType(), True),\n",
        "    StructField('tip', FloatType(), True),\n",
        "    StructField('sex', StringType(), True),\n",
        "    StructField('smoker', StringType(), True),\n",
        "    StructField('day', StringType(), True),\n",
        "    StructField('time', StringType(), True),\n",
        "    StructField('size', IntegerType(), True)\n",
        "])\n",
        "  \n",
        "df_spark = session.read.csv(csv_path, header=True, inferSchema=True)\n",
        "df_spark.show(5)\n",
        "df_spark.printSchema()"
      ]
    },
    {
      "cell_type": "code",
      "execution_count": null,
      "metadata": {},
      "outputs": [],
      "source": [
        "#guardar datos a un CSV\n",
        "# por defecto se particiona en múltiples archivos para procesado distribuido y repartirlos en nodos(maquinas)\n",
        "# df.coalesce(1).write.csv('tips_clean.csv', header=True, mode='overwrite') # para reducir a una sola particion ( no recomendable)\n",
        "df.write.csv('tips_clean.csv', header=True, mode='overwrite')"
      ]
    },
    {
      "cell_type": "code",
      "execution_count": 36,
      "metadata": {},
      "outputs": [
        {
          "name": "stdout",
          "output_type": "stream",
          "text": [
            ".bashrc\n",
            ".profile\n",
            ".bash_logout\n",
            "tips_clean.csv\n",
            ".npm\n",
            ".ipython\n",
            ".cache\n",
            "tips.csv\n",
            ".local\n",
            ".conda\n",
            ".config\n",
            ".jupyter\n",
            ".wget-hsts\n",
            "work\n"
          ]
        }
      ],
      "source": [
        "#verificar que aparece el archivo guardado:\n",
        "import os\n",
        "\n",
        "files = os.listdir('.')\n",
        "for file in files:\n",
        "    print(file)"
      ]
    },
    {
      "cell_type": "code",
      "execution_count": 38,
      "metadata": {},
      "outputs": [
        {
          "name": "stdout",
          "output_type": "stream",
          "text": [
            "+----------+----+----+------+---+------+----+\n",
            "|total_bill| tip| sex|smoker|day|  time|size|\n",
            "+----------+----+----+------+---+------+----+\n",
            "|     30.06| 2.0|Male|   Yes|Sat|Dinner|   3|\n",
            "|     25.89|5.16|Male|   Yes|Sat|Dinner|   4|\n",
            "|     48.33| 9.0|Male|    No|Sat|Dinner|   4|\n",
            "+----------+----+----+------+---+------+----+\n",
            "only showing top 3 rows\n",
            "\n"
          ]
        }
      ],
      "source": [
        "df_tips_clean = session.read.csv('tips_clean.csv', header=True, inferSchema=True)\n",
        "df_tips_clean.show(3)"
      ]
    },
    {
      "cell_type": "code",
      "execution_count": null,
      "metadata": {},
      "outputs": [],
      "source": [
        "# # se puede conectar con otras fuentes de datos, como MySQL\n",
        "# spark = SparkSession.builder.appName('mysqlapp').config('spark.jars', '/opt/mysql-connector-java-8.0.41.jar').getOrCreate()\n",
        "\n",
        "# # java database connectivity\n",
        "# df_mysql = spark.read.format('jdbc') \\\n",
        "#            .option('url', 'jdbc:mysql://localhost:3306/testing_db') \\\n",
        "#            .option('query', 'SELECT * FROM customers WHERE salary > 1000') \\\n",
        "#            .option('usser', 'root') \\\n",
        "#            .option('password', 'admin') \\\n",
        "#            .load()"
      ]
    },
    {
      "cell_type": "code",
      "execution_count": null,
      "metadata": {},
      "outputs": [],
      "source": []
    }
  ],
  "metadata": {
    "colab": {
      "provenance": []
    },
    "kernelspec": {
      "display_name": "Python 3 (ipykernel)",
      "language": "python",
      "name": "python3"
    }
  },
  "nbformat": 4,
  "nbformat_minor": 0
}
