{
 "cells": [
  {
   "cell_type": "markdown",
   "metadata": {},
   "source": [
    "## ENUNCIADO EJERCICIO\n",
    "\n",
    "* Dataset Airbnb NYC https://www.kaggle.com/datasets/dgomonov/new-york-city-airbnb-open-data AB_NYC_2019.csv\n",
    "    * Quitar columnas: id, host_id, host_name\n",
    "    * Fecha: probar a descomponer la fecha en campos año mes y día con pandas es decir, en 3 columnas, por ejemplo usando to_datetime de pandas y los accesores de fecha para extraer año mes y día.\n",
    "\n",
    "* EDAs (10%) (menos foco para este módulo)\n",
    "    * univariantes: histogramas boxplot countplot\n",
    "    * bivariantes: scatterplot\n",
    "    * multivariante: corr en heatmap, pairplot\n",
    "* Preprocesados (20%)\n",
    "    * numéricas: imputer, scaler, transformer\n",
    "    * categóricas: imputer, encoder\n",
    "    * Requisito: hacer los preprocesados con Scikit Learn en lugar de métodos de pandas\n",
    "* clustering y siluetas (10 %)\n",
    "    * Crear una columna cluster usando KMeans o cualquier otro algoritmo de Clustering\n",
    "    * Usar esa columna para hacer algún gráfico EDA como hue para colorear con scatterplot\n",
    "* feature selection (10%)\n",
    "    * SelectKBest para filtrar las mejores columnas y probar\n",
    "    * PCA \n",
    "* Regresión (20%):\n",
    "    * Predecir la columna 'price'\n",
    "* Clasificación multiclase (20%)\n",
    "    * Predecir la columna 'room_type'\n",
    "* Comparar resultados de modelos con validación cruzada (10 %)\n",
    "    * Mostrar un dataframe de resultados con las métricas calculadas\n",
    "    * Opcional: mostrar boxplot de los resultados de validación cruzada como tiempos de ejecución y predicción y métricas\n",
    "\n",
    "* Opcional:\n",
    "    * Uso de pipelines opcional:\n",
    "        * Opción 1: hacer las transformaciones por separado manualmente\n",
    "        * Opción 2: hacer las transformaciones con pipelines\n",
    "        * Opción 3: una primera parte con transformaciones manuales y una segunda parte con Pipeline\n",
    "        * En ambos casos sería interesante calcular las métricas para ver qué técnicas de preprocesado van mejor\n",
    "    * Vectorizar la columna texto 'name' y usar TruncatedSVD\n",
    "    * Clasificación multiclase 'room_type' con TensorFlow-Keras\n",
    "    * SMOTE si hay desbalanceo para el problema de clasificación multiclase 'room_type'\n",
    "\n"
   ]
  },
  {
   "cell_type": "code",
   "execution_count": null,
   "metadata": {},
   "outputs": [],
   "source": [
    "\n",
    "import seaborn as sns \n",
    "import pandas as pd\n",
    "import numpy as np\n",
    "import matplotlib.pyplot as plt\n",
    "from sklearn.base import BaseEstimator, TransformerMixin\n",
    "from sklearn.model_selection import train_test_split, GridSearchCV\n",
    "from sklearn.linear_model import LinearRegression\n",
    "from sklearn.tree import DecisionTreeRegressor\n",
    "from sklearn.ensemble import RandomForestRegressor\n",
    "from sklearn.neighbors import KNeighborsRegressor\n",
    "from sklearn.impute import SimpleImputer, KNNImputer\n",
    "from sklearn.compose import ColumnTransformer\n",
    "from sklearn.preprocessing import StandardScaler, MinMaxScaler, PowerTransformer, FunctionTransformer, OneHotEncoder, LabelEncoder\n",
    "from sklearn.metrics import r2_score, mean_absolute_error, root_mean_squared_error, mean_absolute_percentage_error\n",
    "from sklearn.feature_selection import SelectKBest, f_classif\n",
    "from sklearn.datasets import load_breast_cancer\n",
    "from sklearn.pipeline import Pipeline, make_pipeline\n",
    "from sklearn.cluster import KMeans, DBSCAN, AgglomerativeClustering\n",
    "from sklearn.svm import SVR"
   ]
  },
  {
   "cell_type": "code",
   "execution_count": null,
   "metadata": {},
   "outputs": [],
   "source": [
    "df = pd.read_csv('airbnb_nyc_clean.csv').drop(['id','name','host_id','host_name','last_review', 'house_rules'], axis=1)\n",
    "df.head(3)"
   ]
  },
  {
   "cell_type": "code",
   "execution_count": null,
   "metadata": {},
   "outputs": [],
   "source": [
    "df.info()"
   ]
  },
  {
   "cell_type": "code",
   "execution_count": null,
   "metadata": {},
   "outputs": [],
   "source": [
    "df.isna().sum()"
   ]
  },
  {
   "cell_type": "code",
   "execution_count": 52,
   "metadata": {},
   "outputs": [
    {
     "data": {
      "text/html": [
       "<div>\n",
       "<style scoped>\n",
       "    .dataframe tbody tr th:only-of-type {\n",
       "        vertical-align: middle;\n",
       "    }\n",
       "\n",
       "    .dataframe tbody tr th {\n",
       "        vertical-align: top;\n",
       "    }\n",
       "\n",
       "    .dataframe thead th {\n",
       "        text-align: right;\n",
       "    }\n",
       "</style>\n",
       "<table border=\"1\" class=\"dataframe\">\n",
       "  <thead>\n",
       "    <tr style=\"text-align: right;\">\n",
       "      <th></th>\n",
       "      <th>lat</th>\n",
       "      <th>long</th>\n",
       "      <th>construction_year</th>\n",
       "      <th>price</th>\n",
       "      <th>service_fee</th>\n",
       "      <th>minimum_nights</th>\n",
       "      <th>number_of_reviews</th>\n",
       "      <th>reviews_per_month</th>\n",
       "      <th>review_rate_number</th>\n",
       "      <th>calculated_host_listings_count</th>\n",
       "      <th>availability_365</th>\n",
       "    </tr>\n",
       "  </thead>\n",
       "  <tbody>\n",
       "    <tr>\n",
       "      <th>count</th>\n",
       "      <td>69305.000000</td>\n",
       "      <td>69305.000000</td>\n",
       "      <td>69305.000000</td>\n",
       "      <td>69305.000000</td>\n",
       "      <td>69305.000000</td>\n",
       "      <td>69305.000000</td>\n",
       "      <td>69305.000000</td>\n",
       "      <td>69305.000000</td>\n",
       "      <td>69305.000000</td>\n",
       "      <td>69305.000000</td>\n",
       "      <td>69305.000000</td>\n",
       "    </tr>\n",
       "    <tr>\n",
       "      <th>mean</th>\n",
       "      <td>40.728070</td>\n",
       "      <td>-73.949036</td>\n",
       "      <td>2012.489503</td>\n",
       "      <td>624.736070</td>\n",
       "      <td>124.894026</td>\n",
       "      <td>4.620330</td>\n",
       "      <td>28.003896</td>\n",
       "      <td>1.301503</td>\n",
       "      <td>3.321636</td>\n",
       "      <td>8.976755</td>\n",
       "      <td>153.184287</td>\n",
       "    </tr>\n",
       "    <tr>\n",
       "      <th>std</th>\n",
       "      <td>0.055973</td>\n",
       "      <td>0.050470</td>\n",
       "      <td>5.756144</td>\n",
       "      <td>331.158937</td>\n",
       "      <td>66.222794</td>\n",
       "      <td>4.356887</td>\n",
       "      <td>52.035180</td>\n",
       "      <td>1.659188</td>\n",
       "      <td>1.255746</td>\n",
       "      <td>34.808447</td>\n",
       "      <td>134.421373</td>\n",
       "    </tr>\n",
       "    <tr>\n",
       "      <th>min</th>\n",
       "      <td>40.499790</td>\n",
       "      <td>-74.249840</td>\n",
       "      <td>2003.000000</td>\n",
       "      <td>50.000000</td>\n",
       "      <td>10.000000</td>\n",
       "      <td>0.000000</td>\n",
       "      <td>0.000000</td>\n",
       "      <td>0.010000</td>\n",
       "      <td>1.000000</td>\n",
       "      <td>1.000000</td>\n",
       "      <td>-10.000000</td>\n",
       "    </tr>\n",
       "    <tr>\n",
       "      <th>25%</th>\n",
       "      <td>40.688540</td>\n",
       "      <td>-73.982790</td>\n",
       "      <td>2008.000000</td>\n",
       "      <td>339.000000</td>\n",
       "      <td>68.000000</td>\n",
       "      <td>2.000000</td>\n",
       "      <td>1.000000</td>\n",
       "      <td>0.300000</td>\n",
       "      <td>2.000000</td>\n",
       "      <td>1.000000</td>\n",
       "      <td>18.000000</td>\n",
       "    </tr>\n",
       "    <tr>\n",
       "      <th>50%</th>\n",
       "      <td>40.722650</td>\n",
       "      <td>-73.954390</td>\n",
       "      <td>2012.000000</td>\n",
       "      <td>624.736070</td>\n",
       "      <td>124.894026</td>\n",
       "      <td>3.000000</td>\n",
       "      <td>7.000000</td>\n",
       "      <td>0.790000</td>\n",
       "      <td>3.000000</td>\n",
       "      <td>1.000000</td>\n",
       "      <td>127.000000</td>\n",
       "    </tr>\n",
       "    <tr>\n",
       "      <th>75%</th>\n",
       "      <td>40.762730</td>\n",
       "      <td>-73.931380</td>\n",
       "      <td>2017.000000</td>\n",
       "      <td>911.000000</td>\n",
       "      <td>182.000000</td>\n",
       "      <td>6.000000</td>\n",
       "      <td>30.000000</td>\n",
       "      <td>1.730000</td>\n",
       "      <td>4.000000</td>\n",
       "      <td>3.000000</td>\n",
       "      <td>281.000000</td>\n",
       "    </tr>\n",
       "    <tr>\n",
       "      <th>max</th>\n",
       "      <td>40.916970</td>\n",
       "      <td>-73.705220</td>\n",
       "      <td>2022.000000</td>\n",
       "      <td>1200.000000</td>\n",
       "      <td>240.000000</td>\n",
       "      <td>13.000000</td>\n",
       "      <td>1024.000000</td>\n",
       "      <td>90.000000</td>\n",
       "      <td>5.000000</td>\n",
       "      <td>332.000000</td>\n",
       "      <td>426.000000</td>\n",
       "    </tr>\n",
       "  </tbody>\n",
       "</table>\n",
       "</div>"
      ],
      "text/plain": [
       "                lat          long  construction_year         price  \\\n",
       "count  69305.000000  69305.000000       69305.000000  69305.000000   \n",
       "mean      40.728070    -73.949036        2012.489503    624.736070   \n",
       "std        0.055973      0.050470           5.756144    331.158937   \n",
       "min       40.499790    -74.249840        2003.000000     50.000000   \n",
       "25%       40.688540    -73.982790        2008.000000    339.000000   \n",
       "50%       40.722650    -73.954390        2012.000000    624.736070   \n",
       "75%       40.762730    -73.931380        2017.000000    911.000000   \n",
       "max       40.916970    -73.705220        2022.000000   1200.000000   \n",
       "\n",
       "        service_fee  minimum_nights  number_of_reviews  reviews_per_month  \\\n",
       "count  69305.000000    69305.000000       69305.000000       69305.000000   \n",
       "mean     124.894026        4.620330          28.003896           1.301503   \n",
       "std       66.222794        4.356887          52.035180           1.659188   \n",
       "min       10.000000        0.000000           0.000000           0.010000   \n",
       "25%       68.000000        2.000000           1.000000           0.300000   \n",
       "50%      124.894026        3.000000           7.000000           0.790000   \n",
       "75%      182.000000        6.000000          30.000000           1.730000   \n",
       "max      240.000000       13.000000        1024.000000          90.000000   \n",
       "\n",
       "       review_rate_number  calculated_host_listings_count  availability_365  \n",
       "count        69305.000000                    69305.000000      69305.000000  \n",
       "mean             3.321636                        8.976755        153.184287  \n",
       "std              1.255746                       34.808447        134.421373  \n",
       "min              1.000000                        1.000000        -10.000000  \n",
       "25%              2.000000                        1.000000         18.000000  \n",
       "50%              3.000000                        1.000000        127.000000  \n",
       "75%              4.000000                        3.000000        281.000000  \n",
       "max              5.000000                      332.000000        426.000000  "
      ]
     },
     "execution_count": 52,
     "metadata": {},
     "output_type": "execute_result"
    }
   ],
   "source": [
    "df.describe()"
   ]
  },
  {
   "cell_type": "code",
   "execution_count": null,
   "metadata": {},
   "outputs": [],
   "source": [
    "plt.figure(figsize=(16, 8))\n",
    "plt.subplot(1, 2, 1)\n",
    "sns.histplot(df, x='price', kde=True)\n",
    "plt.subplot(1, 2, 2)\n",
    "sns.boxplot(df, hue='room_type', y='price')\n",
    "#sns.countplot(df, x='room_type')"
   ]
  },
  {
   "cell_type": "code",
   "execution_count": null,
   "metadata": {},
   "outputs": [],
   "source": [
    "sns.heatmap(df.corr(numeric_only=True).round(2), annot=True, cmap='spring')"
   ]
  },
  {
   "cell_type": "code",
   "execution_count": null,
   "metadata": {},
   "outputs": [],
   "source": [
    "#sns.pairplot(df)"
   ]
  },
  {
   "cell_type": "code",
   "execution_count": null,
   "metadata": {},
   "outputs": [],
   "source": [
    "Q1 = df['price'].quantile(0.25)\n",
    "Q3 = df['price'].quantile(0.75)\n",
    "IQR = Q3 - Q1\n",
    "lower_bound= Q1 - 1.5*IQR\n",
    "upper_bound= Q3 + 1.5*IQR\n",
    "\n",
    "filtro = filtro = ~((df['price'] < lower_bound) | (df['price'] > upper_bound))\n",
    "print(df.shape)\n",
    "print(df[filtro].shape)\n"
   ]
  },
  {
   "cell_type": "code",
   "execution_count": null,
   "metadata": {},
   "outputs": [],
   "source": [
    "# # Crear los encoder\n",
    "# label_encoder = LabelEncoder()\n",
    "\n",
    "# # Mapear la columna 'room_type' y 'neighbourhood_group' a valores numéricos\n",
    "# df['room_type_encoded'] = label_encoder.fit_transform(df['room_type'])\n",
    "# df['neighbourhood_group_encoded'] = label_encoder.fit_transform(df['eighbourhood_group'])\n",
    "\n",
    "# # Borrar la columna 'room_type' y 'neighbourhood_group' \n",
    "# print(df[['room_type', 'room_type_encoded']].head())"
   ]
  },
  {
   "cell_type": "code",
   "execution_count": null,
   "metadata": {},
   "outputs": [],
   "source": [
    "X= df.drop('price', axis=1)\n",
    "y= df['price']\n",
    "\n",
    "X_train, X_test, y_train, y_test = train_test_split(X, y, test_size=0.20, random_state=42)"
   ]
  },
  {
   "cell_type": "code",
   "execution_count": null,
   "metadata": {},
   "outputs": [],
   "source": [
    "print(X_train.select_dtypes(exclude=[np.number]).columns.to_list())"
   ]
  },
  {
   "cell_type": "code",
   "execution_count": null,
   "metadata": {},
   "outputs": [],
   "source": [
    "# pipeline numéricas\n",
    "numerical_cols = X_train.select_dtypes(include=[np.number]).columns.to_list()\n",
    "categorical_cols = X_train.select_dtypes(exclude=[np.number]).columns.to_list()\n",
    "pipeline_numerical = Pipeline([\n",
    "    ('imputer', SimpleImputer(strategy='constant', fill_value=0)),\n",
    "    ('scaler', MinMaxScaler()), \n",
    "])\n",
    "\n",
    "# pipeline categóricas\n",
    "\n",
    "pipeline_categorical = Pipeline([\n",
    "    ('imputer', SimpleImputer(strategy='constant', fill_value='Otro')),\n",
    "    ('encoder', OneHotEncoder(sparse_output=False, handle_unknown='ignore'))\n",
    "])\n",
    "\n",
    "# unir pipelines con ColumnTransformer\n",
    "pipeline_all = ColumnTransformer([\n",
    "    ('numeric', pipeline_numerical, numerical_cols),\n",
    "    ('categorical', pipeline_categorical, categorical_cols)\n",
    "])\n",
    "\n",
    "# pipeline final con el modelo\n",
    "pipeline = make_pipeline(\n",
    "    pipeline_all,\n",
    "    LinearRegression()\n",
    ")"
   ]
  },
  {
   "cell_type": "code",
   "execution_count": null,
   "metadata": {},
   "outputs": [],
   "source": [
    "pipeline.fit(X_train, y_train)\n",
    "y_pred = pipeline.predict(X_test)"
   ]
  },
  {
   "cell_type": "code",
   "execution_count": null,
   "metadata": {},
   "outputs": [],
   "source": [
    "df_resultados = pd.DataFrame(columns=['Modelo', 'Preprocesado', 'R2', 'MAE', 'RMSE', 'MAPE'])"
   ]
  },
  {
   "cell_type": "code",
   "execution_count": null,
   "metadata": {},
   "outputs": [],
   "source": [
    "def calculate_metrics(X_train, X_test, y_train, y_test):\n",
    "    models = {\n",
    "        'LinearRegression': LinearRegression(),\n",
    "        'KNN': KNeighborsRegressor(),\n",
    "        'SVR': SVR(),\n",
    "        'DecisionTree': DecisionTreeRegressor(random_state=42),\n",
    "        'RandomForest': RandomForestRegressor(random_state=42)\n",
    "    }\n",
    "    for model_name, model in models.items():\n",
    "        model.fit(X_train, y_train)\n",
    "        y_pred = model.predict(X_test)\n",
    "        df_resultados.loc[len(df_resultados)] = [model_name, r2_score(y_test, y_pred), mean_absolute_error(y_test, y_pred),root_mean_squared_error(y_test, y_pred),mean_absolute_percentage_error(y_test, y_pred)]\n",
    "    \n",
    "    return df_resultados.sort_values('R2', ascending=False)"
   ]
  },
  {
   "cell_type": "code",
   "execution_count": null,
   "metadata": {},
   "outputs": [],
   "source": [
    "pipeline_all"
   ]
  },
  {
   "cell_type": "code",
   "execution_count": null,
   "metadata": {},
   "outputs": [],
   "source": [
    "calculate_metrics(X_train[numerical_cols], X_test, y_train, y_test)"
   ]
  },
  {
   "cell_type": "code",
   "execution_count": null,
   "metadata": {},
   "outputs": [],
   "source": []
  },
  {
   "cell_type": "code",
   "execution_count": null,
   "metadata": {},
   "outputs": [],
   "source": []
  },
  {
   "cell_type": "code",
   "execution_count": null,
   "metadata": {},
   "outputs": [],
   "source": []
  },
  {
   "cell_type": "code",
   "execution_count": null,
   "metadata": {},
   "outputs": [],
   "source": []
  }
 ],
 "metadata": {
  "kernelspec": {
   "display_name": "Python 3",
   "language": "python",
   "name": "python3"
  },
  "language_info": {
   "codemirror_mode": {
    "name": "ipython",
    "version": 3
   },
   "file_extension": ".py",
   "mimetype": "text/x-python",
   "name": "python",
   "nbconvert_exporter": "python",
   "pygments_lexer": "ipython3",
   "version": "3.12.2"
  }
 },
 "nbformat": 4,
 "nbformat_minor": 2
}
