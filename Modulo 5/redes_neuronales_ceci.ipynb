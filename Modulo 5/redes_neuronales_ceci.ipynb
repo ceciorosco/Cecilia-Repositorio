{
 "cells": [
  {
   "cell_type": "markdown",
   "metadata": {},
   "source": [
    "# Deep Learning en Scikit Learn"
   ]
  },
  {
   "cell_type": "code",
   "execution_count": 9,
   "metadata": {},
   "outputs": [],
   "source": [
    "import tensorflow as tf\n",
    "from sklearn.linear_model import Perceptron\n",
    "from sklearn.model_selection import train_test_split\n",
    "from sklearn.datasets import load_iris\n",
    "from sklearn.neural_network import MLPClassifier"
   ]
  },
  {
   "cell_type": "code",
   "execution_count": null,
   "metadata": {},
   "outputs": [],
   "source": [
    "X, y = load_iris(return_X_y=True)\n",
    "\n",
    "X, y = X[y < 2], y[y < 2] # para que sea clasificacion multiclase filtramos solo clases 0 y 1\n",
    "\n",
    "X_train, X_test, y_train, y_test = train_test_split(X, y, test_size=0.33, random_state=42)"
   ]
  },
  {
   "cell_type": "code",
   "execution_count": null,
   "metadata": {},
   "outputs": [
    {
     "name": "stdout",
     "output_type": "stream",
     "text": [
      "accuracy en train 1.0\n",
      "accuracy en test 1.0\n"
     ]
    }
   ],
   "source": [
    "model = Perceptron(max_iter = 50, random_state=42)# por defecto 1000 epochs(max_iter)\n",
    "model.fit(X_train, y_train)\n",
    "\n",
    "print('accuracy en train', model.score(X_train, y_train))\n",
    "print('accuracy en test', model.score(X_test, y_test))"
   ]
  },
  {
   "cell_type": "markdown",
   "metadata": {},
   "source": [
    "## Red neuronal clasificacion: MLPClassifier"
   ]
  },
  {
   "cell_type": "code",
   "execution_count": 12,
   "metadata": {},
   "outputs": [
    {
     "name": "stdout",
     "output_type": "stream",
     "text": [
      "accuracy en train 0.9732142857142857\n",
      "accuracy en test 1.0\n"
     ]
    }
   ],
   "source": [
    "#clasificacion binaria\n",
    "X, y = load_iris(return_X_y=True)\n",
    "\n",
    "\n",
    "X_train, X_test, y_train, y_test = train_test_split(X, y, random_state=42)\n",
    "\n",
    "model = MLPClassifier(hidden_layer_sizes=(50), max_iter=1000, random_state=42) \n",
    "model.fit(X_train, y_train)\n",
    "\n",
    "print('accuracy en train', model.score(X_train, y_train))\n",
    "print('accuracy en test', model.score(X_test, y_test))"
   ]
  }
 ],
 "metadata": {
  "kernelspec": {
   "display_name": "Python 3",
   "language": "python",
   "name": "python3"
  },
  "language_info": {
   "codemirror_mode": {
    "name": "ipython",
    "version": 3
   },
   "file_extension": ".py",
   "mimetype": "text/x-python",
   "name": "python",
   "nbconvert_exporter": "python",
   "pygments_lexer": "ipython3",
   "version": "3.12.2"
  }
 },
 "nbformat": 4,
 "nbformat_minor": 2
}
