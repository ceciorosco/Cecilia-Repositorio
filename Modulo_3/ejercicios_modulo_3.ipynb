{
 "cells": [
  {
   "cell_type": "markdown",
   "metadata": {},
   "source": [
    "# Ejercicios de clase Modulo 3\n"
   ]
  },
  {
   "cell_type": "markdown",
   "metadata": {},
   "source": [
    "# Numpy avanzado"
   ]
  },
  {
   "cell_type": "code",
   "execution_count": 1,
   "metadata": {},
   "outputs": [],
   "source": [
    "import numpy as np\n",
    "import pandas as pd\n",
    "import seaborn as sns"
   ]
  },
  {
   "cell_type": "code",
   "execution_count": null,
   "metadata": {},
   "outputs": [],
   "source": [
    "lista = []\n",
    "for i in range(2, 40, 2):\n",
    "        lista.append(i)\n",
    "        \n",
    "np.array(lista).shape"
   ]
  },
  {
   "cell_type": "code",
   "execution_count": 3,
   "metadata": {},
   "outputs": [],
   "source": [
    "array_pares = np.array([i for i in range(2, 22, 2)])"
   ]
  },
  {
   "cell_type": "code",
   "execution_count": null,
   "metadata": {},
   "outputs": [],
   "source": [
    "array_pares.ndim # una dimension"
   ]
  },
  {
   "cell_type": "code",
   "execution_count": null,
   "metadata": {},
   "outputs": [],
   "source": [
    "array_pares.size # tamaño, numero de elementos totales\n"
   ]
  },
  {
   "cell_type": "code",
   "execution_count": null,
   "metadata": {},
   "outputs": [],
   "source": [
    "array_pares.shape # nro de elementos en cada dimension"
   ]
  },
  {
   "cell_type": "code",
   "execution_count": null,
   "metadata": {},
   "outputs": [],
   "source": [
    "array_pares.dtype # tipo de datos"
   ]
  },
  {
   "cell_type": "code",
   "execution_count": null,
   "metadata": {},
   "outputs": [],
   "source": [
    "# crea una lista de 5 pares y otra de 5 impares y utilizar un metodo de np para pasarlo a una matriz de 2x5\n",
    "# concatenate y reshape\n",
    "array_pares = np.array([i for i in range(2, 12, 2)])\n",
    "array_impares = np.array([i for i in range(1, 11, 2)])\n",
    "todos = np.concatenate((array_pares, array_impares))\n",
    "nuevo5x2 = todos.reshape(5, 2)\n",
    "nuevo5x2"
   ]
  },
  {
   "cell_type": "code",
   "execution_count": null,
   "metadata": {},
   "outputs": [],
   "source": [
    "\"\"\"! pip install plotly\n",
    "! pip install pillow\n",
    "! pip install folium\n",
    "! pip install openpyxl\n",
    "! pip install requests\n",
    "\"\"\"\n"
   ]
  },
  {
   "cell_type": "code",
   "execution_count": null,
   "metadata": {},
   "outputs": [],
   "source": [
    "lista = ([2, 4, 6, 8], [10, 12, 14, 16], [18, 20, 22, 24], [26, 28, 30, 32], [34, 36, 38, 40])\n",
    "np.array(lista)\n"
   ]
  },
  {
   "cell_type": "code",
   "execution_count": null,
   "metadata": {},
   "outputs": [],
   "source": [
    "np.argmin(lista)\n"
   ]
  },
  {
   "cell_type": "code",
   "execution_count": null,
   "metadata": {},
   "outputs": [],
   "source": [
    "np.argmax(lista)"
   ]
  },
  {
   "cell_type": "code",
   "execution_count": null,
   "metadata": {},
   "outputs": [],
   "source": [
    "np.reshape(lista, newshape = (4, 5))"
   ]
  },
  {
   "cell_type": "code",
   "execution_count": null,
   "metadata": {},
   "outputs": [],
   "source": [
    "nuevo5x2.dtype\n"
   ]
  },
  {
   "cell_type": "code",
   "execution_count": null,
   "metadata": {},
   "outputs": [],
   "source": [
    "np.hstack((nuevo5x2, nuevo5x2)) #en horizontal"
   ]
  },
  {
   "cell_type": "code",
   "execution_count": null,
   "metadata": {},
   "outputs": [],
   "source": [
    "# aplana de dos dimensiones a una dimension\n",
    "nuevo5x2.flatten()"
   ]
  },
  {
   "cell_type": "code",
   "execution_count": null,
   "metadata": {},
   "outputs": [],
   "source": [
    "np.vstack((nuevo5x2, nuevo5x2)) # en vertical"
   ]
  },
  {
   "cell_type": "markdown",
   "metadata": {},
   "source": [
    "np.column_stack((array_pares, array_impares))"
   ]
  },
  {
   "cell_type": "code",
   "execution_count": null,
   "metadata": {},
   "outputs": [],
   "source": [
    "nuevo5x2.T"
   ]
  },
  {
   "cell_type": "code",
   "execution_count": null,
   "metadata": {},
   "outputs": [],
   "source": [
    "print(array_pares)\n",
    "indices = np.where(array_pares > 5) #devuelve los indices de los elementos que cumplen con las condiciones\n",
    "array_pares[indices]"
   ]
  },
  {
   "cell_type": "markdown",
   "metadata": {},
   "source": [
    "# Introduccion Pandas"
   ]
  },
  {
   "cell_type": "code",
   "execution_count": 20,
   "metadata": {},
   "outputs": [],
   "source": [
    "# import pandas as pd"
   ]
  },
  {
   "cell_type": "code",
   "execution_count": null,
   "metadata": {},
   "outputs": [],
   "source": [
    "print(f\"pandas=={pd.__version__}\")"
   ]
  },
  {
   "cell_type": "markdown",
   "metadata": {},
   "source": [
    "* Cargar un dataframe desde una lista"
   ]
  },
  {
   "cell_type": "code",
   "execution_count": 22,
   "metadata": {},
   "outputs": [],
   "source": [
    "#Crear Data Frame de 0\n",
    "df = pd.DataFrame()\n"
   ]
  },
  {
   "cell_type": "code",
   "execution_count": null,
   "metadata": {},
   "outputs": [],
   "source": [
    "lista = list(range(100, 105))\n",
    "df[\"nueva columna1\"] = lista\n",
    "df[\"nueva_columna2\"] = lista\n",
    "# df[\"total_price\"] = df[unit_price\"] * df[quantity]]\n",
    "df"
   ]
  },
  {
   "cell_type": "markdown",
   "metadata": {},
   "source": [
    "* Cargar una matriz en un dataframe"
   ]
  },
  {
   "cell_type": "code",
   "execution_count": 24,
   "metadata": {},
   "outputs": [],
   "source": [
    "matriz =[[1, 2, 3],\n",
    "         [4, 5, 6],\n",
    "         [7, 8, 9]]"
   ]
  },
  {
   "cell_type": "code",
   "execution_count": null,
   "metadata": {},
   "outputs": [],
   "source": [
    "pd.DataFrame(matriz, columns = [\"col_1\", \"col_2\", \"col_3\"])"
   ]
  },
  {
   "cell_type": "code",
   "execution_count": 26,
   "metadata": {},
   "outputs": [],
   "source": [
    "#diccionario = {num : 1 for num, 1}"
   ]
  },
  {
   "cell_type": "markdown",
   "metadata": {},
   "source": [
    "* Cargar un CSV con pandas"
   ]
  },
  {
   "cell_type": "code",
   "execution_count": 27,
   "metadata": {},
   "outputs": [],
   "source": [
    "iris = pd.read_csv(filepath_or_buffer=\"iris.csv\")"
   ]
  },
  {
   "cell_type": "markdown",
   "metadata": {},
   "source": [
    "* Cargar un xls en pandas"
   ]
  },
  {
   "cell_type": "code",
   "execution_count": null,
   "metadata": {},
   "outputs": [],
   "source": [
    "pd.read_excel(io=\"iris.xlsx\") #se necesita tener installado el openpyxl (pip install openpyxl)"
   ]
  },
  {
   "cell_type": "code",
   "execution_count": null,
   "metadata": {},
   "outputs": [],
   "source": [
    "iris.head() #muestra las 5 primeras filas\n"
   ]
  },
  {
   "cell_type": "code",
   "execution_count": null,
   "metadata": {},
   "outputs": [],
   "source": [
    "iris.tail() # muestra las 5 ultimas filas"
   ]
  },
  {
   "cell_type": "code",
   "execution_count": null,
   "metadata": {},
   "outputs": [],
   "source": [
    "iris.tail(10) # muestra las 10 ultimas"
   ]
  },
  {
   "cell_type": "code",
   "execution_count": null,
   "metadata": {},
   "outputs": [],
   "source": [
    "iris.info()"
   ]
  },
  {
   "cell_type": "code",
   "execution_count": null,
   "metadata": {},
   "outputs": [],
   "source": [
    "iris.columns"
   ]
  },
  {
   "cell_type": "code",
   "execution_count": null,
   "metadata": {},
   "outputs": [],
   "source": [
    "type(iris[\"Largo Sepalo\"].values)"
   ]
  },
  {
   "cell_type": "code",
   "execution_count": null,
   "metadata": {},
   "outputs": [],
   "source": [
    "iris[\"Largo Petalo\"]"
   ]
  },
  {
   "cell_type": "code",
   "execution_count": 36,
   "metadata": {},
   "outputs": [],
   "source": [
    "iris[[\"Ancho Petalo\", \"Ancho Sepalo\"]]\n",
    "df_iris = iris[[\"Ancho Petalo\", \"Ancho Sepalo\"]].copy() #crea una copia con la que se puede jugar sin afectar al original"
   ]
  },
  {
   "cell_type": "code",
   "execution_count": null,
   "metadata": {},
   "outputs": [],
   "source": [
    "iris[\"Clase\"]"
   ]
  },
  {
   "cell_type": "code",
   "execution_count": null,
   "metadata": {},
   "outputs": [],
   "source": [
    "iris[\"Largo Sepalo\"][2] # iris[columna][indice fila]\n",
    "iris[\"Largo Sepalo\"].iat[2] # este es lo mismo que el anterior"
   ]
  },
  {
   "cell_type": "code",
   "execution_count": null,
   "metadata": {},
   "outputs": [],
   "source": [
    "iris.iloc[0]"
   ]
  },
  {
   "cell_type": "code",
   "execution_count": null,
   "metadata": {},
   "outputs": [],
   "source": [
    "iris.iloc[0, 1]"
   ]
  },
  {
   "cell_type": "code",
   "execution_count": null,
   "metadata": {},
   "outputs": [],
   "source": [
    "iris[[\"Largo Sepalo\", \"Ancho Sepalo\"]].cumsum()"
   ]
  },
  {
   "cell_type": "code",
   "execution_count": null,
   "metadata": {},
   "outputs": [],
   "source": [
    "iris.iloc[:, -1] # pilla la ultima columna"
   ]
  },
  {
   "cell_type": "code",
   "execution_count": null,
   "metadata": {},
   "outputs": [],
   "source": [
    "iris.iloc[:, -1].mode() # saca la moda, en este caso dice que son las tres pues de todas hay 50 ocurrencias\n"
   ]
  },
  {
   "cell_type": "code",
   "execution_count": null,
   "metadata": {},
   "outputs": [],
   "source": [
    "iris.count()"
   ]
  },
  {
   "cell_type": "code",
   "execution_count": null,
   "metadata": {},
   "outputs": [],
   "source": [
    "iris.describe() #hace todos los calculos de cada columna"
   ]
  },
  {
   "cell_type": "code",
   "execution_count": null,
   "metadata": {},
   "outputs": [],
   "source": [
    "iris.describe(include='all') # incluye tambien las de tipo texto"
   ]
  },
  {
   "cell_type": "code",
   "execution_count": null,
   "metadata": {},
   "outputs": [],
   "source": [
    "# en caso de tener muchas columnas, se puede invertir la matriz de estadisticas\n",
    "iris.describe(include='all').T"
   ]
  },
  {
   "cell_type": "code",
   "execution_count": null,
   "metadata": {},
   "outputs": [],
   "source": [
    "iris.sort_values(\"Largo Sepalo\")"
   ]
  },
  {
   "cell_type": "code",
   "execution_count": null,
   "metadata": {},
   "outputs": [],
   "source": [
    "iris.sort_values([\"Largo Sepalo\", \"Largo Petalo\"]) # no olvidar los corchetes cuando hay mas de un valor\n"
   ]
  },
  {
   "cell_type": "code",
   "execution_count": null,
   "metadata": {},
   "outputs": [],
   "source": [
    "top_10_iris_largo_sepalo = iris.sort_values(\"Largo Sepalo\", ascending=False)[:10]\n",
    "top_10_iris_largo_sepalo"
   ]
  },
  {
   "cell_type": "code",
   "execution_count": null,
   "metadata": {},
   "outputs": [],
   "source": [
    "# Ordenar por sepalo descendente y dentro por petalo ascendente y muestra los 20 primeros\n",
    "iris.sort_values([\"Largo Sepalo\", \"Largo Petalo\"], ascending=[False, True]).head(20)"
   ]
  },
  {
   "cell_type": "code",
   "execution_count": null,
   "metadata": {},
   "outputs": [],
   "source": [
    "iris[\"Clase\"].nunique() #numero de datos unicos en una columna"
   ]
  },
  {
   "cell_type": "code",
   "execution_count": null,
   "metadata": {},
   "outputs": [],
   "source": [
    "iris[\"Clase\"].value_counts() #numero de valores unicos en una columna, se utiliza para saber si hay desbalanceo de clases"
   ]
  },
  {
   "cell_type": "code",
   "execution_count": null,
   "metadata": {},
   "outputs": [],
   "source": [
    "iris[\"Clase\"].value_counts(normalize= True) #muestra el porcentaje  que representa cada valor"
   ]
  },
  {
   "cell_type": "code",
   "execution_count": null,
   "metadata": {},
   "outputs": [],
   "source": [
    "iris.drop[2] #borra la fila 2\n",
    "iris.drop[2, axis = 1] # borra columna 2 , las columnas empiezan en 0"
   ]
  },
  {
   "cell_type": "markdown",
   "metadata": {},
   "source": [
    "# 26-12-2024\n",
    "* Pandas avanzados ejercicios pandas_2\n"
   ]
  },
  {
   "cell_type": "code",
   "execution_count": 3,
   "metadata": {},
   "outputs": [],
   "source": [
    "df1 = pd.read_csv(\"titanic_1.csv\")\n",
    "df2 = pd.read_csv(\"titanic_2.csv\")\n",
    "df3 = pd.read_csv(\"titanic.csv\")"
   ]
  },
  {
   "cell_type": "code",
   "execution_count": null,
   "metadata": {},
   "outputs": [],
   "source": [
    "df1.head()"
   ]
  },
  {
   "cell_type": "code",
   "execution_count": null,
   "metadata": {},
   "outputs": [],
   "source": [
    "df2.head()\n"
   ]
  },
  {
   "cell_type": "code",
   "execution_count": null,
   "metadata": {},
   "outputs": [],
   "source": [
    "df1[\"Age\"] > 18 #serie"
   ]
  },
  {
   "cell_type": "code",
   "execution_count": null,
   "metadata": {},
   "outputs": [],
   "source": [
    "df1.info() #hay presencia de nulos en Age\n"
   ]
  },
  {
   "cell_type": "code",
   "execution_count": null,
   "metadata": {},
   "outputs": [],
   "source": [
    "df3.head()\n"
   ]
  },
  {
   "cell_type": "code",
   "execution_count": null,
   "metadata": {},
   "outputs": [],
   "source": [
    "#Ejercicio 1\n",
    "df3.info()"
   ]
  },
  {
   "cell_type": "code",
   "execution_count": null,
   "metadata": {},
   "outputs": [],
   "source": [
    "#Ejercicio 2\n",
    "#Transformar solo una columna\n",
    "df3[\"Sex\"] = df3[\"Sex\"].astype(\"category\")\n",
    "df3[\"Sex\"]"
   ]
  },
  {
   "cell_type": "code",
   "execution_count": null,
   "metadata": {},
   "outputs": [],
   "source": [
    "#transformar varias columnas a la vez\n",
    "df3[[\"Sex\", \"Name\", \"Ticket\"]] = df3[[\"Sex\", \"Name\", \"Ticket\"]].astype(\"category\")\n",
    "df3.info()\n"
   ]
  },
  {
   "cell_type": "code",
   "execution_count": null,
   "metadata": {},
   "outputs": [],
   "source": [
    "#Ejercicio 3\n",
    "#filtro\n",
    "df3[\"Sex\"] == \"male\""
   ]
  },
  {
   "cell_type": "code",
   "execution_count": null,
   "metadata": {},
   "outputs": [],
   "source": [
    "# obtener datos filtrados\n",
    "df3_male = df3[df3[\"Sex\"] == \"male\"]\n",
    "df3_male"
   ]
  },
  {
   "cell_type": "code",
   "execution_count": null,
   "metadata": {},
   "outputs": [],
   "source": [
    "#Ejercicio 4\n",
    "df3[(df3[\"Pclass\"] == 1) | (df3[\"Pclass\"] ==2)]"
   ]
  },
  {
   "cell_type": "code",
   "execution_count": null,
   "metadata": {},
   "outputs": [],
   "source": [
    "df3_clas = df2[df3[\"Pclass\"].isin([1, 2])]\n",
    "df3_clas"
   ]
  },
  {
   "cell_type": "code",
   "execution_count": null,
   "metadata": {},
   "outputs": [],
   "source": [
    "#Ejercicio 5\n",
    "#df3_clas = df3(df3[\"Pclass\"].isin([1, 3])) & (df3[\"Age\"] < 30)"
   ]
  },
  {
   "cell_type": "code",
   "execution_count": null,
   "metadata": {},
   "outputs": [],
   "source": [
    "df3[ (df3[\"Pclass\"].isin([1, 3])) & (df3[\"Age\"] < 30) ]"
   ]
  },
  {
   "cell_type": "code",
   "execution_count": null,
   "metadata": {},
   "outputs": [],
   "source": [
    "clase_1_3 = df3[\"Pclass\"].isin([1, 3])\n",
    "menor_30 = df3[\"Age\"] < 30\n",
    "df3[clase_1_3 & menor_30]"
   ]
  },
  {
   "cell_type": "code",
   "execution_count": null,
   "metadata": {},
   "outputs": [],
   "source": [
    "#Ejercicio 6\n",
    "df3[(df3[\"Age\"].between(20, 30))]"
   ]
  },
  {
   "cell_type": "code",
   "execution_count": null,
   "metadata": {},
   "outputs": [],
   "source": [
    "df3[(df3[\"Age\"].between(20, 30))].describe() #igual al anterior pero agrega estadisticas"
   ]
  },
  {
   "cell_type": "code",
   "execution_count": null,
   "metadata": {},
   "outputs": [],
   "source": [
    "#Ejericio 7\n",
    "df3[~df3[\"Age\"].between(25, 50)]"
   ]
  },
  {
   "cell_type": "code",
   "execution_count": 113,
   "metadata": {},
   "outputs": [],
   "source": [
    "#Ejercicio 8\n",
    "#Transformar datos"
   ]
  },
  {
   "cell_type": "code",
   "execution_count": null,
   "metadata": {},
   "outputs": [],
   "source": [
    "#crear un diccionario con clave male con valor M y clave female con valor F\n",
    "genre_dict = {\"male\": \"M\", \"female\": \"F\"}\n",
    "# pasar el dicionario como parametro de la funcion .map sobre la columna genero\n",
    "df3[\"Sex\"].map(genre_dict)"
   ]
  },
  {
   "cell_type": "code",
   "execution_count": null,
   "metadata": {},
   "outputs": [],
   "source": [
    "df3[\"Sex\"].unique() #se conservan los originales porque no se ha guardado"
   ]
  },
  {
   "cell_type": "code",
   "execution_count": 116,
   "metadata": {},
   "outputs": [],
   "source": [
    "#Ejercicio 9\n",
    "#funcion apply: recibe una funcion def o una funcion lambda\n",
    "#usamos def cuando el codigo involucra varias sentencias"
   ]
  },
  {
   "cell_type": "code",
   "execution_count": null,
   "metadata": {},
   "outputs": [],
   "source": [
    "def convertir_a_mayusculas(text):\n",
    "    return text.upper()\n",
    "df3[\"Name\"].apply(convertir_a_mayusculas)"
   ]
  },
  {
   "cell_type": "code",
   "execution_count": null,
   "metadata": {},
   "outputs": [],
   "source": [
    "#usar una lambda cunado la transformacion requiere poco codigo\n",
    "# df3[\"Name\"].apply(lambda name: name.upper()) con variables mas significativas\n",
    "df3[\"Name\"].apply(lambda x: x.upper())"
   ]
  },
  {
   "cell_type": "code",
   "execution_count": null,
   "metadata": {},
   "outputs": [],
   "source": [
    "#apply se puede usar tanto en Series como en Dataframes, donde se puede aplicar con axis= 1 o axis=0 \n",
    "# para utilizarlo en filas o en columnas\n",
    "#apply es ideal para casos mas avanzados\n",
    "df3[\"Name\"].map(lambda x: x.upper()) # se puede utilizar el map tambien pasandole una lambda\n"
   ]
  },
  {
   "cell_type": "code",
   "execution_count": null,
   "metadata": {},
   "outputs": [],
   "source": [
    "#Paga si sobrevivio!!!\n",
    "df3.apply(lambda row: row[\"Fare\"] * row[\"Survived\"], axis=1)"
   ]
  },
  {
   "cell_type": "markdown",
   "metadata": {},
   "source": [
    "### Manipulacion de NaN's\n",
    "    * Encontrar Nans\n",
    "    * Eliminar o rellenarlos"
   ]
  },
  {
   "cell_type": "code",
   "execution_count": null,
   "metadata": {},
   "outputs": [],
   "source": [
    "#Encontrar NaN\n",
    "df3[\"Age\"].value_counts()"
   ]
  },
  {
   "cell_type": "code",
   "execution_count": null,
   "metadata": {},
   "outputs": [],
   "source": [
    "df3[\"Age\"].value_counts(dropna=False)"
   ]
  },
  {
   "cell_type": "code",
   "execution_count": null,
   "metadata": {},
   "outputs": [],
   "source": [
    "#el metodo .isna es igual que .isnull\n",
    "df3[df3[\"Age\"].isnull()]"
   ]
  },
  {
   "cell_type": "code",
   "execution_count": null,
   "metadata": {},
   "outputs": [],
   "source": [
    "nulos = df3[\"Age\"].isnull()\n",
    "df[~nulos] #filtrar por aquellos que si tengan edad"
   ]
  },
  {
   "cell_type": "code",
   "execution_count": null,
   "metadata": {},
   "outputs": [],
   "source": [
    "df3.isna().sum() #sumar los NaN de cada columna y mostra la suma de cada una"
   ]
  },
  {
   "cell_type": "code",
   "execution_count": null,
   "metadata": {},
   "outputs": [],
   "source": [
    "df3.isna().sum()*100/df3.shape[0] #saca el porcentaje que implican los null en el DataFrame"
   ]
  },
  {
   "cell_type": "markdown",
   "metadata": {},
   "source": [
    "### Estrategias para el tratamiento de valores nulos\n",
    "    * Filtrar aquellos que no sean null \n",
    "        df3[~df3[\"Age\"].isnull()]\n",
    "\n",
    "    * Eliminar filas con nulos: \n",
    "        df3.dropna() se carga todas las filas nulas, es muy agresivo\n",
    "\n",
    "    * Eliminar columnas con nulos:\n",
    "        * Para casos que haya muchos nulos > 80%\n",
    "        * df3.drop(\"clase\", axis = 1)\n",
    "\n",
    "    * Rellenar los valores nullos:\n",
    "        * Si es numerico habitualmente se rellena con la media o mediana.\n",
    "        * df3[\"Age\"].fillna(20) \n",
    "        * Si es texto o categórico: se rellena con la moda o con un valor fijo (Ej. Otros)\n",
    "        * Si es fecha: se puede rellenar con el valor justo anterior o el posterior\n",
    "        * Para imputacion mas sofisticada:\n",
    "            * aplicar una funcion con logica para decidir como rellenar ese valor en base a otras columnas\n",
    "            * utilizar imputers de scikit learn que hagan predicciones\n",
    "            * Utilizar aprendizaje no supervisado para etiquetar clusters   "
   ]
  },
  {
   "cell_type": "code",
   "execution_count": null,
   "metadata": {},
   "outputs": [],
   "source": [
    "#Rellenar los NaN's con mediana\n",
    "median = df3[\"Age\"].median\n",
    "print(median)\n",
    "df3[\"Age\"] =df3[\"Age\"].fillna(df3[\"Age\"].median)"
   ]
  },
  {
   "cell_type": "code",
   "execution_count": null,
   "metadata": {},
   "outputs": [],
   "source": [
    "#Verificar el rellenado\n",
    "df3.isnull().sum()"
   ]
  },
  {
   "cell_type": "markdown",
   "metadata": {},
   "source": [
    "### Agrupaciones"
   ]
  },
  {
   "cell_type": "code",
   "execution_count": 145,
   "metadata": {},
   "outputs": [],
   "source": [
    "df4 = pd.read_excel(\"Canada.xlsx\")"
   ]
  },
  {
   "cell_type": "code",
   "execution_count": null,
   "metadata": {},
   "outputs": [],
   "source": [
    "df4.head(3)\n"
   ]
  },
  {
   "cell_type": "code",
   "execution_count": null,
   "metadata": {},
   "outputs": [],
   "source": [
    "df4.groupby(by=\"Continente\") # agrupa por continente"
   ]
  },
  {
   "cell_type": "code",
   "execution_count": null,
   "metadata": {},
   "outputs": [],
   "source": [
    "df4.groupby(by=\"Continente\").sum() #calcula la suma por continente"
   ]
  },
  {
   "cell_type": "code",
   "execution_count": null,
   "metadata": {},
   "outputs": [],
   "source": [
    "df3.groupby(by = \"Sex\").count()"
   ]
  },
  {
   "cell_type": "code",
   "execution_count": null,
   "metadata": {},
   "outputs": [],
   "source": [
    "# si es category no pertmite ciertas operaciones de agregación numericas\n",
    "df3.groupby(by= \"Sex\")[\"Fare\"].sum()"
   ]
  },
  {
   "cell_type": "code",
   "execution_count": null,
   "metadata": {},
   "outputs": [],
   "source": [
    "df3[df3[\"Sex\"] == \"female\"][\"Fare\"].sum()"
   ]
  },
  {
   "cell_type": "code",
   "execution_count": null,
   "metadata": {},
   "outputs": [],
   "source": [
    "df3.groupby(by=\"Sex\")[\"Fare\"].agg(\"mean\")"
   ]
  },
  {
   "cell_type": "code",
   "execution_count": null,
   "metadata": {},
   "outputs": [],
   "source": [
    "# el .agg o aggregate permite hacer mas de un calculo sobre el grupo\n",
    "df3.groupby(by=\"Sex\")[\"Fare\"].agg([\"mean\", \"median\", \"std\", \"min\", \"max\"])"
   ]
  },
  {
   "cell_type": "code",
   "execution_count": null,
   "metadata": {},
   "outputs": [],
   "source": [
    "df3.groupby(by=\"Sex\").agg({\n",
    "    \"Fare\": [\"mean\", \"median\"], \n",
    "    \"Age\": [\"min\", \"max\", \"median\", \"mean\"]})"
   ]
  },
  {
   "cell_type": "code",
   "execution_count": null,
   "metadata": {},
   "outputs": [],
   "source": [
    "df3.groupby(by=[\"Sex\", \"Survived\"]).agg({\n",
    "    \"Fare\": [\"mean\", \"median\"], \n",
    "    \"Age\": [\"min\", \"max\", \"median\", \"mean\"]})"
   ]
  },
  {
   "cell_type": "code",
   "execution_count": null,
   "metadata": {},
   "outputs": [],
   "source": [
    "#as_index= False crea columnas en vez de indices \n",
    "df31 = df3.groupby(by=[\"Sex\", \"Survived\"], as_index= False).agg({\n",
    "    \"Fare\": [\"mean\", \"median\"], \n",
    "    \"Age\": [\"min\", \"max\", \"median\", \"mean\"]})\n",
    "df31"
   ]
  },
  {
   "cell_type": "code",
   "execution_count": null,
   "metadata": {},
   "outputs": [],
   "source": [
    "#drop_duplicate borra las filas si son identicas, es decir, duplicadas\n",
    "print(f\"shape original: {df3.shape}\")\n",
    "print(f\"shape sin duplicates: {df3.drop_duplicates().shape}\")"
   ]
  },
  {
   "cell_type": "markdown",
   "metadata": {},
   "source": [
    "### Merge (join)\n"
   ]
  },
  {
   "cell_type": "code",
   "execution_count": null,
   "metadata": {},
   "outputs": [],
   "source": [
    "#por defecto en inner: debe existir el PassengerId en los dos CSV sino ignora la fila, si se le pone\n",
    "# how=\"left\" ó how= \"right\" sí lo trae pero deja el resto de los datos de la fila en NaN\n",
    "df5 = pd.merge(left = df1, right= df2, left_on= \"PassengerId\", right_on=\"PassengerId\", how=\"inner\")\n",
    "df1.head(1)\n",
    "# df5 = pd.merge(df1, df2)"
   ]
  },
  {
   "cell_type": "code",
   "execution_count": null,
   "metadata": {},
   "outputs": [],
   "source": [
    "df2.head(1)\n"
   ]
  },
  {
   "cell_type": "code",
   "execution_count": null,
   "metadata": {},
   "outputs": [],
   "source": [
    "df5.head(1)"
   ]
  },
  {
   "cell_type": "code",
   "execution_count": null,
   "metadata": {},
   "outputs": [],
   "source": [
    "#estadisticas (.T para trasponer y ver mejor la tabla, sino es muy larga)\n",
    "df1.describe(include=\"all\").T"
   ]
  },
  {
   "cell_type": "markdown",
   "metadata": {},
   "source": [
    "03 pandas avanzado"
   ]
  },
  {
   "cell_type": "code",
   "execution_count": null,
   "metadata": {},
   "outputs": [],
   "source": [
    "#ejercicio 1\n",
    "df2.describe(include=\"all\").T"
   ]
  },
  {
   "cell_type": "code",
   "execution_count": null,
   "metadata": {},
   "outputs": [],
   "source": [
    "#ejercicio 2\n",
    "pd.merge(df1, df2)"
   ]
  },
  {
   "cell_type": "code",
   "execution_count": null,
   "metadata": {},
   "outputs": [],
   "source": [
    "#Ejercicio 3\n",
    "df1[[\"Name\", \"Age\"]].tail(5)"
   ]
  },
  {
   "cell_type": "code",
   "execution_count": null,
   "metadata": {},
   "outputs": [],
   "source": [
    "#Ejercicio 4\n",
    "df1[df1[\"Sex\"]== \"female\"].head()"
   ]
  },
  {
   "cell_type": "code",
   "execution_count": null,
   "metadata": {},
   "outputs": [],
   "source": [
    "df_1 = df1[(df1[\"Fare\"] < 33) & (df1[\"Pclass\"] == 2)] # no funciona ver origen profe"
   ]
  },
  {
   "cell_type": "code",
   "execution_count": null,
   "metadata": {},
   "outputs": [],
   "source": [
    "# Ejercicio 7 ver profe\n",
    "df1[\"Sex\"] == \"male\" "
   ]
  },
  {
   "cell_type": "code",
   "execution_count": null,
   "metadata": {},
   "outputs": [],
   "source": [
    "# Ejercicio 20 \n",
    "# #Discretizar una variable\n",
    "def rango_edad(edad):\n",
    "    if edad < 11:\n",
    "        return \"Niño\"\n",
    "    elif edad < 18:\n",
    "        return \"Joven\"\n",
    "    elif edad < 50:\n",
    "        return \"Adulto\"\n",
    "    else:\n",
    "        return \"Mayor\"\n",
    "\n",
    "\n",
    "df1[\"age_range\"] = df1[\"Age\"].apply(rango_edad)\n",
    "df1.head()"
   ]
  },
  {
   "cell_type": "code",
   "execution_count": null,
   "metadata": {},
   "outputs": [],
   "source": [
    "#Ejercicio 22 .Fillna()"
   ]
  },
  {
   "cell_type": "code",
   "execution_count": null,
   "metadata": {},
   "outputs": [],
   "source": [
    "#Ejercicio 24\n",
    "# primero pasarlo a diccionario\n",
    "df5.dtypes.to_dict()\n",
    "# bucle for\n",
    "for llave, valor in df5.dtypes.to_dict().items():\n",
    "    print(llave)\n",
    "    print(valor)\n",
    "    if valor == \"object\":\n",
    "        df5[llave] = df5[llave].apply(lambda x: x.upper())\n",
    "\n",
    "df5.head()        \n"
   ]
  },
  {
   "cell_type": "markdown",
   "metadata": {},
   "source": [
    "# 30/12/2024"
   ]
  },
  {
   "cell_type": "markdown",
   "metadata": {},
   "source": [
    "## Cargar multiples csv en un mismo dataframe de pandas, concatenados uno encima de otro"
   ]
  },
  {
   "cell_type": "code",
   "execution_count": 1,
   "metadata": {},
   "outputs": [],
   "source": [
    "import numpy as np\n",
    "import pandas as pd\n",
    "import os"
   ]
  },
  {
   "cell_type": "code",
   "execution_count": 2,
   "metadata": {},
   "outputs": [],
   "source": [
    "# listar los archivos csv del direcctorio spotify usando os\n",
    "file_names = os.listdir(\"spotify\")"
   ]
  },
  {
   "cell_type": "code",
   "execution_count": null,
   "metadata": {},
   "outputs": [],
   "source": [
    "# bucle for para cargar uno a uno en pandas, concat para unirlos a un dataframe global\n",
    "df = pd.DataFrame() #dataframe vacio donde ir concatenando cada dataframe\n",
    "for file_name in file_names:\n",
    "    df_file = pd.read_csv(\"spotify/\" + file_name)\n",
    "    df = pd.concat([df, df_file], ignore_index=True)\n",
    "print(f\"df final: {df.shape}\")\n"
   ]
  },
  {
   "cell_type": "code",
   "execution_count": null,
   "metadata": {},
   "outputs": [],
   "source": [
    "df.head(2)"
   ]
  },
  {
   "cell_type": "code",
   "execution_count": null,
   "metadata": {},
   "outputs": [],
   "source": [
    "#revisar concatenado\n",
    "df.iloc[70:80] # para ver una fila determinada o en este caso un rango para ver que este bien"
   ]
  },
  {
   "cell_type": "code",
   "execution_count": null,
   "metadata": {},
   "outputs": [],
   "source": [
    "df.describe()"
   ]
  },
  {
   "cell_type": "code",
   "execution_count": null,
   "metadata": {},
   "outputs": [],
   "source": [
    "df.info()"
   ]
  },
  {
   "cell_type": "code",
   "execution_count": null,
   "metadata": {},
   "outputs": [],
   "source": [
    "#renombrar la columna pop a popularity\n",
    "df = df.rename(columns={\"pop\": \"popularity\",\"nrgy\": \"energy\"})\n",
    "df.head(2)"
   ]
  },
  {
   "cell_type": "code",
   "execution_count": null,
   "metadata": {},
   "outputs": [],
   "source": [
    "#Ver los nulos\n",
    "df.isnull().sum()"
   ]
  },
  {
   "cell_type": "code",
   "execution_count": 7,
   "metadata": {},
   "outputs": [],
   "source": [
    "#Opcion 1: reemplazar los nulos por la palabra \"others\"\n",
    "df = df[\"top genre\"].fillna(\"Others\")\n",
    "#df[\"top genre\"].fillna(\"Others\", inplace=True)\n",
    "\n"
   ]
  },
  {
   "cell_type": "code",
   "execution_count": null,
   "metadata": {},
   "outputs": [],
   "source": [
    "#opcion 2: rellenar los nulos de la columna top_genre col la moda de esta columna\n",
    "# top_genre_mode = df[\"top genre\"].mode().iloc[0]\n",
    "# df[\"top genre\"].fillna(\"Others\", inplace=True)"
   ]
  },
  {
   "cell_type": "markdown",
   "metadata": {},
   "source": [
    "# verificar desde aqui con Alan"
   ]
  },
  {
   "cell_type": "code",
   "execution_count": null,
   "metadata": {},
   "outputs": [],
   "source": [
    "#ver top genres de artistas\n",
    "#df[df[top genre]]"
   ]
  },
  {
   "cell_type": "code",
   "execution_count": null,
   "metadata": {},
   "outputs": [],
   "source": [
    "#opcion 3: rellenar con la moda de los artistas concretos para los que la top genre es null\n",
    "\"\"\"def mode(x):\n",
    "    if not x.mode().empty:\n",
    "        return x.mode().iloc[0]\n",
    "    else:\n",
    "        return np.nan\n",
    "    \n",
    "artist_top_genre_mode = df.groupby(\"artist\")[\"top genre\"].agg(mode)\n",
    "artist_top_genre_mode\"\"\""
   ]
  },
  {
   "cell_type": "code",
   "execution_count": null,
   "metadata": {},
   "outputs": [],
   "source": [
    "\"\"\"df[\"top genre\"].mode().iloc[0] #moda global de top genre sin importar artista\n",
    "def fill_top_genre_with_mode_by_artist(row):\n",
    "    if pd.isna(row[\"top genre\"]):\n",
    "        #si es nulo devolvemos la moda top genre en base al artista\n",
    "        return artist_top_genre_mode.get(row[\"artist\"], top_genre_mode)\n",
    "    else:\n",
    "        #si no es nulo lo devolvemos como esta\n",
    "        return row[\"top genre\"]\n",
    "    \n",
    "df[\"top genre\"] = df.apply(fill_top_genre_with_mode_by_artist, axis=1) \"\"\"  "
   ]
  },
  {
   "cell_type": "markdown",
   "metadata": {},
   "source": [
    "# hasta aqui la verificacion"
   ]
  },
  {
   "cell_type": "code",
   "execution_count": null,
   "metadata": {},
   "outputs": [],
   "source": [
    "# ver si hay duplicados y borrarlos: duplicate()\n",
    "print(df.duplicated().sum())\n",
    "#df.drop_duplicates(inplace= True)   #inplace= True es para que lo haga sobre el mismo dataframe y no genere otro"
   ]
  },
  {
   "cell_type": "code",
   "execution_count": null,
   "metadata": {},
   "outputs": [],
   "source": [
    "#borra columna number:\n",
    "df.drop(\"Number\", axis=1, inplace=True)"
   ]
  },
  {
   "cell_type": "code",
   "execution_count": null,
   "metadata": {},
   "outputs": [],
   "source": [
    "df.head(2)"
   ]
  },
  {
   "cell_type": "code",
   "execution_count": 13,
   "metadata": {},
   "outputs": [],
   "source": [
    "# ordenar por año ascendente\n",
    "df.sort_values(\"year\", inplace=True)\n",
    "df.reset_index(drop=True, inplace=True)\n"
   ]
  },
  {
   "cell_type": "code",
   "execution_count": null,
   "metadata": {},
   "outputs": [],
   "source": [
    "df.tail()"
   ]
  },
  {
   "cell_type": "code",
   "execution_count": null,
   "metadata": {},
   "outputs": [],
   "source": [
    "df[\"year\"].hist(bins=30) #histograma de la columna year"
   ]
  },
  {
   "cell_type": "code",
   "execution_count": null,
   "metadata": {},
   "outputs": [],
   "source": [
    "df[\"energy\"].plot()"
   ]
  },
  {
   "cell_type": "code",
   "execution_count": null,
   "metadata": {},
   "outputs": [],
   "source": [
    "# el parametro kind permite cambiar el tipo de grafico\n",
    "df[\"energy\"].plot(kind=\"box\") # hay mas tipos de graficos no solo box"
   ]
  },
  {
   "cell_type": "code",
   "execution_count": null,
   "metadata": {},
   "outputs": [],
   "source": [
    "# mostrar artistas mas repetidos en Dataframe, usando value_counts\n",
    "pd.DataFrame(df[\"artist\"].value_counts())\n",
    "\n",
    "# mostrar generos mas repetidos en Dataframe, usando value_counts\n",
    "pd.DataFrame(df[\"top genre\"].value_counts()).head(15) #muestra los 15 primeros"
   ]
  },
  {
   "cell_type": "code",
   "execution_count": null,
   "metadata": {},
   "outputs": [],
   "source": [
    "#Mostrar cancion mas popular y menos popular:\n",
    "#metodo idxmax, da el valor mas alto de la columna idxmin da el menor valor\n",
    "df[\"popularity\"].idxmax() #posicion de la cancion mas popular\n",
    "df[\"popularity\"].idxmin() #posicion de la cancion menos popular\n",
    "df.iloc[df[\"popularity\"].idxmax()]\n"
   ]
  },
  {
   "cell_type": "code",
   "execution_count": null,
   "metadata": {},
   "outputs": [],
   "source": [
    "df.iloc[df[\"popularity\"].idxmin()]"
   ]
  },
  {
   "cell_type": "code",
   "execution_count": null,
   "metadata": {},
   "outputs": [],
   "source": [
    "#Mostrar cancion mas popular y menos popular por año:\n",
    "# cancion_mas_popular_por_anio = df.loc[df.groupby('year')['popularity'].idxmax()]\n",
    "filtro = df.groupby(\"year\")[\"popularity\"].idxmax()\n",
    "df.iloc[filtro].tail(20)"
   ]
  },
  {
   "cell_type": "code",
   "execution_count": 35,
   "metadata": {},
   "outputs": [
    {
     "data": {
      "text/html": [
       "<div>\n",
       "<style scoped>\n",
       "    .dataframe tbody tr th:only-of-type {\n",
       "        vertical-align: middle;\n",
       "    }\n",
       "\n",
       "    .dataframe tbody tr th {\n",
       "        vertical-align: top;\n",
       "    }\n",
       "\n",
       "    .dataframe thead th {\n",
       "        text-align: right;\n",
       "    }\n",
       "</style>\n",
       "<table border=\"1\" class=\"dataframe\">\n",
       "  <thead>\n",
       "    <tr style=\"text-align: right;\">\n",
       "      <th></th>\n",
       "      <th>title</th>\n",
       "      <th>artist</th>\n",
       "      <th>top genre</th>\n",
       "      <th>year</th>\n",
       "      <th>bpm</th>\n",
       "      <th>energy</th>\n",
       "      <th>dnce</th>\n",
       "      <th>dB</th>\n",
       "      <th>live</th>\n",
       "      <th>val</th>\n",
       "      <th>dur</th>\n",
       "      <th>acous</th>\n",
       "      <th>spch</th>\n",
       "      <th>popularity</th>\n",
       "      <th>decade</th>\n",
       "    </tr>\n",
       "  </thead>\n",
       "  <tbody>\n",
       "    <tr>\n",
       "      <th>0</th>\n",
       "      <td>If I Give My Heart to You (with The Mellomen) ...</td>\n",
       "      <td>Doris Day</td>\n",
       "      <td>adult standards</td>\n",
       "      <td>1945</td>\n",
       "      <td>77</td>\n",
       "      <td>6</td>\n",
       "      <td>50</td>\n",
       "      <td>-16</td>\n",
       "      <td>10</td>\n",
       "      <td>33</td>\n",
       "      <td>169</td>\n",
       "      <td>97</td>\n",
       "      <td>5</td>\n",
       "      <td>52</td>\n",
       "      <td>1940</td>\n",
       "    </tr>\n",
       "    <tr>\n",
       "      <th>1</th>\n",
       "      <td>Whatever Will Be Will Be (Que Sera Sera) (with...</td>\n",
       "      <td>Doris Day</td>\n",
       "      <td>adult standards</td>\n",
       "      <td>1948</td>\n",
       "      <td>177</td>\n",
       "      <td>34</td>\n",
       "      <td>42</td>\n",
       "      <td>-11</td>\n",
       "      <td>72</td>\n",
       "      <td>78</td>\n",
       "      <td>123</td>\n",
       "      <td>86</td>\n",
       "      <td>4</td>\n",
       "      <td>62</td>\n",
       "      <td>1940</td>\n",
       "    </tr>\n",
       "    <tr>\n",
       "      <th>2</th>\n",
       "      <td>Held for Questioning</td>\n",
       "      <td>Rusty Draper</td>\n",
       "      <td>deep adult standards</td>\n",
       "      <td>1953</td>\n",
       "      <td>109</td>\n",
       "      <td>65</td>\n",
       "      <td>70</td>\n",
       "      <td>-2</td>\n",
       "      <td>14</td>\n",
       "      <td>85</td>\n",
       "      <td>146</td>\n",
       "      <td>79</td>\n",
       "      <td>3</td>\n",
       "      <td>26</td>\n",
       "      <td>1950</td>\n",
       "    </tr>\n",
       "    <tr>\n",
       "      <th>3</th>\n",
       "      <td>Only Because</td>\n",
       "      <td>The Platters</td>\n",
       "      <td>adult standards</td>\n",
       "      <td>1957</td>\n",
       "      <td>73</td>\n",
       "      <td>28</td>\n",
       "      <td>55</td>\n",
       "      <td>-10</td>\n",
       "      <td>9</td>\n",
       "      <td>47</td>\n",
       "      <td>174</td>\n",
       "      <td>85</td>\n",
       "      <td>3</td>\n",
       "      <td>44</td>\n",
       "      <td>1950</td>\n",
       "    </tr>\n",
       "    <tr>\n",
       "      <th>4</th>\n",
       "      <td>Gigi</td>\n",
       "      <td>Billy Eckstine</td>\n",
       "      <td>adult standards</td>\n",
       "      <td>1958</td>\n",
       "      <td>81</td>\n",
       "      <td>12</td>\n",
       "      <td>21</td>\n",
       "      <td>-17</td>\n",
       "      <td>12</td>\n",
       "      <td>19</td>\n",
       "      <td>155</td>\n",
       "      <td>93</td>\n",
       "      <td>3</td>\n",
       "      <td>35</td>\n",
       "      <td>1950</td>\n",
       "    </tr>\n",
       "  </tbody>\n",
       "</table>\n",
       "</div>"
      ],
      "text/plain": [
       "                                               title          artist  \\\n",
       "0  If I Give My Heart to You (with The Mellomen) ...       Doris Day   \n",
       "1  Whatever Will Be Will Be (Que Sera Sera) (with...       Doris Day   \n",
       "2                               Held for Questioning    Rusty Draper   \n",
       "3                                       Only Because    The Platters   \n",
       "4                                               Gigi  Billy Eckstine   \n",
       "\n",
       "              top genre  year  bpm  energy  dnce  dB  live  val  dur  acous  \\\n",
       "0       adult standards  1945   77       6    50 -16    10   33  169     97   \n",
       "1       adult standards  1948  177      34    42 -11    72   78  123     86   \n",
       "2  deep adult standards  1953  109      65    70  -2    14   85  146     79   \n",
       "3       adult standards  1957   73      28    55 -10     9   47  174     85   \n",
       "4       adult standards  1958   81      12    21 -17    12   19  155     93   \n",
       "\n",
       "   spch  popularity  decade  \n",
       "0     5          52    1940  \n",
       "1     4          62    1940  \n",
       "2     3          26    1950  \n",
       "3     3          44    1950  \n",
       "4     3          35    1950  "
      ]
     },
     "execution_count": 35,
     "metadata": {},
     "output_type": "execute_result"
    }
   ],
   "source": [
    "# crear columna decada a partir del año\n",
    "df[\"decade\"] = (df[\"year\"]//10)*10\n"
   ]
  },
  {
   "cell_type": "code",
   "execution_count": 36,
   "metadata": {},
   "outputs": [],
   "source": [
    "# mover la columna decade, antes o despues de la columna year\n",
    "position = df.columns.get_loc(\"year\") #obtiene la posicion de la columna decade\n",
    "serie_decade = df.pop(\"decade\") # saca la columna decade con pop\n",
    "df.insert(position, \"decade\", serie_decade)     #inserta la columna decade en la posicion obtenida"
   ]
  },
  {
   "cell_type": "code",
   "execution_count": 37,
   "metadata": {},
   "outputs": [
    {
     "data": {
      "text/html": [
       "<div>\n",
       "<style scoped>\n",
       "    .dataframe tbody tr th:only-of-type {\n",
       "        vertical-align: middle;\n",
       "    }\n",
       "\n",
       "    .dataframe tbody tr th {\n",
       "        vertical-align: top;\n",
       "    }\n",
       "\n",
       "    .dataframe thead th {\n",
       "        text-align: right;\n",
       "    }\n",
       "</style>\n",
       "<table border=\"1\" class=\"dataframe\">\n",
       "  <thead>\n",
       "    <tr style=\"text-align: right;\">\n",
       "      <th></th>\n",
       "      <th>title</th>\n",
       "      <th>artist</th>\n",
       "      <th>top genre</th>\n",
       "      <th>decade</th>\n",
       "      <th>year</th>\n",
       "      <th>bpm</th>\n",
       "      <th>energy</th>\n",
       "      <th>dnce</th>\n",
       "      <th>dB</th>\n",
       "      <th>live</th>\n",
       "      <th>val</th>\n",
       "      <th>dur</th>\n",
       "      <th>acous</th>\n",
       "      <th>spch</th>\n",
       "      <th>popularity</th>\n",
       "    </tr>\n",
       "  </thead>\n",
       "  <tbody>\n",
       "    <tr>\n",
       "      <th>0</th>\n",
       "      <td>If I Give My Heart to You (with The Mellomen) ...</td>\n",
       "      <td>Doris Day</td>\n",
       "      <td>adult standards</td>\n",
       "      <td>1940</td>\n",
       "      <td>1945</td>\n",
       "      <td>77</td>\n",
       "      <td>6</td>\n",
       "      <td>50</td>\n",
       "      <td>-16</td>\n",
       "      <td>10</td>\n",
       "      <td>33</td>\n",
       "      <td>169</td>\n",
       "      <td>97</td>\n",
       "      <td>5</td>\n",
       "      <td>52</td>\n",
       "    </tr>\n",
       "    <tr>\n",
       "      <th>1</th>\n",
       "      <td>Whatever Will Be Will Be (Que Sera Sera) (with...</td>\n",
       "      <td>Doris Day</td>\n",
       "      <td>adult standards</td>\n",
       "      <td>1940</td>\n",
       "      <td>1948</td>\n",
       "      <td>177</td>\n",
       "      <td>34</td>\n",
       "      <td>42</td>\n",
       "      <td>-11</td>\n",
       "      <td>72</td>\n",
       "      <td>78</td>\n",
       "      <td>123</td>\n",
       "      <td>86</td>\n",
       "      <td>4</td>\n",
       "      <td>62</td>\n",
       "    </tr>\n",
       "    <tr>\n",
       "      <th>2</th>\n",
       "      <td>Held for Questioning</td>\n",
       "      <td>Rusty Draper</td>\n",
       "      <td>deep adult standards</td>\n",
       "      <td>1950</td>\n",
       "      <td>1953</td>\n",
       "      <td>109</td>\n",
       "      <td>65</td>\n",
       "      <td>70</td>\n",
       "      <td>-2</td>\n",
       "      <td>14</td>\n",
       "      <td>85</td>\n",
       "      <td>146</td>\n",
       "      <td>79</td>\n",
       "      <td>3</td>\n",
       "      <td>26</td>\n",
       "    </tr>\n",
       "    <tr>\n",
       "      <th>3</th>\n",
       "      <td>Only Because</td>\n",
       "      <td>The Platters</td>\n",
       "      <td>adult standards</td>\n",
       "      <td>1950</td>\n",
       "      <td>1957</td>\n",
       "      <td>73</td>\n",
       "      <td>28</td>\n",
       "      <td>55</td>\n",
       "      <td>-10</td>\n",
       "      <td>9</td>\n",
       "      <td>47</td>\n",
       "      <td>174</td>\n",
       "      <td>85</td>\n",
       "      <td>3</td>\n",
       "      <td>44</td>\n",
       "    </tr>\n",
       "    <tr>\n",
       "      <th>4</th>\n",
       "      <td>Gigi</td>\n",
       "      <td>Billy Eckstine</td>\n",
       "      <td>adult standards</td>\n",
       "      <td>1950</td>\n",
       "      <td>1958</td>\n",
       "      <td>81</td>\n",
       "      <td>12</td>\n",
       "      <td>21</td>\n",
       "      <td>-17</td>\n",
       "      <td>12</td>\n",
       "      <td>19</td>\n",
       "      <td>155</td>\n",
       "      <td>93</td>\n",
       "      <td>3</td>\n",
       "      <td>35</td>\n",
       "    </tr>\n",
       "  </tbody>\n",
       "</table>\n",
       "</div>"
      ],
      "text/plain": [
       "                                               title          artist  \\\n",
       "0  If I Give My Heart to You (with The Mellomen) ...       Doris Day   \n",
       "1  Whatever Will Be Will Be (Que Sera Sera) (with...       Doris Day   \n",
       "2                               Held for Questioning    Rusty Draper   \n",
       "3                                       Only Because    The Platters   \n",
       "4                                               Gigi  Billy Eckstine   \n",
       "\n",
       "              top genre  decade  year  bpm  energy  dnce  dB  live  val  dur  \\\n",
       "0       adult standards    1940  1945   77       6    50 -16    10   33  169   \n",
       "1       adult standards    1940  1948  177      34    42 -11    72   78  123   \n",
       "2  deep adult standards    1950  1953  109      65    70  -2    14   85  146   \n",
       "3       adult standards    1950  1957   73      28    55 -10     9   47  174   \n",
       "4       adult standards    1950  1958   81      12    21 -17    12   19  155   \n",
       "\n",
       "   acous  spch  popularity  \n",
       "0     97     5          52  \n",
       "1     86     4          62  \n",
       "2     79     3          26  \n",
       "3     85     3          44  \n",
       "4     93     3          35  "
      ]
     },
     "execution_count": 37,
     "metadata": {},
     "output_type": "execute_result"
    }
   ],
   "source": [
    "df.head()"
   ]
  },
  {
   "cell_type": "code",
   "execution_count": 39,
   "metadata": {},
   "outputs": [
    {
     "data": {
      "text/html": [
       "<div>\n",
       "<style scoped>\n",
       "    .dataframe tbody tr th:only-of-type {\n",
       "        vertical-align: middle;\n",
       "    }\n",
       "\n",
       "    .dataframe tbody tr th {\n",
       "        vertical-align: top;\n",
       "    }\n",
       "\n",
       "    .dataframe thead th {\n",
       "        text-align: right;\n",
       "    }\n",
       "</style>\n",
       "<table border=\"1\" class=\"dataframe\">\n",
       "  <thead>\n",
       "    <tr style=\"text-align: right;\">\n",
       "      <th></th>\n",
       "      <th>title</th>\n",
       "      <th>artist</th>\n",
       "      <th>top genre</th>\n",
       "      <th>decade</th>\n",
       "      <th>year</th>\n",
       "      <th>bpm</th>\n",
       "      <th>energy</th>\n",
       "      <th>dnce</th>\n",
       "      <th>dB</th>\n",
       "      <th>live</th>\n",
       "      <th>val</th>\n",
       "      <th>dur</th>\n",
       "      <th>acous</th>\n",
       "      <th>spch</th>\n",
       "      <th>popularity</th>\n",
       "    </tr>\n",
       "  </thead>\n",
       "  <tbody>\n",
       "    <tr>\n",
       "      <th>1</th>\n",
       "      <td>Whatever Will Be Will Be (Que Sera Sera) (with...</td>\n",
       "      <td>Doris Day</td>\n",
       "      <td>adult standards</td>\n",
       "      <td>1940</td>\n",
       "      <td>1948</td>\n",
       "      <td>177</td>\n",
       "      <td>34</td>\n",
       "      <td>42</td>\n",
       "      <td>-11</td>\n",
       "      <td>72</td>\n",
       "      <td>78</td>\n",
       "      <td>123</td>\n",
       "      <td>86</td>\n",
       "      <td>4</td>\n",
       "      <td>62</td>\n",
       "    </tr>\n",
       "    <tr>\n",
       "      <th>7</th>\n",
       "      <td>A Teenager In Love</td>\n",
       "      <td>Dion &amp; The Belmonts</td>\n",
       "      <td>adult standards</td>\n",
       "      <td>1950</td>\n",
       "      <td>1959</td>\n",
       "      <td>79</td>\n",
       "      <td>38</td>\n",
       "      <td>56</td>\n",
       "      <td>-9</td>\n",
       "      <td>13</td>\n",
       "      <td>62</td>\n",
       "      <td>158</td>\n",
       "      <td>67</td>\n",
       "      <td>3</td>\n",
       "      <td>60</td>\n",
       "    </tr>\n",
       "    <tr>\n",
       "      <th>72</th>\n",
       "      <td>Here Comes The Sun - Remastered 2009</td>\n",
       "      <td>The Beatles</td>\n",
       "      <td>british invasion</td>\n",
       "      <td>1960</td>\n",
       "      <td>1969</td>\n",
       "      <td>129</td>\n",
       "      <td>54</td>\n",
       "      <td>56</td>\n",
       "      <td>-10</td>\n",
       "      <td>18</td>\n",
       "      <td>39</td>\n",
       "      <td>186</td>\n",
       "      <td>3</td>\n",
       "      <td>3</td>\n",
       "      <td>82</td>\n",
       "    </tr>\n",
       "    <tr>\n",
       "      <th>119</th>\n",
       "      <td>Bohemian Rhapsody - 2011 Mix</td>\n",
       "      <td>Queen</td>\n",
       "      <td>glam rock</td>\n",
       "      <td>1970</td>\n",
       "      <td>1975</td>\n",
       "      <td>71</td>\n",
       "      <td>40</td>\n",
       "      <td>41</td>\n",
       "      <td>-10</td>\n",
       "      <td>30</td>\n",
       "      <td>22</td>\n",
       "      <td>354</td>\n",
       "      <td>27</td>\n",
       "      <td>5</td>\n",
       "      <td>84</td>\n",
       "    </tr>\n",
       "    <tr>\n",
       "      <th>182</th>\n",
       "      <td>Africa</td>\n",
       "      <td>TOTO</td>\n",
       "      <td>album rock</td>\n",
       "      <td>1980</td>\n",
       "      <td>1982</td>\n",
       "      <td>93</td>\n",
       "      <td>37</td>\n",
       "      <td>67</td>\n",
       "      <td>-18</td>\n",
       "      <td>5</td>\n",
       "      <td>73</td>\n",
       "      <td>296</td>\n",
       "      <td>26</td>\n",
       "      <td>3</td>\n",
       "      <td>83</td>\n",
       "    </tr>\n",
       "    <tr>\n",
       "      <th>344</th>\n",
       "      <td>No Scrubs</td>\n",
       "      <td>TLC</td>\n",
       "      <td>atl hip hop</td>\n",
       "      <td>1990</td>\n",
       "      <td>1999</td>\n",
       "      <td>93</td>\n",
       "      <td>68</td>\n",
       "      <td>74</td>\n",
       "      <td>-4</td>\n",
       "      <td>7</td>\n",
       "      <td>59</td>\n",
       "      <td>214</td>\n",
       "      <td>3</td>\n",
       "      <td>10</td>\n",
       "      <td>79</td>\n",
       "    </tr>\n",
       "    <tr>\n",
       "      <th>351</th>\n",
       "      <td>In the End</td>\n",
       "      <td>Linkin Park</td>\n",
       "      <td>alternative metal</td>\n",
       "      <td>2000</td>\n",
       "      <td>2000</td>\n",
       "      <td>105</td>\n",
       "      <td>86</td>\n",
       "      <td>56</td>\n",
       "      <td>-6</td>\n",
       "      <td>21</td>\n",
       "      <td>40</td>\n",
       "      <td>217</td>\n",
       "      <td>1</td>\n",
       "      <td>6</td>\n",
       "      <td>83</td>\n",
       "    </tr>\n",
       "    <tr>\n",
       "      <th>658</th>\n",
       "      <td>bad guy</td>\n",
       "      <td>Billie Eilish</td>\n",
       "      <td>electropop</td>\n",
       "      <td>2010</td>\n",
       "      <td>2019</td>\n",
       "      <td>135</td>\n",
       "      <td>43</td>\n",
       "      <td>70</td>\n",
       "      <td>-11</td>\n",
       "      <td>10</td>\n",
       "      <td>56</td>\n",
       "      <td>194</td>\n",
       "      <td>33</td>\n",
       "      <td>38</td>\n",
       "      <td>94</td>\n",
       "    </tr>\n",
       "  </tbody>\n",
       "</table>\n",
       "</div>"
      ],
      "text/plain": [
       "                                                 title               artist  \\\n",
       "1    Whatever Will Be Will Be (Que Sera Sera) (with...            Doris Day   \n",
       "7                                   A Teenager In Love  Dion & The Belmonts   \n",
       "72                Here Comes The Sun - Remastered 2009          The Beatles   \n",
       "119                       Bohemian Rhapsody - 2011 Mix                Queen   \n",
       "182                                             Africa                 TOTO   \n",
       "344                                          No Scrubs                  TLC   \n",
       "351                                         In the End          Linkin Park   \n",
       "658                                            bad guy        Billie Eilish   \n",
       "\n",
       "             top genre  decade  year  bpm  energy  dnce  dB  live  val  dur  \\\n",
       "1      adult standards    1940  1948  177      34    42 -11    72   78  123   \n",
       "7      adult standards    1950  1959   79      38    56  -9    13   62  158   \n",
       "72    british invasion    1960  1969  129      54    56 -10    18   39  186   \n",
       "119          glam rock    1970  1975   71      40    41 -10    30   22  354   \n",
       "182         album rock    1980  1982   93      37    67 -18     5   73  296   \n",
       "344        atl hip hop    1990  1999   93      68    74  -4     7   59  214   \n",
       "351  alternative metal    2000  2000  105      86    56  -6    21   40  217   \n",
       "658         electropop    2010  2019  135      43    70 -11    10   56  194   \n",
       "\n",
       "     acous  spch  popularity  \n",
       "1       86     4          62  \n",
       "7       67     3          60  \n",
       "72       3     3          82  \n",
       "119     27     5          84  \n",
       "182     26     3          83  \n",
       "344      3    10          79  \n",
       "351      1     6          83  \n",
       "658     33    38          94  "
      ]
     },
     "execution_count": 39,
     "metadata": {},
     "output_type": "execute_result"
    }
   ],
   "source": [
    "# Mostrar cancion mas popular y menos popular por decada:\n",
    "filtro1 = df.groupby(\"decade\")[\"popularity\"].idxmax()\n",
    "df.iloc[filtro1]"
   ]
  },
  {
   "cell_type": "code",
   "execution_count": 43,
   "metadata": {},
   "outputs": [
    {
     "name": "stdout",
     "output_type": "stream",
     "text": [
      "year\n",
      "1945    169.000000\n",
      "1948    123.000000\n",
      "1953    146.000000\n",
      "1957    174.000000\n",
      "1958    144.500000\n",
      "           ...    \n",
      "2015    215.000000\n",
      "2016    202.541667\n",
      "2017    208.666667\n",
      "2018    214.000000\n",
      "2019    194.733333\n",
      "Name: dur, Length: 66, dtype: float64\n"
     ]
    },
    {
     "data": {
      "text/plain": [
       "<Axes: xlabel='year'>"
      ]
     },
     "execution_count": 43,
     "metadata": {},
     "output_type": "execute_result"
    },
    {
     "data": {
      "image/png": "[encoded data removed]",
      "text/plain": [
       "<Figure size 640x480 with 1 Axes>"
      ]
     },
     "metadata": {},
     "output_type": "display_data"
    }
   ],
   "source": [
    "# Mostrar duracion media de las canciones por año y mostrarlo en un plot\n",
    "print(df.groupby(\"year\")[\"dur\"].mean())\n",
    "df.groupby(\"year\")[\"dur\"].mean().plot()"
   ]
  },
  {
   "cell_type": "code",
   "execution_count": 44,
   "metadata": {},
   "outputs": [
    {
     "name": "stdout",
     "output_type": "stream",
     "text": [
      "decade\n",
      "1940    146.000000\n",
      "1950    162.714286\n",
      "1960    213.761194\n",
      "1970    235.722222\n",
      "1980    254.348837\n",
      "1990    237.378947\n",
      "2000    227.467153\n",
      "2010    201.387978\n",
      "Name: dur, dtype: float64\n"
     ]
    },
    {
     "data": {
      "text/plain": [
       "<Axes: xlabel='decade'>"
      ]
     },
     "execution_count": 44,
     "metadata": {},
     "output_type": "execute_result"
    },
    {
     "data": {
      "image/png": "[encoded data removed]",
      "text/plain": [
       "<Figure size 640x480 with 1 Axes>"
      ]
     },
     "metadata": {},
     "output_type": "display_data"
    }
   ],
   "source": [
    "print(df.groupby(\"decade\")[\"dur\"].mean())\n",
    "df.groupby(\"decade\")[\"dur\"].mean().plot()"
   ]
  }
 ],
 "metadata": {
  "kernelspec": {
   "display_name": "Python 3",
   "language": "python",
   "name": "python3"
  },
  "language_info": {
   "codemirror_mode": {
    "name": "ipython",
    "version": 3
   },
   "file_extension": ".py",
   "mimetype": "text/x-python",
   "name": "python",
   "nbconvert_exporter": "python",
   "pygments_lexer": "ipython3",
   "version": "3.13.1"
  }
 },
 "nbformat": 4,
 "nbformat_minor": 2
}
