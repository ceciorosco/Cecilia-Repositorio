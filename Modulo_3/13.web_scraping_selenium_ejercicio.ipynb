{
 "cells": [
  {
   "cell_type": "markdown",
   "id": "dc998db4",
   "metadata": {},
   "source": [
    "## Ejercicio Web Scraping bs4/Selenium\n",
    "\n",
    "_**url** = https://www.20minutos.es/_\n",
    "\n",
    "Vamos a hacer Web Scraping de las primeras 3 páginas de una de las siguientes categorias de noticias: **Ciencia**, **Deporte**, **Gente**, **Economía**, **Grastronomía** y **Opinión**.\n",
    "\n",
    "Y de cada noticia/articulo vamos a obtener:\n",
    "\n",
    "- **Titulo**\n",
    "- **Hora**\n",
    "- **Fecha**\n",
    "- **Autor**\n",
    "- **Texto completo**\n",
    "- **Categoria de la noticia**\n",
    "\n",
    "Genera un DataFrame con esta información y guardalo en el archivo **`20minutos_1.csv`**."
   ]
  },
  {
   "cell_type": "code",
   "execution_count": 1,
   "id": "73fd7efb",
   "metadata": {},
   "outputs": [],
   "source": [
    "import requests \n",
    "\n",
    "import bs4 # Para ver la versión\n",
    "from bs4 import BeautifulSoup\n",
    "\n",
    "import selenium # Para ver la versión\n",
    "from selenium import webdriver\n",
    "from selenium.webdriver.common.by import By\n",
    "\n",
    "from time import sleep"
   ]
  },
  {
   "cell_type": "code",
   "execution_count": 2,
   "id": "0ee42b78",
   "metadata": {},
   "outputs": [],
   "source": [
    "chrome_driver = \"chromedriver.exe\"\n",
    "browser = webdriver.Chrome()\n",
    "browser.get(\"https://www.20minutos.es\")\n",
    "browser.maximize_window()"
   ]
  },
  {
   "cell_type": "code",
   "execution_count": null,
   "id": "75b1d362",
   "metadata": {},
   "outputs": [],
   "source": []
  },
  {
   "cell_type": "code",
   "execution_count": null,
   "id": "ec0d81b7",
   "metadata": {},
   "outputs": [],
   "source": []
  },
  {
   "cell_type": "code",
   "execution_count": null,
   "id": "7678e6c3",
   "metadata": {},
   "outputs": [],
   "source": []
  },
  {
   "cell_type": "markdown",
   "id": "b90547ae",
   "metadata": {},
   "source": [
    "- **Escribe el código para sacar la información de las primeras 5 páginas de las 6 categorias anteriores. Guarda esta información en el archivo `20minutos_2.csv`**"
   ]
  },
  {
   "cell_type": "code",
   "execution_count": null,
   "id": "a5a7b514",
   "metadata": {},
   "outputs": [],
   "source": []
  },
  {
   "cell_type": "code",
   "execution_count": null,
   "id": "cf4c7713",
   "metadata": {},
   "outputs": [],
   "source": []
  },
  {
   "cell_type": "code",
   "execution_count": null,
   "id": "94b802c7",
   "metadata": {},
   "outputs": [],
   "source": []
  },
  {
   "cell_type": "code",
   "execution_count": null,
   "id": "7358a572",
   "metadata": {},
   "outputs": [],
   "source": []
  },
  {
   "cell_type": "code",
   "execution_count": null,
   "id": "8c66ea4e",
   "metadata": {},
   "outputs": [],
   "source": []
  },
  {
   "cell_type": "code",
   "execution_count": null,
   "id": "2edc3495",
   "metadata": {},
   "outputs": [],
   "source": []
  },
  {
   "cell_type": "code",
   "execution_count": null,
   "id": "8d27d08b",
   "metadata": {},
   "outputs": [],
   "source": []
  }
 ],
 "metadata": {
  "kernelspec": {
   "display_name": "Python 3",
   "language": "python",
   "name": "python3"
  },
  "language_info": {
   "codemirror_mode": {
    "name": "ipython",
    "version": 3
   },
   "file_extension": ".py",
   "mimetype": "text/x-python",
   "name": "python",
   "nbconvert_exporter": "python",
   "pygments_lexer": "ipython3",
   "version": "3.13.1"
  }
 },
 "nbformat": 4,
 "nbformat_minor": 5
}
