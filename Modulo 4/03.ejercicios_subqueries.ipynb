{
 "cells": [
  {
   "cell_type": "markdown",
   "id": "9fba4bc4",
   "metadata": {},
   "source": [
    "## Ejercicios - Subqueries\n",
    "\n",
    "Usando la base de datos de **Sakila**:"
   ]
  },
  {
   "cell_type": "markdown",
   "id": "e0fcc7f1",
   "metadata": {},
   "source": [
    "### Ejercicios 01: Subqueries\n",
    "\n",
    "1. Encontrar el cliente que ha alquilado más películas.\n",
    "\n",
    "2. Encontrar la categoría con más películas.\n",
    "\n",
    "3. Encontrar la tienda con más ingresos.\n",
    "\n",
    "4. Encontrar la película más alquilada.\n",
    "\n",
    "5. Encontrar el actor que ha aparecido en más películas."
   ]
  },
  {
   "cell_type": "code",
   "execution_count": 23,
   "id": "3f89670a",
   "metadata": {},
   "outputs": [],
   "source": [
    "import mysql.connector as con\n",
    "\n",
    "def consulta(sql):\n",
    "    try:\n",
    "        connection = con.connect(\n",
    "            host=\"localhost\",\n",
    "            port=\"3306\",\n",
    "            user=\"root\",\n",
    "            password=\"admin\",\n",
    "            database='sakila'\n",
    "        )\n",
    "        cursor = connection.cursor()\n",
    "        cursor.execute(sql)\n",
    "        return cursor.fetchall()\n",
    "    except con.Error as error:\n",
    "        \n",
    "        print(f'Ha ocurrido un error: {error}')\n",
    "        if connection:\n",
    "            connection.rollback()\n",
    "    finally:\n",
    "        if cursor:\n",
    "            cursor.close()\n",
    "        if connection:\n",
    "            connection.close()"
   ]
  },
  {
   "cell_type": "code",
   "execution_count": null,
   "id": "de2baade",
   "metadata": {},
   "outputs": [],
   "source": [
    "\n",
    "sql = ('select * from customer')\n",
    "respuesta = consulta(sql)\n",
    "respuesta"
   ]
  },
  {
   "cell_type": "code",
   "execution_count": null,
   "id": "0581c41c",
   "metadata": {},
   "outputs": [],
   "source": [
    "#1\n",
    "sql = ('select * from sakila.customer where customer_id = (SELECT customer_id FROM sakila.rental group by customer_id order by count(customer_id) desc limit 1)')\n",
    "resultado = consulta(sql)\n",
    "resultado"
   ]
  },
  {
   "cell_type": "code",
   "execution_count": null,
   "id": "1a7c2f63",
   "metadata": {},
   "outputs": [],
   "source": [
    "# 1 opcion 2\n",
    "sql = ()\n",
    "resultado = consulta(sql)\n",
    "resultado"
   ]
  },
  {
   "cell_type": "code",
   "execution_count": null,
   "id": "3c2ded21",
   "metadata": {},
   "outputs": [],
   "source": [
    "#2\n",
    "sql = ('select * from category where category_id = (SELECT category_id FROM film_category group by category_id order by count(category_id) desc limit 1);')\n",
    "resultado = consulta(sql)\n",
    "resultado"
   ]
  },
  {
   "cell_type": "code",
   "execution_count": null,
   "id": "4f7efda1",
   "metadata": {},
   "outputs": [],
   "source": [
    "sql =('select c.customer_id, c.first_name, c.last_name, total_rentals from customer c join (select r.customer_id, count(r.rental_id) as total_rentals from rental r group by r.customer_id order by count(r.rental_id) desc limit 1) as subquery on c.customer_id = subquery.customer_id;')\n",
    "resultado = consulta(sql)\n",
    "resultado"
   ]
  },
  {
   "cell_type": "code",
   "execution_count": null,
   "id": "10ca5985",
   "metadata": {},
   "outputs": [],
   "source": [
    "#3\n",
    "sql = ()\n",
    "resultado = consulta(sql)\n",
    "resultado"
   ]
  },
  {
   "cell_type": "code",
   "execution_count": null,
   "id": "7e8092e0",
   "metadata": {},
   "outputs": [],
   "source": [
    "#4\n",
    "sql = ()\n",
    "resultado = consulta(sql)\n",
    "resultado"
   ]
  },
  {
   "cell_type": "code",
   "execution_count": null,
   "id": "9a6fcb68",
   "metadata": {},
   "outputs": [],
   "source": [
    "#5 \n",
    "sql = ()\n",
    "resultado = consulta(sql)\n",
    "resultado\n"
   ]
  },
  {
   "cell_type": "code",
   "execution_count": null,
   "id": "4b508e64",
   "metadata": {},
   "outputs": [],
   "source": [
    "################################################################################################################################"
   ]
  }
 ],
 "metadata": {
  "kernelspec": {
   "display_name": "Python 3",
   "language": "python",
   "name": "python3"
  },
  "language_info": {
   "codemirror_mode": {
    "name": "ipython",
    "version": 3
   },
   "file_extension": ".py",
   "mimetype": "text/x-python",
   "name": "python",
   "nbconvert_exporter": "python",
   "pygments_lexer": "ipython3",
   "version": "3.13.1"
  }
 },
 "nbformat": 4,
 "nbformat_minor": 5
}
