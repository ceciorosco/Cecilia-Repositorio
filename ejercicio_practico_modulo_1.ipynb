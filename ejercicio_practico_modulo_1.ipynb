{
 "cells": [
  {
   "cell_type": "markdown",
   "metadata": {},
   "source": [
    "CRUD Objetos User"
   ]
  },
  {
   "cell_type": "code",
   "execution_count": 38,
   "metadata": {},
   "outputs": [],
   "source": [
    "class User:\n",
    "    \n",
    "    def __init__(self, name, last_name, email, age, alumn, birth, phone):\n",
    "        self.name = name\n",
    "        self.last_name = last_name\n",
    "        self.email = email\n",
    "        self.age = age\n",
    "        self.alumn = alumn\n",
    "        self.birth = birth\n",
    "        self.phone = phone\n",
    "        \n",
    "    def __str__(self):\n",
    "        return f\"\"\"\n",
    "    Name: {self.name} \n",
    "    Last Name: {self.last_name} \n",
    "    Email: {self.email}\n",
    "    Age: {self.age}\n",
    "    Alumn: {self.alumn}\n",
    "    Birth: {self.birth}\n",
    "    Phone: {self.phone}\"\"\"\n",
    "        \n",
    "  \n"
   ]
  },
  {
   "cell_type": "code",
   "execution_count": null,
   "metadata": {},
   "outputs": [],
   "source": [
    " usuarios = [\n",
    "    User(\"Cecilia\", \"Orosco\", \"corosco@gmail.com\", 54, True, \"27/11/1970\", \"625000333\"),\n",
    "    User(\"Manuel\", \"Cobos\", \"mcobos@gmail.com\", 58, False, \"11/11/1966\", \"666999888\"),\n",
    "    User(\"Ivan\", \"Cobos\", \"icobos@gmail.com\", 21, True, \"07/04/2003\", \"777666555\")]\n",
    "  \n"
   ]
  },
  {
   "cell_type": "code",
   "execution_count": null,
   "metadata": {},
   "outputs": [],
   "source": [
    "  def option_1():\n",
    "        print(\"Has elegido la opción 1\")\n",
    "        print(\"Introduce los siguientes datos:\")\n",
    "        nom = input(\"Nombre: \")\n",
    "        ape = input(\"Apellido: \")\n",
    "        mail = input(\"Email: \")\n",
    "        edad = int(input(\"Edad: \"))\n",
    "        alum = bool(input(\"Curso (si = 1, no = 0)\"))\n",
    "        nac = input(\"Fecha nacimiento (dd/mm/aa)\")\n",
    "        tel = input(\"Nro. móvil:\")\n",
    "        new_alumn = user(nom, ape, mail, edad, alum, nac, tel)\n",
    "        usuarios.append(new_alumn)\n",
    "    \n",
    "    def option_2():\n",
    "        print(\"Has elegido la opción 2\")\n",
    "        correo = input(\"Introduce el correo electrónico del usuario: \")\n",
    "        for usu in usuarios:\n",
    "            if usu.lower() == usuarios.email.lower():\n",
    "                print(usu)\n",
    "                opcion_21()\n",
    "                break\n",
    "            else:\n",
    "                print(\"usuario inexistente\")\n",
    "\n",
    "    def option_3():\n",
    "        print(\"Has elegido la opción 3\")\n",
    "\n",
    "    \n",
    "    def option_4():\n",
    "        print(\"Has elegido la opción 4\")\n",
    "\n",
    "    \n",
    "    def option_5():\n",
    "        print(\"Has elegido la opción 5\")\n",
    "        correo = input(\"Introduce el correo electrónico del usuario: \")\n",
    "        for usu in usuarios:\n",
    "            if usu.lower() == usuarios.email.lower():\n",
    "                print(usu)\n",
    "                break\n",
    "            else:\n",
    "                print(\"usuario inexistente\")\n",
    "    \n",
    "    def option_6():\n",
    "        print(\"Has elegido la opción 6\")\n",
    "        for usu in usuarios:\n",
    "            print(usu)\n",
    "            "
   ]
  },
  {
   "cell_type": "code",
   "execution_count": null,
   "metadata": {},
   "outputs": [],
   "source": [
    "\n",
    "menu = print(\"\"\"Te damos la bienvenida a la app de Usuarios, elige una opción:\n",
    "          1- Crear un Usuario\n",
    "          2- Modificar un Usuario\n",
    "          3- Borrar un Usuario\n",
    "          4- borrar todos los Usuarios\n",
    "          5- Ver un usuario por correo electrónico\n",
    "          6- Ver todos los usuarios\n",
    "          7- Salir\n",
    "          Introduce una opción: \"\"\")\n",
    "\n",
    "while True:\n",
    "    option = int(input(menu))\n",
    "    match option:\n",
    "        case 1:\n",
    "            option_1()\n",
    "        case 2:\n",
    "            option_2()\n",
    "        case 3:\n",
    "            option_3()\n",
    "        case 4:\n",
    "            option_4()\n",
    "        case 5:\n",
    "            option_5()\n",
    "        case 6:\n",
    "            option_6()\n",
    "        case 7:\n",
    "            print(\"Hasta pronto.\")\n",
    "            break\n",
    "        case _: \n",
    "            print(\"Opción incorrecta\")"
   ]
  }
 ],
 "metadata": {
  "kernelspec": {
   "display_name": "Python 3",
   "language": "python",
   "name": "python3"
  },
  "language_info": {
   "codemirror_mode": {
    "name": "ipython",
    "version": 3
   },
   "file_extension": ".py",
   "mimetype": "text/x-python",
   "name": "python",
   "nbconvert_exporter": "python",
   "pygments_lexer": "ipython3",
   "version": "3.13.1"
  }
 },
 "nbformat": 4,
 "nbformat_minor": 2
}
